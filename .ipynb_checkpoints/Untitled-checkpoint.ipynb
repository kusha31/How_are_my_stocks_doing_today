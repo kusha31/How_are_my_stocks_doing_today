{
 "cells": [
  {
   "cell_type": "markdown",
   "id": "153a3127",
   "metadata": {},
   "source": [
    "# 1. Import some libraries"
   ]
  },
  {
   "cell_type": "code",
   "execution_count": 1,
   "id": "46a05b31",
   "metadata": {},
   "outputs": [
    {
     "name": "stdout",
     "output_type": "stream",
     "text": [
      "Requirement already satisfied: sentencepiece in c:\\users\\kusha\\anaconda3\\lib\\site-packages (0.1.96)\n"
     ]
    },
    {
     "name": "stderr",
     "output_type": "stream",
     "text": [
      "WARNING: You are using pip version 21.3.1; however, version 22.0.4 is available.\n",
      "You should consider upgrading via the 'C:\\Users\\Kusha\\anaconda3\\python.exe -m pip install --upgrade pip' command.\n"
     ]
    },
    {
     "name": "stdout",
     "output_type": "stream",
     "text": [
      "Requirement already satisfied: transformers in c:\\users\\kusha\\anaconda3\\lib\\site-packages (4.17.0.dev0)\n",
      "Requirement already satisfied: tqdm>=4.27 in c:\\users\\kusha\\anaconda3\\lib\\site-packages (from transformers) (4.62.2)\n",
      "Requirement already satisfied: huggingface-hub<1.0,>=0.1.0 in c:\\users\\kusha\\anaconda3\\lib\\site-packages (from transformers) (0.4.0)\n",
      "Requirement already satisfied: packaging>=20.0 in c:\\users\\kusha\\anaconda3\\lib\\site-packages (from transformers) (21.0)\n",
      "Requirement already satisfied: requests in c:\\users\\kusha\\anaconda3\\lib\\site-packages (from transformers) (2.26.0)\n",
      "Requirement already satisfied: sacremoses in c:\\users\\kusha\\anaconda3\\lib\\site-packages (from transformers) (0.0.47)\n",
      "Requirement already satisfied: regex!=2019.12.17 in c:\\users\\kusha\\anaconda3\\lib\\site-packages (from transformers) (2021.8.3)\n",
      "Requirement already satisfied: filelock in c:\\users\\kusha\\anaconda3\\lib\\site-packages (from transformers) (3.0.12)\n",
      "Requirement already satisfied: tokenizers!=0.11.3,>=0.10.1 in c:\\users\\kusha\\anaconda3\\lib\\site-packages (from transformers) (0.11.4)\n",
      "Requirement already satisfied: numpy>=1.17 in c:\\users\\kusha\\anaconda3\\lib\\site-packages (from transformers) (1.20.3)\n",
      "Requirement already satisfied: pyyaml>=5.1 in c:\\users\\kusha\\anaconda3\\lib\\site-packages (from transformers) (5.4.1)\n",
      "Requirement already satisfied: typing-extensions>=3.7.4.3 in c:\\users\\kusha\\anaconda3\\lib\\site-packages (from huggingface-hub<1.0,>=0.1.0->transformers) (3.10.0.2)\n",
      "Requirement already satisfied: pyparsing>=2.0.2 in c:\\users\\kusha\\anaconda3\\lib\\site-packages (from packaging>=20.0->transformers) (2.4.7)\n",
      "Requirement already satisfied: colorama in c:\\users\\kusha\\anaconda3\\lib\\site-packages (from tqdm>=4.27->transformers) (0.4.4)\n",
      "Requirement already satisfied: idna<4,>=2.5 in c:\\users\\kusha\\anaconda3\\lib\\site-packages (from requests->transformers) (3.2)"
     ]
    },
    {
     "name": "stderr",
     "output_type": "stream",
     "text": [
      "WARNING: You are using pip version 21.3.1; however, version 22.0.4 is available.\n",
      "You should consider upgrading via the 'C:\\Users\\Kusha\\anaconda3\\python.exe -m pip install --upgrade pip' command.\n"
     ]
    },
    {
     "name": "stdout",
     "output_type": "stream",
     "text": [
      "\n",
      "Requirement already satisfied: charset-normalizer~=2.0.0 in c:\\users\\kusha\\anaconda3\\lib\\site-packages (from requests->transformers) (2.0.4)\n",
      "Requirement already satisfied: certifi>=2017.4.17 in c:\\users\\kusha\\anaconda3\\lib\\site-packages (from requests->transformers) (2021.10.8)\n",
      "Requirement already satisfied: urllib3<1.27,>=1.21.1 in c:\\users\\kusha\\anaconda3\\lib\\site-packages (from requests->transformers) (1.26.7)\n",
      "Requirement already satisfied: joblib in c:\\users\\kusha\\anaconda3\\lib\\site-packages (from sacremoses->transformers) (1.1.0)\n",
      "Requirement already satisfied: click in c:\\users\\kusha\\anaconda3\\lib\\site-packages (from sacremoses->transformers) (7.1.2)\n",
      "Requirement already satisfied: six in c:\\users\\kusha\\anaconda3\\lib\\site-packages (from sacremoses->transformers) (1.16.0)\n"
     ]
    }
   ],
   "source": [
    "!pip install sentencepiece\n",
    "!pip install transformers"
   ]
  },
  {
   "cell_type": "code",
   "execution_count": 2,
   "id": "4aba1a82",
   "metadata": {},
   "outputs": [],
   "source": [
    "# Import dependencies from transformers huggingface module\n",
    "# financial-summarization-pegasus model trained by huggingface\n",
    "from transformers import PegasusTokenizer, PegasusForConditionalGeneration\n",
    "\n",
    "# Beautiful soup will help to scrape data from news reports\n",
    "from bs4 import BeautifulSoup\n",
    "\n",
    "# Need requests to request data from the web, which then can be processed using beautiful soup\n",
    "# Data: all stock news articles from maybe yahoo finance, CNBC, etc.,\n",
    "import requests\n",
    "\n",
    "import re\n",
    "from transformers import pipeline\n",
    "import csv"
   ]
  },
  {
   "cell_type": "markdown",
   "id": "17924b0f",
   "metadata": {},
   "source": [
    "# 2. Setup a summarization model"
   ]
  },
  {
   "cell_type": "code",
   "execution_count": 3,
   "id": "7d5e7f97",
   "metadata": {},
   "outputs": [
    {
     "data": {
      "application/vnd.jupyter.widget-view+json": {
       "model_id": "ce262ac191d345dd91c5a5de62978b3b",
       "version_major": 2,
       "version_minor": 0
      },
      "text/plain": [
       "Downloading:   0%|          | 0.00/1.82M [00:00<?, ?B/s]"
      ]
     },
     "metadata": {},
     "output_type": "display_data"
    },
    {
     "data": {
      "application/vnd.jupyter.widget-view+json": {
       "model_id": "f99c32e120ad40c786902f6239db0d49",
       "version_major": 2,
       "version_minor": 0
      },
      "text/plain": [
       "Downloading:   0%|          | 0.00/1.31k [00:00<?, ?B/s]"
      ]
     },
     "metadata": {},
     "output_type": "display_data"
    },
    {
     "data": {
      "application/vnd.jupyter.widget-view+json": {
       "model_id": "949bbc28b2274edf9e4e6533b14b5f6d",
       "version_major": 2,
       "version_minor": 0
      },
      "text/plain": [
       "Downloading:   0%|          | 0.00/1.40k [00:00<?, ?B/s]"
      ]
     },
     "metadata": {},
     "output_type": "display_data"
    },
    {
     "data": {
      "application/vnd.jupyter.widget-view+json": {
       "model_id": "d1c226463a4b4d30b3df1c18e2aeb3dd",
       "version_major": 2,
       "version_minor": 0
      },
      "text/plain": [
       "Downloading:   0%|          | 0.00/1.24k [00:00<?, ?B/s]"
      ]
     },
     "metadata": {},
     "output_type": "display_data"
    },
    {
     "data": {
      "application/vnd.jupyter.widget-view+json": {
       "model_id": "6bd899e6d727438d9b1df1bbb288a534",
       "version_major": 2,
       "version_minor": 0
      },
      "text/plain": [
       "Downloading:   0%|          | 0.00/2.12G [00:00<?, ?B/s]"
      ]
     },
     "metadata": {},
     "output_type": "display_data"
    }
   ],
   "source": [
    "# Use the financial-summarization-pegasus already model trained from huggingface \n",
    "model_name = \"human-centered-summarization/financial-summarization-pegasus\"\n",
    "\n",
    "# Creating word-embeddings from the input text --> every single word is represented by a unique identifier/vector\n",
    "tokenizer = PegasusTokenizer.from_pretrained(model_name)\n",
    "\n",
    "model = PegasusForConditionalGeneration.from_pretrained(model_name)"
   ]
  },
  {
   "cell_type": "markdown",
   "id": "11f70858",
   "metadata": {},
   "source": [
    "# 3. Summarize a single stock news article"
   ]
  },
  {
   "cell_type": "code",
   "execution_count": 12,
   "id": "327d5649",
   "metadata": {},
   "outputs": [],
   "source": [
    "# GEt all data from the url (paragraphs from the article)\n",
    "url = \"https://www.fool.com/investing/2022/03/08/how-berkshire-hathaway-could-use-its-144-billion/?source=eptyholnk0000202&utm_source=yahoo-host&utm_medium=feed&utm_campaign=article\"\n",
    "r = requests.get(url)\n",
    "soup = BeautifulSoup(r.text, 'html.parser')\n",
    "paragraphs = soup.find_all('p') # looking for all the text using 'p' tag"
   ]
  },
  {
   "cell_type": "code",
   "execution_count": 13,
   "id": "4af592d5",
   "metadata": {},
   "outputs": [
    {
     "data": {
      "text/plain": [
       "[<p align=\"center\"><small><em>Returns as of 03/08/2022</em></small></p>,\n",
       " <p align=\"center\"><small><em>Returns as of 03/08/2022</em></small></p>,\n",
       " <p>Founded in 1993 by brothers Tom and David Gardner, The Motley Fool helps millions of people attain financial freedom through our website, podcasts, books, newspaper column, radio show, and premium investing services.</p>,\n",
       " <p class=\"leading-tight text-md mb-0px\">\n",
       "     You’re reading a free article with opinions that may differ from The Motley Fool’s Premium Investing Services. Become a Motley Fool member today to <strong>get instant access to our top analyst recommendations, in-depth research, investing resources</strong>, and more.\n",
       "     <a class=\"font-bold text-cyan-800 hover:text-cyan-600\" href=\"https://www.fool.com/mms/mark/op-free-tbox-art\">Learn More</a>\n",
       " </p>,\n",
       " <p>Warren Buffett's most recent letter to shareholders reminded investors of the discipline he and his investing team at <strong>Berkshire Hathaway</strong> apply to their work each day. And while there's nearly $150 billion in cash on the balance sheet, Buffett still hasn't pulled out his famed \"elephant gun\" just yet.</p>,\n",
       " <p>In this podcast, Motley Fool analyst John Rotonti discusses:</p>,\n",
       " <p>Motley Fool analyst Dylan Lewis and Motley Fool contributor Jason Hall discuss two unexpected companies that are winning due to higher inflation.</p>,\n",
       " <p>To catch full episodes of all The Motley Fool's free podcasts, check out our <a href=\"https://www.fool.com/podcasts/\">podcast center</a>. To get started investing, check out our <a href=\"https://www.fool.com/investing/how-to-invest/stocks/\">quick-start guide to investing in stocks</a>. A full transcript follows the video.</p>,\n",
       " <p></p>,\n",
       " <p></p>,\n",
       " <p><em>This video was recorded on March 3, 2022.</em></p>,\n",
       " <p><strong>Chris Hill:</strong> Today we've got two hidden winners from higher inflation and a stock pitch for Berkshire Hathaway. Mr. Buffett, thank you for listening. Motley Fool Money starts now. I'm Chris Hill, joined today by John Rotonti. Thanks for being here.</p>,\n",
       " <p><strong>John Rotonti:</strong> Hey, Chris. I always love being on the show.</p>,\n",
       " <p><strong>Chris Hill:</strong> Yesterday Bill Mann and I talked a little bit about Berkshire Hathaway, the most recent report. I wanted to delve a little bit more into it because it did get a decent amount of attention in the financial community as Warren Buffett and his letters usually do. Let's start with that. What was the highlight of the letter for you?</p>,\n",
       " <p><strong>John Rotonti:</strong> The highlight of the letter, which is nothing new, but he did emphasize it again, is that Berkshire has $144 billion of cash on the balance sheet, and the reason it's there is because the business generates a lot of free cash flow every year, and he said that he finds nothing that excites them right now, at least not in meaningful amounts, and so he can't find any businesses that he wants to buy out, and he can't find any stocks that he wants to take meaningful positions in either. So that cash just builds. It's got 144 billion. Then related to that, Chris, is the idea that he has found an alternative to making acquisitions or investing in stocks, and that alternative that he's happy with, but it is not his first choice, is to buy back Berkshire stock. In the two years, through 2020 and 2021, Berkshire spent $52 billion repurchasing about 9 percent of the shares outstanding and that has great effects on the economics of the business. One of the ones that he called out was that that actually increased the float per share by 25 percent over those two years. It is adding real per-share value. It's not his first choice, but it's a good alternative when Berkshire stock is trading at a discount to what Warren Buffett and Charlie Munger believe to be a conservative estimate of intrinsic value.</p>,\n",
       " <p><strong>Chris Hill:</strong> Do you think his first choice is buying a business outright, or is his first choice finding essentially the next Apple? We can get into Apple in a second, but finding the next Apple for their portfolio?</p>,\n",
       " <p><strong>John Rotonti:</strong> It's easier to find stocks trading at a discount on the public markets because, when you buy a company outright, there's always a premium that you pay, 30-40 percent, for example. So it's easier to find bargains on the stock market, but I think, all else equal, if he could find a bargain and purchase a business outright, that would be his preference. He has said that he has got his elephant gun ready, meaning that he's got the 144 billion in cash. Now, he won't use it all. He says that they will always keep a minimum of 30 billion, but that still leaves a 115 billion or so for him to make an acquisition, 114 billion, if I do the math in my head. A hundred and fourteen billion, he could spend on an acquisition, that's just using cash. But of course, Berkshire is an incredibly resilient business with a massive balance sheet. If he wanted to, they could take on a little debt as well. This is just my analysis. I think the upper bounce is Berkshire could make a $150 billion acquisition if they really wanted to while still maintaining at least $30 billion of cash on the balance sheet.</p>,\n",
       " <p><strong>Chris Hill:</strong> One of the things about Warren Buffett that I think is a great lesson for all of us as investors is, if you look at his career, and while he has been grounded in some value-oriented principles for decades, he, as an investor, is still learning. He's still evolving as an investor. When I think about the, I'm trying to think of a not-terrible adjective, let's just say the 3G Capital, the deal for <strong>Kraft </strong>that just didn't go the way he wanted it to, I look at that, and I think, even in his advanced years, he's learning. I'm not doing this again. I'm not [laughs] going this route against. So when we think about what is he going to do with that cash? I think it's safe that he's not going to be going the route that he did before.</p>,\n",
       " <p><strong>John Rotonti:</strong> I would agree 100 percent with that, Chris. He admitted that they paid too much for Kraft Heinz and that company is run with an efficiency-first model where they do zero cost budgeting. They try to cut costs to the bare bones. It can lead to good business economics, but it doesn't always lead to the best workplace culture and workplace environment. I don't think that's necessarily his first choice for the type of investment he wants to make.</p>,\n",
       " <p><strong>Chris Hill:</strong> Two more things from the letter and then we'll move on. First, he had a lot of praise for Tim Cook.</p>,\n",
       " <p><strong>John Rotonti:</strong> [inaudible 00:05:37]</p>,\n",
       " <p><strong>Chris Hill:</strong> If you think about how that initial purchase of shares of Apple has grown over time, how they've added to that over time, I hear what you're saying about the all-in acquisition, but I don't know. I feel like if you could bet on one, it seems like the safer bet, the more likely bet is that they go out, and it seems crazy to say, they find another Apple. They find [laughs] another great business with a great leader at the top, and they say, we want to be part of this.</p>,\n",
       " <p><strong>John Rotonti:</strong> I think so, Chris. Like I said, you have more frequent opportunities to find great companies trading at discounts in the stock market when you are buying a percentage of a company than when you're buying a whole company. You have to pay a premium for that whole. Apple is a one-of-a-kind business. I don't throw that phrasing around lightly. It's one of a kind because it's fully vertically integrated. They are experts at both hardware and software, as well as everything that goes in between, so the design, the supply chain, the operations. Apple has become one of the greatest semiconductor design companies on the planet, and they did so very quietly. Because of that vertical integration and that ability to excel at both hardware and software in a way that no other company on earth has shown that it can do, Apple is the greatest free cash flow generation company the world has ever seen. Buffett was able to buy stock in the company when it was trading at a discount to the market multiple. It was trading at a below-market multiple. I don't know if it's a once in a lifetime, but it's a once in a generation, once in a decade, or maybe even once in a two-decade type of investment that Buffett made. It was incredibly successful. It's going up more than 5X, and now it's $160 billion position. If I had to guess what the next company would be, like I said, it's really hard to find another Apple. I'll tell you, Chris, I wouldn't be surprised, hear me out here, if Virtue was to buy Arm out of the UK. </p>,\n",
       " <p>Arm, it's the company that Nvidia tried to buy, but it was blocked by regulators, so <strong>Nvidia </strong>dropped their quest to buy Arm. They were going to buy it for about 40 billion. Berkshire could afford this easily just from cash on the balance sheet. It's based on the UK. They're a semiconductor and IP company. They make the instruction sets that power 90 percent of the world's smartphones. If we just think about sticking with smartphones, which obviously Buffett understands because of his investment in Apple, they could buy Arm. <strong>SoftBank </strong>is now trying to IPO Arm. The reason it got blocked by regulators is because their business model has [inaudible 00:08:58] to be neutral to sell to anyone. But if it was owned by Nvidia, regulators didn't think Arm would be able to remain neutral. Under Berkshire, Arm could remain neutral. Berkshire could get it for 40 or 50 billion, somewhere around there, and two last things, it sells this mission-critical software and technology that runs 90 percent of the world's smartphones, and it's got a recurring revenue, recurring cash flows, the types of economics that Berkshire really likes. So I think they should take a look at Arm. Then lastly, that would further build out the technology investments within that Berkshire Hathaway portfolio.</p>,\n",
       " <p><strong>Chris Hill:</strong> I just think of all the times that Jason Moser has banged the table for Berkshire Hathaway to buy <strong>McCormick</strong>, the spice company.</p>,\n",
       " <p><strong>John Rotonti:</strong> Why not? Sure.</p>,\n",
       " <p><strong>Chris Hill:</strong> Why not? But you make a pretty compelling case for Arm, the quote making the round for those who didn't read the letter. We're not stock-pickers. We're business pickers. You almost don't even need to read the letter to take a benefit from that. To me, I read that line, and I thought, \"Yeah, right, that's a good reminder in a market of increased volatility. Yeah, focus on the business, worry less about the stock.\"</p>,\n",
       " <p><strong>John Rotonti:</strong> Even at the Motley Fool, we've learned from Buffett and some others that speak in that language, we consider ourselves on the Investment team here at The Motley Fool business analysts. Not stock analysts, not market analysts, not traders, but business analysts. We really spend 90 percent of our time trying to understand the business and understand what that business will look like over a long period of time, and then we do spend time at the end trying to value that stock. But most of the time is understanding that business.</p>,\n",
       " <p><strong>Chris Hill:</strong> Before I let you go, I would be remiss if I did not mention the fact that the last time you were on the show, we talked about <strong>Ford Motor</strong>. This was over a week ago, Ford Motor and the possibility of CEO Jim Farley splitting off the electric vehicle part of the business, and sure enough, Wednesday morning, that's exactly what happened. I just keep thinking about the conversation we had and your statement that the others are going to follow suit. It's just like, Mary Barra at <strong>General Motors</strong>, your move.</p>,\n",
       " <p><strong>John Rotonti:</strong> Your move. Over to you, Mary. Exactly. I just think it makes sense. Forward stock traded up on the news, I don't know if it's seven or eight percent on the day. I do think it's a way to highlight the great things these companies are doing from an EV standpoint, and that could lead to the market rewarding these companies with higher multiples. In that, higher multiple allows them to raise capital more easily. It allows them to compete with <strong>Tesla </strong>on a more equal footing. It's not equal yet. Tesla has a lead here. Let's call it what it is, but it would allow them to compete with Tesla on a more equal footing. Yeah, I think the next part of this prediction is that the other companies follow suit.</p>,\n",
       " <p><strong>Chris Hill:</strong> John Rotonti, great talking to you. Thanks for being here.</p>,\n",
       " <p><strong>John Rotonti:</strong> Thank you, Chris. Thanks, Fools.</p>,\n",
       " <p><strong>Chris Hill:</strong> All the talk lately of higher prices has investors asking which companies can thrive with inflation on the rise? Companies with pricing power, of course, but who else? We'll look at two unexpected beneficiaries of higher inflation. Here's Dylan Lewis.</p>,\n",
       " <p><strong>Dylan Lewis:</strong> You know how inflation affects the broad economy and your wallet, but inflation's effect on individual companies, to understand that, we have to dig a little bit deeper. Jason Hall joins me to talk through some of the characteristics of companies that keep winning even during periods of inflation. Jason, at a very simplistic level, as a business, to be able to comfortably weather periods where things are becoming more expensive, you need to have one of two things working for you. Either upside in the price you charge for something, or control over the cost you pay for things. If you can get both, that's even better, but you really need one of those two things to be in the driver's seat.</p>,\n",
       " <p><strong>Jason Hall:</strong> Absolutely. Of course, we're talking about pricing power, the ability to raise prices for various reasons, then, of course, to [inaudible 00:13:52] cost advantage, that you're actually paying for the inputs to make whatever it is that you're selling. I think sometimes, honestly, Dylan, your typical inflation environment where costs go up 1-2 percent, 2.5-3 percent a year, maybe sometimes we project a little bit there, and we find a company that we love, and then confirmation bias kicks in, and we maybe assign a little bit of these advantages, and maybe they're not real. Can it really raise prices at will? Does its scale really add up to those true cost advantages? Are they really durable? I guess that's what I'm thinking because it's really easy to pick a big profitable company. Sometimes the pricing power or sometimes the cost advantages, maybe they're not really as durable as we expect.</p>,\n",
       " <p><strong>Dylan Lewis:</strong> We often think about pricing power through the lens of major consumer brands, like <strong>Chipotle</strong>, like <strong>Starbucks</strong>. We've talked about it a lot on the show. The loyalty allows them to charge more, but it's an active decision that the customer is going to see those higher prices, is going to see that they're paying more every single time they're getting that product. There are businesses that structurally have pricing power built into the relationships that they have for their customers in a way that I would argue is maybe a little bit more durable than those everyday purchases that consumers are making when we're often talking about pricing power.</p>,\n",
       " <p><strong>Jason Hall:</strong> Starbucks is a great example. We've certainly seen that they do have the ability [laughs] to raise prices. But customers also have the ability to consume less of that product. One of the risks with these consumer discretionary companies, like Starbucks or Chipotle, if we get to a point where everything else becomes so expensive, these are the first things that come off the list of the splurge or the spend. That's a risk with those businesses. The ones that really have those advantages are the ones where the buying partner doesn't really have another choice. That's where pricing power is really powerful.</p>,\n",
       " <p><strong>Dylan Lewis:</strong> What do you think is a good company that does a good job of illustrating that?</p>,\n",
       " <p><strong>Jason Hall:</strong> One that I really like is <strong>Mastercard</strong>. I'm a shareholder of Mastercard for a long time. It wins because of just the reality of its entire business model. It's all about activity. This is a tollbooth of a business as we get. It makes money every time a consumer buys something and that transaction goes on Mastercard rails. You go to a store, you pull out your Mastercard. You go to your favorite e-commerce website, you make a purchase, and it goes across the rails, the majority of their revenues or a percentage of that transaction. What that means is that this is a company that deal and literally benefits from high inflation because, in inflation, if something costs 10 percent more than it did a year ago, their revenue just went up 10 percent. That is incredibly powerful because they have a captive audience, and they are able to capture that right off the top.</p>,\n",
       " <p><strong>Dylan Lewis:</strong> Those are those interchange fees that we hear so much about when we're looking at the credit card companies. It's a very different model than having someone pay a set fee basically or a regular purchase price for something that's a set amount of dollars rather than a percentage of this value that is changing and actually moving up because of inflation.</p>,\n",
       " <p><strong>Jason Hall:</strong> Absolutely. The thing to me that's the most compelling about Mastercard here is that their benefit isn't the pricing power side. It's the cost advantage. Think about Starbucks. Typically, if they raise their prices, generally in this environment, what are they trying to do? They're trying to pass along higher labor costs. They're trying to pass along higher transportation to get the beans, and the cups, and all that stuff into their stores. They're not necessarily trying to make more profit off of it. They are just trying to cover their expenses. Mastercard's expenses are relatively low, and they're relatively fixed. It's dealing with labor pressure like everybody else, but it has a very highly skilled labor force, and it's more about trying to retain the best minds versus just stuff at stores. I want to give you some stats that just jumped off the page at me for Mastercard. If you look at Mastercard going back to 2010, its gross margin has generally been between 75 and 80 percent every year. That's a great gross margin. Its operating margin since 2011 has never been below 50 percent. That's just incredible. Just as a comparison, Starbucks gets, in its business, great operating margins at around 16 percent, compared to 54 percent over the trailing 12-months for Mastercard. That's a cost advantage.</p>,\n",
       " <p><strong>Dylan Lewis:</strong> You build out that network and then you get to benefit from that network over time. That's a huge part of really why that business is as dominant as it is. I think there's a little bit of a recurring theme with some of these durable businesses. I know another company that you wanted to talk about was BIP, that's <strong>Brookfield Infrastructure Partners</strong>.</p>,\n",
       " <p><strong>Jason Hall:</strong> Exactly. Brookfield Infrastructure Partners. Now, there's actually two tickers. I want to hit this real quick. There's Brookfield Infrastructure Partners, which is a limited partnership, and then there's <strong>Brookfield Infrastructure Corporation</strong>, BIPC. For our purposes, they're the same thing. They're identical economic interest in the same business and that business is very powerful. We call Mastercard a tollbooth business in maybe a metaphorical sense because it's a tollbooth for transactions. Brookfield Infrastructure is like literal tollbooths. So that's a business they actually use to operate. But now they have these businesses like telecommunications, so think about fiber optics, think about pipelines, made massive investments in literal pipelines, moving energy commodities around, electricity transmission, all of these businesses where they collect a fee, generally based on the movement of whatever that commodity is on it, whether it's data or whether it's oil or natural gas or electricity. So they collect, again, that tollbooth fee that they bring in.</p>,\n",
       " <p>This is a perfect example of their customers having one choice, and that one choice is that local monopoly that is the asset that Brookfield Infrastructure owns, or because of just the very high barriers to entry into building that asset billions of dollars to build a transmission line, ACME is not going to build one right next to it to compete. So you have that one choice, and that's very powerful. Then my favorite thing about the way that these sort of businesses work is, so you take that competitive advantage of it's the choice, you have to move your commodity to get it to your market, and then you structure your contracts if you're Brookfield so that, when inflation happens, your prices go up with the charge. Again, Mastercard, now it's not the same again, because Mastercard has as really high operating margins. The difference with Brookfield is most of its costs are capitalized. It's the infrastructure itself, it's the bricks, and mortar, and the steel pipes, that kind of stuff. It's not labor costs that necessarily flex up and down. They are higher, but again, they're relatively fixed. So inflation doesn't necessarily make its costs go higher. So when inflation happens, and it's able to raise its prices a little bit, a lot of that does come to the bottom line, and that's pretty powerful.</p>,\n",
       " <p><strong>Dylan Lewis:</strong> Something I think is interesting with a company that is so capital-intensive, and we lose sight of this sometimes when we're talking about inflation, is usually when we're in an inflationary environment, you tend to see interest rates go up. That's one of the central banks' main ways to keep inflation in check. What does that mean for industries that have relatively big build outs in order to build the business? It means that if you're borrowing money to do that, the cost of borrowing that money is going to go up over time as well. So anyone who is structured in a very capital-intensive business, or even homeowners, really, because they have their mortgage payments locked in at a certain interest rate, are going to enjoy cost-savings that newer competitors aren't going to be able to enjoy.</p>,\n",
       " <p><strong>Jason Hall:</strong> For a business like Brookfield, so its sponsor <strong>Brookfield Asset Management</strong> is this massive alternative asset manager that's been around for three decades and has a very long track record of navigating inflationary environments, geopolitical environments, interest rate environments, and you build a structure, and you have a process so that you're really focusing on return on capital. That's one of the most important metrics that you look at. So you're thinking about changing interest rate environments. Number 1, you make sure you're the guy that always has money when nobody else does. You have access to money, and you build a business so that you can benefit when others are in that position. As we see rising interest rates, and return on capital start getting squeezed for these kind of businesses because the cost of money goes up, Brookfield is going to be the company that we're going to see that's buying assets at a lower multiple, taking advantage of that market, even though its cost of capital may be higher. As a buyer, when it can buy at a lower multiple, it's still able to generate those high returns for its investors. It's an amazing boring business that people ignore that has crushed the market since it existed.</p>,\n",
       " <p><strong>Dylan Lewis:</strong> Jason, as is often the case, when we're looking for companies that tend to thrive during blank, you could fill in whatever blank you want there, it could be inflation, it could be high interest rates, it could be geopolitical risk, it could be stay at home, they tend to be quality businesses that are in a position to control their own destiny. That comes from financial fortitude. I think as an investor, these are just a couple of reminders that it's worth digging into how the top-line manifests itself for business and how much control a company really has over its cost.</p>,\n",
       " <p><strong>Jason Hall:</strong> There's no doubt about that. I think one of the things that we've seen with this growth stocks sell off over the past year, Dylan, is that so many of those businesses are burning cash. There are some that they're not profitable on a GAAP basis, but they generate positive cash flow. Those are the ones that are going to make it. The ones that are burning cash are the ones that are going to get squeezed out of existence because they don't control their destiny. That's such a differentiator for these sorts of businesses because, like I said, you want to be the guy that has money when nobody else does. You want your phone ringing. You don't want to be the one having to make the call to somebody else. These are perfect examples of that. One thing I want to point out with these two, I think is important to remember too, is that there's a big difference between Mastercard and Brookfield besides all of the obvious, but that's in the risk factors. Brookfield moves data, moves power. All of those things are largely recession-resistant. So if we see this inflationary environment start to affect consumer spending, Brookfield is the business that's going to be the less affected by it. Mastercard wins today from inflation, but if that inflation leads to a recessionary environment, it quickly becomes a loser. So I think that's an important differentiator to make as an investor thinking about the near-term implications. These are both long-term winners, but I think just being aware of those dynamics is really helpful.</p>,\n",
       " <p><strong>Dylan Lewis:</strong> On top of all the financial stuff we just talked about with the top-line and costs, I think it's important to remember, where does this money spend fit into the overall picture for whether it's an enterprise customer, if you're a software provider or an end-consumer, if you're a consumer-packaged brand like Starbucks or Chipotle?</p>,\n",
       " <p><strong>Jason Hall:</strong> If your buyer can actively make a choice to stop buying from you on a moment's notice, that's a risk that's really important. So if you talk about those software companies selling to enterprise, the ones that have the long-term contracts and that recurring revenue, those are the ones to really focus on. The ones that have the short-term contracts where customers can walk away quickly, unless they're really sticky, they're really embedded, like Shopify, maybe there's a risk there that you don't even see. So it's always important to flip to the next page in that filing and start reading into some of those business risks.</p>,\n",
       " <p><strong>Dylan Lewis:</strong> I'm always happy to flip through the next stage with you, Jason. Thanks so much for joining me in today's show.</p>,\n",
       " <p><strong>Jason Hall:</strong> It's always fun, Dylan.</p>,\n",
       " <p><strong>Chris Hill:</strong> As always, people on the program may have interest in the stocks they talk about, and the Motley Fool may have formal recommendations for or against, so don't buy yourselves stocks based solely on what you hear. I'm Chris Hill. Thanks for listening. We'll see you tomorrow.</p>,\n",
       " <p class=\"text-gray-700 pt-16px text-md\">Why do we invest this way? <a class=\"text-cyan-800 hover:text-cyan-600\" href=\"https://www.fool.com/about/investing-philosophy/\">Learn More</a></p>,\n",
       " <p class=\"italic text-10 leading-1 mt-4px\">*Average returns of all recommendations since inception. Cost basis and return based on previous market day close.</p>,\n",
       " <p class=\"mt-8px mb-12px text-md\">Market-beating stocks from our award-winning service.</p>,\n",
       " <p class=\"mb-10 italic text-10\">Calculated by average return of all stock recommendations since inception of the Stock Advisor service in February of 2002. Returns as of 03/08/2022.</p>,\n",
       " <p class=\"italic text-10\">Discounted offers are only available to new members. Stock Advisor list price is $199 per year.</p>,\n",
       " <p class=\"text-sm mb-8px\">Calculated by Time-Weighted Return since 2002. Volatility profiles based on trailing-three-year calculations of the standard deviation of service investment returns as of January 1, 2021.</p>,\n",
       " <p class=\"text-gray-100\">\n",
       "         Invest better with the Motley Fool. Get stock recommendations, portfolio guidance, and more from the Motley Fool's premium services.\n",
       "       </p>,\n",
       " <p class=\"sub-heading\"></p>,\n",
       " <p class=\"para-text\"></p>,\n",
       " <p class=\"tagline\">Making the world smarter, happier, and richer.</p>,\n",
       " <p class=\"copyright\" id=\"footer-copyright-text\"></p>,\n",
       " <p>Market data powered by <a href=\"https://xignite.com/\" target=\"_blank\">Xignite</a>.</p>]"
      ]
     },
     "execution_count": 13,
     "metadata": {},
     "output_type": "execute_result"
    }
   ],
   "source": [
    "paragraphs"
   ]
  },
  {
   "cell_type": "code",
   "execution_count": 14,
   "id": "3562c942",
   "metadata": {},
   "outputs": [
    {
     "data": {
      "text/plain": [
       "<Response [200]>"
      ]
     },
     "execution_count": 14,
     "metadata": {},
     "output_type": "execute_result"
    }
   ],
   "source": [
    "r"
   ]
  },
  {
   "cell_type": "code",
   "execution_count": 15,
   "id": "97212030",
   "metadata": {},
   "outputs": [
    {
     "data": {
      "text/plain": [
       "'\\n\\n<!DOCTYPE html>\\n\\n<html lang=\"en\"  prefix=\"og: http://ogp.me/ns# fb: http://ogp.me/ns/fb# article: http://ogp.me/ns/article#\">\\n\\n <head>\\n  <script>\\n    // usmf-django\\nvar segmentKey=\"16mdwrvy5p\",segmentSnippetVersion=\"4.15.2\",getSegmentUrl=function(e){return e=e||window.segmentKey,(\"https:\"===document.location.protocol?\"https://\":\"http://\")+\"evs.pink-boat.fool.com/analytics.js/v1/\"+e+\"/analytics.min.js\"},trackerMaker=function(e){var t=[];t.invoked=!1,t.methods=[\"trackSubmit\",\"trackClick\",\"trackLink\",\"trackForm\",\"pageview\",\"identify\",\"reset\",\"group\",\"track\",\"ready\",\"alias\",\"debug\",\"page\",\"once\",\"off\",\"on\"],e&&(t.methods=t.methods.concat(e));var n=function(e){var n=function(){var n=Array.prototype.slice.call(arguments,0),a=[e].concat(n);t.push(a)};return n.stub=!0,n},a=function(){for(var e=0;e<t.methods.length;e++){var a=t.methods[e];t[a]=n(a)}},r=function(e){if(t.invoked)return void(window.console&&console.error&&console.error(\"Tracking snippet included twice.\"));var n=document.createElement(\"script\");n.type=\"text/javascript\",n.async=!0,n.src=e;var a=document.getElementsByTagName(\"script\")[0];a.parentNode.insertBefore(n,a),t.invoked=!0};return a(),t.load=r,t},analytics=window.analytics=window.analytics||trackerMaker([\"addSourceMiddleware\",\"addIntegrationMiddleware\",\"setAnonymousId\",\"addDestinationMiddleware\"]),Infotrack=window.Infotrack=window.Infotrack||trackerMaker([\"initialize\"]);\\n  </script>\\n  <meta name=\"infotrackSnippetVersion\" content=\"4.0.0\" data-tracker-key=\"infotrackSnippetVersion\">\\n\\n    \\n        \\n        \\n        \\n        <meta name=\"description\" content=\"&quot;Charlie [Munger] and I are not stock-pickers; we are business-pickers,&quot; wrote Warren Buffett.\" />\\n        \\n        <meta http-equiv=\"X-UA-Compatible\" content=\"IE=edge\" />\\n        <meta charset=\"utf-8\">\\n        <meta name=\"viewport\" content=\"width=device-width, initial-scale=1.0, maximum-scale=1.0, shrink-to-fit=no\" />\\n\\n        \\n\\n        \\n        <meta name=\"twitter:site\" content=\"@themotleyfool\">\\n        <meta name=\"twitter:card\" content=\"summary_large_image\">\\n        <meta name=\"twitter:title\" content=\"How Berkshire Hathaway Could Use Its $144 Billion @themotleyfool #stocks $AAPL $BRK.A $BRK.B $CMG $SBUX $F $TSLA $MA $GM $NVDA $BAM $MKC $BIP $SFTBF $KHC $BIPC\">\\n        <meta name=\"twitter:description\" content=\"&quot;Charlie [Munger] and I are not stock-pickers; we are business-pickers,&quot; wrote Warren Buffett.\">\\n\\n        \\n        <meta itemprop=\"name\" content=\"How Berkshire Hathaway Could Use Its $144 Billion | The Motley Fool\">\\n        <meta itemprop=\"description\" content=\"&quot;Charlie [Munger] and I are not stock-pickers; we are business-pickers,&quot; wrote Warren Buffett.\">\\n\\n        \\n        <meta property=\"og:site_name\" content=\"The Motley Fool\" />\\n        <meta property=\"og:title\" content=\"How Berkshire Hathaway Could Use Its $144 Billion | The Motley Fool\"/>\\n        <meta property=\"og:description\" content=\"&quot;Charlie [Munger] and I are not stock-pickers; we are business-pickers,&quot; wrote Warren Buffett.\"/>\\n        <meta property=\"og:url\" content=\"https://www.fool.com/investing/2022/03/08/how-berkshire-hathaway-could-use-its-144-billion/\"/>\\n\\n        \\n        <meta name=\"twitter:image\" content=\"https://g.foolcdn.com/editorial/images/669326/mfm_20220303-2.jpg\"/>\\n        <meta itemprop=\"image\" content=\"https://g.foolcdn.com/editorial/images/669326/mfm_20220303-2.jpg\">\\n        <meta property=\"og:image\" content=\"https://g.foolcdn.com/editorial/images/669326/mfm_20220303-2.jpg\"/>\\n        \\n\\n        \\n<meta property=\"og:type\" content=\"article\"/>\\n\\n\\n        <meta property=\"fb:pages\" content=\"7240312795\" />\\n        <meta property=\"fb:app_id\" content=\"50808187550\" />\\n\\n        <meta name=\"msvalidate.01\" content=\"8D40D58712924715BAA79D135A6C8DDA\" />\\n    \\n\\n    \\n    <meta name=\"ResponsiveALP\" content=\"non-member_article-feb-22-prospect-template-279_articletest-feb22-prospect-vara-repeat_25\" data-tracker-key=\"ResponsiveALP\" />\\n    <meta name=\"headline\" content=\"How Berkshire Hathaway Could Use Its $144 Billion\" data-tracker-key=\"article_headline\" data-pitch-param=\"headline\" />\\n    <meta name=\"STORY_UID\" content=\"db33f0aa-bc99-465b-83af-c9251e0ab9b1\" data-tracker-key=\"article_uuid\" data-pitch-param=\"article_uuid\" />\\n    <meta name=\"author\" content=\"Chris Hill\" data-tracker-key=\"article_author\" />\\n    \\n    <meta name=\"date\" content=\"2022-03-08T19:52:00Z\"/>\\n    <meta name=\"gsa_date\" content=\"2022 03 08\" data-tracker-key=\"article_publish_date\"/>\\n    <meta name=\"publish_time\" content=\"14:52\" data-tracker-key=\"article_publish_time\" />\\n    \\n    <meta name=\"promo\" content=\"&quot;Charlie [Munger] and I are not stock-pickers; we are business-pickers,&quot; wrote Warren Buffett.\" />\\n    <meta name=\"bureau\" content=\"usmf-financials\" data-tracker-key=\"article_bureau\" data-pitch-param=\"bureau\" />\\n    <meta name=\"tags\" content=\"Yahoo News,Motley Fool Money,USMF Video,MSN,Default Partners\" data-tracker-key=\"article_tags\" data-pitch-param=\"article_tags\" />\\n    <meta name=\"pitch\" content=\"6115\" />\\n    <meta name=\"tickers\" content=\"AAPL\" data-tracker-key=\"article_tickers\" data-pitch-param=\"primary_tickers\" />\\n    <meta name=\"article_type\" content=\"video\" data-tracker-key=\"article_type\" data-pitch-param=\"article_type\" />\\n    <meta name=\"collection\" content=\"investing\" data-tracker-key=\"collection\" data-pitch-param=\"collection\" />\\n    <meta property=\"article:published_time\" content=\"2022-03-08T14:52:00-05:00\" />\\n    <meta property=\"article:author\" content=\"https://www.facebook.com/themotleyfool/\" />\\n    <meta property=\"article:tag\" content=\"usmf-financials\" />\\n    <meta property=\"article:section\" content=\"investing\" />\\n    <meta name=\"robots\" content=\"max-image-preview:large\" />\\n\\n\\n\\n  <title>\\n      \\n    How Berkshire Hathaway Could Use Its $144 Billion | The Motley Fool\\n\\n  </title>\\n\\n\\n  <link rel=\"shortcut icon\" id=\"fool-favicon\" href=\"https://g.foolcdn.com/misc-assets/logo-tmf-primary-favicon.ico\">\\n  <link rel=\"apple-touch-icon\" href=\"https://g.foolcdn.com/misc-assets/apple-touch-icon.png\">\\n  <link rel=\"icon\" id=\"fool-faviconpng16\" type=\"image/png\" sizes=\"16x16\" href=\"https://optimize.foolcdn.com/?url=https%3A%2F%2Fg.foolcdn.com%2Fmisc-assets/logo-tmf-favicon-7-magenta-royalpurple32.png&amp;w=16&amp;op=resize\">\\n  <link rel=\"icon\" id=\"fool-faviconpng32\" type=\"image/png\" sizes=\"32x32\" href=\"https://optimize.foolcdn.com/?url=https%3A%2F%2Fg.foolcdn.com%2Fmisc-assets/logo-tmf-favicon-7-magenta-royalpurple32.png&amp;w=16&amp;op=resize\">\\n  <link rel=\"alternate\" type=\"application/rss+xml\" title=\"RSS\" href=\"https://www.fool.com/a/feeds/partner/googlechromefollow?apikey=5e092c1f-c5f9-4428-9219-908a47d2e2de\">\\n\\n  \\n<link rel=\"canonical\" href=\"https://www.fool.com/investing/2022/03/08/how-berkshire-hathaway-could-use-its-144-billion/\" />\\n\\n\\n  \\n  \\n\\n  \\n  \\n\\n  <link rel=\"preconnect\" href=\"https://fonts.googleapis.com\">\\n  <link rel=\"preconnect\" href=\"https://fonts.gstatic.com\" crossorigin>\\n  <link href=\"https://fonts.googleapis.com/css2?family=Roboto:wght@300;400;500;700&display=swap\" rel=\"stylesheet\">\\n\\n  <link rel=\"stylesheet\" href=\"//g.foolcdn.com/static/dubs/CACHE/css/output.d26a57f2ec21.css\" type=\"text/css\">\\n  <link rel=\"stylesheet\" href=\"//g.foolcdn.com/static/dubs/CACHE/css/output.17588cac32ef.css\" type=\"text/css\" media=\"print\">\\n  \\n  <link rel=\"stylesheet\" href=\"//g.foolcdn.com/static/dubs/CACHE/css/output.b68d4e1f3325.css\" type=\"text/css\">\\n\\n\\n  \\n\\n  \\n  <script type=\"text/javascript\" src=\"//g.foolcdn.com/static/dubs/common/js/vendor/jquery-3.6.0.min.8fb8fee4fcc3.js\"></script>\\n  \\n\\n  \\n  <script type=\"text/javascript\" src=\"//g.foolcdn.com/static/dubs/common/js/fool/fool_perf.30e6a927aa44.js\"></script>\\n  \\n\\n  \\n<script>(function(d){var s = d.createElement(\"script\");s.setAttribute(\"data-account\", \"JPpJAc3inv\");s.setAttribute(\"src\", \"https://accessibilityserver.org/widget.js\");(d.body || d.head).appendChild(s);})(document)</script><noscript>Please ensure Javascript is enabled for purposes of <a href=\"https://accessibilityserver.org\">website accessibility</a></noscript>\\n\\n\\n\\n\\n  \\n  \\n    \\n\\n\\n\\n<script type=\"text/javascript\">\\n    var dataLayer = dataLayer || [];\\n    \\n        dataLayer.push({\\'foolcomPageType\\': \\'article\\'});\\n        \\n        dataLayer.push({\\'articleUUID\\': \\'db33f0aa-bc99-465b-83af-c9251e0ab9b1\\'});\\n        \\n        dataLayer.push({\\'articleAuthor\\': \\'Chris Hill\\'});\\n        dataLayer.push({\\'articleBureau\\': \\'usmf-financials\\'});\\n        dataLayer.push({\\'articleHeadline\\': \\'How Berkshire Hathaway Could Use Its $144 Billion\\'});\\n        dataLayer.push({\\'articlePublishedTime\\': \\'2022-03-08T14:52:00-05:00\\'});\\n        \\n        dataLayer.push({\\'articleTags\\': [\\'Yahoo News\\', \\'Motley Fool Money\\', \\'USMF Video\\', \\'MSN\\', \\'Default Partners\\'] });\\n        \\n        \\n        dataLayer.push({\\'articleTickers\\': [\\'AAPL\\'] });\\n        \\n        dataLayer.push({\\'articleSection\\': \\'investing\\'});\\n        dataLayer.push({\\'articleCollection\\': \\'investing\\'});\\n    \\n    var md5HashedEmail = unescape(encodeURIComponent(\"d41d8cd98f00b204e9800998ecf8427e\")).trim().toLowerCase();\\n    var sha256HashedEmail = unescape(encodeURIComponent(\"e3b0c44298fc1c149afbf4c8996fb92427ae41e4649b934ca495991b7852b855\")).trim().toLowerCase();\\n    dataLayer.push({\\'EmailReady.hashed_email\\': md5HashedEmail});\\n    dataLayer.push({\\'EmailReady.hashed_email_256\\': sha256HashedEmail});\\n    dataLayer.push({\\'event\\': \\'EmailReady\\'});\\n</script>\\n\\n\\n<script async type=\"text/javascript\" src=\"//g.foolcdn.com/static/dubs/ads/js/vendor/prebid3.8.0.12425b607ef3.js\"></script>\\n<script>\\n    var prebidFool = {\\n        timeout: 1500\\n    };\\n    var pbjs = pbjs || {};\\n    pbjs.que = pbjs.que || [];\\n    pbjs.que.push(function() {\\n        var price_bucket = {\\n            \\'buckets\\': [\\n                \\n                {\\n                    \\'precision\\': 2,\\n                    \\'min\\': 0,\\n                    \\'max\\': 20,\\n                    \\'increment\\': 0.01,\\n                },\\n                \\n                {\\n                    \\'precision\\': 2,\\n                    \\'min\\': 20,\\n                    \\'max\\': 30,\\n                    \\'increment\\': 0.05,\\n                },\\n                \\n                {\\n                    \\'precision\\': 2,\\n                    \\'min\\': 30,\\n                    \\'max\\': 40,\\n                    \\'increment\\': 0.10,\\n                },\\n                \\n                {\\n                    \\'precision\\': 2,\\n                    \\'min\\': 40,\\n                    \\'max\\': 50,\\n                    \\'increment\\': 0.50,\\n                },\\n                \\n                {\\n                    \\'precision\\': 2,\\n                    \\'min\\': 50,\\n                    \\'max\\': 99,\\n                    \\'increment\\': 1.00,\\n                },\\n                \\n            ]\\n        };\\n        pbjs.setConfig({\\n            debug: true,\\n            bidderTimeout: 1500,\\n            priceGranularity: price_bucket,\\n            enableSendAllBids: false,\\n            // that is for future when we start s2s on all pages not only AMP\\n            // s2sConfig: {\\n            //     accountId: \\'0493ea4a-96b1-4072-b4ec-38dac402799a\\',\\n            //     bidders: [\\'appnexus\\', \\'pubmatic\\'],\\n            //     defaultVendor: \\'appnexus\\'\\n            // },\\n        });\\n    });\\n</script>\\n\\n\\n<script async=\"async\" src=\"https://www.googletagservices.com/tag/js/gpt.js\"></script>\\n<script type=\"text/javascript\">\\n    window.googletag = window.googletag || {};\\n    var googletag = window.googletag;\\n    googletag.cmd = googletag.cmd || [];\\n    window.slots = window.slots || {};\\n    window.adCount = 0;\\n    \\n</script>\\n\\n\\n\\n\\n\\n\\n\\n<script type=\"text/javascript\" src=\"//g.foolcdn.com/static/dubs/ads/js/fool/fool_ads.74ce8f8a45cf.js\"></script>\\n\\n  \\n  \\n  \\n  \\n\\n\\n<script type=\\'text/javascript\\'>\\n    googletag.cmd.push(function() {\\n        \\n        googletag.pubads().setTargeting(\\'ArticleNum\\', \\'article-\\' + window.article_count_id);\\n        \\n\\n        \\n        googletag.pubads().setTargeting(\\'bureau\\', \\'usmf-financials\\');\\n        \\n\\n        \\n        googletag.pubads().setTargeting(\\'collection\\', \\'/investing\\');\\n        \\n\\n        \\n        googletag.pubads().setTargeting(\\'headline\\', \\'how berkshire hathaway could use its 144 billion\\');\\n        \\n\\n        \\n        googletag.pubads().setTargeting(\\'adtags\\', [\"yahoo-news\", \"motley-fool-money\", \"usmf-video\", \"msn\", \"default-partners\"]);\\n        \\n\\n        googletag.pubads().setTargeting(\\'test_bucket\\', \\'48\\');\\n        googletag.pubads().setTargeting(\\'tickers\\', [\"\"]);\\n        googletag.pubads().setTargeting(\\'suppress_modal\\', \\'False\\');\\n\\n        \\n        googletag.pubads().setTargeting(\\'sessionCount\\', \\'0\\')\\n        googletag.pubads().setTargeting(\\'tenOrMoreSessions\\', \\'False\\')\\n        googletag.pubads().setTargeting(\\'services\\', [])\\n        googletag.pubads().setTargeting(\\'uid\\', \\'\\');\\n        \\n        googletag.pubads().setTargeting(\\'page_type\\', \\'Non-TSTR-PAGE\\');\\n    });\\n</script>\\n\\n\\n  \\n\\n\\n\\n  \\n    <script type=\"application/ld+json\">\\n      {\\n        \"@context\": \"http://schema.org\",\\n        \"@type\": \"NewsArticle\",\\n        \"mainEntityOfPage\": {\\n          \"@type\": \"WebPage\",\\n          \"@id\": \"https://www.fool.com\"\\n        },\\n        \"headline\": \"How Berkshire Hathaway Could Use Its $144 Billion\",\\n        \"datePublished\": \"2022-03-08T19:52:00Z\",\\n        \"dateModified\": \"2022-03-08T19:52:38Z\",\\n        \"author\": {\\n          \"@type\": \"Person\",\\n          \"name\": \"Chris Hill\"\\n        },\\n        \"about\":[\\n            \\n                {\\n                    \"@type\": \"Corporation\",\\n                    \"tickerSymbol\": \"NASDAQ AAPL\"\\n                },\\n            \\n                {\\n                    \"@type\": \"Corporation\",\\n                    \"tickerSymbol\": \"NYSE BRK.A\"\\n                },\\n            \\n                {\\n                    \"@type\": \"Corporation\",\\n                    \"tickerSymbol\": \"NYSE BRK.B\"\\n                },\\n            \\n                {\\n                    \"@type\": \"Corporation\",\\n                    \"tickerSymbol\": \"NYSE CMG\"\\n                },\\n            \\n                {\\n                    \"@type\": \"Corporation\",\\n                    \"tickerSymbol\": \"NASDAQ SBUX\"\\n                },\\n            \\n                {\\n                    \"@type\": \"Corporation\",\\n                    \"tickerSymbol\": \"NYSE F\"\\n                },\\n            \\n                {\\n                    \"@type\": \"Corporation\",\\n                    \"tickerSymbol\": \"NASDAQ TSLA\"\\n                },\\n            \\n                {\\n                    \"@type\": \"Corporation\",\\n                    \"tickerSymbol\": \"NYSE MA\"\\n                },\\n            \\n                {\\n                    \"@type\": \"Corporation\",\\n                    \"tickerSymbol\": \"NYSE GM\"\\n                },\\n            \\n                {\\n                    \"@type\": \"Corporation\",\\n                    \"tickerSymbol\": \"NASDAQ NVDA\"\\n                },\\n            \\n                {\\n                    \"@type\": \"Corporation\",\\n                    \"tickerSymbol\": \"NYSE BAM\"\\n                },\\n            \\n                {\\n                    \"@type\": \"Corporation\",\\n                    \"tickerSymbol\": \"NYSE MKC\"\\n                },\\n            \\n                {\\n                    \"@type\": \"Corporation\",\\n                    \"tickerSymbol\": \"NYSE BIP\"\\n                },\\n            \\n                {\\n                    \"@type\": \"Corporation\",\\n                    \"tickerSymbol\": \"OTC SFTBF\"\\n                },\\n            \\n                {\\n                    \"@type\": \"Corporation\",\\n                    \"tickerSymbol\": \"NASDAQ KHC\"\\n                },\\n            \\n                {\\n                    \"@type\": \"Corporation\",\\n                    \"tickerSymbol\": \"NYSE BIPC\"\\n                }\\n            \\n        ],\\n        \"publisher\": {\\n          \"@type\": \"Organization\",\\n          \"name\": \"The Motley Fool\",\\n          \"logo\": {\\n            \"@type\": \"ImageObject\",\\n            \"url\": \"https://g.foolcdn.com/misc-assets/logo-tmf-primary-7-magenta-royalpurple.svg\",\\n            \"width\": 311,\\n            \"height\": 56\\n          }\\n        },\\n        \"description\": \"&quot;Charlie [Munger] and I are not stock-pickers; we are business-pickers,&quot; wrote Warren Buffett.\",\\n        \"image\": {\\n          \"@type\": \"ImageObject\",\\n          \"url\": \"https://g.foolcdn.com/image/?url=https%3A%2F%2Fg.foolcdn.com%2Feditorial%2Fimages%2F669326%2Fmfm_20220303-2.jpg&w=1200&h=630&op=resize\",\\n          \"height\": 630,\\n          \"width\": 1200\\n        }\\n      }\\n  </script>\\n\\n  <script type=\"text/javascript\" src=\"//g.foolcdn.com/static/dubs/common/js/fool/promotionalPopup.8b89202918a0.js\" defer></script>\\n\\n\\n</head>\\n\\n<body class=\"fool \">\\n\\n  \\n  <div class=\"main-container\">\\n    \\n\\n    <div class=\"fool-tophat-container\">\\n      <div id=\"tmf-top-hat\"></div>\\n    </div>\\n    <div class=\"page-grid-container\">\\n      <section class=\"usmf-article-nav\">\\n        \\n          \\n\\n\\n<header class=\"navigation\" role=\"banner\">\\n  <div class=\"navigation-wrapper\">\\n    \\n      <div class=\"logo-container\">\\n    \\n      <a href=\"https://www.fool.com\" class=\"logo\">\\n        <img id=\"fool-logo\" class=\"fool-logo\" alt=\"The Motley Fool\" src=\"https://g.foolcdn.com/misc-assets/logo-tmf-primary-7-magenta-royalpurple.svg\">\\n      </a>\\n    \\n        </div>\\n    \\n\\n\\n    <!--Desktop Nav Menu-->\\n<nav>\\n    <ul class=\"nav-menu main-menu\">\\n        <li class=\"nav-item main-menu-item\">\\n            <a id=\"topnav-picks\" href=\"https://api.fool.com/infotron/splitter/route/article-template-button?apikey=5c8e52dd-1bea-455e-87f5-d5506e590f21\"  class=\"nav-link-stock-picks\">\\n                Latest Stock Picks\\n            </a>\\n        </li>\\n\\n        \\n          \\n              <li class=\"nav-item main-menu-item\">\\n                <a id=\"our-services\" href=\"/services/\">Our Services</a>\\n              </li>\\n            \\n         \\n          \\n            <li class=\"nav-item main-menu-item dropdown\">\\n              <a id=\"topnav-stocks\" href=\"javascript:void(0)\">\\n                Investing Basics\\n                <svg class=\"fa-svg-icon\"><use xlink:href=\"#caret-down\"></use></svg>\\n              </a>\\n              <div class=\"sub-nav sub-menu\">\\n                <div class=\"mega-menu-wrapper\">\\n                  <div class=\"mega-menu-wrapper-content sub-nav\">\\n                    <div class=\"columns\" id=\"stocks-subnav\">\\n                      \\n                        \\n                            \\n\\n\\n<div class=\"column promo-box-column\">\\n  \\n\\n    <div class=\"sub-menu-header\">Premium Services</div>\\n    <div class=\"stocks-info-table sub-nav-group\">\\n      <div class=\"stocks-info-item head\">\\n        <div class=\"td name\"></div>\\n        <div class=\"td\">Return</div>\\n        <div class=\"td\">S&P</div>\\n      </div>\\n      <div class=\"stocks-info-item\">\\n        <div class=\"td name\">\\n          <a id=\"stocks-sa\" href=\"https://www.fool.com/mms/mark/op-hp-mfps-sa/?source=isasittn0010002\">Stock Advisor</a>\\n          <small>Flagship service</small>\\n        </div>\\n        <div class=\"td return\">446%</div>\\n        <div class=\"td\">126%</div>\\n      </div>\\n      <div class=\"stocks-info-item\">\\n        <div class=\"td name\">\\n          <a id=\"stocks-rb\" href=\"https://www.fool.com/mms/mark/op-hp-mfps-rb/?source=irbsittn0010001\">Rule Breakers</a>\\n          <small>High-growth stocks</small>\\n        </div>\\n        <div class=\"td return\">237%</div>\\n        <div class=\"td\">109%</div>\\n      </div>\\n      <p align=\"center\"><small><em>Returns as of 03/08/2022</em></small></p>\\n\\t\\t  <div class=\"stocks-info-item\">\\n\\t\\t    <div class=\"td name\">\\n\\t\\t\\t    <center>\\n\\t\\t\\t      <a id=\"stocks-all-services\" href=\"https://www.fool.com/services/\">View all Motley Fool Services</a>\\n\\t\\t\\t    </center>\\n\\t\\t    </div>\\n\\t\\t  </div>\\n    </div>\\n\\n  \\n</div>\\n\\n                        \\n                      \\n\\n                      \\n                        <div class=\"column\">\\n                          <ul class=\"sub-nav-group\">\\n                            <div class=\"sub-menu-header\">Investing 101</div>\\n                            \\n                              <li class=\"sub-menu-link\">\\n                                <a id=\"stocks-how-to-invest\" href=\"/investing/how-to-invest/\" >How to Invest Money</a>\\n                                  \\n                              </li>\\n                            \\n                              <li class=\"sub-menu-link\">\\n                                <a id=\"stocks-what-to-invest-in\" href=\"/investing/how-to-invest/what-to-invest-in/\" >What to Invest In</a>\\n                                  \\n                              </li>\\n                            \\n                              <li class=\"sub-menu-link\">\\n                                <a id=\"stocks-how-to-invest-in-stocks\" href=\"/investing/how-to-invest/stocks/\" >How to Invest in Stocks</a>\\n                                  \\n                              </li>\\n                            \\n                              <li class=\"sub-menu-link\">\\n                                <a id=\"stocks-how-to-invest-in-index-funds\" href=\"/investing/how-to-invest/index-funds/\" >How to Invest in Index Funds</a>\\n                                  \\n                              </li>\\n                            \\n                              <li class=\"sub-menu-link\">\\n                                <a id=\"stocks-how-to-invest-in-etfs\" href=\"https://www.fool.com/investing/how-to-invest/etfs/\" >How to Invest in ETFs</a>\\n                                  \\n                              </li>\\n                            \\n                          </ul>\\n                        </div>\\n                      \\n                        <div class=\"column\">\\n                          <ul class=\"sub-nav-group\">\\n                            <div class=\"sub-menu-header\">Best Accounts</div>\\n                            \\n                              <li class=\"sub-menu-link\">\\n                                <a id=\"best-accounts-brokerage\" href=\"https://www.fool.com/the-ascent/buying-stocks/\" >Best Stock Brokers</a>\\n                                  \\n                              </li>\\n                            \\n                              <li class=\"sub-menu-link\">\\n                                <a id=\"best-beginners-brokers\" href=\"https://www.fool.com/the-ascent/buying-stocks/best-online-stock-brokers-beginners/\" >Best Brokers for Beginners</a>\\n                                  \\n                              </li>\\n                            \\n                              <li class=\"sub-menu-link\">\\n                                <a id=\"best-accounts-ira\" href=\"https://www.fool.com/the-ascent/buying-stocks/best-brokers-iras/\" >Best IRA Accounts</a>\\n                                  \\n                              </li>\\n                            \\n                              <li class=\"sub-menu-link\">\\n                                <a id=\"best-accounts-roth-ira\" href=\"https://www.fool.com/the-ascent/buying-stocks/best-roth-ira/\" >Best Roth IRA Accounts</a>\\n                                  \\n                              </li>\\n                            \\n                              <li class=\"sub-menu-link\">\\n                                <a id=\"best-options-brokers\" href=\"https://www.fool.com/the-ascent/buying-stocks/best-brokers-options/\" >Best Options Brokers</a>\\n                                  \\n                              </li>\\n                            \\n                              <li class=\"sub-menu-link\">\\n                                <a id=\"best-crypto-apps\" href=\"/the-ascent/cryptocurrency/best-cryptocurrency-apps/\" target=\"True\">Best Crypto Apps</a>\\n                                  \\n                              </li>\\n                            \\n                          </ul>\\n                        </div>\\n                      \\n                        <div class=\"column\">\\n                          <ul class=\"sub-nav-group\">\\n                            <div class=\"sub-menu-header\">Stock Market Basics</div>\\n                            \\n                              <li class=\"sub-menu-link\">\\n                                <a id=\"stock-market-basics-stock-market-101\" href=\"/investing/stock-market/\" >Stock Market 101</a>\\n                                  \\n                              </li>\\n                            \\n                              <li class=\"sub-menu-link\">\\n                                <a id=\"stock-market-basics-typles-of-stocks\" href=\"/investing/stock-market/types-of-stocks/\" >Types of Stocks</a>\\n                                  \\n                              </li>\\n                            \\n                              <li class=\"sub-menu-link\">\\n                                <a id=\"stock-market-basics-stock-market-sectors\" href=\"/investing/stock-market/market-sectors/\" >Stock Market Sectors</a>\\n                                  \\n                              </li>\\n                            \\n                              <li class=\"sub-menu-link\">\\n                                <a id=\"stock-market-basics-stock-market-indexes\" href=\"/investing/stock-market/indexes/\" >Stock Market Indexes</a>\\n                                  \\n                              </li>\\n                            \\n                              <li class=\"sub-menu-link\">\\n                                <a id=\"stock-market-basics-sp-500\" href=\"/investing/stock-market/indexes/sp-500/\" >S&amp;P 500</a>\\n                                  \\n                              </li>\\n                            \\n                              <li class=\"sub-menu-link\">\\n                                <a id=\"stock-market-basics-dow-jones\" href=\"/investing/stock-market/indexes/dow-jones/\" >Dow Jones</a>\\n                                  \\n                              </li>\\n                            \\n                              <li class=\"sub-menu-link\">\\n                                <a id=\"stock-market-basics-nasdaq-composite\" href=\"/investing/stock-market/indexes/nasdaq/\" >Nasdaq Composite</a>\\n                                  \\n                              </li>\\n                            \\n                          </ul>\\n                        </div>\\n                      \\n                      </div>\\n                    </div>\\n                  </div>\\n                </div>\\n              </li>\\n            \\n         \\n          \\n            <li class=\"nav-item main-menu-item dropdown\">\\n              <a id=\"topnav-stocks\" href=\"javascript:void(0)\">\\n                Stock Market\\n                <svg class=\"fa-svg-icon\"><use xlink:href=\"#caret-down\"></use></svg>\\n              </a>\\n              <div class=\"sub-nav sub-menu\">\\n                <div class=\"mega-menu-wrapper\">\\n                  <div class=\"mega-menu-wrapper-content sub-nav\">\\n                    <div class=\"columns\" id=\"stocks-subnav\">\\n                      \\n                        \\n                            \\n\\n\\n<div class=\"column promo-box-column\">\\n  \\n\\n    <div class=\"sub-menu-header\">Premium Services</div>\\n    <div class=\"stocks-info-table sub-nav-group\">\\n      <div class=\"stocks-info-item head\">\\n        <div class=\"td name\"></div>\\n        <div class=\"td\">Return</div>\\n        <div class=\"td\">S&P</div>\\n      </div>\\n      <div class=\"stocks-info-item\">\\n        <div class=\"td name\">\\n          <a id=\"stocks-sa\" href=\"https://www.fool.com/mms/mark/op-hp-mfps-sa/?source=isasittn0010002\">Stock Advisor</a>\\n          <small>Flagship service</small>\\n        </div>\\n        <div class=\"td return\">446%</div>\\n        <div class=\"td\">126%</div>\\n      </div>\\n      <div class=\"stocks-info-item\">\\n        <div class=\"td name\">\\n          <a id=\"stocks-rb\" href=\"https://www.fool.com/mms/mark/op-hp-mfps-rb/?source=irbsittn0010001\">Rule Breakers</a>\\n          <small>High-growth stocks</small>\\n        </div>\\n        <div class=\"td return\">237%</div>\\n        <div class=\"td\">109%</div>\\n      </div>\\n      <p align=\"center\"><small><em>Returns as of 03/08/2022</em></small></p>\\n\\t\\t  <div class=\"stocks-info-item\">\\n\\t\\t    <div class=\"td name\">\\n\\t\\t\\t    <center>\\n\\t\\t\\t      <a id=\"stocks-all-services\" href=\"https://www.fool.com/services/\">View all Motley Fool Services</a>\\n\\t\\t\\t    </center>\\n\\t\\t    </div>\\n\\t\\t  </div>\\n    </div>\\n\\n  \\n</div>\\n\\n                        \\n                      \\n\\n                      \\n                        <div class=\"column\">\\n                          <ul class=\"sub-nav-group\">\\n                            <div class=\"sub-menu-header\">Stocks</div>\\n                            \\n                              <li class=\"sub-menu-link\">\\n                                <a id=\"stocks-growth-stocks\" href=\"/investing/stock-market/types-of-stocks/growth-stocks/\" >Growth Stocks</a>\\n                                  \\n                              </li>\\n                            \\n                              <li class=\"sub-menu-link\">\\n                                <a id=\"stocks-value-stocks\" href=\"/investing/stock-market/types-of-stocks/value-stocks/\" >Value Stocks</a>\\n                                  \\n                              </li>\\n                            \\n                              <li class=\"sub-menu-link\">\\n                                <a id=\"stocks-dividend-stocks\" href=\"/investing/stock-market/types-of-stocks/dividend-stocks/\" >Dividend Stocks</a>\\n                                  \\n                              </li>\\n                            \\n                              <li class=\"sub-menu-link\">\\n                                <a id=\"stocks-small-cap-stocks\" href=\"/investing/stock-market/types-of-stocks/small-cap-stocks/\" >Small Cap Stocks</a>\\n                                  \\n                              </li>\\n                            \\n                              <li class=\"sub-menu-link\">\\n                                <a id=\"stocks-large-cap-stocks\" href=\"/investing/stock-market/types-of-stocks/large-cap-stocks/\" >Large Cap Stocks</a>\\n                                  \\n                              </li>\\n                            \\n                              <li class=\"sub-menu-link\">\\n                                <a id=\"stocks-blue-chip-stocks\" href=\"https://www.fool.com/investing/stock-market/types-of-stocks/blue-chip-stocks/\" >Blue Chip Stocks</a>\\n                                  \\n                              </li>\\n                            \\n                          </ul>\\n                        </div>\\n                      \\n                        <div class=\"column\">\\n                          <ul class=\"sub-nav-group\">\\n                            <div class=\"sub-menu-header\">Industries to Invest In</div>\\n                            \\n                              <li class=\"sub-menu-link\">\\n                                <a id=\"industries-to-invest-consumer-goods\" href=\"/investing/stock-market/market-sectors/consumer-discretionary/\" >Consumer Goods</a>\\n                                  \\n                              </li>\\n                            \\n                              <li class=\"sub-menu-link\">\\n                                <a id=\"industries-to-invest-technology\" href=\"/investing/stock-market/market-sectors/information-technology/\" >Technology</a>\\n                                  \\n                              </li>\\n                            \\n                              <li class=\"sub-menu-link\">\\n                                <a id=\"industries-to-invest-energy\" href=\"/investing/stock-market/market-sectors/energy/\" >Energy</a>\\n                                  \\n                              </li>\\n                            \\n                              <li class=\"sub-menu-link\">\\n                                <a id=\"industries-to-invest-healthcare\" href=\"/investing/stock-market/market-sectors/healthcare/\" >Healthcare</a>\\n                                  \\n                              </li>\\n                            \\n                              <li class=\"sub-menu-link\">\\n                                <a id=\"industries-to-invest-financial\" href=\"/investing/stock-market/market-sectors/financials/\" >Financial</a>\\n                                  \\n                              </li>\\n                            \\n                              <li class=\"sub-menu-link\">\\n                                <a id=\"industries-to-invest-crypto\" href=\"/investing/stock-market/market-sectors/financials/cryptocurrency-stocks/\" >Cryptocurrency</a>\\n                                  \\n                              </li>\\n                            \\n                              <li class=\"sub-menu-link\">\\n                                <a id=\"industries-to-invest-nfts\" href=\"/investing/stock-market/market-sectors/financials/non-fungible-tokens/\" >NFTs</a>\\n                                  \\n                              </li>\\n                            \\n                          </ul>\\n                        </div>\\n                      \\n                        <div class=\"column\">\\n                          <ul class=\"sub-nav-group\">\\n                            <div class=\"sub-menu-header\">News</div>\\n                            \\n                              <li class=\"sub-menu-link\">\\n                                <a id=\"news-top-stocks\" href=\"/investing/top-stocks-to-buy/\" >Top Stocks to Buy in 2022</a>\\n                                  \\n                              </li>\\n                            \\n                              <li class=\"sub-menu-link\">\\n                                <a id=\"news-stock-market-news\" href=\"/investing-news/\" >Stock Market News</a>\\n                                  \\n                              </li>\\n                            \\n                          </ul>\\n                        </div>\\n                      \\n                      </div>\\n                    </div>\\n                  </div>\\n                </div>\\n              </li>\\n            \\n         \\n          \\n            <li class=\"nav-item main-menu-item dropdown\">\\n              <a id=\"topnav-stocks\" href=\"javascript:void(0)\">\\n                Retirement\\n                <svg class=\"fa-svg-icon\"><use xlink:href=\"#caret-down\"></use></svg>\\n              </a>\\n              <div class=\"sub-nav sub-menu\">\\n                <div class=\"mega-menu-wrapper\">\\n                  <div class=\"mega-menu-wrapper-content sub-nav\">\\n                    <div class=\"columns\" id=\"stocks-subnav\">\\n                      \\n\\n                      \\n                        <div class=\"column\">\\n                          <ul class=\"sub-nav-group\">\\n                            <div class=\"sub-menu-header\">Getting Started</div>\\n                            \\n                              <li class=\"sub-menu-link\">\\n                                <a id=\"retire-retirement-101\" href=\"/retirement/\" >Retirement 101</a>\\n                                  \\n                              </li>\\n                            \\n                              <li class=\"sub-menu-link\">\\n                                <a id=\"retire-why-start\" href=\"/investing/how-to-invest/stocks/compound-interest/\" >Why to Start Saving Now</a>\\n                                  \\n                              </li>\\n                            \\n                              <li class=\"sub-menu-link\">\\n                                <a id=\"retire-types-of-accounts\" href=\"/retirement/plans/\" >Types of Retirement Accounts</a>\\n                                  \\n                              </li>\\n                            \\n                              <li class=\"sub-menu-link\">\\n                                <a id=\"retire-401k-basics\" href=\"/retirement/plans/401k/\" >401k Basics</a>\\n                                  \\n                              </li>\\n                            \\n                              <li class=\"sub-menu-link\">\\n                                <a id=\"retire-ira-basics\" href=\"https://www.fool.com/retirement/plans/ira/\" >IRA Basics</a>\\n                                  \\n                              </li>\\n                            \\n                              <li class=\"sub-menu-link\">\\n                                <a id=\"retire-hsa-basics\" href=\"/retirement/plans/hsa/\" >HSA Basics</a>\\n                                  \\n                              </li>\\n                            \\n                          </ul>\\n                        </div>\\n                      \\n                        <div class=\"column\">\\n                          <ul class=\"sub-nav-group\">\\n                            <div class=\"sub-menu-header\">Planning for Retirement</div>\\n                            \\n                              <li class=\"sub-menu-link\">\\n                                <a id=\"retire-how-much-needed\" href=\"/retirement/how-much-do-i-need/\" >How much do I need to retire?</a>\\n                                  \\n                              </li>\\n                            \\n                              <li class=\"sub-menu-link\">\\n                                <a id=\"retire-when\" href=\"/retirement/strategies/when-can-i-retire/\" >When To Retire</a>\\n                                  \\n                              </li>\\n                            \\n                              <li class=\"sub-menu-link\">\\n                                <a id=\"retire-social-security\" href=\"/retirement/social-security/\" >Factoring in Social Security</a>\\n                                  \\n                              </li>\\n                            \\n                              <li class=\"sub-menu-link\">\\n                                <a id=\"retire-full-retirement-age\" href=\"/retirement/social-security/full-retirement-age/\" >What is the Full Retirement Age?</a>\\n                                  \\n                              </li>\\n                            \\n                              <li class=\"sub-menu-link\">\\n                                <a id=\"retire-investings\" href=\"/retirement/strategies/asset-allocation-by-age/\" >Investing for Retirement</a>\\n                                  \\n                              </li>\\n                            \\n                              <li class=\"sub-menu-link\">\\n                                <a id=\"retire-strategies\" href=\"/retirement/strategies/\" >Retirement Strategies</a>\\n                                  \\n                              </li>\\n                            \\n                          </ul>\\n                        </div>\\n                      \\n                        <div class=\"column\">\\n                          <ul class=\"sub-nav-group\">\\n                            <div class=\"sub-menu-header\">Retired: What Now?</div>\\n                            \\n                              <li class=\"sub-menu-link\">\\n                                <a id=\"retire-year\" href=\"/retirement/complete-guide/\" >Retiring in 2022</a>\\n                                  \\n                              </li>\\n                            \\n                              <li class=\"sub-menu-link\">\\n                                <a id=\"retire-withdrawl-strategies\" href=\"/retirement/strategies/withdrawal/\" >Withdrawal Strategies</a>\\n                                  \\n                              </li>\\n                            \\n                              <li class=\"sub-menu-link\">\\n                                <a id=\"retire-healthcare\" href=\"/retirement/healthcare-in-retirement/\" >Healthcare in Retirement</a>\\n                                  \\n                              </li>\\n                            \\n                              <li class=\"sub-menu-link\">\\n                                <a id=\"retire-taxes\" href=\"/retirement/taxes/\" >Taxes in Retirement</a>\\n                                  \\n                              </li>\\n                            \\n                              <li class=\"sub-menu-link\">\\n                                <a id=\"retire-estate\" href=\"/retirement/estate-planning/\" >Estate Planning</a>\\n                                  \\n                              </li>\\n                            \\n                          </ul>\\n                        </div>\\n                      \\n                      </div>\\n                    </div>\\n                  </div>\\n                </div>\\n              </li>\\n            \\n         \\n          \\n            <li class=\"nav-item main-menu-item dropdown\">\\n              <a id=\"topnav-stocks\" href=\"javascript:void(0)\">\\n                Personal Finance\\n                <svg class=\"fa-svg-icon\"><use xlink:href=\"#caret-down\"></use></svg>\\n              </a>\\n              <div class=\"sub-nav sub-menu\">\\n                <div class=\"mega-menu-wrapper\">\\n                  <div class=\"mega-menu-wrapper-content sub-nav\">\\n                    <div class=\"columns\" id=\"stocks-subnav\">\\n                      \\n\\n                      \\n                        <div class=\"column\">\\n                          <ul class=\"sub-nav-group\">\\n                            <div class=\"sub-menu-header\">Credit Cards</div>\\n                            \\n                              <li class=\"sub-menu-link\">\\n                                <a id=\"asc-credit-cards\" href=\"https://www.fool.com/the-ascent/credit-cards/\" >Best Credit Cards</a>\\n                                  \\n                              </li>\\n                            \\n                              <li class=\"sub-menu-link\">\\n                                <a id=\"asc-cash-back-cards\" href=\"https://www.fool.com/the-ascent/credit-cards/best-cash-back-credit-card/\" >Best Cash Back Cards</a>\\n                                  \\n                              </li>\\n                            \\n                              <li class=\"sub-menu-link\">\\n                                <a id=\"asc-best-balance-transfer-cards\" href=\"https://www.fool.com/the-ascent/credit-cards/best-balance-transfer-credit-cards/\" >Best Balance Transfer Cards</a>\\n                                  \\n                              </li>\\n                            \\n                              <li class=\"sub-menu-link\">\\n                                <a id=\"asc-best-travel-credit-cards\" href=\"https://www.fool.com/the-ascent/credit-cards/best-travel-rewards-credit-cards/\" >Best Travel Credit Cards</a>\\n                                  \\n                              </li>\\n                            \\n                              <li class=\"sub-menu-link\">\\n                                <a id=\"asc-best-zero-interest-cards\" href=\"https://www.fool.com/the-ascent/credit-cards/best-zero-interest-cards/\" >Best 0% Credit Cards</a>\\n                                  \\n                              </li>\\n                            \\n                              <li class=\"sub-menu-link\">\\n                                <a id=\"asc-rewards-cards\" href=\"https://www.fool.com/the-ascent/credit-cards/best-rewards-credit-cards/\" >Best Rewards Cards</a>\\n                                  \\n                              </li>\\n                            \\n                              <li class=\"sub-menu-link\">\\n                                <a id=\"asc-best-cards-for-bad-credit\" href=\"https://www.fool.com/the-ascent/credit-cards/bad-credit/\" >Best Cards for Bad Credit</a>\\n                                  \\n                              </li>\\n                            \\n                          </ul>\\n                        </div>\\n                      \\n                        <div class=\"column\">\\n                          <ul class=\"sub-nav-group\">\\n                            <div class=\"sub-menu-header\">Bank &amp; Loans</div>\\n                            \\n                              <li class=\"sub-menu-link\">\\n                                <a id=\"asc-best-savings-accounts\" href=\"https://www.fool.com/the-ascent/banks/best-savings-accounts/\" >Best Savings Accounts</a>\\n                                  \\n                              </li>\\n                            \\n                              <li class=\"sub-menu-link\">\\n                                <a id=\"asc-best-checking-accounts\" href=\"https://www.fool.com/the-ascent/banks/checking-accounts/\" >Best Checking Accounts</a>\\n                                  \\n                              </li>\\n                            \\n                              <li class=\"sub-menu-link\">\\n                                <a id=\"asc-best-cd-rates\" href=\"https://www.fool.com/the-ascent/banks/best-cd-rates/\" >Best CD Rates</a>\\n                                  \\n                              </li>\\n                            \\n                              <li class=\"sub-menu-link\">\\n                                <a id=\"asc-personal-loans\" href=\"https://www.fool.com/the-ascent/personal-loans/\" >Best Personal Loans</a>\\n                                  \\n                              </li>\\n                            \\n                              <li class=\"sub-menu-link\">\\n                                <a id=\"asc-debt-consolidation-loans\" href=\"https://www.fool.com/the-ascent/personal-loans/best-personal-loans-debt-consolidation/\" >Best Debt Consolidation Loans</a>\\n                                  \\n                              </li>\\n                            \\n                          </ul>\\n                        </div>\\n                      \\n                        <div class=\"column\">\\n                          <ul class=\"sub-nav-group\">\\n                            <div class=\"sub-menu-header\">Homebuying</div>\\n                            \\n                              <li class=\"sub-menu-link\">\\n                                <a id=\"asc-best-mortgage-lenders\" href=\"https://www.fool.com/the-ascent/mortgages/best-mortgage-lenders\" >Best Mortgage Lenders</a>\\n                                  \\n                              </li>\\n                            \\n                              <li class=\"sub-menu-link\">\\n                                <a id=\"asc-mortgage-refi-lenders\" href=\"https://www.fool.com/the-ascent/mortgages/best-refinance-lenders/\" >Best Mortgage Refi Lenders</a>\\n                                  \\n                              </li>\\n                            \\n                              <li class=\"sub-menu-link\">\\n                                <a id=\"asc-lenders-for-first-time-buyers\" href=\"https://www.fool.com/the-ascent/mortgages/best-mortgage-lenders-first-time-homebuyers/\" >Best Lenders for First-time Buyers</a>\\n                                  \\n                              </li>\\n                            \\n                              <li class=\"sub-menu-link\">\\n                                <a id=\"asc-fha-mortgage-lenders\" href=\"https://www.fool.com/the-ascent/mortgages/best-lenders-fha-loans/\" >Best FHA Mortgage Lenders</a>\\n                                  \\n                              </li>\\n                            \\n                              <li class=\"sub-menu-link\">\\n                                <a id=\"asc-current-mortgage-rates\" href=\"https://www.fool.com/the-ascent/mortgages/rates/\" >Current Mortgage Rates</a>\\n                                  \\n                              </li>\\n                            \\n                          </ul>\\n                        </div>\\n                      \\n                        <div class=\"column\">\\n                          <ul class=\"sub-nav-group\">\\n                            <div class=\"sub-menu-header\">Guides</div>\\n                            \\n                              <li class=\"sub-menu-link\">\\n                                <a id=\"asc-credit-cards-101\" href=\"https://www.fool.com/the-ascent/how-credit-cards-work-beginners-guide/\" >Credit Cards 101</a>\\n                                  \\n                              </li>\\n                            \\n                              <li class=\"sub-menu-link\">\\n                                <a id=\"asc-bank-accounts-101\" href=\"https://www.fool.com/the-ascent/banks/\" >Bank Accounts 101</a>\\n                                  \\n                              </li>\\n                            \\n                              <li class=\"sub-menu-link\">\\n                                <a id=\"asc-home-laons-101\" href=\"https://www.fool.com/the-ascent/mortgages/beginners-guide-home-loans/\" >Home Loans 101</a>\\n                                  \\n                              </li>\\n                            \\n                              <li class=\"sub-menu-link\">\\n                                <a id=\"asc-pay-off-debt\" href=\"https://www.fool.com/the-ascent/personal-finance/how-to-pay-off-debt/\" >Pay Off Debt</a>\\n                                  \\n                              </li>\\n                            \\n                              <li class=\"sub-menu-link\">\\n                                <a id=\"asc-increase-credit-score\" href=\"https://www.fool.com/the-ascent/personal-finance/how-to-increase-credit-score/\" >Increase Your Credit Score</a>\\n                                  \\n                              </li>\\n                            \\n                          </ul>\\n                        </div>\\n                      \\n                      </div>\\n                    </div>\\n                  </div>\\n                </div>\\n              </li>\\n            \\n         \\n          \\n            <li class=\"nav-item main-menu-item dropdown\">\\n              <a id=\"topnav-stocks\" href=\"javascript:void(0)\">\\n                About Us\\n                <svg class=\"fa-svg-icon\"><use xlink:href=\"#caret-down\"></use></svg>\\n              </a>\\n              <div class=\"sub-nav sub-menu\">\\n                <div class=\"mega-menu-wrapper\">\\n                  <div class=\"mega-menu-wrapper-content sub-nav\">\\n                    <div class=\"columns\" id=\"stocks-subnav\">\\n                      \\n                        \\n                            <div class=\"column\">\\n  <div class=\"sub-menu-header\">\\n    Our Purpose:<br/ >To make the world smarter, happier, and richer.\\n  </div>\\n  <p>Founded in 1993 by brothers Tom and David Gardner, The Motley Fool helps millions of people attain financial freedom through our website, podcasts, books, newspaper column, radio show, and premium investing services.</p>\\n</div>\\n\\n                        \\n                      \\n\\n                      \\n                        <div class=\"column\">\\n                          <ul class=\"sub-nav-group\">\\n                            <div class=\"sub-menu-header\">Who Is the Motley Fool?</div>\\n                            \\n                              <li class=\"sub-menu-link\">\\n                                <a id=\"community-about\" href=\"/about/\" >About Us</a>\\n                                  \\n                              </li>\\n                            \\n                              <li class=\"sub-menu-link\">\\n                                <a id=\"community-investing-philosophy\" href=\"/about/investing-philosophy/\" >Investing Philosophy</a>\\n                                  \\n                              </li>\\n                            \\n                              <li class=\"sub-menu-link\">\\n                                <a id=\"community-reviews\" href=\"/about/reviews/\" >Reviews</a>\\n                                  \\n                              </li>\\n                            \\n                              <li class=\"sub-menu-link\">\\n                                <a id=\"community-foolanthropy\" href=\"https://give.fool.com\" >Foolanthropy</a>\\n                                  \\n                              </li>\\n                            \\n                              <li class=\"sub-menu-link\">\\n                                <a id=\"community-media\" href=\"/contact/press-inquiries/\" >Media Inquiries</a>\\n                                  \\n                              </li>\\n                            \\n                              <li class=\"sub-menu-link\">\\n                                <a id=\"community-contactus\" href=\"/contact/customer-service\" >Contact Us</a>\\n                                  \\n                              </li>\\n                            \\n                          </ul>\\n                        </div>\\n                      \\n                        <div class=\"column\">\\n                          <ul class=\"sub-nav-group\">\\n                            <div class=\"sub-menu-header\">Fool Podcasts</div>\\n                            \\n                              <li class=\"sub-menu-link\">\\n                                <a id=\"community-podcast-home\" href=\"/podcasts/\" >Podcasts Home</a>\\n                                  \\n                              </li>\\n                            \\n                              <li class=\"sub-menu-link\">\\n                                <a id=\"community-podcast-mfm\" href=\"/podcasts/motley-fool-money/\" >Motley Fool Money</a>\\n                                  \\n                              </li>\\n                            \\n                              <li class=\"sub-menu-link\">\\n                                <a id=\"community-podcast-rbi\" href=\"/podcasts/rule-breaker-investing/\" >Rule Breaker Investing</a>\\n                                  \\n                              </li>\\n                            \\n                          </ul>\\n                        </div>\\n                      \\n                        <div class=\"column\">\\n                          <ul class=\"sub-nav-group\">\\n                            <div class=\"sub-menu-header\">Social Media + </div>\\n                            \\n                              <li class=\"sub-menu-link\">\\n                                <a id=\"community-facebook\" href=\"https://www.facebook.com/themotleyfool/\" >Facebook</a>\\n                                  \\n                              </li>\\n                            \\n                              <li class=\"sub-menu-link\">\\n                                <a id=\"community-twitter\" href=\"https://twitter.com/themotleyfool\" >Twitter</a>\\n                                  \\n                              </li>\\n                            \\n                              <li class=\"sub-menu-link\">\\n                                <a id=\"community-youtube\" href=\"https://www.youtube.com/channel/UCpRQuynBX9Qy9tPrcswpPag\" >YouTube</a>\\n                                  \\n                              </li>\\n                            \\n                              <li class=\"sub-menu-link\">\\n                                <a id=\"community-boards\" href=\"https://boards.fool.com/\" >Discussion Boards</a>\\n                                  \\n                              </li>\\n                            \\n                              <li class=\"sub-menu-link\">\\n                                <a id=\"community-caps\" href=\"https://caps.fool.com/\" >CAPS - Stock Picking Community</a>\\n                                  \\n                              </li>\\n                            \\n                          </ul>\\n                        </div>\\n                      \\n                        <div class=\"column\">\\n                          <ul class=\"sub-nav-group\">\\n                            <div class=\"sub-menu-header\">New Ventures</div>\\n                            \\n                              <li class=\"sub-menu-link\">\\n                                <a id=\"about-ascent\" href=\"https://www.fool.com/the-ascent/\" >The Ascent</a>\\n                                  \\n                              </li>\\n                            \\n                              <li class=\"sub-menu-link\">\\n                                <a id=\"about-millionacres\" href=\"https://www.millionacres.com/\" >Millionacres</a>\\n                                  \\n                              </li>\\n                            \\n                          </ul>\\n                        </div>\\n                      \\n                      </div>\\n                    </div>\\n                  </div>\\n                </div>\\n              </li>\\n            \\n         \\n    </ul>\\n</nav>\\n\\n    <button class=\"navigation-menu-button\" id=\"mobile-menu-toggle\" role=\"button\">\\n    <svg class=\"fa-svg-icon icon-bars\"><use xlink:href=\"#bars\"></use></svg>\\n    <svg class=\"fa-svg-icon icon-close\"><use xlink:href=\"#times\"></use></svg>\\n</button>\\n<nav class=\"mobile-nav-container\">\\n    <ul class=\"mobile-nav\">\\n        \\n            <li class=\"main-menu-item\">\\n                <a id=\"m-topnav-picks\" href=\"https://api.fool.com/infotron/splitter/route/article-template-button?apikey=5c8e52dd-1bea-455e-87f5-d5506e590f21\">Latest Stock Picks</a>\\n            </li>\\n        \\n\\n        \\n            \\n            <li class=\"main-menu-item\">\\n                <div class=\"main-menu-item-link-wrapper\" onclick=\"return true\">\\n                  <span class=\"main-menu-item-link no-dropdown\">\\n                      <a id=\"our-services\" href=\"/services/\">Our Services</a>\\n                  </span>\\n                </div>\\n            </li>\\n            \\n        \\n            \\n            <li class=\"main-menu-item dropdown\">\\n                <div class=\"main-menu-item-link-wrapper\" onclick=\"return true\">\\n                    <span class=\"main-menu-item-link\">\\n                        <span class=\"dropdown\" id=\"topnav-stocks\">\\n                            Investing Basics\\n                            <svg class=\"fa-svg-icon\"><use xlink:href=\"#angle-right\"></use></svg>\\n                        </span>\\n                    </span>\\n                </div>\\n                <ul class=\"sub-menu\">\\n                    <div class=\"mega-menu-wrapper\">\\n                        <header class=\"sub-menu-name\">\\n                            Investing Basics\\n                            <button class=\"btn-level-up\">\\n                                <svg class=\"fa-svg-icon\"><use xlink:href=\"#chevron-left\"></use></svg>\\n                            </button>\\n                        </header>\\n                        \\n                          <div class=\"mega-menu-wrapper-content dub-nav\">\\n                            <div class=\"columns\" id=\"hti-subnav\">\\n                              <!-- links loaded dynamically via postLoadHeaderLinks.js -->\\n                              <div class=\"column \">\\n                                <ul class=\"sub-nav-group\">\\n                                  <div class=\"sub-menu-header\">Investing 101</div>\\n                                  \\n                                    <li class=\"sub-menu-link\">\\n                                      <a id=\"stocks-how-to-invest\" href=\"/investing/how-to-invest/\">How to Invest Money</a>\\n                                        \\n                                    </li>\\n                                  \\n                                    <li class=\"sub-menu-link\">\\n                                      <a id=\"stocks-what-to-invest-in\" href=\"/investing/how-to-invest/what-to-invest-in/\">What to Invest In</a>\\n                                        \\n                                    </li>\\n                                  \\n                                    <li class=\"sub-menu-link\">\\n                                      <a id=\"stocks-how-to-invest-in-stocks\" href=\"/investing/how-to-invest/stocks/\">How to Invest in Stocks</a>\\n                                        \\n                                    </li>\\n                                  \\n                                    <li class=\"sub-menu-link\">\\n                                      <a id=\"stocks-how-to-invest-in-index-funds\" href=\"/investing/how-to-invest/index-funds/\">How to Invest in Index Funds</a>\\n                                        \\n                                    </li>\\n                                  \\n                                    <li class=\"sub-menu-link\">\\n                                      <a id=\"stocks-how-to-invest-in-etfs\" href=\"https://www.fool.com/investing/how-to-invest/etfs/\">How to Invest in ETFs</a>\\n                                        \\n                                    </li>\\n                                  \\n                                </ul>\\n                              </div>\\n                            </div>\\n                          </div>\\n\\n                        \\n                          <div class=\"mega-menu-wrapper-content dub-nav\">\\n                            <div class=\"columns\" id=\"hti-subnav\">\\n                              <!-- links loaded dynamically via postLoadHeaderLinks.js -->\\n                              <div class=\"column \">\\n                                <ul class=\"sub-nav-group\">\\n                                  <div class=\"sub-menu-header\">Best Accounts</div>\\n                                  \\n                                    <li class=\"sub-menu-link\">\\n                                      <a id=\"best-accounts-brokerage\" href=\"https://www.fool.com/the-ascent/buying-stocks/\">Best Stock Brokers</a>\\n                                        \\n                                    </li>\\n                                  \\n                                    <li class=\"sub-menu-link\">\\n                                      <a id=\"best-beginners-brokers\" href=\"https://www.fool.com/the-ascent/buying-stocks/best-online-stock-brokers-beginners/\">Best Brokers for Beginners</a>\\n                                        \\n                                    </li>\\n                                  \\n                                    <li class=\"sub-menu-link\">\\n                                      <a id=\"best-accounts-ira\" href=\"https://www.fool.com/the-ascent/buying-stocks/best-brokers-iras/\">Best IRA Accounts</a>\\n                                        \\n                                    </li>\\n                                  \\n                                    <li class=\"sub-menu-link\">\\n                                      <a id=\"best-accounts-roth-ira\" href=\"https://www.fool.com/the-ascent/buying-stocks/best-roth-ira/\">Best Roth IRA Accounts</a>\\n                                        \\n                                    </li>\\n                                  \\n                                    <li class=\"sub-menu-link\">\\n                                      <a id=\"best-options-brokers\" href=\"https://www.fool.com/the-ascent/buying-stocks/best-brokers-options/\">Best Options Brokers</a>\\n                                        \\n                                    </li>\\n                                  \\n                                    <li class=\"sub-menu-link\">\\n                                      <a id=\"best-crypto-apps\" href=\"/the-ascent/cryptocurrency/best-cryptocurrency-apps/\">Best Crypto Apps</a>\\n                                        \\n                                    </li>\\n                                  \\n                                </ul>\\n                              </div>\\n                            </div>\\n                          </div>\\n\\n                        \\n                          <div class=\"mega-menu-wrapper-content dub-nav\">\\n                            <div class=\"columns\" id=\"hti-subnav\">\\n                              <!-- links loaded dynamically via postLoadHeaderLinks.js -->\\n                              <div class=\"column \">\\n                                <ul class=\"sub-nav-group\">\\n                                  <div class=\"sub-menu-header\">Stock Market Basics</div>\\n                                  \\n                                    <li class=\"sub-menu-link\">\\n                                      <a id=\"stock-market-basics-stock-market-101\" href=\"/investing/stock-market/\">Stock Market 101</a>\\n                                        \\n                                    </li>\\n                                  \\n                                    <li class=\"sub-menu-link\">\\n                                      <a id=\"stock-market-basics-typles-of-stocks\" href=\"/investing/stock-market/types-of-stocks/\">Types of Stocks</a>\\n                                        \\n                                    </li>\\n                                  \\n                                    <li class=\"sub-menu-link\">\\n                                      <a id=\"stock-market-basics-stock-market-sectors\" href=\"/investing/stock-market/market-sectors/\">Stock Market Sectors</a>\\n                                        \\n                                    </li>\\n                                  \\n                                    <li class=\"sub-menu-link\">\\n                                      <a id=\"stock-market-basics-stock-market-indexes\" href=\"/investing/stock-market/indexes/\">Stock Market Indexes</a>\\n                                        \\n                                    </li>\\n                                  \\n                                    <li class=\"sub-menu-link\">\\n                                      <a id=\"stock-market-basics-sp-500\" href=\"/investing/stock-market/indexes/sp-500/\">S&amp;P 500</a>\\n                                        \\n                                    </li>\\n                                  \\n                                    <li class=\"sub-menu-link\">\\n                                      <a id=\"stock-market-basics-dow-jones\" href=\"/investing/stock-market/indexes/dow-jones/\">Dow Jones</a>\\n                                        \\n                                    </li>\\n                                  \\n                                    <li class=\"sub-menu-link\">\\n                                      <a id=\"stock-market-basics-nasdaq-composite\" href=\"/investing/stock-market/indexes/nasdaq/\">Nasdaq Composite</a>\\n                                        \\n                                    </li>\\n                                  \\n                                </ul>\\n                              </div>\\n                            </div>\\n                          </div>\\n\\n                        \\n                    </div>\\n                </ul>\\n            </li>\\n            \\n        \\n            \\n            <li class=\"main-menu-item dropdown\">\\n                <div class=\"main-menu-item-link-wrapper\" onclick=\"return true\">\\n                    <span class=\"main-menu-item-link\">\\n                        <span class=\"dropdown\" id=\"topnav-stocks\">\\n                            Stock Market\\n                            <svg class=\"fa-svg-icon\"><use xlink:href=\"#angle-right\"></use></svg>\\n                        </span>\\n                    </span>\\n                </div>\\n                <ul class=\"sub-menu\">\\n                    <div class=\"mega-menu-wrapper\">\\n                        <header class=\"sub-menu-name\">\\n                            Stock Market\\n                            <button class=\"btn-level-up\">\\n                                <svg class=\"fa-svg-icon\"><use xlink:href=\"#chevron-left\"></use></svg>\\n                            </button>\\n                        </header>\\n                        \\n                          <div class=\"mega-menu-wrapper-content dub-nav\">\\n                            <div class=\"columns\" id=\"hti-subnav\">\\n                              <!-- links loaded dynamically via postLoadHeaderLinks.js -->\\n                              <div class=\"column \">\\n                                <ul class=\"sub-nav-group\">\\n                                  <div class=\"sub-menu-header\">Stocks</div>\\n                                  \\n                                    <li class=\"sub-menu-link\">\\n                                      <a id=\"stocks-growth-stocks\" href=\"/investing/stock-market/types-of-stocks/growth-stocks/\">Growth Stocks</a>\\n                                        \\n                                    </li>\\n                                  \\n                                    <li class=\"sub-menu-link\">\\n                                      <a id=\"stocks-value-stocks\" href=\"/investing/stock-market/types-of-stocks/value-stocks/\">Value Stocks</a>\\n                                        \\n                                    </li>\\n                                  \\n                                    <li class=\"sub-menu-link\">\\n                                      <a id=\"stocks-dividend-stocks\" href=\"/investing/stock-market/types-of-stocks/dividend-stocks/\">Dividend Stocks</a>\\n                                        \\n                                    </li>\\n                                  \\n                                    <li class=\"sub-menu-link\">\\n                                      <a id=\"stocks-small-cap-stocks\" href=\"/investing/stock-market/types-of-stocks/small-cap-stocks/\">Small Cap Stocks</a>\\n                                        \\n                                    </li>\\n                                  \\n                                    <li class=\"sub-menu-link\">\\n                                      <a id=\"stocks-large-cap-stocks\" href=\"/investing/stock-market/types-of-stocks/large-cap-stocks/\">Large Cap Stocks</a>\\n                                        \\n                                    </li>\\n                                  \\n                                    <li class=\"sub-menu-link\">\\n                                      <a id=\"stocks-blue-chip-stocks\" href=\"https://www.fool.com/investing/stock-market/types-of-stocks/blue-chip-stocks/\">Blue Chip Stocks</a>\\n                                        \\n                                    </li>\\n                                  \\n                                </ul>\\n                              </div>\\n                            </div>\\n                          </div>\\n\\n                        \\n                          <div class=\"mega-menu-wrapper-content dub-nav\">\\n                            <div class=\"columns\" id=\"hti-subnav\">\\n                              <!-- links loaded dynamically via postLoadHeaderLinks.js -->\\n                              <div class=\"column \">\\n                                <ul class=\"sub-nav-group\">\\n                                  <div class=\"sub-menu-header\">Industries to Invest In</div>\\n                                  \\n                                    <li class=\"sub-menu-link\">\\n                                      <a id=\"industries-to-invest-consumer-goods\" href=\"/investing/stock-market/market-sectors/consumer-discretionary/\">Consumer Goods</a>\\n                                        \\n                                    </li>\\n                                  \\n                                    <li class=\"sub-menu-link\">\\n                                      <a id=\"industries-to-invest-technology\" href=\"/investing/stock-market/market-sectors/information-technology/\">Technology</a>\\n                                        \\n                                    </li>\\n                                  \\n                                    <li class=\"sub-menu-link\">\\n                                      <a id=\"industries-to-invest-energy\" href=\"/investing/stock-market/market-sectors/energy/\">Energy</a>\\n                                        \\n                                    </li>\\n                                  \\n                                    <li class=\"sub-menu-link\">\\n                                      <a id=\"industries-to-invest-healthcare\" href=\"/investing/stock-market/market-sectors/healthcare/\">Healthcare</a>\\n                                        \\n                                    </li>\\n                                  \\n                                    <li class=\"sub-menu-link\">\\n                                      <a id=\"industries-to-invest-financial\" href=\"/investing/stock-market/market-sectors/financials/\">Financial</a>\\n                                        \\n                                    </li>\\n                                  \\n                                    <li class=\"sub-menu-link\">\\n                                      <a id=\"industries-to-invest-crypto\" href=\"/investing/stock-market/market-sectors/financials/cryptocurrency-stocks/\">Cryptocurrency</a>\\n                                        \\n                                    </li>\\n                                  \\n                                    <li class=\"sub-menu-link\">\\n                                      <a id=\"industries-to-invest-nfts\" href=\"/investing/stock-market/market-sectors/financials/non-fungible-tokens/\">NFTs</a>\\n                                        \\n                                    </li>\\n                                  \\n                                </ul>\\n                              </div>\\n                            </div>\\n                          </div>\\n\\n                        \\n                          <div class=\"mega-menu-wrapper-content dub-nav\">\\n                            <div class=\"columns\" id=\"hti-subnav\">\\n                              <!-- links loaded dynamically via postLoadHeaderLinks.js -->\\n                              <div class=\"column \">\\n                                <ul class=\"sub-nav-group\">\\n                                  <div class=\"sub-menu-header\">News</div>\\n                                  \\n                                    <li class=\"sub-menu-link\">\\n                                      <a id=\"news-top-stocks\" href=\"/investing/top-stocks-to-buy/\">Top Stocks to Buy in 2022</a>\\n                                        \\n                                    </li>\\n                                  \\n                                    <li class=\"sub-menu-link\">\\n                                      <a id=\"news-stock-market-news\" href=\"/investing-news/\">Stock Market News</a>\\n                                        \\n                                    </li>\\n                                  \\n                                </ul>\\n                              </div>\\n                            </div>\\n                          </div>\\n\\n                        \\n                    </div>\\n                </ul>\\n            </li>\\n            \\n        \\n            \\n            <li class=\"main-menu-item dropdown\">\\n                <div class=\"main-menu-item-link-wrapper\" onclick=\"return true\">\\n                    <span class=\"main-menu-item-link\">\\n                        <span class=\"dropdown\" id=\"topnav-stocks\">\\n                            Retirement\\n                            <svg class=\"fa-svg-icon\"><use xlink:href=\"#angle-right\"></use></svg>\\n                        </span>\\n                    </span>\\n                </div>\\n                <ul class=\"sub-menu\">\\n                    <div class=\"mega-menu-wrapper\">\\n                        <header class=\"sub-menu-name\">\\n                            Retirement\\n                            <button class=\"btn-level-up\">\\n                                <svg class=\"fa-svg-icon\"><use xlink:href=\"#chevron-left\"></use></svg>\\n                            </button>\\n                        </header>\\n                        \\n                          <div class=\"mega-menu-wrapper-content dub-nav\">\\n                            <div class=\"columns\" id=\"hti-subnav\">\\n                              <!-- links loaded dynamically via postLoadHeaderLinks.js -->\\n                              <div class=\"column \">\\n                                <ul class=\"sub-nav-group\">\\n                                  <div class=\"sub-menu-header\">Getting Started</div>\\n                                  \\n                                    <li class=\"sub-menu-link\">\\n                                      <a id=\"retire-retirement-101\" href=\"/retirement/\">Retirement 101</a>\\n                                        \\n                                    </li>\\n                                  \\n                                    <li class=\"sub-menu-link\">\\n                                      <a id=\"retire-why-start\" href=\"/investing/how-to-invest/stocks/compound-interest/\">Why to Start Saving Now</a>\\n                                        \\n                                    </li>\\n                                  \\n                                    <li class=\"sub-menu-link\">\\n                                      <a id=\"retire-types-of-accounts\" href=\"/retirement/plans/\">Types of Retirement Accounts</a>\\n                                        \\n                                    </li>\\n                                  \\n                                    <li class=\"sub-menu-link\">\\n                                      <a id=\"retire-401k-basics\" href=\"/retirement/plans/401k/\">401k Basics</a>\\n                                        \\n                                    </li>\\n                                  \\n                                    <li class=\"sub-menu-link\">\\n                                      <a id=\"retire-ira-basics\" href=\"https://www.fool.com/retirement/plans/ira/\">IRA Basics</a>\\n                                        \\n                                    </li>\\n                                  \\n                                    <li class=\"sub-menu-link\">\\n                                      <a id=\"retire-hsa-basics\" href=\"/retirement/plans/hsa/\">HSA Basics</a>\\n                                        \\n                                    </li>\\n                                  \\n                                </ul>\\n                              </div>\\n                            </div>\\n                          </div>\\n\\n                        \\n                          <div class=\"mega-menu-wrapper-content dub-nav\">\\n                            <div class=\"columns\" id=\"hti-subnav\">\\n                              <!-- links loaded dynamically via postLoadHeaderLinks.js -->\\n                              <div class=\"column \">\\n                                <ul class=\"sub-nav-group\">\\n                                  <div class=\"sub-menu-header\">Planning for Retirement</div>\\n                                  \\n                                    <li class=\"sub-menu-link\">\\n                                      <a id=\"retire-how-much-needed\" href=\"/retirement/how-much-do-i-need/\">How much do I need to retire?</a>\\n                                        \\n                                    </li>\\n                                  \\n                                    <li class=\"sub-menu-link\">\\n                                      <a id=\"retire-when\" href=\"/retirement/strategies/when-can-i-retire/\">When To Retire</a>\\n                                        \\n                                    </li>\\n                                  \\n                                    <li class=\"sub-menu-link\">\\n                                      <a id=\"retire-social-security\" href=\"/retirement/social-security/\">Factoring in Social Security</a>\\n                                        \\n                                    </li>\\n                                  \\n                                    <li class=\"sub-menu-link\">\\n                                      <a id=\"retire-full-retirement-age\" href=\"/retirement/social-security/full-retirement-age/\">What is the Full Retirement Age?</a>\\n                                        \\n                                    </li>\\n                                  \\n                                    <li class=\"sub-menu-link\">\\n                                      <a id=\"retire-investings\" href=\"/retirement/strategies/asset-allocation-by-age/\">Investing for Retirement</a>\\n                                        \\n                                    </li>\\n                                  \\n                                    <li class=\"sub-menu-link\">\\n                                      <a id=\"retire-strategies\" href=\"/retirement/strategies/\">Retirement Strategies</a>\\n                                        \\n                                    </li>\\n                                  \\n                                </ul>\\n                              </div>\\n                            </div>\\n                          </div>\\n\\n                        \\n                          <div class=\"mega-menu-wrapper-content dub-nav\">\\n                            <div class=\"columns\" id=\"hti-subnav\">\\n                              <!-- links loaded dynamically via postLoadHeaderLinks.js -->\\n                              <div class=\"column \">\\n                                <ul class=\"sub-nav-group\">\\n                                  <div class=\"sub-menu-header\">Retired: What Now?</div>\\n                                  \\n                                    <li class=\"sub-menu-link\">\\n                                      <a id=\"retire-year\" href=\"/retirement/complete-guide/\">Retiring in 2022</a>\\n                                        \\n                                    </li>\\n                                  \\n                                    <li class=\"sub-menu-link\">\\n                                      <a id=\"retire-withdrawl-strategies\" href=\"/retirement/strategies/withdrawal/\">Withdrawal Strategies</a>\\n                                        \\n                                    </li>\\n                                  \\n                                    <li class=\"sub-menu-link\">\\n                                      <a id=\"retire-healthcare\" href=\"/retirement/healthcare-in-retirement/\">Healthcare in Retirement</a>\\n                                        \\n                                    </li>\\n                                  \\n                                    <li class=\"sub-menu-link\">\\n                                      <a id=\"retire-taxes\" href=\"/retirement/taxes/\">Taxes in Retirement</a>\\n                                        \\n                                    </li>\\n                                  \\n                                    <li class=\"sub-menu-link\">\\n                                      <a id=\"retire-estate\" href=\"/retirement/estate-planning/\">Estate Planning</a>\\n                                        \\n                                    </li>\\n                                  \\n                                </ul>\\n                              </div>\\n                            </div>\\n                          </div>\\n\\n                        \\n                    </div>\\n                </ul>\\n            </li>\\n            \\n        \\n            \\n            <li class=\"main-menu-item dropdown\">\\n                <div class=\"main-menu-item-link-wrapper\" onclick=\"return true\">\\n                    <span class=\"main-menu-item-link\">\\n                        <span class=\"dropdown\" id=\"topnav-stocks\">\\n                            Personal Finance\\n                            <svg class=\"fa-svg-icon\"><use xlink:href=\"#angle-right\"></use></svg>\\n                        </span>\\n                    </span>\\n                </div>\\n                <ul class=\"sub-menu\">\\n                    <div class=\"mega-menu-wrapper\">\\n                        <header class=\"sub-menu-name\">\\n                            Personal Finance\\n                            <button class=\"btn-level-up\">\\n                                <svg class=\"fa-svg-icon\"><use xlink:href=\"#chevron-left\"></use></svg>\\n                            </button>\\n                        </header>\\n                        \\n                          <div class=\"mega-menu-wrapper-content dub-nav\">\\n                            <div class=\"columns\" id=\"hti-subnav\">\\n                              <!-- links loaded dynamically via postLoadHeaderLinks.js -->\\n                              <div class=\"column \">\\n                                <ul class=\"sub-nav-group\">\\n                                  <div class=\"sub-menu-header\">Credit Cards</div>\\n                                  \\n                                    <li class=\"sub-menu-link\">\\n                                      <a id=\"asc-credit-cards\" href=\"https://www.fool.com/the-ascent/credit-cards/\">Best Credit Cards</a>\\n                                        \\n                                    </li>\\n                                  \\n                                    <li class=\"sub-menu-link\">\\n                                      <a id=\"asc-cash-back-cards\" href=\"https://www.fool.com/the-ascent/credit-cards/best-cash-back-credit-card/\">Best Cash Back Cards</a>\\n                                        \\n                                    </li>\\n                                  \\n                                    <li class=\"sub-menu-link\">\\n                                      <a id=\"asc-best-balance-transfer-cards\" href=\"https://www.fool.com/the-ascent/credit-cards/best-balance-transfer-credit-cards/\">Best Balance Transfer Cards</a>\\n                                        \\n                                    </li>\\n                                  \\n                                    <li class=\"sub-menu-link\">\\n                                      <a id=\"asc-best-travel-credit-cards\" href=\"https://www.fool.com/the-ascent/credit-cards/best-travel-rewards-credit-cards/\">Best Travel Credit Cards</a>\\n                                        \\n                                    </li>\\n                                  \\n                                    <li class=\"sub-menu-link\">\\n                                      <a id=\"asc-best-zero-interest-cards\" href=\"https://www.fool.com/the-ascent/credit-cards/best-zero-interest-cards/\">Best 0% Credit Cards</a>\\n                                        \\n                                    </li>\\n                                  \\n                                    <li class=\"sub-menu-link\">\\n                                      <a id=\"asc-rewards-cards\" href=\"https://www.fool.com/the-ascent/credit-cards/best-rewards-credit-cards/\">Best Rewards Cards</a>\\n                                        \\n                                    </li>\\n                                  \\n                                    <li class=\"sub-menu-link\">\\n                                      <a id=\"asc-best-cards-for-bad-credit\" href=\"https://www.fool.com/the-ascent/credit-cards/bad-credit/\">Best Cards for Bad Credit</a>\\n                                        \\n                                    </li>\\n                                  \\n                                </ul>\\n                              </div>\\n                            </div>\\n                          </div>\\n\\n                        \\n                          <div class=\"mega-menu-wrapper-content dub-nav\">\\n                            <div class=\"columns\" id=\"hti-subnav\">\\n                              <!-- links loaded dynamically via postLoadHeaderLinks.js -->\\n                              <div class=\"column \">\\n                                <ul class=\"sub-nav-group\">\\n                                  <div class=\"sub-menu-header\">Bank &amp; Loans</div>\\n                                  \\n                                    <li class=\"sub-menu-link\">\\n                                      <a id=\"asc-best-savings-accounts\" href=\"https://www.fool.com/the-ascent/banks/best-savings-accounts/\">Best Savings Accounts</a>\\n                                        \\n                                    </li>\\n                                  \\n                                    <li class=\"sub-menu-link\">\\n                                      <a id=\"asc-best-checking-accounts\" href=\"https://www.fool.com/the-ascent/banks/checking-accounts/\">Best Checking Accounts</a>\\n                                        \\n                                    </li>\\n                                  \\n                                    <li class=\"sub-menu-link\">\\n                                      <a id=\"asc-best-cd-rates\" href=\"https://www.fool.com/the-ascent/banks/best-cd-rates/\">Best CD Rates</a>\\n                                        \\n                                    </li>\\n                                  \\n                                    <li class=\"sub-menu-link\">\\n                                      <a id=\"asc-personal-loans\" href=\"https://www.fool.com/the-ascent/personal-loans/\">Best Personal Loans</a>\\n                                        \\n                                    </li>\\n                                  \\n                                    <li class=\"sub-menu-link\">\\n                                      <a id=\"asc-debt-consolidation-loans\" href=\"https://www.fool.com/the-ascent/personal-loans/best-personal-loans-debt-consolidation/\">Best Debt Consolidation Loans</a>\\n                                        \\n                                    </li>\\n                                  \\n                                </ul>\\n                              </div>\\n                            </div>\\n                          </div>\\n\\n                        \\n                          <div class=\"mega-menu-wrapper-content dub-nav\">\\n                            <div class=\"columns\" id=\"hti-subnav\">\\n                              <!-- links loaded dynamically via postLoadHeaderLinks.js -->\\n                              <div class=\"column \">\\n                                <ul class=\"sub-nav-group\">\\n                                  <div class=\"sub-menu-header\">Homebuying</div>\\n                                  \\n                                    <li class=\"sub-menu-link\">\\n                                      <a id=\"asc-best-mortgage-lenders\" href=\"https://www.fool.com/the-ascent/mortgages/best-mortgage-lenders\">Best Mortgage Lenders</a>\\n                                        \\n                                    </li>\\n                                  \\n                                    <li class=\"sub-menu-link\">\\n                                      <a id=\"asc-mortgage-refi-lenders\" href=\"https://www.fool.com/the-ascent/mortgages/best-refinance-lenders/\">Best Mortgage Refi Lenders</a>\\n                                        \\n                                    </li>\\n                                  \\n                                    <li class=\"sub-menu-link\">\\n                                      <a id=\"asc-lenders-for-first-time-buyers\" href=\"https://www.fool.com/the-ascent/mortgages/best-mortgage-lenders-first-time-homebuyers/\">Best Lenders for First-time Buyers</a>\\n                                        \\n                                    </li>\\n                                  \\n                                    <li class=\"sub-menu-link\">\\n                                      <a id=\"asc-fha-mortgage-lenders\" href=\"https://www.fool.com/the-ascent/mortgages/best-lenders-fha-loans/\">Best FHA Mortgage Lenders</a>\\n                                        \\n                                    </li>\\n                                  \\n                                    <li class=\"sub-menu-link\">\\n                                      <a id=\"asc-current-mortgage-rates\" href=\"https://www.fool.com/the-ascent/mortgages/rates/\">Current Mortgage Rates</a>\\n                                        \\n                                    </li>\\n                                  \\n                                </ul>\\n                              </div>\\n                            </div>\\n                          </div>\\n\\n                        \\n                          <div class=\"mega-menu-wrapper-content dub-nav\">\\n                            <div class=\"columns\" id=\"hti-subnav\">\\n                              <!-- links loaded dynamically via postLoadHeaderLinks.js -->\\n                              <div class=\"column \">\\n                                <ul class=\"sub-nav-group\">\\n                                  <div class=\"sub-menu-header\">Guides</div>\\n                                  \\n                                    <li class=\"sub-menu-link\">\\n                                      <a id=\"asc-credit-cards-101\" href=\"https://www.fool.com/the-ascent/how-credit-cards-work-beginners-guide/\">Credit Cards 101</a>\\n                                        \\n                                    </li>\\n                                  \\n                                    <li class=\"sub-menu-link\">\\n                                      <a id=\"asc-bank-accounts-101\" href=\"https://www.fool.com/the-ascent/banks/\">Bank Accounts 101</a>\\n                                        \\n                                    </li>\\n                                  \\n                                    <li class=\"sub-menu-link\">\\n                                      <a id=\"asc-home-laons-101\" href=\"https://www.fool.com/the-ascent/mortgages/beginners-guide-home-loans/\">Home Loans 101</a>\\n                                        \\n                                    </li>\\n                                  \\n                                    <li class=\"sub-menu-link\">\\n                                      <a id=\"asc-pay-off-debt\" href=\"https://www.fool.com/the-ascent/personal-finance/how-to-pay-off-debt/\">Pay Off Debt</a>\\n                                        \\n                                    </li>\\n                                  \\n                                    <li class=\"sub-menu-link\">\\n                                      <a id=\"asc-increase-credit-score\" href=\"https://www.fool.com/the-ascent/personal-finance/how-to-increase-credit-score/\">Increase Your Credit Score</a>\\n                                        \\n                                    </li>\\n                                  \\n                                </ul>\\n                              </div>\\n                            </div>\\n                          </div>\\n\\n                        \\n                    </div>\\n                </ul>\\n            </li>\\n            \\n        \\n            \\n            <li class=\"main-menu-item dropdown\">\\n                <div class=\"main-menu-item-link-wrapper\" onclick=\"return true\">\\n                    <span class=\"main-menu-item-link\">\\n                        <span class=\"dropdown\" id=\"topnav-stocks\">\\n                            About Us\\n                            <svg class=\"fa-svg-icon\"><use xlink:href=\"#angle-right\"></use></svg>\\n                        </span>\\n                    </span>\\n                </div>\\n                <ul class=\"sub-menu\">\\n                    <div class=\"mega-menu-wrapper\">\\n                        <header class=\"sub-menu-name\">\\n                            About Us\\n                            <button class=\"btn-level-up\">\\n                                <svg class=\"fa-svg-icon\"><use xlink:href=\"#chevron-left\"></use></svg>\\n                            </button>\\n                        </header>\\n                        \\n                          <div class=\"mega-menu-wrapper-content dub-nav\">\\n                            <div class=\"columns\" id=\"hti-subnav\">\\n                              <!-- links loaded dynamically via postLoadHeaderLinks.js -->\\n                              <div class=\"column \">\\n                                <ul class=\"sub-nav-group\">\\n                                  <div class=\"sub-menu-header\">Who Is the Motley Fool?</div>\\n                                  \\n                                    <li class=\"sub-menu-link\">\\n                                      <a id=\"community-about\" href=\"/about/\">About Us</a>\\n                                        \\n                                    </li>\\n                                  \\n                                    <li class=\"sub-menu-link\">\\n                                      <a id=\"community-investing-philosophy\" href=\"/about/investing-philosophy/\">Investing Philosophy</a>\\n                                        \\n                                    </li>\\n                                  \\n                                    <li class=\"sub-menu-link\">\\n                                      <a id=\"community-reviews\" href=\"/about/reviews/\">Reviews</a>\\n                                        \\n                                    </li>\\n                                  \\n                                    <li class=\"sub-menu-link\">\\n                                      <a id=\"community-foolanthropy\" href=\"https://give.fool.com\">Foolanthropy</a>\\n                                        \\n                                    </li>\\n                                  \\n                                    <li class=\"sub-menu-link\">\\n                                      <a id=\"community-media\" href=\"/contact/press-inquiries/\">Media Inquiries</a>\\n                                        \\n                                    </li>\\n                                  \\n                                    <li class=\"sub-menu-link\">\\n                                      <a id=\"community-contactus\" href=\"/contact/customer-service\">Contact Us</a>\\n                                        \\n                                    </li>\\n                                  \\n                                </ul>\\n                              </div>\\n                            </div>\\n                          </div>\\n\\n                        \\n                          <div class=\"mega-menu-wrapper-content dub-nav\">\\n                            <div class=\"columns\" id=\"hti-subnav\">\\n                              <!-- links loaded dynamically via postLoadHeaderLinks.js -->\\n                              <div class=\"column \">\\n                                <ul class=\"sub-nav-group\">\\n                                  <div class=\"sub-menu-header\">Fool Podcasts</div>\\n                                  \\n                                    <li class=\"sub-menu-link\">\\n                                      <a id=\"community-podcast-home\" href=\"/podcasts/\">Podcasts Home</a>\\n                                        \\n                                    </li>\\n                                  \\n                                    <li class=\"sub-menu-link\">\\n                                      <a id=\"community-podcast-mfm\" href=\"/podcasts/motley-fool-money/\">Motley Fool Money</a>\\n                                        \\n                                    </li>\\n                                  \\n                                    <li class=\"sub-menu-link\">\\n                                      <a id=\"community-podcast-rbi\" href=\"/podcasts/rule-breaker-investing/\">Rule Breaker Investing</a>\\n                                        \\n                                    </li>\\n                                  \\n                                </ul>\\n                              </div>\\n                            </div>\\n                          </div>\\n\\n                        \\n                          <div class=\"mega-menu-wrapper-content dub-nav\">\\n                            <div class=\"columns\" id=\"hti-subnav\">\\n                              <!-- links loaded dynamically via postLoadHeaderLinks.js -->\\n                              <div class=\"column \">\\n                                <ul class=\"sub-nav-group\">\\n                                  <div class=\"sub-menu-header\">Social Media + </div>\\n                                  \\n                                    <li class=\"sub-menu-link\">\\n                                      <a id=\"community-facebook\" href=\"https://www.facebook.com/themotleyfool/\">Facebook</a>\\n                                        \\n                                    </li>\\n                                  \\n                                    <li class=\"sub-menu-link\">\\n                                      <a id=\"community-twitter\" href=\"https://twitter.com/themotleyfool\">Twitter</a>\\n                                        \\n                                    </li>\\n                                  \\n                                    <li class=\"sub-menu-link\">\\n                                      <a id=\"community-youtube\" href=\"https://www.youtube.com/channel/UCpRQuynBX9Qy9tPrcswpPag\">YouTube</a>\\n                                        \\n                                    </li>\\n                                  \\n                                    <li class=\"sub-menu-link\">\\n                                      <a id=\"community-boards\" href=\"https://boards.fool.com/\">Discussion Boards</a>\\n                                        \\n                                    </li>\\n                                  \\n                                    <li class=\"sub-menu-link\">\\n                                      <a id=\"community-caps\" href=\"https://caps.fool.com/\">CAPS - Stock Picking Community</a>\\n                                        \\n                                    </li>\\n                                  \\n                                </ul>\\n                              </div>\\n                            </div>\\n                          </div>\\n\\n                        \\n                          <div class=\"mega-menu-wrapper-content dub-nav\">\\n                            <div class=\"columns\" id=\"hti-subnav\">\\n                              <!-- links loaded dynamically via postLoadHeaderLinks.js -->\\n                              <div class=\"column \">\\n                                <ul class=\"sub-nav-group\">\\n                                  <div class=\"sub-menu-header\">New Ventures</div>\\n                                  \\n                                    <li class=\"sub-menu-link\">\\n                                      <a id=\"about-ascent\" href=\"https://www.fool.com/the-ascent/\">The Ascent</a>\\n                                        \\n                                    </li>\\n                                  \\n                                    <li class=\"sub-menu-link\">\\n                                      <a id=\"about-millionacres\" href=\"https://www.millionacres.com/\">Millionacres</a>\\n                                        \\n                                    </li>\\n                                  \\n                                </ul>\\n                              </div>\\n                            </div>\\n                          </div>\\n\\n                        \\n                    </div>\\n                </ul>\\n            </li>\\n            \\n        \\n\\n        \\n            <li class=\"main-menu-item\" id=\"Help\">\\n                <a id=\"m-topnav-help\" href=\"https://support.fool.com\">Help</a>\\n            </li>\\n            <li class=\"main-menu-item\" id=\"logIn\">\\n                <a id=\"m-topnav-login\" href=\"/auth/authenticate/?source=ilgsittph0000001\">Login</a>\\n            </li>\\n        \\n    </ul>\\n</nav>\\n<div class=\"mobile-nav-overlay\"></div>\\n\\n\\n    <div class=\"header-search-wrapper\">\\n      <button class=\"header-search-wrapper-toggle\">\\n        <svg class=\"fa-svg-icon icon-search\"><use xlink:href=\"#search\"></use></svg>\\n        <svg class=\"fa-svg-icon icon-close\"><use xlink:href=\"#times\"></use></svg>\\n      </button>\\n      <div class=\"header-search-form-wrapper\"><form name=\"lookup\" action=\"/fooldotcom/searchredirect/\" class=\"header-search-form\">\\n\\t<span class=\"sr-only\">Search</span>\\n\\t<label for=\"fool-search\" class=\"fool-search-label\" style=\"display:none;\">\\n\\t    Search:\\n\\t</label>\\n\\t<input name=\"query\" label=\"search\" id=\"fool-search\" class=\"ticker-input-input\" placeholder=\"Company Search\" role=\"search\" aria-hidden=\"false\" aria-haspopup=\"true\" autocomplete=\"off\"/>\\n    <input type=\"submit\" class=\"sr-only\" value=\"Go\">\\n    <div id=\"header-search-submit\">\\n        <svg class=\"fa-svg-icon\"><use xlink:href=\"#search\"></use></svg>\\n    </div>\\n</form>\\n</div>\\n    </div>\\n  </div>\\n\\n  <div class=\"color-line\">\\n    <div class=\"color magenta\"></div>\\n    <div class=\"color royalpurple\"></div>\\n</div>\\n</header>\\n\\n        \\n      </section>\\n\\n      <div class=\"content-container\">\\n        \\n\\n        \\n\\n\\n<section class=\"bg-gray-100 pt-32px md:pt-48px px-24px md:px-40px\">\\n\\n  \\n    <div class=\"mx-auto text-sm font-medium article-redesign-header-cta max-w-1280 text-cyan-800 mb-24px\">\\n  <span class=\"font-medium uppercase text-gold-600 bg-gold-200 border-1px border-gold-600 rounded-4px mr-8px px-12px py-2px\">Free Article</span>\\n  <a href=\"https://www.fool.com/mms/mark/op-free-tag-art\" class=\"text-cyan-800 hover:text-cyan-600 hover:underline text-md\">\\n    Join Over 1 Million Premium Members And Get More In-Depth Stock Guidance and Research\\n  </a>\\n</div>\\n\\n  \\n\\n  <div class=\"flex mx-auto max-w-1280 pb-36px sm:pb-48px\">\\n    <div class=\"md:w-3/4 md:pr-48px\">\\n        <header>\\n            <h1 class=\"font-medium text-gray-1100 leading-42 md:text-h1\">How Berkshire Hathaway Could Use Its $144 Billion</h1>\\n        </header>\\n        \\n\\n<div class=\"text-lg font-medium text-gray-800 my-24px\">\\n  \\n      By <a class=\"text-cyan-800 hover:text-cyan-600 hover:underline\" href=\"https://www.fool.com/author/1602/\">Chris Hill</a>\\n  \\n  - \\n  \\n    \\n      Mar 8, 2022 at 2:52PM\\n    \\n  \\n</div>\\n\\n\\n        \\n          \\n\\n        \\n\\n        \\n          \\n            <div class=\"px-24 py-20 border shadow-md article-redesign-cta-banner mt-16px sm:mt-36px bg-gold-200 border-gold-600 \\n  \\n    mb-0px sm:mb-0px md:mb-0px\\n  \\n\">\\n  <p class=\"leading-tight text-md mb-0px\">\\n    You’re reading a free article with opinions that may differ from The Motley Fool’s Premium Investing Services. Become a Motley Fool member today to <strong>get instant access to our top analyst recommendations, in-depth research, investing resources</strong>, and more.\\n    <a class=\"font-bold text-cyan-800 hover:text-cyan-600\" href=\"https://www.fool.com/mms/mark/op-free-tbox-art\">Learn More</a>\\n  </p>\\n</div>\\n\\n          \\n        \\n\\n    </div>\\n    <div class=\"hidden md:block md:w-1/4\">\\n      \\n\\n\\n  \\n    \\n      <div class=\"bg-white p-20px shadow-card article-redesign-header-company-card\">\\n        <div class=\"flex place-content-between\">\\n          <div class=\"w-3/4\">\\n            <h2 class=\"leading-none uppercase text-h5\">\\n              <a class=\"text-gray-1100 hover:text-cyan-800\" href=\"/quote/nasdaq/aapl/\">NASDAQ: AAPL</a>\\n            </h2>\\n            <h3 class=\"font-medium leading-none text-gray-800 text-md\">Apple Inc.</h3>\\n          </div>\\n          <div class=\"w-1/4\">\\n            <img alt=\"Apple Inc. Stock Quote\"\\n              class=\"flex-none object-contain w-full\"\\n              width=\"64\"\\n              height=\"64\"\\n              data-img-src=\"https://g.foolcdn.com/art/companylogos/mark/AAPL.png\"\\n              src=\"https://g.foolcdn.com/art/companylogos/mark/AAPL.png\"\\n              onerror=\"logo_on_error.call(this,&#39;AAPL&#39;,&#39;&#39;,64,64,12,&#39;111111&#39;,&#39;eeeeee&#39;)\"\\n            />\\n          </div>\\n        </div>\\n        \\n          <div class=\"h-0 border-t border-gray-300 border-dotted my-20px\"></div>\\n          <div class=\"flex text-sm place-content-between\">\\n            <div class=\"text-gray-800\">Market Cap</div>\\n            <div class=\"font-bold text-right text-gray-1100\">$2,600B</div>\\n          </div>\\n          <div class=\"h-0 border-t border-gray-300 border-dotted my-20px\"></div>\\n\\n          <div class=\"lg:flex\">\\n            <div class=\"lg:w-2/3\">\\n              <div class=\"text-sm text-gray-800 mb-4px\">Today\\'s Change</div>\\n              <div class=\"flex lg:pr-8px lg:text-sm xl:text-16\">\\n                \\n                  <div class=\"flex items-center w-2/6 bg-red-900 p-8px\"><svg class=\"w-full font-light text-gray-100 fa-svg-icon h-24px\"><use xlink:href=\"#arrow-thin-down\"></use></svg></div>\\n                  <div class=\"w-4/6 font-medium bg-red-200 p-8px font-sm text-gray-1100\">(-1.17%) -$1.86</div>\\n                \\n              </div>\\n            </div>\\n            <div class=\"bg-gray-100 lg:w-1/3\">\\n              <div class=\"text-sm text-gray-800 bg-white pb-4px lg:text-right mt-16px lg:mt-0px\">Current Price</div>\\n              <div class=\"font-medium lg:text-right lg:pl-8px font-sm text-gray-1100 p-8px lg:text-sm xl:text-16\">$157.44</div>\\n            </div>\\n          </div>\\n\\n        \\n      </div>\\n    \\n  \\n    \\n  \\n    \\n  \\n    \\n  \\n    \\n  \\n    \\n  \\n    \\n  \\n    \\n  \\n    \\n  \\n    \\n  \\n    \\n  \\n    \\n  \\n    \\n  \\n    \\n  \\n    \\n  \\n    \\n  \\n\\n\\n    </div>\\n  </div>\\n  <div class=\"-mx-24px md:-mx-40px h-16px bg-gradient-to-b from-transparent to-gray-200\"></div>\\n</section>\\n\\n\\n<section class=\"container mx-auto bg-white px-24px md:px-40 pt-36px sm:pt-16px md:pt-16px md:pb-8\">\\n  <div class=\"mx-auto max-w-1280\">\\n\\n    \\n\\n    <div class=\"md:flex md:flex-row  mt-8px md:mt-36px \">\\n      \\n      <div class=\"md:w-3/4 md:pr-80\">\\n\\n        \\n\\n\\n        <h2 class=\"font-light leading-10 text-h3 text-gray-1100 mb-32px\">&quot;Charlie [Munger] and I are not stock-pickers; we are business-pickers,&quot; wrote Warren Buffett.</h2>\\n        \\n          <div class=\"tailwind-article-body\">\\n            \\n              <p>Warren Buffett\\'s most recent letter to shareholders reminded investors of the discipline he and his investing team at <strong>Berkshire Hathaway</strong> apply to their work each day. And while there\\'s nearly $150 billion in cash on the balance sheet, Buffett still hasn\\'t pulled out his famed \"elephant gun\" just yet.</p>\\n<p>In this podcast, Motley Fool analyst John Rotonti discusses:</p>\\n<ul>\\n<li aria-level=\"1\">His top takeaway from the letter.</li>\\n<li aria-level=\"1\">Buffett\\'s praise for <strong>Apple </strong>CEO Tim Cook.</li>\\n<li aria-level=\"1\">The case for Berkshire Hathaway buying semiconductor design company Arm Limited.</li>\\n</ul>\\n<p>Motley Fool analyst Dylan Lewis and Motley Fool contributor Jason Hall discuss two unexpected companies that are winning due to higher inflation.</p>\\n<p>To catch full episodes of all The Motley Fool\\'s free podcasts, check out our <a href=\"https://www.fool.com/podcasts/\">podcast center</a>. To get started investing, check out our <a href=\"https://www.fool.com/investing/how-to-invest/stocks/\">quick-start guide to investing in stocks</a>. A full transcript follows the video.</p>\\n<p></p><div class=\"video-wrapper\"><iframe allow=\"accelerometer; autoplay; clipboard-write; encrypted-media; gyroscope; picture-in-picture\" allowfullscreen=\"\" frameborder=\"0\" height=\"200\" src=\"https://www.youtube.com/embed/ZNiMv_oWGTs?feature=oembed\" width=\"356\"></iframe></div>\\n<p></p><div id=\"pitch\"></div>\\n<p><em>This video was recorded on March 3, 2022.</em></p>\\n<p><strong>Chris Hill:</strong> Today we\\'ve got two hidden winners from higher inflation and a stock pitch for Berkshire Hathaway. Mr. Buffett, thank you for listening. Motley Fool Money starts now. I\\'m Chris Hill, joined today by John Rotonti. Thanks for being here.</p><div class=\"interad\"></div>\\n<p><strong>John Rotonti:</strong> Hey, Chris. I always love being on the show.</p>\\n<p><strong>Chris Hill:</strong> Yesterday Bill Mann and I talked a little bit about Berkshire Hathaway, the most recent report. I wanted to delve a little bit more into it because it did get a decent amount of attention in the financial community as Warren Buffett and his letters usually do. Let\\'s start with that. What was the highlight of the letter for you?</p>\\n<p><strong>John Rotonti:</strong> The highlight of the letter, which is nothing new, but he did emphasize it again, is that Berkshire has $144 billion of cash on the balance sheet, and the reason it\\'s there is because the business generates a lot of free cash flow every year, and he said that he finds nothing that excites them right now, at least not in meaningful amounts, and so he can\\'t find any businesses that he wants to buy out, and he can\\'t find any stocks that he wants to take meaningful positions in either. So that cash just builds. It\\'s got 144 billion. Then related to that, Chris, is the idea that he has found an alternative to making acquisitions or investing in stocks, and that alternative that he\\'s happy with, but it is not his first choice, is to buy back Berkshire stock. In the two years, through 2020 and 2021, Berkshire spent $52 billion repurchasing about 9 percent of the shares outstanding and that has great effects on the economics of the business. One of the ones that he called out was that that actually increased the float per share by 25 percent over those two years. It is adding real per-share value. It\\'s not his first choice, but it\\'s a good alternative when Berkshire stock is trading at a discount to what Warren Buffett and Charlie Munger believe to be a conservative estimate of intrinsic value.</p>\\n<p><strong>Chris Hill:</strong> Do you think his first choice is buying a business outright, or is his first choice finding essentially the next Apple? We can get into Apple in a second, but finding the next Apple for their portfolio?</p><div class=\"interad\"></div>\\n<p><strong>John Rotonti:</strong> It\\'s easier to find stocks trading at a discount on the public markets because, when you buy a company outright, there\\'s always a premium that you pay, 30-40 percent, for example. So it\\'s easier to find bargains on the stock market, but I think, all else equal, if he could find a bargain and purchase a business outright, that would be his preference. He has said that he has got his elephant gun ready, meaning that he\\'s got the 144 billion in cash. Now, he won\\'t use it all. He says that they will always keep a minimum of 30 billion, but that still leaves a 115 billion or so for him to make an acquisition, 114 billion, if I do the math in my head. A hundred and fourteen billion, he could spend on an acquisition, that\\'s just using cash. But of course, Berkshire is an incredibly resilient business with a massive balance sheet. If he wanted to, they could take on a little debt as well. This is just my analysis. I think the upper bounce is Berkshire could make a $150 billion acquisition if they really wanted to while still maintaining at least $30 billion of cash on the balance sheet.</p>\\n<p><strong>Chris Hill:</strong> One of the things about Warren Buffett that I think is a great lesson for all of us as investors is, if you look at his career, and while he has been grounded in some value-oriented principles for decades, he, as an investor, is still learning. He\\'s still evolving as an investor. When I think about the, I\\'m trying to think of a not-terrible adjective, let\\'s just say the 3G Capital, the deal for <strong>Kraft </strong>that just didn\\'t go the way he wanted it to, I look at that, and I think, even in his advanced years, he\\'s learning. I\\'m not doing this again. I\\'m not [laughs] going this route against. So when we think about what is he going to do with that cash? I think it\\'s safe that he\\'s not going to be going the route that he did before.</p>\\n<p><strong>John Rotonti:</strong> I would agree 100 percent with that, Chris. He admitted that they paid too much for Kraft Heinz and that company is run with an efficiency-first model where they do zero cost budgeting. They try to cut costs to the bare bones. It can lead to good business economics, but it doesn\\'t always lead to the best workplace culture and workplace environment. I don\\'t think that\\'s necessarily his first choice for the type of investment he wants to make.</p>\\n<p><strong>Chris Hill:</strong> Two more things from the letter and then we\\'ll move on. First, he had a lot of praise for Tim Cook.</p><div class=\"interad\"></div>\\n<p><strong>John Rotonti:</strong> [inaudible 00:05:37]</p>\\n<p><strong>Chris Hill:</strong> If you think about how that initial purchase of shares of Apple has grown over time, how they\\'ve added to that over time, I hear what you\\'re saying about the all-in acquisition, but I don\\'t know. I feel like if you could bet on one, it seems like the safer bet, the more likely bet is that they go out, and it seems crazy to say, they find another Apple. They find [laughs] another great business with a great leader at the top, and they say, we want to be part of this.</p>\\n<p><strong>John Rotonti:</strong> I think so, Chris. Like I said, you have more frequent opportunities to find great companies trading at discounts in the stock market when you are buying a percentage of a company than when you\\'re buying a whole company. You have to pay a premium for that whole. Apple is a one-of-a-kind business. I don\\'t throw that phrasing around lightly. It\\'s one of a kind because it\\'s fully vertically integrated. They are experts at both hardware and software, as well as everything that goes in between, so the design, the supply chain, the operations. Apple has become one of the greatest semiconductor design companies on the planet, and they did so very quietly. Because of that vertical integration and that ability to excel at both hardware and software in a way that no other company on earth has shown that it can do, Apple is the greatest free cash flow generation company the world has ever seen. Buffett was able to buy stock in the company when it was trading at a discount to the market multiple. It was trading at a below-market multiple. I don\\'t know if it\\'s a once in a lifetime, but it\\'s a once in a generation, once in a decade, or maybe even once in a two-decade type of investment that Buffett made. It was incredibly successful. It\\'s going up more than 5X, and now it\\'s $160 billion position. If I had to guess what the next company would be, like I said, it\\'s really hard to find another Apple. I\\'ll tell you, Chris, I wouldn\\'t be surprised, hear me out here, if Virtue was to buy Arm out of the UK.\\xa0</p>\\n<p>Arm, it\\'s the company that Nvidia tried to buy, but it was blocked by regulators, so <strong>Nvidia </strong>dropped their quest to buy Arm. They were going to buy it for about 40 billion. Berkshire could afford this easily just from cash on the balance sheet. It\\'s based on the UK. They\\'re a semiconductor and IP company. They make the instruction sets that power 90 percent of the world\\'s smartphones. If we just think about sticking with smartphones, which obviously Buffett understands because of his investment in Apple, they could buy Arm. <strong>SoftBank </strong>is now trying to IPO Arm. The reason it got blocked by regulators is because their business model has [inaudible 00:08:58] to be neutral to sell to anyone. But if it was owned by Nvidia, regulators didn\\'t think Arm would be able to remain neutral. Under Berkshire, Arm could remain neutral. Berkshire could get it for 40 or 50 billion, somewhere around there, and two last things, it sells this mission-critical software and technology that runs 90 percent of the world\\'s smartphones, and it\\'s got a recurring revenue, recurring cash flows, the types of economics that Berkshire really likes. So I think they should take a look at Arm. Then lastly, that would further build out the technology investments within that Berkshire Hathaway portfolio.</p>\\n<p><strong>Chris Hill:</strong> I just think of all the times that Jason Moser has banged the table for Berkshire Hathaway to buy <strong>McCormick</strong>, the spice company.</p>\\n<p><strong>John Rotonti:</strong> Why not? Sure.</p>\\n<p><strong>Chris Hill:</strong> Why not? But you make a pretty compelling case for Arm, the quote making the round for those who didn\\'t read the letter. We\\'re not stock-pickers. We\\'re business pickers. You almost don\\'t even need to read the letter to take a benefit from that. To me, I read that line, and I thought, \"Yeah, right, that\\'s a good reminder in a market of increased volatility. Yeah, focus on the business, worry less about the stock.\"</p>\\n<p><strong>John Rotonti:</strong> Even at the Motley Fool, we\\'ve learned from Buffett and some others that speak in that language, we consider ourselves on the Investment team here at The Motley Fool business analysts. Not stock analysts, not market analysts, not traders, but business analysts. We really spend 90 percent of our time trying to understand the business and understand what that business will look like over a long period of time, and then we do spend time at the end trying to value that stock. But most of the time is understanding that business.</p>\\n<p><strong>Chris Hill:</strong> Before I let you go, I would be remiss if I did not mention the fact that the last time you were on the show, we talked about <strong>Ford Motor</strong>. This was over a week ago, Ford Motor and the possibility of CEO Jim Farley splitting off the electric vehicle part of the business, and sure enough, Wednesday morning, that\\'s exactly what happened. I just keep thinking about the conversation we had and your statement that the others are going to follow suit. It\\'s just like, Mary Barra at <strong>General Motors</strong>, your move.</p>\\n<p><strong>John Rotonti:</strong> Your move. Over to you, Mary. Exactly. I just think it makes sense. Forward stock traded up on the news, I don\\'t know if it\\'s seven or eight percent on the day. I do think it\\'s a way to highlight the great things these companies are doing from an EV standpoint, and that could lead to the market rewarding these companies with higher multiples. In that, higher multiple allows them to raise capital more easily. It allows them to compete with <strong>Tesla </strong>on a more equal footing. It\\'s not equal yet. Tesla has a lead here. Let\\'s call it what it is, but it would allow them to compete with Tesla on a more equal footing. Yeah, I think the next part of this prediction is that the other companies follow suit.</p>\\n<p><strong>Chris Hill:</strong> John Rotonti, great talking to you. Thanks for being here.</p>\\n<p><strong>John Rotonti:</strong> Thank you, Chris. Thanks, Fools.</p>\\n<p><strong>Chris Hill:</strong> All the talk lately of higher prices has investors asking which companies can thrive with inflation on the rise? Companies with pricing power, of course, but who else? We\\'ll look at two unexpected beneficiaries of higher inflation. Here\\'s Dylan Lewis.</p>\\n<p><strong>Dylan Lewis:</strong> You know how inflation affects the broad economy and your wallet, but inflation\\'s effect on individual companies, to understand that, we have to dig a little bit deeper. Jason Hall joins me to talk through some of the characteristics of companies that keep winning even during periods of inflation. Jason, at a very simplistic level, as a business, to be able to comfortably weather periods where things are becoming more expensive, you need to have one of two things working for you. Either upside in the price you charge for something, or control over the cost you pay for things. If you can get both, that\\'s even better, but you really need one of those two things to be in the driver\\'s seat.</p>\\n<p><strong>Jason Hall:</strong> Absolutely. Of course, we\\'re talking about pricing power, the ability to raise prices for various reasons, then, of course, to [inaudible 00:13:52] cost advantage, that you\\'re actually paying for the inputs to make whatever it is that you\\'re selling. I think sometimes, honestly, Dylan, your typical inflation environment where costs go up 1-2 percent, 2.5-3 percent a year, maybe sometimes we project a little bit there, and we find a company that we love, and then confirmation bias kicks in, and we maybe assign a little bit of these advantages, and maybe they\\'re not real. Can it really raise prices at will? Does its scale really add up to those true cost advantages? Are they really durable? I guess that\\'s what I\\'m thinking because it\\'s really easy to pick a big profitable company. Sometimes the pricing power or sometimes the cost advantages, maybe they\\'re not really as durable as we expect.</p>\\n<p><strong>Dylan Lewis:</strong> We often think about pricing power through the lens of major consumer brands, like <strong>Chipotle</strong>, like <strong>Starbucks</strong>. We\\'ve talked about it a lot on the show. The loyalty allows them to charge more, but it\\'s an active decision that the customer is going to see those higher prices, is going to see that they\\'re paying more every single time they\\'re getting that product. There are businesses that structurally have pricing power built into the relationships that they have for their customers in a way that I would argue is maybe a little bit more durable than those everyday purchases that consumers are making when we\\'re often talking about pricing power.</p>\\n<p><strong>Jason Hall:</strong> Starbucks is a great example. We\\'ve certainly seen that they do have the ability [laughs] to raise prices. But customers also have the ability to consume less of that product. One of the risks with these consumer discretionary companies, like Starbucks or Chipotle, if we get to a point where everything else becomes so expensive, these are the first things that come off the list of the splurge or the spend. That\\'s a risk with those businesses. The ones that really have those advantages are the ones where the buying partner doesn\\'t really have another choice. That\\'s where pricing power is really powerful.</p>\\n<p><strong>Dylan Lewis:</strong> What do you think is a good company that does a good job of illustrating that?</p>\\n<p><strong>Jason Hall:</strong> One that I really like is <strong>Mastercard</strong>. I\\'m a shareholder of Mastercard for a long time. It wins because of just the reality of its entire business model. It\\'s all about activity. This is a tollbooth of a business as we get. It makes money every time a consumer buys something and that transaction goes on Mastercard rails. You go to a store, you pull out your Mastercard. You go to your favorite e-commerce website, you make a purchase, and it goes across the rails, the majority of their revenues or a percentage of that transaction. What that means is that this is a company that deal and literally benefits from high inflation because, in inflation, if something costs 10 percent more than it did a year ago, their revenue just went up 10 percent. That is incredibly powerful because they have a captive audience, and they are able to capture that right off the top.</p>\\n<p><strong>Dylan Lewis:</strong> Those are those interchange fees that we hear so much about when we\\'re looking at the credit card companies. It\\'s a very different model than having someone pay a set fee basically or a regular purchase price for something that\\'s a set amount of dollars rather than a percentage of this value that is changing and actually moving up because of inflation.</p>\\n<p><strong>Jason Hall:</strong> Absolutely. The thing to me that\\'s the most compelling about Mastercard here is that their benefit isn\\'t the pricing power side. It\\'s the cost advantage. Think about Starbucks. Typically, if they raise their prices, generally in this environment, what are they trying to do? They\\'re trying to pass along higher labor costs. They\\'re trying to pass along higher transportation to get the beans, and the cups, and all that stuff into their stores. They\\'re not necessarily trying to make more profit off of it. They are just trying to cover their expenses. Mastercard\\'s expenses are relatively low, and they\\'re relatively fixed. It\\'s dealing with labor pressure like everybody else, but it has a very highly skilled labor force, and it\\'s more about trying to retain the best minds versus just stuff at stores. I want to give you some stats that just jumped off the page at me for Mastercard. If you look at Mastercard going back to 2010, its gross margin has generally been between 75 and 80 percent every year. That\\'s a great gross margin. Its operating margin since 2011 has never been below 50 percent. That\\'s just incredible. Just as a comparison, Starbucks gets, in its business, great operating margins at around 16 percent, compared to 54 percent over the trailing 12-months for Mastercard. That\\'s a cost advantage.</p>\\n<p><strong>Dylan Lewis:</strong> You build out that network and then you get to benefit from that network over time. That\\'s a huge part of really why that business is as dominant as it is. I think there\\'s a little bit of a recurring theme with some of these durable businesses. I know another company that you wanted to talk about was BIP, that\\'s <strong>Brookfield Infrastructure Partners</strong>.</p>\\n<p><strong>Jason Hall:</strong> Exactly. Brookfield Infrastructure Partners. Now, there\\'s actually two tickers. I want to hit this real quick. There\\'s Brookfield Infrastructure Partners, which is a limited partnership, and then there\\'s <strong>Brookfield Infrastructure Corporation</strong>, BIPC. For our purposes, they\\'re the same thing. They\\'re identical economic interest in the same business and that business is very powerful. We call Mastercard a tollbooth business in maybe a metaphorical sense because it\\'s a tollbooth for transactions. Brookfield Infrastructure is like literal tollbooths. So that\\'s a business they actually use to operate. But now they have these businesses like telecommunications, so think about fiber optics, think about pipelines, made massive investments in literal pipelines, moving energy commodities around, electricity transmission, all of these businesses where they collect a fee, generally based on the movement of whatever that commodity is on it, whether it\\'s data or whether it\\'s oil or natural gas or electricity. So they collect, again, that tollbooth fee that they bring in.</p>\\n<p>This is a perfect example of their customers having one choice, and that one choice is that local monopoly that is the asset that Brookfield Infrastructure owns, or because of just the very high barriers to entry into building that asset billions of dollars to build a transmission line, ACME is not going to build one right next to it to compete. So you have that one choice, and that\\'s very powerful. Then my favorite thing about the way that these sort of businesses work is, so you take that competitive advantage of it\\'s the choice, you have to move your commodity to get it to your market, and then you structure your contracts if you\\'re Brookfield so that, when inflation happens, your prices go up with the charge. Again, Mastercard, now it\\'s not the same again, because Mastercard has as really high operating margins. The difference with Brookfield is most of its costs are capitalized. It\\'s the infrastructure itself, it\\'s the bricks, and mortar, and the steel pipes, that kind of stuff. It\\'s not labor costs that necessarily flex up and down. They are higher, but again, they\\'re relatively fixed. So inflation doesn\\'t necessarily make its costs go higher. So when inflation happens, and it\\'s able to raise its prices a little bit, a lot of that does come to the bottom line, and that\\'s pretty powerful.</p>\\n<p><strong>Dylan Lewis:</strong> Something I think is interesting with a company that is so capital-intensive, and we lose sight of this sometimes when we\\'re talking about inflation, is usually when we\\'re in an inflationary environment, you tend to see interest rates go up. That\\'s one of the central banks\\' main ways to keep inflation in check. What does that mean for industries that have relatively big build outs in order to build the business? It means that if you\\'re borrowing money to do that, the cost of borrowing that money is going to go up over time as well. So anyone who is structured in a very capital-intensive business, or even homeowners, really, because they have their mortgage payments locked in at a certain interest rate, are going to enjoy cost-savings that newer competitors aren\\'t going to be able to enjoy.</p>\\n<p><strong>Jason Hall:</strong> For a business like Brookfield, so its sponsor <strong>Brookfield Asset Management</strong> is this massive alternative asset manager that\\'s been around for three decades and has a very long track record of navigating inflationary environments, geopolitical environments, interest rate environments, and you build a structure, and you have a process so that you\\'re really focusing on return on capital. That\\'s one of the most important metrics that you look at. So you\\'re thinking about changing interest rate environments. Number 1, you make sure you\\'re the guy that always has money when nobody else does. You have access to money, and you build a business so that you can benefit when others are in that position. As we see rising interest rates, and return on capital start getting squeezed for these kind of businesses because the cost of money goes up, Brookfield is going to be the company that we\\'re going to see that\\'s buying assets at a lower multiple, taking advantage of that market, even though its cost of capital may be higher. As a buyer, when it can buy at a lower multiple, it\\'s still able to generate those high returns for its investors. It\\'s an amazing boring business that people ignore that has crushed the market since it existed.</p>\\n<p><strong>Dylan Lewis:</strong> Jason, as is often the case, when we\\'re looking for companies that tend to thrive during blank, you could fill in whatever blank you want there, it could be inflation, it could be high interest rates, it could be geopolitical risk, it could be stay at home, they tend to be quality businesses that are in a position to control their own destiny. That comes from financial fortitude. I think as an investor, these are just a couple of reminders that it\\'s worth digging into how the top-line manifests itself for business and how much control a company really has over its cost.</p>\\n<p><strong>Jason Hall:</strong> There\\'s no doubt about that. I think one of the things that we\\'ve seen with this growth stocks sell off over the past year, Dylan, is that so many of those businesses are burning cash. There are some that they\\'re not profitable on a GAAP basis, but they generate positive cash flow. Those are the ones that are going to make it. The ones that are burning cash are the ones that are going to get squeezed out of existence because they don\\'t control their destiny. That\\'s such a differentiator for these sorts of businesses because, like I said, you want to be the guy that has money when nobody else does. You want your phone ringing. You don\\'t want to be the one having to make the call to somebody else. These are perfect examples of that. One thing I want to point out with these two, I think is important to remember too, is that there\\'s a big difference between Mastercard and Brookfield besides all of the obvious, but that\\'s in the risk factors. Brookfield moves data, moves power. All of those things are largely recession-resistant. So if we see this inflationary environment start to affect consumer spending, Brookfield is the business that\\'s going to be the less affected by it. Mastercard wins today from inflation, but if that inflation leads to a recessionary environment, it quickly becomes a loser. So I think that\\'s an important differentiator to make as an investor thinking about the near-term implications. These are both long-term winners, but I think just being aware of those dynamics is really helpful.</p>\\n<p><strong>Dylan Lewis:</strong> On top of all the financial stuff we just talked about with the top-line and costs, I think it\\'s important to remember, where does this money spend fit into the overall picture for whether it\\'s an enterprise customer, if you\\'re a software provider or an end-consumer, if you\\'re a consumer-packaged brand like Starbucks or Chipotle?</p>\\n<p><strong>Jason Hall:</strong> If your buyer can actively make a choice to stop buying from you on a moment\\'s notice, that\\'s a risk that\\'s really important. So if you talk about those software companies selling to enterprise, the ones that have the long-term contracts and that recurring revenue, those are the ones to really focus on. The ones that have the short-term contracts where customers can walk away quickly, unless they\\'re really sticky, they\\'re really embedded, like Shopify, maybe there\\'s a risk there that you don\\'t even see. So it\\'s always important to flip to the next page in that filing and start reading into some of those business risks.</p>\\n<p><strong>Dylan Lewis:</strong> I\\'m always happy to flip through the next stage with you, Jason. Thanks so much for joining me in today\\'s show.</p>\\n<p><strong>Jason Hall:</strong> It\\'s always fun, Dylan.</p>\\n<p><strong>Chris Hill:</strong> As always, people on the program may have interest in the stocks they talk about, and the Motley Fool may have formal recommendations for or against, so don\\'t buy yourselves stocks based solely on what you hear. I\\'m Chris Hill. Thanks for listening. We\\'ll see you tomorrow.</p>\\n            \\n          </div>\\n        \\n        \\n          <div class=\"mb-40 text-lg italic leading-relaxed text-gray-700 author-disclaimer\">\\n            This article represents the opinion of the writer, who may disagree with the “official” recommendation position of a Motley Fool premium advisory service. We’re motley! Questioning an investing thesis – even one of our own – helps us all think critically about investing and make decisions that help us become smarter, happier, and richer.\\n          </div>\\n        \\n        <div class=\"text-sm text-gray-700 mb-80 leading-relative-2\">\\n          <span class=\"article-disclosure\" data-content=\\'&lt;p&gt;&lt;em&gt;&lt;a href=&quot;https://boards.fool.com/profile/TMFWizard/info.aspx&quot;&gt;Chris Hill&lt;/a&gt; owns Apple, Chipotle Mexican Grill, Nvidia, and Starbucks. &lt;a href=&quot;https://boards.fool.com/profile/TMFlewis/info.aspx&quot;&gt;Dylan Lewis&lt;/a&gt; owns Apple. &lt;a href=&quot;https://boards.fool.com/profile/TMFVelvetHammer/info.aspx&quot;&gt;Jason Hall&lt;/a&gt; owns Brookfield Infrastructure Corporation, Brookfield Infrastructure Partners, Ford, Mastercard, and Nvidia. &lt;a href=&quot;https://boards.fool.com/profile/TMFEarlyRiser/info.aspx&quot;&gt;John Rotonti&lt;/a&gt; owns Apple, Berkshire Hathaway (B shares), Mastercard, Nvidia, and Tesla. The Motley Fool owns and recommends Apple, Berkshire Hathaway (B shares), Brookfield Asset Management, Chipotle Mexican Grill, Mastercard, Nvidia, SoftBank Group Corp., Starbucks, and Tesla. The Motley Fool recommends Brookfield Asset Management Inc. CL.A LV, Brookfield Infra Partners LP Units, Brookfield Infrastructure Corporation, Brookfield Infrastructure Partners, Kraft Heinz, McCormick, and Softbank Group and recommends the following options: long January 2023 $200 calls on Berkshire Hathaway (B shares), long March 2023 $120 calls on Apple, short April 2022 $100 calls on Starbucks, short January 2023 $200 puts on Berkshire Hathaway (B shares), short January 2023 $265 calls on Berkshire Hathaway (B shares), and short March 2023 $130 calls on Apple. The Motley Fool has a &lt;a href=&quot;https://www.fool.com/Legal/fool-disclosure-policy.aspx&quot;&gt;disclosure policy&lt;/a&gt;.&lt;/em&gt;&lt;/p&gt;\\'></span>\\n        </div>\\n        \\n          \\n            <div class=\"bg-gray-100 border border-gray-300 mb-80 p-32px shadow-card\">\\n              \\n<div class=\"special-message\">\\n    <div class=\"promoboxAd\">\\n        <div id=\\'div-promobox-83930\\' data-params=\\'{\"divId\": \"div-promobox-83930\", \"placement\": \"promobox\", \"height\": 300, \"width\": 470, \"pos\": 0, \"position\": 0, \"segment\": \"default\", \"seg\": \"default\", \"tstrId\": \"non-member_article-feb-22-prospect-template-279_articletest-feb22-prospect-vara-repeat_25\", \"bureau\": \"usmf-financials\", \"tickers\": \"[\\\\\"\\\\\"]\", \"primary_tickers\": [\"AAPL\"], \"primary_tickers_companies\": [\"Apple Inc.\"], \"pitchId\": null, \"collection\": \"/investing\", \"headline\": \"How Berkshire Hathaway Could Use Its $144 Billion\", \"adtags\": \"[\\\\\"yahoo-news\\\\\", \\\\\"motley-fool-money\\\\\", \\\\\"usmf-video\\\\\", \\\\\"msn\\\\\", \\\\\"default-partners\\\\\"]\", \"test_bucket\": 40, \"session_count\": 0, \"ten_or_more_sessions\": false, \"services\": [], \"uid\": \"\"}\\' class=\\'promobox-content\\'></div><script type=\"text/javascript\">fool.ui.onFirstScroll(() => {PitcherAds.get({\"divId\": \"div-promobox-83930\", \"placement\": \"promobox\", \"height\": 300, \"width\": 470, \"pos\": 0, \"position\": 0, \"segment\": \"default\", \"seg\": \"default\", \"tstrId\": \"non-member_article-feb-22-prospect-template-279_articletest-feb22-prospect-vara-repeat_25\", \"bureau\": \"usmf-financials\", \"tickers\": \"[\\\\\"\\\\\"]\", \"primary_tickers\": [\"AAPL\"], \"primary_tickers_companies\": [\"Apple Inc.\"], \"pitchId\": null, \"collection\": \"/investing\", \"headline\": \"How Berkshire Hathaway Could Use Its $144 Billion\", \"adtags\": \"[\\\\\"yahoo-news\\\\\", \\\\\"motley-fool-money\\\\\", \\\\\"usmf-video\\\\\", \\\\\"msn\\\\\", \\\\\"default-partners\\\\\"]\", \"test_bucket\": 40, \"session_count\": 0, \"ten_or_more_sessions\": false, \"services\": [], \"uid\": \"\"})});</script>\\n    </div>\\n</div>\\n            </div>\\n          \\n        \\n      </div>\\n      \\n\\n      \\n      <div class=\"md:flex md:flex-col md:w-1/4\">\\n\\n        \\n          \\n          \\n        \\n\\n        \\n          <div id=\"invest-smarter-sidebar-wrapper\" class=\"article-redesign-invest-smarter\">\\n  <div class=\"portable-module\">\\n    <h2 class=\"font-bold uppercase text-md mb-20px text-gray-1100\">Invest Smarter with The Motley Fool</h2>\\n\\n    <div class=\"border border-gray-300 p-24px md:mb-60 shadow-card\">\\n      <div class=\"flex items-center border-b border-gray-300 pb-4px mb-16px\">\\n          <h3 class=\"text-xl font-light leading-snug text-gray-1100\">Join Over 1 Million Premium Members Receiving…</h3>\\n          <svg class=\"ml-12px\" width=\"69\" height=\"32\" viewBox=\"0 0 69 32\" fill=\"none\" xmlns=\"http://www.w3.org/2000/svg\">\\n            <path fill-rule=\"evenodd\" clip-rule=\"evenodd\" d=\"M68.067 26.5035C68.067 28.0233 66.8326 29.2587 65.3097 29.2587C63.7869 29.2587 62.5535 28.0233 62.5535 26.5035C62.5535 24.9796 63.7869 23.7441 65.3097 23.7441C66.8326 23.7441 68.067 24.9796 68.067 26.5035Z\" fill=\"#FFB81C\"/>\\n            <path fill-rule=\"evenodd\" clip-rule=\"evenodd\" d=\"M0 26.5035C0 28.0233 1.23442 29.2587 2.75729 29.2587C4.27913 29.2587 5.51355 28.0233 5.51355 26.5035C5.51355 24.9796 4.27913 23.7441 2.75729 23.7441C1.23442 23.7441 0 24.9796 0 26.5035Z\" fill=\"#FFB81C\"/>\\n            <path fill-rule=\"evenodd\" clip-rule=\"evenodd\" d=\"M48.8049 -0.000244141C56.8008 -0.000244141 63.5136 8.98292 65.4107 21.1338C65.4458 21.3571 65.2908 21.5722 65.0654 21.6104C64.8721 21.6445 64.6839 21.5381 64.6105 21.353C62.7134 16.7089 59.4578 13.6446 55.7586 13.6446C50.455 13.6446 45.7985 20.1299 45.2753 29.049C44.5868 30.5295 39.0939 31.6626 34.0332 31.8549V10.5327C37.1751 4.11243 43.3968 -0.000244141 48.8049 -0.000244141Z\" fill=\"#981E97\"/>\\n            <path fill-rule=\"evenodd\" clip-rule=\"evenodd\" d=\"M19.2619 -0.000244141C11.266 -0.000244141 4.55218 8.98292 2.65609 21.1338C2.61991 21.3571 2.77602 21.5722 3.0014 21.6104C3.1937 21.6445 3.38289 21.5381 3.4563 21.353C5.35342 16.7089 8.60903 13.6446 12.3082 13.6446C17.6118 13.6446 22.2683 20.1299 22.7914 29.049C23.48 30.5295 28.9729 31.6626 34.0336 31.8549V10.5327C30.8907 4.11243 24.67 -0.000244141 19.2619 -0.000244141Z\" fill=\"#E31C79\"/>\\n          </svg>\\n      </div>\\n      <ul class=\"text-sm mb-16px ml-16px\">\\n        <li class=\"list-disc md:list-inside\">New Stock Picks Each Month</li>\\n        <li class=\"list-disc md:list-inside\">Detailed Analysis of Companies</li>\\n        <li class=\"list-disc md:list-inside\">Model Portfolios</li>\\n        <li class=\"list-disc md:list-inside\">Live Streaming During Market Hours</li>\\n        <li class=\"list-disc md:list-inside\">And Much More</li>\\n      </ul>\\n      <a href=\"https://www.fool.com/mms/mark/op-smrt-wdg-art\" class=\"block font-bold text-center text-white rounded py-12px mt-4px bg-cyan-700 shadow-card hover:bg-cyan-600 hover:text-white focus:outline-none focus:ring-2 focus:ring-cyan-400 focus:ring-opacity-75\">Get Started Now</a>\\n    </div>\\n  </div>\\n</div>\\n\\n        \\n\\n        \\n          <div class=\"hidden md:block\">\\n  <h2 class=\"font-bold uppercase text-md mb-20px text-gray-1100\">Motley Fool Investing Philosophy</h2>\\n  <div class=\"border border-gray-300 p-24px mb-60 shadow-card article-redesign-investing-philosophy\">\\n    <ol class=\"p-0 m-0 font-bold text-md\">\\n      <li class=\"mb-12px\">\\n        <span class=\"inline-block text-sm text-center text-white rounded leading-relative-4 bg-cyan-700 w-28px h-20px py-2px mr-4px\">#1</span>\\n        Buy 25+ Companies\\n      </li>\\n      <li class=\"mb-12px\">\\n        <span class=\"inline-block text-sm text-center text-white bg-blue-700 rounded leading-relative-4 w-28px h-20px py-2px mr-4px\">#2</span>\\n        Hold Stocks for 5+ Years\\n      </li>\\n      <li class=\"mb-12px\">\\n        <span class=\"inline-block text-sm text-center text-white rounded leading-relative-4 bg-royal-purple-700 w-28px h-20px py-2px mr-4px\">#3</span>\\n        Add New Savings Regularly\\n      </li>\\n      <li class=\"mb-12px\">\\n        <span class=\"inline-block text-sm text-center text-white bg-purple-700 rounded leading-relative-4 w-28px h-20px py-2px mr-4px\">#4</span>\\n        Hold Through Market Volatility\\n      </li>\\n      <li class=\"mb-12px\">\\n        <span class=\"inline-block text-sm text-center text-white rounded leading-relative-4 bg-magenta-700 w-28px h-20px py-2px mr-4px\">#5</span>\\n        Let Winners Run\\n      </li>\\n      <li>\\n        <span class=\"inline-block text-sm text-center text-white bg-red-700 rounded leading-relative-4 w-28px h-20px py-2px mr-4px\">#6</span>\\n        Target Long-Term Returns\\n      </li>\\n    </ol>\\n    <p class=\"text-gray-700 pt-16px text-md\">Why do we invest this way? <a class=\"text-cyan-800 hover:text-cyan-600\" href=\"https://www.fool.com/about/investing-philosophy/\">Learn More</a></p>\\n  </div>\\n</div>\\n\\n        \\n\\n        \\n          \\n\\n<h2 class=\"font-bold uppercase text-md mb-20px text-gray-1100\">Stocks Mentioned</h2>\\n\\n<div class=\"flex flex-col gap-y-6 mb-60\">\\n\\n\\n  \\n    <a href=\"/quote/nasdaq/aapl/\"\\n      class=\"flex border border-gray-300 p-16px shadow-card gap-x-12 hover:text-cyan-800 text-gray-1100\">\\n      <img alt=\"Apple Inc. Stock Quote\"\\n          class=\"flex-none object-contain\"\\n          width=\"48\"\\n          height=\"48\"\\n          data-img-src=\"https://g.foolcdn.com/art/companylogos/mark/AAPL.png\"\\n          src=\"https://g.foolcdn.com/art/companylogos/mark/AAPL.png\"\\n          onerror=\"logo_on_error.call(this,&#39;AAPL&#39;,&#39;&#39;,36,36,12,&#39;111111&#39;,&#39;eeeeee&#39;)\"\\n      />\\n      <div>\\n        <div class=\"text-lg font-bold leading-tight\">Apple Inc.</div>\\n        <div class=\"text-sm font-medium leading-tight text-gray-800\">AAPL</div>\\n        \\n          <div class=\"text-sm font-medium leading-tight text-gray-1100\">\\n            <span>$157.44</span>\\n            <span class=\"text-red-900\">\\n              <span>(-1.17%)</span>\\n              <span>$-1.86</span>\\n            </span>\\n          </div>\\n        \\n      </div>\\n    </a>\\n  \\n\\n  \\n      <div id=\"article_sidebar_small-container\">\\n    <div id=\"article_sidebar_small\"></div>\\n</div>\\n<script type=\"text/javascript\">\\n    jQuery(window).on(\\'load\\', function(){\\n        if (typeof (window.infotronQueue) !== \"undefined\") {\\n            window.infotronQueue.Register(\\'article_sidebar_small-container\\');\\n            if (typeof PitchEngine !== \"undefined\") {\\n                PitchEngine.initialize({\\n                    site: \\'fool\\',\\n                    placement: \\'article_sidebar_small\\',\\n                    pitchContainer: \\'article_sidebar_small-container\\'\\n                });\\n            }\\n        }\\n    });\\n</script>\\n\\n\\n\\n      <script>\\n        $(function() {\\n          setTimeout(function() {\\n              console.log(\\'Template: Initiating article_sidebar_small...\\');\\n              var returnValue = $(\\'.market-value.up.Fool100 > span\\').text();\\n              $(\\'#article_sidebar_small-return\\').text(returnValue);\\n          }, 1500);\\n        });\\n      </script>\\n\\n      \\n  \\n\\n\\n\\n  \\n    <a href=\"/quote/nyse/brk.a/\"\\n      class=\"flex border border-gray-300 p-16px shadow-card gap-x-12 hover:text-cyan-800 text-gray-1100\">\\n      <img alt=\"Berkshire Hathaway Inc. Stock Quote\"\\n          class=\"flex-none object-contain\"\\n          width=\"48\"\\n          height=\"48\"\\n          data-img-src=\"https://g.foolcdn.com/art/companylogos/mark/BRK.A.png\"\\n          src=\"https://g.foolcdn.com/art/companylogos/mark/BRK.A.png\"\\n          onerror=\"logo_on_error.call(this,&#39;BRK.A&#39;,&#39;&#39;,36,36,12,&#39;111111&#39;,&#39;eeeeee&#39;)\"\\n      />\\n      <div>\\n        <div class=\"text-lg font-bold leading-tight\">Berkshire Hathaway Inc.</div>\\n        <div class=\"text-sm font-medium leading-tight text-gray-800\">BRK.A</div>\\n        \\n          <div class=\"text-sm font-medium leading-tight text-gray-1100\">\\n            <span>$478,025.00</span>\\n            <span class=\"text-red-900\">\\n              <span>(-1.34%)</span>\\n              <span>$-6,502.00</span>\\n            </span>\\n          </div>\\n        \\n      </div>\\n    </a>\\n  \\n\\n  \\n\\n\\n\\n  \\n    <a href=\"/quote/nyse/brk.b/\"\\n      class=\"flex border border-gray-300 p-16px shadow-card gap-x-12 hover:text-cyan-800 text-gray-1100\">\\n      <img alt=\"Berkshire Hathaway Inc. Stock Quote\"\\n          class=\"flex-none object-contain\"\\n          width=\"48\"\\n          height=\"48\"\\n          data-img-src=\"https://g.foolcdn.com/art/companylogos/mark/BRK.B.png\"\\n          src=\"https://g.foolcdn.com/art/companylogos/mark/BRK.B.png\"\\n          onerror=\"logo_on_error.call(this,&#39;BRK.B&#39;,&#39;&#39;,36,36,12,&#39;111111&#39;,&#39;eeeeee&#39;)\"\\n      />\\n      <div>\\n        <div class=\"text-lg font-bold leading-tight\">Berkshire Hathaway Inc.</div>\\n        <div class=\"text-sm font-medium leading-tight text-gray-800\">BRK.B</div>\\n        \\n          <div class=\"text-sm font-medium leading-tight text-gray-1100\">\\n            <span>$318.52</span>\\n            <span class=\"text-red-900\">\\n              <span>(-1.30%)</span>\\n              <span>$-4.20</span>\\n            </span>\\n          </div>\\n        \\n      </div>\\n    </a>\\n  \\n\\n  \\n\\n\\n\\n  \\n    <a href=\"/quote/nyse/cmg/\"\\n      class=\"flex border border-gray-300 p-16px shadow-card gap-x-12 hover:text-cyan-800 text-gray-1100\">\\n      <img alt=\"Chipotle Mexican Grill, Inc. Stock Quote\"\\n          class=\"flex-none object-contain\"\\n          width=\"48\"\\n          height=\"48\"\\n          data-img-src=\"https://g.foolcdn.com/art/companylogos/mark/CMG.png\"\\n          src=\"https://g.foolcdn.com/art/companylogos/mark/CMG.png\"\\n          onerror=\"logo_on_error.call(this,&#39;CMG&#39;,&#39;&#39;,36,36,12,&#39;111111&#39;,&#39;eeeeee&#39;)\"\\n      />\\n      <div>\\n        <div class=\"text-lg font-bold leading-tight\">Chipotle Mexican Grill, Inc.</div>\\n        <div class=\"text-sm font-medium leading-tight text-gray-800\">CMG</div>\\n        \\n          <div class=\"text-sm font-medium leading-tight text-gray-1100\">\\n            <span>$1,313.60</span>\\n            <span class=\"text-red-900\">\\n              <span>(-0.78%)</span>\\n              <span>$-10.36</span>\\n            </span>\\n          </div>\\n        \\n      </div>\\n    </a>\\n  \\n\\n  \\n\\n\\n\\n  \\n    <a href=\"/quote/nasdaq/sbux/\"\\n      class=\"flex border border-gray-300 p-16px shadow-card gap-x-12 hover:text-cyan-800 text-gray-1100\">\\n      <img alt=\"Starbucks Corporation Stock Quote\"\\n          class=\"flex-none object-contain\"\\n          width=\"48\"\\n          height=\"48\"\\n          data-img-src=\"https://g.foolcdn.com/art/companylogos/mark/SBUX.png\"\\n          src=\"https://g.foolcdn.com/art/companylogos/mark/SBUX.png\"\\n          onerror=\"logo_on_error.call(this,&#39;SBUX&#39;,&#39;&#39;,36,36,12,&#39;111111&#39;,&#39;eeeeee&#39;)\"\\n      />\\n      <div>\\n        <div class=\"text-lg font-bold leading-tight\">Starbucks Corporation</div>\\n        <div class=\"text-sm font-medium leading-tight text-gray-800\">SBUX</div>\\n        \\n          <div class=\"text-sm font-medium leading-tight text-gray-1100\">\\n            <span>$84.00</span>\\n            <span class=\"text-red-900\">\\n              <span>(-0.55%)</span>\\n              <span>$0.46</span>\\n            </span>\\n          </div>\\n        \\n      </div>\\n    </a>\\n  \\n\\n  \\n\\n\\n\\n  \\n    <a href=\"/quote/nyse/f/\"\\n      class=\"flex border border-gray-300 p-16px shadow-card gap-x-12 hover:text-cyan-800 text-gray-1100\">\\n      <img alt=\"Ford Motor Company Stock Quote\"\\n          class=\"flex-none object-contain\"\\n          width=\"48\"\\n          height=\"48\"\\n          data-img-src=\"https://g.foolcdn.com/art/companylogos/mark/F.png\"\\n          src=\"https://g.foolcdn.com/art/companylogos/mark/F.png\"\\n          onerror=\"logo_on_error.call(this,&#39;F&#39;,&#39;&#39;,36,36,12,&#39;111111&#39;,&#39;eeeeee&#39;)\"\\n      />\\n      <div>\\n        <div class=\"text-lg font-bold leading-tight\">Ford Motor Company</div>\\n        <div class=\"text-sm font-medium leading-tight text-gray-800\">F</div>\\n        \\n          <div class=\"text-sm font-medium leading-tight text-gray-1100\">\\n            <span>$16.03</span>\\n            <span class=\"text-green-900\">\\n              <span>(0.38%)</span>\\n              <span>$0.06</span>\\n            </span>\\n          </div>\\n        \\n      </div>\\n    </a>\\n  \\n\\n  \\n\\n\\n\\n  \\n    <a href=\"/quote/nasdaq/tsla/\"\\n      class=\"flex border border-gray-300 p-16px shadow-card gap-x-12 hover:text-cyan-800 text-gray-1100\">\\n      <img alt=\"Tesla, Inc. Stock Quote\"\\n          class=\"flex-none object-contain\"\\n          width=\"48\"\\n          height=\"48\"\\n          data-img-src=\"https://g.foolcdn.com/art/companylogos/mark/TSLA.png\"\\n          src=\"https://g.foolcdn.com/art/companylogos/mark/TSLA.png\"\\n          onerror=\"logo_on_error.call(this,&#39;TSLA&#39;,&#39;&#39;,36,36,12,&#39;111111&#39;,&#39;eeeeee&#39;)\"\\n      />\\n      <div>\\n        <div class=\"text-lg font-bold leading-tight\">Tesla, Inc.</div>\\n        <div class=\"text-sm font-medium leading-tight text-gray-800\">TSLA</div>\\n        \\n          <div class=\"text-sm font-medium leading-tight text-gray-1100\">\\n            <span>$824.40</span>\\n            <span class=\"text-green-900\">\\n              <span>(2.46%)</span>\\n              <span>$19.82</span>\\n            </span>\\n          </div>\\n        \\n      </div>\\n    </a>\\n  \\n\\n  \\n\\n\\n\\n  \\n    <a href=\"/quote/nyse/ma/\"\\n      class=\"flex border border-gray-300 p-16px shadow-card gap-x-12 hover:text-cyan-800 text-gray-1100\">\\n      <img alt=\"Mastercard Incorporated Stock Quote\"\\n          class=\"flex-none object-contain\"\\n          width=\"48\"\\n          height=\"48\"\\n          data-img-src=\"https://g.foolcdn.com/art/companylogos/mark/MA.png\"\\n          src=\"https://g.foolcdn.com/art/companylogos/mark/MA.png\"\\n          onerror=\"logo_on_error.call(this,&#39;MA&#39;,&#39;&#39;,36,36,12,&#39;111111&#39;,&#39;eeeeee&#39;)\"\\n      />\\n      <div>\\n        <div class=\"text-lg font-bold leading-tight\">Mastercard Incorporated</div>\\n        <div class=\"text-sm font-medium leading-tight text-gray-800\">MA</div>\\n        \\n          <div class=\"text-sm font-medium leading-tight text-gray-1100\">\\n            <span>$314.33</span>\\n            <span class=\"text-green-900\">\\n              <span>(0.45%)</span>\\n              <span>$1.41</span>\\n            </span>\\n          </div>\\n        \\n      </div>\\n    </a>\\n  \\n\\n  \\n\\n\\n\\n  \\n    <a href=\"/quote/nyse/gm/\"\\n      class=\"flex border border-gray-300 p-16px shadow-card gap-x-12 hover:text-cyan-800 text-gray-1100\">\\n      <img alt=\"General Motors Company Stock Quote\"\\n          class=\"flex-none object-contain\"\\n          width=\"48\"\\n          height=\"48\"\\n          data-img-src=\"https://g.foolcdn.com/art/companylogos/mark/GM.png\"\\n          src=\"https://g.foolcdn.com/art/companylogos/mark/GM.png\"\\n          onerror=\"logo_on_error.call(this,&#39;GM&#39;,&#39;&#39;,36,36,12,&#39;111111&#39;,&#39;eeeeee&#39;)\"\\n      />\\n      <div>\\n        <div class=\"text-lg font-bold leading-tight\">General Motors Company</div>\\n        <div class=\"text-sm font-medium leading-tight text-gray-800\">GM</div>\\n        \\n          <div class=\"text-sm font-medium leading-tight text-gray-1100\">\\n            <span>$40.20</span>\\n            <span class=\"text-green-900\">\\n              <span>(0.93%)</span>\\n              <span>$0.37</span>\\n            </span>\\n          </div>\\n        \\n      </div>\\n    </a>\\n  \\n\\n  \\n\\n\\n\\n  \\n    <a href=\"/quote/nasdaq/nvda/\"\\n      class=\"flex border border-gray-300 p-16px shadow-card gap-x-12 hover:text-cyan-800 text-gray-1100\">\\n      <img alt=\"NVIDIA Corporation Stock Quote\"\\n          class=\"flex-none object-contain\"\\n          width=\"48\"\\n          height=\"48\"\\n          data-img-src=\"https://g.foolcdn.com/art/companylogos/mark/NVDA.png\"\\n          src=\"https://g.foolcdn.com/art/companylogos/mark/NVDA.png\"\\n          onerror=\"logo_on_error.call(this,&#39;NVDA&#39;,&#39;&#39;,36,36,12,&#39;111111&#39;,&#39;eeeeee&#39;)\"\\n      />\\n      <div>\\n        <div class=\"text-lg font-bold leading-tight\">NVIDIA Corporation</div>\\n        <div class=\"text-sm font-medium leading-tight text-gray-800\">NVDA</div>\\n        \\n          <div class=\"text-sm font-medium leading-tight text-gray-1100\">\\n            <span>$215.14</span>\\n            <span class=\"text-green-900\">\\n              <span>(0.76%)</span>\\n              <span>$1.62</span>\\n            </span>\\n          </div>\\n        \\n      </div>\\n    </a>\\n  \\n\\n  \\n\\n\\n\\n  \\n    <a href=\"/quote/nyse/bam/\"\\n      class=\"flex border border-gray-300 p-16px shadow-card gap-x-12 hover:text-cyan-800 text-gray-1100\">\\n      <img alt=\"Brookfield Asset Management Inc. Stock Quote\"\\n          class=\"flex-none object-contain\"\\n          width=\"48\"\\n          height=\"48\"\\n          data-img-src=\"https://g.foolcdn.com/art/companylogos/mark/BAM.png\"\\n          src=\"https://g.foolcdn.com/art/companylogos/mark/BAM.png\"\\n          onerror=\"logo_on_error.call(this,&#39;BAM&#39;,&#39;&#39;,36,36,12,&#39;111111&#39;,&#39;eeeeee&#39;)\"\\n      />\\n      <div>\\n        <div class=\"text-lg font-bold leading-tight\">Brookfield Asset Management Inc.</div>\\n        <div class=\"text-sm font-medium leading-tight text-gray-800\">BAM</div>\\n        \\n          <div class=\"text-sm font-medium leading-tight text-gray-1100\">\\n            <span>$52.20</span>\\n            <span class=\"text-red-900\">\\n              <span>(-0.17%)</span>\\n              <span>$0.09</span>\\n            </span>\\n          </div>\\n        \\n      </div>\\n    </a>\\n  \\n\\n  \\n\\n\\n\\n  \\n    <a href=\"/quote/nyse/mkc/\"\\n      class=\"flex border border-gray-300 p-16px shadow-card gap-x-12 hover:text-cyan-800 text-gray-1100\">\\n      <img alt=\"McCormick &amp; Company, Incorporated Stock Quote\"\\n          class=\"flex-none object-contain\"\\n          width=\"48\"\\n          height=\"48\"\\n          data-img-src=\"https://g.foolcdn.com/art/companylogos/mark/MKC.png\"\\n          src=\"https://g.foolcdn.com/art/companylogos/mark/MKC.png\"\\n          onerror=\"logo_on_error.call(this,&#39;MKC&#39;,&#39;&#39;,36,36,12,&#39;111111&#39;,&#39;eeeeee&#39;)\"\\n      />\\n      <div>\\n        <div class=\"text-lg font-bold leading-tight\">McCormick &amp; Company, Incorporated</div>\\n        <div class=\"text-sm font-medium leading-tight text-gray-800\">MKC</div>\\n        \\n          <div class=\"text-sm font-medium leading-tight text-gray-1100\">\\n            <span>$97.55</span>\\n            <span class=\"text-red-900\">\\n              <span>(-6.26%)</span>\\n              <span>$-6.51</span>\\n            </span>\\n          </div>\\n        \\n      </div>\\n    </a>\\n  \\n\\n  \\n\\n\\n\\n  \\n    <a href=\"/quote/nyse/bip/\"\\n      class=\"flex border border-gray-300 p-16px shadow-card gap-x-12 hover:text-cyan-800 text-gray-1100\">\\n      <img alt=\"Brookfield Infrastructure Partners L.P. Stock Quote\"\\n          class=\"flex-none object-contain\"\\n          width=\"48\"\\n          height=\"48\"\\n          data-img-src=\"https://g.foolcdn.com/art/companylogos/mark/BIP.png\"\\n          src=\"https://g.foolcdn.com/art/companylogos/mark/BIP.png\"\\n          onerror=\"logo_on_error.call(this,&#39;BIP&#39;,&#39;&#39;,36,36,12,&#39;111111&#39;,&#39;eeeeee&#39;)\"\\n      />\\n      <div>\\n        <div class=\"text-lg font-bold leading-tight\">Brookfield Infrastructure Partners L.P.</div>\\n        <div class=\"text-sm font-medium leading-tight text-gray-800\">BIP</div>\\n        \\n          <div class=\"text-sm font-medium leading-tight text-gray-1100\">\\n            <span>$59.62</span>\\n            <span class=\"text-green-900\">\\n              <span>(0.20%)</span>\\n              <span>$0.12</span>\\n            </span>\\n          </div>\\n        \\n      </div>\\n    </a>\\n  \\n\\n  \\n\\n\\n\\n  \\n    <a href=\"/quote/otc/sftbf/\"\\n      class=\"flex border border-gray-300 p-16px shadow-card gap-x-12 hover:text-cyan-800 text-gray-1100\">\\n      <img alt=\"SoftBank Group Corp. Stock Quote\"\\n          class=\"flex-none object-contain\"\\n          width=\"48\"\\n          height=\"48\"\\n          data-img-src=\"https://g.foolcdn.com/art/companylogos/mark/SFTBF.png\"\\n          src=\"https://g.foolcdn.com/art/companylogos/mark/SFTBF.png\"\\n          onerror=\"logo_on_error.call(this,&#39;SFTBF&#39;,&#39;&#39;,36,36,12,&#39;111111&#39;,&#39;eeeeee&#39;)\"\\n      />\\n      <div>\\n        <div class=\"text-lg font-bold leading-tight\">SoftBank Group Corp.</div>\\n        <div class=\"text-sm font-medium leading-tight text-gray-800\">SFTBF</div>\\n        \\n          <div class=\"text-sm font-medium leading-tight text-gray-1100\">\\n            <span>$38.72</span>\\n            <span class=\"text-red-900\">\\n              <span>(-4.11%)</span>\\n              <span>$-1.66</span>\\n            </span>\\n          </div>\\n        \\n      </div>\\n    </a>\\n  \\n\\n  \\n\\n\\n\\n  \\n    <a href=\"/quote/nasdaq/khc/\"\\n      class=\"flex border border-gray-300 p-16px shadow-card gap-x-12 hover:text-cyan-800 text-gray-1100\">\\n      <img alt=\"Kraft Heinz Intermediate Corporation II Stock Quote\"\\n          class=\"flex-none object-contain\"\\n          width=\"48\"\\n          height=\"48\"\\n          data-img-src=\"https://g.foolcdn.com/art/companylogos/mark/KHC.png\"\\n          src=\"https://g.foolcdn.com/art/companylogos/mark/KHC.png\"\\n          onerror=\"logo_on_error.call(this,&#39;KHC&#39;,&#39;&#39;,36,36,12,&#39;111111&#39;,&#39;eeeeee&#39;)\"\\n      />\\n      <div>\\n        <div class=\"text-lg font-bold leading-tight\">Kraft Heinz Intermediate Corporation II</div>\\n        <div class=\"text-sm font-medium leading-tight text-gray-800\">KHC</div>\\n        \\n          <div class=\"text-sm font-medium leading-tight text-gray-1100\">\\n            <span>$38.66</span>\\n            <span class=\"text-red-900\">\\n              <span>(-3.71%)</span>\\n              <span>$-1.49</span>\\n            </span>\\n          </div>\\n        \\n      </div>\\n    </a>\\n  \\n\\n  \\n\\n\\n\\n  \\n    <a href=\"/quote/nyse/bipc/\"\\n      class=\"flex border border-gray-300 p-16px shadow-card gap-x-12 hover:text-cyan-800 text-gray-1100\">\\n      <img alt=\"Brookfield Infrastructure Corporation Stock Quote\"\\n          class=\"flex-none object-contain\"\\n          width=\"48\"\\n          height=\"48\"\\n          data-img-src=\"https://g.foolcdn.com/art/companylogos/mark/BIPC.png\"\\n          src=\"https://g.foolcdn.com/art/companylogos/mark/BIPC.png\"\\n          onerror=\"logo_on_error.call(this,&#39;BIPC&#39;,&#39;&#39;,36,36,12,&#39;111111&#39;,&#39;eeeeee&#39;)\"\\n      />\\n      <div>\\n        <div class=\"text-lg font-bold leading-tight\">Brookfield Infrastructure Corporation</div>\\n        <div class=\"text-sm font-medium leading-tight text-gray-800\">BIPC</div>\\n        \\n          <div class=\"text-sm font-medium leading-tight text-gray-1100\">\\n            <span>$71.30</span>\\n            <span class=\"text-red-900\">\\n              <span>(-0.08%)</span>\\n              <span>$0.06</span>\\n            </span>\\n          </div>\\n        \\n      </div>\\n    </a>\\n  \\n\\n  \\n\\n\\n\\n<p class=\"italic text-10 leading-1 mt-4px\">*Average returns of all recommendations since inception. Cost basis and return based on previous market day close.</p>\\n</div>\\n\\n\\n        \\n\\n        <h2 class=\"font-bold uppercase text-md mb-20px text-gray-1100\">Related Articles</h2>\\n\\n<div class=\"grid pb-60 md:pb-0px mb-0px md:mb-60 gap-y-12\">\\n  \\n  <a class=\"flex items-center hover:text-cyan-800 text-gray-1100 gap-x-12\" href=\"/investing/2022/03/02/87-warren-buffetts-portfolio-is-in-these-3-sectors/\">\\n    <img style=\"height:52px;width:92px;\" width=\"92\" height=\"52\" class=\"flex-none object-cover\" src=\"https://g.foolcdn.com/editorial/images/668134/16756851854_91c8a910c8_k.jpg\" />\\n    <div class=\"font-medium leading-tight text-md\">87% of Warren Buffett&#39;s Portfolio Is in These 3 Sectors</div>\\n  </a>\\n  \\n  <a class=\"flex items-center hover:text-cyan-800 text-gray-1100 gap-x-12\" href=\"/investing/2022/02/11/how-should-you-invest-when-inflation-is-high/\">\\n    <img style=\"height:52px;width:92px;\" width=\"92\" height=\"52\" class=\"flex-none object-cover\" src=\"https://g.foolcdn.com/editorial/images/665141/inflation-price-tag-2022.jpg\" />\\n    <div class=\"font-medium leading-tight text-md\">How Should You Invest When Inflation Is High?</div>\\n  </a>\\n  \\n  <a class=\"flex items-center hover:text-cyan-800 text-gray-1100 gap-x-12\" href=\"/investing/2022/02/11/is-apples-latest-announcement-a-threat-to-block-sq/\">\\n    <img style=\"height:52px;width:92px;\" width=\"92\" height=\"52\" class=\"flex-none object-cover\" src=\"https://g.foolcdn.com/editorial/images/665208/mobile-payment-2022-b.jpg\" />\\n    <div class=\"font-medium leading-tight text-md\">Is Apple&#39;s Latest Announcement a Threat to Block (Square)?</div>\\n  </a>\\n  \\n  <a class=\"flex items-center hover:text-cyan-800 text-gray-1100 gap-x-12\" href=\"/investing/2022/02/10/4-stocks-make-up-75-of-warren-buffetts-portfolio/\">\\n    <img style=\"height:52px;width:92px;\" width=\"92\" height=\"52\" class=\"flex-none object-cover\" src=\"https://g.foolcdn.com/editorial/images/664938/ko-drink-bottle.jpg\" />\\n    <div class=\"font-medium leading-tight text-md\">These 4 Stocks Make Up Nearly 75% of Warren Buffett&#39;s Portfolio</div>\\n  </a>\\n  \\n  <a class=\"flex items-center hover:text-cyan-800 text-gray-1100 gap-x-12\" href=\"/investing/2021/12/31/the-best-warren-buffett-stocks-to-buy-with-300-rig/\">\\n    <img style=\"height:52px;width:92px;\" width=\"92\" height=\"52\" class=\"flex-none object-cover\" src=\"https://g.foolcdn.com/editorial/images/659156/warren-buffett-by-the-motley-fool.jpg\" />\\n    <div class=\"font-medium leading-tight text-md\">The Best Warren Buffett Stocks to Buy With $300 Right Now</div>\\n  </a>\\n  \\n</div>\\n\\n\\n        \\n          <div id=\"sa-returns-sidebar-wrapper\">\\n  <div class=\"portable-module\">\\n    <h2 class=\"font-bold uppercase text-md mb-20px text-gray-1100\">Motley Fool Returns</h2>\\n    \\n    <div class=\"border border-gray-300 p-24px md:mb-60 shadow-card\">\\n      <img src=\"https://optimize.foolcdn.com/?url=https%3A%2F%2Fg.foolcdn.com%2Fmisc-assets/sa-logo-cropped.png&w=600&op=resize\" alt=\"Motley Fool Stock Advisor\">\\n      <p class=\"mt-8px mb-12px text-md\">Market-beating stocks from our award-winning service.</p>\\n\\n      \\n        <div class=\"flex items-center justify-between border-t border-b border-gray-300 pb-8px pt-20px text-gray-1100\">\\n          <div>\\n            <div style=\"font-size:10px\" class=\"font-bold uppercase\">Stock Advisor Returns</div>\\n\\n            \\n            <div class=\"hidden market-value up Fool100\"><span>446%</span></div>\\n\\n            <div class=\"text-4xl font-bold\">446%</div>\\n          </div>\\n          <div class=\"transform border-l border-gray-300 h-48px rotate-12\">&nbsp;</div>\\n          <div>\\n            <div style=\"font-size:10px\" class=\"font-bold uppercase\">S&amp;P 500 Returns</div>\\n            <div class=\"text-2xl font-bold\">126%</div>\\n          </div>\\n        </div>\\n\\n        <div class=\"py-16px\">\\n          <p class=\"mb-10 italic text-10\">Calculated by average return of all stock recommendations since inception of the Stock Advisor service in February of 2002. Returns as of 03/08/2022.</p>\\n          <p class=\"italic text-10\">Discounted offers are only available to new members. Stock Advisor list price is $199 per year.</p>\\n        </div>\\n      \\n    \\n      <div class=\"text-center\">\\n        <a href=\"https://www.fool.com/mms/mark/op-sa-v-sp-wdg-art-new-temp\" class=\"mx-auto tmf-button-link tmf-button-link_success\">\\n          <span class=\"tmf-button-link_label\">\\n            Join Stock Advisor\\n          </span>\\n        </a>\\n      </div>\\n\\n      <div class=\"hidden pt-16px md:block\">\\n        <div class=\"font-bold leading-tight mb-4px text-md\">Cumulative Growth of a $10,000 Investment in Stock Advisor</div>\\n        <p class=\"text-sm mb-8px\">Calculated by Time-Weighted Return since 2002. Volatility profiles based on trailing-three-year calculations of the standard deviation of service investment returns as of January 1, 2021.</p>\\n        <img alt=\"Chart Showing the Cumulative Growth of a $10,000 Investment in Stock Advisor\" src=\"https://g.foolcdn.com/misc-assets/stock-advisor-vs-sp_small.png\"/>\\n      </div>\\n\\n    </div>\\n  </div>\\n</div>\\n\\n        \\n\\n        \\n          \\n          \\n        \\n\\n      </div>\\n      \\n\\n      <script>\\n        (function () {\\n          // Move sidebar modules into body content on mobile viewports.\\n          //\\n          // Using JS instead of hiding/showing via CSS media queries to avoid duplicating\\n          // page content in an attempt to mitigate risk of getting dinged on SEO ranking.\\n\\n          const content_div = document.querySelector(\"div.tailwind-article-body\");\\n          const fifth_paragraph = content_div.querySelector(\"p:nth-of-type(5)\");\\n          const seventh_paragraph = content_div.querySelector(\"p:nth-of-type(7)\");\\n\\n          const mobilize_sidebar_modules = () => {\\n\\n            if (fifth_paragraph) {\\n              const sidebar_returns_wrapper = document.getElementById(\\n                \"sa-returns-sidebar-wrapper\"\\n              );\\n              const returns_module = sidebar_returns_wrapper.querySelector(\".portable-module\");\\n              const homeless_returns_module = sidebar_returns_wrapper.removeChild(returns_module);\\n\\n              const inline_returns_wrapper = document.createElement(\"div\");\\n              inline_returns_wrapper.id = \"sa-returns-inline-wrapper\";\\n              inline_returns_wrapper.appendChild(homeless_returns_module);\\n\\n              content_div.insertBefore(inline_returns_wrapper, fifth_paragraph.nextSibling);\\n            }\\n\\n            if (seventh_paragraph) {\\n              const sidebar_invest_smarter_wrapper = document.getElementById(\\n                \"invest-smarter-sidebar-wrapper\"\\n              );\\n              const invest_smarter_module = sidebar_invest_smarter_wrapper.querySelector(\".portable-module\");\\n              const homeless_invest_smarter_module = sidebar_invest_smarter_wrapper.removeChild(invest_smarter_module);\\n\\n              const inline_invest_smarter_wrapper = document.createElement(\"div\");\\n              inline_invest_smarter_wrapper.id = \"invest-smarter-inline-wrapper\";\\n              inline_invest_smarter_wrapper.appendChild(homeless_invest_smarter_module);\\n\\n              content_div.insertBefore(inline_invest_smarter_wrapper, seventh_paragraph.nextSibling);\\n            }\\n          }\\n\\n          const desktopify_sidebar_modules = () => {\\n            if (fifth_paragraph) {\\n              const inline_returns_wrapper = document.getElementById(\\n                \"sa-returns-inline-wrapper\"\\n              );\\n              const returns_module = inline_returns_wrapper.querySelector(\".portable-module\");\\n              const homeless_returns_module = inline_returns_wrapper.removeChild(returns_module);\\n              document\\n                .getElementById(\"sa-returns-sidebar-wrapper\")\\n                .appendChild(homeless_returns_module);\\n            }\\n\\n            if (seventh_paragraph) {\\n              const inline_invest_smarter_wrapper = document.getElementById(\\n                \"invest-smarter-inline-wrapper\"\\n              );\\n              const invest_smarter_module = inline_invest_smarter_wrapper.querySelector(\".portable-module\");\\n              const homeless_invest_smarter_module = inline_invest_smarter_wrapper.removeChild(invest_smarter_module);\\n              document\\n                .getElementById(\"invest-smarter-sidebar-wrapper\")\\n                .appendChild(homeless_invest_smarter_module);\\n            }\\n          };\\n\\n          const toggle_sidebar_modules = (is_mobile) => {\\n            if (is_mobile) {\\n              mobilize_sidebar_modules();\\n            } else {\\n              desktopify_sidebar_modules();\\n            }\\n          };\\n\\n          const mobile_query = window.matchMedia(\"(max-width: 640px\");\\n          if (mobile_query.matches) {\\n            mobilize_sidebar_modules();\\n          }\\n          mobile_query.addEventListener(\"change\", (e) => {\\n            toggle_sidebar_modules(e.matches);\\n          });\\n\\n        })();\\n      </script>\\n    </div>\\n\\n    \\n<div class=\"py-48 mx-auto border-t border-gray-300 max-w-1280 article-redesign-popular-articles\">\\n  <h2 class=\"font-light mb-20px text-gray-1100 text-28px\">Our Most Popular Articles</h2>\\n\\n  <div class=\"overflow-x-auto overflow-y-hidden\">\\n    <div class=\"flex place-content-between\" style=\"width:1280px;\">\\n      \\n      <a style=\"width:300px;\" class=\"items-center block w-1/4 hover:text-cyan-800 text-gray-1100\" href=\"/investing/2022/03/08/5-semiconductor-growth-stocks-to-buy-now-and-hold/\">\\n        <div class=\"bg-gray-100\">\\n          <img style=\"height:170px;\" width=\"100%\" height=\"100%\" class=\"flex-none object-cover\" src=\"https://g.foolcdn.com/editorial/images/669262/an-advanced-robot-arm-holding-a-computer-processing-chip.jpg\" />\\n        </div>\\n        <div class=\"font-medium leading-normal text-h5 mt-16px\">5 Semiconductor Growth Stocks to Buy Now and Hold</div>\\n      </a>\\n      \\n      <a style=\"width:300px;\" class=\"items-center block w-1/4 hover:text-cyan-800 text-gray-1100\" href=\"/investing/2022/03/07/1-electric-vehicle-stock-buy-2-avoid-like-plague/\">\\n        <div class=\"bg-gray-100\">\\n          <img style=\"height:170px;\" width=\"100%\" height=\"100%\" class=\"flex-none object-cover\" src=\"https://g.foolcdn.com/editorial/images/669077/nio-et7-ev-sedan.jpg\" />\\n        </div>\\n        <div class=\"font-medium leading-normal text-h5 mt-16px\">1 Electric Vehicle Stock to Buy Hand Over Fist and 2 to Avoid Like the Plague</div>\\n      </a>\\n      \\n      <a style=\"width:300px;\" class=\"items-center block w-1/4 hover:text-cyan-800 text-gray-1100\" href=\"/investing/2022/03/08/i-panicked-when-i-checked-my-portfolio-balance-las/\">\\n        <div class=\"bg-gray-100\">\\n          <img style=\"height:170px;\" width=\"100%\" height=\"100%\" class=\"flex-none object-cover\" src=\"https://g.foolcdn.com/editorial/images/669433/a-person-at-a-laptop-covering-their-face_gettyimages-875247462.jpg\" />\\n        </div>\\n        <div class=\"font-medium leading-normal text-h5 mt-16px\">I Panicked When I Checked My Portfolio Balance Last Night. Then I Did This.</div>\\n      </a>\\n      \\n      <a style=\"width:300px;\" class=\"items-center block w-1/4 hover:text-cyan-800 text-gray-1100\" href=\"/investing/2022/03/08/why-tesla-nio-and-nikola-stocks-popped-today/\">\\n        <div class=\"bg-gray-100\">\\n          <img style=\"height:170px;\" width=\"100%\" height=\"100%\" class=\"flex-none object-cover\" src=\"https://g.foolcdn.com/editorial/images/669528/2-electric-cars-plugged-into-a-charger-side-by-side-at-dusk.jpg\" />\\n        </div>\\n        <div class=\"font-medium leading-normal text-h5 mt-16px\">Why Tesla, Nio, and Nikola Stocks Popped Today</div>\\n      </a>\\n      \\n    </div>\\n  </div>\\n\\n</div>\\n\\n\\n  </div>\\n</section>\\n\\n<div class=\"bg-center bg-no-repeat bg-cover px-40px\" style=\"background-image:url(\\'https://g.foolcdn.com/misc-assets/bg-cap-tickers.png\\');\">\\n  <div class=\"py-48 mx-auto md:flex place-items-center place-content-between max-w-1280\">\\n    <div class=\"w-full md:w-1/2 lg:w-1/3\">\\n      <h2 class=\"font-normal leading-none lg:font-light text-gold-600 text-28px leading-relative-3\">Premium Investing Services</h2>\\n      <p class=\"text-gray-100\">\\n        Invest better with the Motley Fool. Get stock recommendations, portfolio guidance, and more from the Motley Fool\\'s premium services.\\n      </p>\\n    </div>\\n    <div class=\"w-full my-24px md:text-right md:w-1/2 lg:w-2/3\">\\n      <a class=\"font-medium text-gray-100 transition rounded py-12px px-16px rounded-4px bg-gold-600 hover:bg-gold-500 hover:text-gray-100 text-18\" href=\"/services/?ftm_cam=prospect-art\">View Premium Services</a>\\n    </div>\\n</div>\\n\\n\\n\\n\\n<div id=\"promoPopup\" class=\"modal\">\\n\\n    <div class=\"modal-content\">\\n\\n        <h3 class=\"heading\"></h3>\\n        <p class=\"sub-heading\"></p>\\n        <p class=\"para-text\"></p>\\n\\n        <a class=\"button-link\" href=\"https://www.fool.com\"\\n          data-track-category=\"dubs-modal\"\\n          data-track-action=\"marketing-pop-up\"\\n          data-track-link=\"pop-up-cta-click\">\\n            <span class=\"refer\">Get Started Now</span>\\n        </a>\\n\\n        <div class=\"rainbow\">\\n          <span style=\"background:#43B02A\"></span>\\n          <span style=\"background:#0095C8\"></span>\\n          <span style=\"background:#485CC7\"></span>\\n          <span style=\"background:#753BBD\"></span>\\n          <span style=\"background:#981E97\"></span>\\n          <span style=\"background:#E31C79\"></span>\\n          <span style=\"background:#F9423A\"></span>\\n          <span style=\"background:#FF6900\"></span>\\n          <span style=\"background:#CF7F00\"></span>\\n          <span style=\"background:#FFB81C\"></span>\\n\\n          <span style=\"background:#FFB81C\"></span>\\n          <span style=\"background:#CF7F00\"></span>\\n          <span style=\"background:#FF6900\"></span>\\n          <span style=\"background:#F9423A\"></span>\\n          <span style=\"background:#E31C79\"></span>\\n          <span style=\"background:#981E97\"></span>\\n          <span style=\"background:#753BBD\"></span>\\n          <span style=\"background:#485CC7\"></span>\\n          <span style=\"background:#0095C8\"></span>\\n          <span style=\"background:#43B02A\"></span>\\n        </div>\\n        <span class=\"close\"><svg><use xlink:href=\"#circle-xmark\"></use></svg></span>\\n    </div>\\n\\n</div>\\n\\n<link rel=\"stylesheet\" href=\"//g.foolcdn.com/static/dubs/CACHE/css/output.280e7ab82211.css\" type=\"text/css\">\\n\\n<script>\\n(() => {\\n  const modal = document.getElementById(\"promoPopup\");\\n\\n  const dismiss = function () {\\n    modal.style.display = \"none\";\\n  };\\n\\n  modal.querySelector(\".close\").onclick = dismiss;\\n\\n  window.onclick = (e) => {\\n    if (e.target === modal) {\\n      dismiss();\\n    }\\n  };\\n\\n  document.addEventListener(\"keydown\", (e) => {\\n    if (e.key === \"Escape\") {\\n      dismiss();\\n    }\\n  });\\n})();\\n</script>\\n\\n\\n\\n      </div>\\n      \\n      \\n\\n      <footer class=\"bg-black footer\" id=\"usmf-footer\">\\n    <div class=\"footer-main\">\\n        <div class=\"footer-site-info\">\\n            <a href=\"/\"><img class=\"fool-logo\" src=\"https://g.foolcdn.com/misc-assets/logo-tmf-primary-1-magenta-purple-reversed.svg\" alt=\"The Motley Fool\"></a>\\n\\n            <p class=\"tagline\">Making the world smarter, happier, and richer.</p>\\n\\n            <ul class=\"footer-social\">\\n                <li class=\"footer-social-icon\"><a target=\"_blank\" data-action=\"social-icons\" href=\"https://www.facebook.com/themotleyfool?fref=ts\"><span class=\"sr-only\">Facebook</span><svg class=\"fa-svg-icon\"><use xlink:href=\"#facebook\"></use></svg></a></li>\\n                <li class=\"footer-social-icon\"><a target=\"_blank\" data-action=\"social-icons\" href=\"https://twitter.com/TheMotleyFool\"><span class=\"sr-only\">Twitter</span><svg class=\"fa-svg-icon\"><use xlink:href=\"#twitter\"></use></svg></a></li>\\n                <li class=\"footer-social-icon\"><a target=\"_blank\" data-action=\"social-icons\" href=\"https://www.linkedin.com/company/the-motley-fool/\"><span class=\"sr-only\">Linked In</span><svg class=\"fa-svg-icon\"><use xlink:href=\"#linkedin\"></use></svg></a></li>\\n                <li class=\"footer-social-icon\"><a target=\"_blank\" data-action=\"social-icons\" href=\"https://www.pinterest.com/themotleyfool/\"><span class=\"sr-only\">Pinterest</span><svg class=\"fa-svg-icon\"><use xlink:href=\"#pinterest\"></use></svg></a></li>\\n                <li class=\"footer-social-icon\"><a target=\"_blank\" data-action=\"social-icons\" href=\"https://www.youtube.com/user/TheMotleyFool\"><span class=\"sr-only\">YouTube</span><svg class=\"fa-svg-icon\"><use xlink:href=\"#youtube\"></use></svg></a></li>\\n                <li class=\"footer-social-icon\"><a target=\"_blank\" data-action=\"social-icons\" href=\"https://www.instagram.com/themotleyfoolofficial/\"><span class=\"sr-only\">Instagram</span><svg class=\"fa-svg-icon\"><use xlink:href=\"#instagram\"></use></svg></a></li>\\n                <li class=\"footer-social-icon\"><a target=\"_blank\" data-action=\"social-icons\" href=\"https://www.tiktok.com/@themotleyfoolofficial\"><span class=\"sr-only\">Tiktok</span><svg class=\"fa-svg-icon\"><use xlink:href=\"#tiktok\"></use></svg></a></li>\\n            </ul>\\n\\n            <div class=\"footer-small\">\\n                <p id=\"footer-copyright-text\" class=\"copyright\"></p>\\n                <p>Market data powered by <a target=\"_blank\" href=\"https://xignite.com/\">Xignite</a>.</p>\\n            </div>\\n        </div>\\n\\n        <div class=\"footer-lists\">\\n            <div class=\"footer-list\">\\n                <h2>About the Motley&nbsp;Fool</h2>\\n                <ul>\\n                    <li><a data-action=\"about\" href=\"/about/\">About Us</a></li>\\n                    <li><a data-action=\"about\" target=\"_blank\" href=\"https://careers.fool.com/\">Careers</a></li>\\n                    <li><a data-action=\"about\" target=\"_blank\" href=\"https://culture.fool.com/\">Culture Blog</a></li>\\n                    <li><a data-action=\"about\" href=\"/research/\">Research</a></li>\\n                    <li><a data-action=\"about\" href=\"/contact/press-inquiries/\">Press Inquiries</a></li>\\n                    <li><a data-action=\"about\" href=\"/legal/contact-us/\">Contact</a></li>\\n                    <li><a data-action=\"about\" href=\"mailto:adinquiries@fool.com\">Advertise</a></li>\\n                </ul>\\n            </div>\\n\\n            <div class=\"footer-list\">\\n                <h2>Our Services</h2>\\n                <ul>\\n                    <li><a data-action=\"services\" href=\"https://www.fool.com/premium/stock-advisor/landing/\">Stock Advisor</a></li>\\n                    <li><a data-action=\"services\" href=\"https://www.fool.com/premium/rule-breakers/landing/\">Rule Breakers</a></li>\\n                    <li><a data-action=\"services\" href=\"https://www.fool.com/premium/rule-your-retirement/landing/\">Rule Your Retirement</a></li>\\n                    <li><a data-action=\"services\" target=\"_blank\" href=\"/the-ascent/\">The Ascent</a></li>\\n                    <li><a data-action=\"services\" target=\"_blank\" href=\"https://www.fool.com/allstarmoney/\">All Star Money</a></li>\\n                    <li><a data-action=\"services\" target=\"_blank\" href=\"https://www.millionacres.com/\">Millionacres</a></li>\\n                    <li><a data-action=\"services\" href=\"/services/\">All Services</a></li>\\n                </ul>\\n            </div>\\n\\n            <div class=\"footer-list\">\\n                <h2>Around the Globe</h2>\\n                <ul>\\n                    <li><a target=\"_blank\" data-action=\"global\" href=\"https://www.fool.co.uk/\">Fool UK</a></li>\\n                    <li><a target=\"_blank\" data-action=\"global\" href=\"https://www.fool.com.au/\">Fool Australia</a></li>\\n                    <li><a target=\"_blank\" data-action=\"global\" href=\"https://www.fool.ca/\">Fool Canada</a></li>\\n                    <li><a target=\"_blank\" data-action=\"global\" href=\"https://www.fool.de/\">Fool Deutschland</a></li>\\n                </ul>\\n            </div>\\n\\n            <div class=\"footer-list\">\\n                <h2>Free Tools</h2>\\n                <ul>\\n                    <li><a data-action=\"tools\" target=\"_blank\" href=\"https://caps.fool.com/Index.aspx\">CAPS Stock Ratings</a></li>\\n                    <li><a data-action=\"tools\" target=\"_blank\" href=\"https://boards.fool.com/\">Discussion Boards</a></li>\\n                    <li><a data-action=\"tools\" href=\"/calculators/index/\">Calculators</a></li>\\n                </ul>\\n            </div>\\n\\n            <div class=\"footer-list\">\\n                <h2>Our Affiliates</h2>\\n                <ul>\\n                    <li><a data-action=\"tmf-affiliates\" target=\"_blank\" href=\"/affiliates/mfam/\">Motley Fool Asset Management</a></li>\\n                    <li><a data-action=\"tmf-affiliates\" target=\"_blank\" href=\"/affiliates/mfwm/\">Motley Fool Wealth Management</a></li>\\n                    <li><a data-action=\"tmf-affiliates\" target=\"_blank\" href=\"/affiliates/ventures/\">Motley Fool Ventures</a></li>\\n                    <li><a data-action=\"tmf-affiliates\" target=\"_blank\" href=\"/affiliates/lakehouse/\">Lakehouse Capital</a></li>\\n                    <li><a data-action=\"tmf-affiliates\" target=\"_blank\" href=\"/affiliates/1623/\">1623 Capital</a></li>\\n                </ul>\\n            </div>\\n\\n        </div><!-- .footer-lists -->\\n    </div><!-- .footer-main -->\\n\\n    <div class=\"legal-text\">\\n        <ul>\\n            <li><a data-action=\"legal\" id=\"footer-tos\" href=\"/legal/terms-and-conditions/fool-rules/\" title=\"Terms of Use\">Terms of Use</a> </li>\\n            <li><a data-action=\"legal\" id=\"footer-pp\" href=\"/legal/privacy-statement/\" title=\"Privacy Policy\">Privacy Policy</a> </li>\\n            <li><a data-action=\"legal\" id=\"footer-ap\" href=\"/legal/accessibility-policy/\" title=\"Accessibility Policy\">Accessibility Policy</a></li>\\n            <li><a data-action=\"legal\" id=\"footer-tm\" href=\"/legal/stuff-we-own/\" title=\"Copyright, Trademark and Patent Information\">Copyright, Trademark and Patent Information</a> </li>\\n            <li><a data-action=\"legal\" id=\"footer-tc\" href=\"/legal/terms-and-conditions/\" title=\"Terms and Conditions\">Terms and Conditions</a> </li>\\n            <li><a data-action=\"legal\" id=\"footer-ccpa\" href=\"/data-protection/ccpa-update/\" title=\"Do Not Sell My Personal Information.\">Do Not Sell My Personal Information</a> </li>\\n        </ul>\\n    </div>\\n\\n</footer>\\n\\n\\n      \\n\\n    </div>\\n  </div>\\n\\n  <div id=\"currently-active-desc\" style=\"display:none;\">Current</div>\\n\\n  \\n  <script>/*!\\nWaypoints - 4.0.0\\nCopyright © 2011-2015 Caleb Troughton\\nLicensed under the MIT license.\\nhttps://github.com/imakewebthings/waypoints/blog/master/licenses.txt\\n*/!function(){\"use strict\";function t(o){if(!o)throw new Error(\"No options passed to Waypoint constructor\");if(!o.element)throw new Error(\"No element option passed to Waypoint constructor\");if(!o.handler)throw new Error(\"No handler option passed to Waypoint constructor\");this.key=\"waypoint-\"+e,this.options=t.Adapter.extend({},t.defaults,o),this.element=this.options.element,this.adapter=new t.Adapter(this.element),this.callback=o.handler,this.axis=this.options.horizontal?\"horizontal\":\"vertical\",this.enabled=this.options.enabled,this.triggerPoint=null,this.group=t.Group.findOrCreate({name:this.options.group,axis:this.axis}),this.context=t.Context.findOrCreateByElement(this.options.context),t.offsetAliases[this.options.offset]&&(this.options.offset=t.offsetAliases[this.options.offset]),this.group.add(this),this.context.add(this),i[this.key]=this,e+=1}var e=0,i={};t.prototype.queueTrigger=function(t){this.group.queueTrigger(this,t)},t.prototype.trigger=function(t){this.enabled&&this.callback&&this.callback.apply(this,t)},t.prototype.destroy=function(){this.context.remove(this),this.group.remove(this),delete i[this.key]},t.prototype.disable=function(){return this.enabled=!1,this},t.prototype.enable=function(){return this.context.refresh(),this.enabled=!0,this},t.prototype.next=function(){return this.group.next(this)},t.prototype.previous=function(){return this.group.previous(this)},t.invokeAll=function(t){var e=[];for(var o in i)e.push(i[o]);for(var n=0,r=e.length;r>n;n++)e[n][t]()},t.destroyAll=function(){t.invokeAll(\"destroy\")},t.disableAll=function(){t.invokeAll(\"disable\")},t.enableAll=function(){t.invokeAll(\"enable\")},t.refreshAll=function(){t.Context.refreshAll()},t.viewportHeight=function(){return window.innerHeight||document.documentElement.clientHeight},t.viewportWidth=function(){return document.documentElement.clientWidth},t.adapters=[],t.defaults={context:window,continuous:!0,enabled:!0,group:\"default\",horizontal:!1,offset:0},t.offsetAliases={\"bottom-in-view\":function(){return this.context.innerHeight()-this.adapter.outerHeight()},\"right-in-view\":function(){return this.context.innerWidth()-this.adapter.outerWidth()}},window.Waypoint=t}(),function(){\"use strict\";function t(t){window.setTimeout(t,1e3/60)}function e(t){this.element=t,this.Adapter=n.Adapter,this.adapter=new this.Adapter(t),this.key=\"waypoint-context-\"+i,this.didScroll=!1,this.didResize=!1,this.oldScroll={x:this.adapter.scrollLeft(),y:this.adapter.scrollTop()},this.waypoints={vertical:{},horizontal:{}},t.waypointContextKey=this.key,o[t.waypointContextKey]=this,i+=1,this.createThrottledScrollHandler(),this.createThrottledResizeHandler()}var i=0,o={},n=window.Waypoint,r=window.onload;e.prototype.add=function(t){var e=t.options.horizontal?\"horizontal\":\"vertical\";this.waypoints[e][t.key]=t,this.refresh()},e.prototype.checkEmpty=function(){var t=this.Adapter.isEmptyObject(this.waypoints.horizontal),e=this.Adapter.isEmptyObject(this.waypoints.vertical);t&&e&&(this.adapter.off(\".waypoints\"),delete o[this.key])},e.prototype.createThrottledResizeHandler=function(){function t(){e.handleResize(),e.didResize=!1}var e=this;this.adapter.on(\"resize.waypoints\",function(){e.didResize||(e.didResize=!0,n.requestAnimationFrame(t))})},e.prototype.createThrottledScrollHandler=function(){function t(){e.handleScroll(),e.didScroll=!1}var e=this;this.adapter.on(\"scroll.waypoints\",function(){(!e.didScroll||n.isTouch)&&(e.didScroll=!0,n.requestAnimationFrame(t))})},e.prototype.handleResize=function(){n.Context.refreshAll()},e.prototype.handleScroll=function(){var t={},e={horizontal:{newScroll:this.adapter.scrollLeft(),oldScroll:this.oldScroll.x,forward:\"right\",backward:\"left\"},vertical:{newScroll:this.adapter.scrollTop(),oldScroll:this.oldScroll.y,forward:\"down\",backward:\"up\"}};for(var i in e){var o=e[i],n=o.newScroll>o.oldScroll,r=n?o.forward:o.backward;for(var s in this.waypoints[i]){var a=this.waypoints[i][s],l=o.oldScroll<a.triggerPoint,h=o.newScroll>=a.triggerPoint,p=l&&h,u=!l&&!h;(p||u)&&(a.queueTrigger(r),t[a.group.id]=a.group)}}for(var c in t)t[c].flushTriggers();this.oldScroll={x:e.horizontal.newScroll,y:e.vertical.newScroll}},e.prototype.innerHeight=function(){return this.element==this.element.window?n.viewportHeight():this.adapter.innerHeight()},e.prototype.remove=function(t){delete this.waypoints[t.axis][t.key],this.checkEmpty()},e.prototype.innerWidth=function(){return this.element==this.element.window?n.viewportWidth():this.adapter.innerWidth()},e.prototype.destroy=function(){var t=[];for(var e in this.waypoints)for(var i in this.waypoints[e])t.push(this.waypoints[e][i]);for(var o=0,n=t.length;n>o;o++)t[o].destroy()},e.prototype.refresh=function(){var t,e=this.element==this.element.window,i=e?void 0:this.adapter.offset(),o={};this.handleScroll(),t={horizontal:{contextOffset:e?0:i.left,contextScroll:e?0:this.oldScroll.x,contextDimension:this.innerWidth(),oldScroll:this.oldScroll.x,forward:\"right\",backward:\"left\",offsetProp:\"left\"},vertical:{contextOffset:e?0:i.top,contextScroll:e?0:this.oldScroll.y,contextDimension:this.innerHeight(),oldScroll:this.oldScroll.y,forward:\"down\",backward:\"up\",offsetProp:\"top\"}};for(var r in t){var s=t[r];for(var a in this.waypoints[r]){var l,h,p,u,c,d=this.waypoints[r][a],f=d.options.offset,w=d.triggerPoint,y=0,g=null==w;d.element!==d.element.window&&(y=d.adapter.offset()[s.offsetProp]),\"function\"==typeof f?f=f.apply(d):\"string\"==typeof f&&(f=parseFloat(f),d.options.offset.indexOf(\"%\")>-1&&(f=Math.ceil(s.contextDimension*f/100))),l=s.contextScroll-s.contextOffset,d.triggerPoint=y+l-f,h=w<s.oldScroll,p=d.triggerPoint>=s.oldScroll,u=h&&p,c=!h&&!p,!g&&u?(d.queueTrigger(s.backward),o[d.group.id]=d.group):!g&&c?(d.queueTrigger(s.forward),o[d.group.id]=d.group):g&&s.oldScroll>=d.triggerPoint&&(d.queueTrigger(s.forward),o[d.group.id]=d.group)}}return n.requestAnimationFrame(function(){for(var t in o)o[t].flushTriggers()}),this},e.findOrCreateByElement=function(t){return e.findByElement(t)||new e(t)},e.refreshAll=function(){for(var t in o)o[t].refresh()},e.findByElement=function(t){return o[t.waypointContextKey]},window.onload=function(){r&&r(),e.refreshAll()},n.requestAnimationFrame=function(e){var i=window.requestAnimationFrame||window.mozRequestAnimationFrame||window.webkitRequestAnimationFrame||t;i.call(window,e)},n.Context=e}(),function(){\"use strict\";function t(t,e){return t.triggerPoint-e.triggerPoint}function e(t,e){return e.triggerPoint-t.triggerPoint}function i(t){this.name=t.name,this.axis=t.axis,this.id=this.name+\"-\"+this.axis,this.waypoints=[],this.clearTriggerQueues(),o[this.axis][this.name]=this}var o={vertical:{},horizontal:{}},n=window.Waypoint;i.prototype.add=function(t){this.waypoints.push(t)},i.prototype.clearTriggerQueues=function(){this.triggerQueues={up:[],down:[],left:[],right:[]}},i.prototype.flushTriggers=function(){for(var i in this.triggerQueues){var o=this.triggerQueues[i],n=\"up\"===i||\"left\"===i;o.sort(n?e:t);for(var r=0,s=o.length;s>r;r+=1){var a=o[r];(a.options.continuous||r===o.length-1)&&a.trigger([i])}}this.clearTriggerQueues()},i.prototype.next=function(e){this.waypoints.sort(t);var i=n.Adapter.inArray(e,this.waypoints),o=i===this.waypoints.length-1;return o?null:this.waypoints[i+1]},i.prototype.previous=function(e){this.waypoints.sort(t);var i=n.Adapter.inArray(e,this.waypoints);return i?this.waypoints[i-1]:null},i.prototype.queueTrigger=function(t,e){this.triggerQueues[e].push(t)},i.prototype.remove=function(t){var e=n.Adapter.inArray(t,this.waypoints);e>-1&&this.waypoints.splice(e,1)},i.prototype.first=function(){return this.waypoints[0]},i.prototype.last=function(){return this.waypoints[this.waypoints.length-1]},i.findOrCreate=function(t){return o[t.axis][t.name]||new i(t)},n.Group=i}(),function(){\"use strict\";function t(t){this.$element=e(t)}var e=window.jQuery,i=window.Waypoint;e.each([\"innerHeight\",\"innerWidth\",\"off\",\"offset\",\"on\",\"outerHeight\",\"outerWidth\",\"scrollLeft\",\"scrollTop\"],function(e,i){t.prototype[i]=function(){var t=Array.prototype.slice.call(arguments);return this.$element[i].apply(this.$element,t)}}),e.each([\"extend\",\"inArray\",\"isEmptyObject\"],function(i,o){t[o]=e[o]}),i.adapters.push({name:\"jquery\",Adapter:t}),i.Adapter=t}(),function(){\"use strict\";function t(t){return function(){var i=[],o=arguments[0];return t.isFunction(arguments[0])&&(o=t.extend({},arguments[1]),o.handler=arguments[0]),this.each(function(){var n=t.extend({},o,{element:this});\"string\"==typeof n.context&&(n.context=t(this).closest(n.context)[0]),i.push(new e(n))}),i}}var e=window.Waypoint;window.jQuery&&(window.jQuery.fn.waypoint=t(window.jQuery)),window.Zepto&&(window.Zepto.fn.waypoint=t(window.Zepto))}();;(function(){jQuery(\\'.header-search-wrapper-toggle\\').on(\\'click\\',function(){jQuery(this).closest(\\'.header-search-wrapper\\').toggleClass(\\'open\\');});})();(function(){var menu=jQuery(\\'.mobile-nav-container\\');var toggleMenu=function(){jQuery(\\'#mobile-menu-toggle\\').toggleClass(\\'close-menu\\');jQuery(\\'body\\').toggleClass(\\'mobile-menu-open\\');menu.toggleClass(\\'open\\');};jQuery(\\'#mobile-menu-toggle\\').on(\\'click\\',toggleMenu);jQuery(\\'#m-topnav-picks\\').on(\\'click\\',toggleMenu);jQuery(document).on(\\'mouseup\\',function(e){var container=menu;if(!container.is(e.target)&&!jQuery(\".close-menu\").is(e.target)&&container.has(e.target).length===0)\\n{container.removeClass(\\'open\\');jQuery(\\'#mobile-menu-toggle\\').removeClass(\\'close-menu\\');jQuery(\\'body\\').removeClass(\\'mobile-menu-open\\');}});menu.find(\\'.main-menu-item-link\\').on(\\'click\\',function(){if($(this).hasClass(\\'no-dropdown\\')){return true;}\\njQuery(this).closest(\\'.main-menu-item.dropdown\\').addClass(\\'expanded\\');return false;});menu.find(\\'.sub-menu-name\\').find(\\'.btn-level-up\\').on(\\'click\\',function(){jQuery(this).closest(\\'.main-menu-item.dropdown\\').removeClass(\\'expanded\\');});})();;(function($,window,document){\"use strict\";var pluginName=\"accessibleMegaMenu\",defaults={uuidPrefix:\"accessible-megamenu\",menuClass:\"accessible-megamenu\",topNavItemClass:\"accessible-megamenu-top-nav-item\",panelClass:\"accessible-megamenu-panel\",panelGroupClass:\"accessible-megamenu-panel-group\",hoverClass:\"hover\",focusClass:\"focus\",openClass:\"open\"},Keyboard={BACKSPACE:8,COMMA:188,DELETE:46,DOWN:40,END:35,ENTER:13,ESCAPE:27,HOME:36,LEFT:37,PAGE_DOWN:34,PAGE_UP:33,PERIOD:190,RIGHT:39,SPACE:32,TAB:9,UP:38,keyMap:{48:\"0\",49:\"1\",50:\"2\",51:\"3\",52:\"4\",53:\"5\",54:\"6\",55:\"7\",56:\"8\",57:\"9\",59:\";\",65:\"a\",66:\"b\",67:\"c\",68:\"d\",69:\"e\",70:\"f\",71:\"g\",72:\"h\",73:\"i\",74:\"j\",75:\"k\",76:\"l\",77:\"m\",78:\"n\",79:\"o\",80:\"p\",81:\"q\",82:\"r\",83:\"s\",84:\"t\",85:\"u\",86:\"v\",87:\"w\",88:\"x\",89:\"y\",90:\"z\",96:\"0\",97:\"1\",98:\"2\",99:\"3\",100:\"4\",101:\"5\",102:\"6\",103:\"7\",104:\"8\",105:\"9\",190:\".\"}};function AccessibleMegaMenu(element,options){this.element=element;this.settings=$.extend({},defaults,options);this._defaults=defaults;this._name=pluginName;this.mouseTimeoutID=null;this.focusTimeoutID=null;this.mouseFocused=false;this.justFocused=false;this.init();}\\nAccessibleMegaMenu.prototype=(function(){var uuid=0,keydownTimeoutDuration=1000,keydownSearchString=\"\",isTouch=typeof window.hasOwnProperty===\"function\"&&!!window.hasOwnProperty(\"ontouchstart\"),_getPlugin,_addUniqueId,_togglePanel,_clickHandler,_clickOutsideHandler,_DOMAttrModifiedHandler,_focusInHandler,_focusOutHandler,_keyDownHandler,_mouseDownHandler,_mouseOverHandler,_mouseOutHandler,_toggleExpandedEventHandlers;_getPlugin=function(element){return $(element).closest(\\':data(plugin_\\'+pluginName+\\')\\').data(\"plugin_\"+pluginName);};_addUniqueId=function(element){element=$(element);var settings=this.settings;if(!element.attr(\"id\")){element.attr(\"id\",settings.uuidPrefix+\"-\"+new Date().getTime()+\"-\"+(++uuid));}};_togglePanel=function(event,hide){var target=$(event.target),that=this,settings=this.settings,menu=this.menu,topli=target.closest(\\'.\\'+settings.topNavItemClass),panel=target.hasClass(settings.panelClass)?target:target.closest(\\'.\\'+settings.panelClass),newfocus;_toggleExpandedEventHandlers.call(this,true);if(hide){topli=menu.find(\\'.\\'+settings.topNavItemClass+\\' .\\'+settings.openClass+\\':first\\').closest(\\'.\\'+settings.topNavItemClass);if(!(topli.is(event.relatedTarget)||topli.has(event.relatedTarget).length>0)){if((event.type===\\'mouseout\\'||event.type===\\'focusout\\')&&topli.has(document.activeElement).length>0){return;}\\ntopli.find(\\'[aria-expanded]\\').attr(\\'aria-expanded\\',\\'false\\').removeClass(settings.openClass).filter(\\'.\\'+settings.panelClass).attr(\\'aria-hidden\\',\\'true\\');if((event.type===\\'keydown\\'&&event.keyCode===Keyboard.ESCAPE)||event.type===\\'DOMAttrModified\\'){newfocus=topli.find(\\':tabbable:first\\');setTimeout(function(){menu.find(\\'[aria-expanded].\\'+that.settings.panelClass).off(\\'DOMAttrModified.accessible-megamenu\\');newfocus.focus();that.justFocused=false;},99);}}else if(topli.length===0){menu.find(\\'[aria-expanded=true]\\').attr(\\'aria-expanded\\',\\'false\\').removeClass(settings.openClass).filter(\\'.\\'+settings.panelClass).attr(\\'aria-hidden\\',\\'true\\');}}else{clearTimeout(that.focusTimeoutID);topli.siblings().find(\\'[aria-expanded]\\').attr(\\'aria-expanded\\',\\'false\\').removeClass(settings.openClass).filter(\\'.\\'+settings.panelClass).attr(\\'aria-hidden\\',\\'true\\');topli.find(\\'[aria-expanded]\\').attr(\\'aria-expanded\\',\\'true\\').addClass(settings.openClass).filter(\\'.\\'+settings.panelClass).attr(\\'aria-hidden\\',\\'false\\');if(event.type===\\'mouseover\\'&&target.is(\\':tabbable\\')&&topli.length===1&&panel.length===0&&menu.has(document.activeElement).length>0){target.focus();that.justFocused=false;}\\n_toggleExpandedEventHandlers.call(that);}};_clickHandler=function(event){var target=$(event.currentTarget),topli=target.closest(\\'.\\'+this.settings.topNavItemClass),panel=target.closest(\\'.\\'+this.settings.panelClass);if(topli.length===1&&panel.length===0&&topli.find(\\'.\\'+this.settings.panelClass).length===1){if(!target.hasClass(this.settings.openClass)){event.preventDefault();event.stopPropagation();_togglePanel.call(this,event);this.justFocused=false;}else{if(this.justFocused){event.preventDefault();event.stopPropagation();this.justFocused=false;}else if(isTouch){event.preventDefault();event.stopPropagation();_togglePanel.call(this,event,target.hasClass(this.settings.openClass));}}}};_clickOutsideHandler=function(event){if($(event.target).closest(this.menu).length===0){event.preventDefault();event.stopPropagation();_togglePanel.call(this,event,true);}};_DOMAttrModifiedHandler=function(event){if(event.originalEvent.attrName===\\'aria-expanded\\'&&event.originalEvent.newValue===\\'false\\'&&$(event.target).hasClass(this.settings.openClass)){event.preventDefault();event.stopPropagation();_togglePanel.call(this,event,true);}};_focusInHandler=function(event){clearTimeout(this.focusTimeoutID);var target=$(event.target),panel=target.closest(\\'.\\'+this.settings.panelClass);target.addClass(this.settings.focusClass).on(\\'click.accessible-megamenu\\',$.proxy(_clickHandler,this));this.justFocused=!this.mouseFocused;this.mouseFocused=false;if(this.panels.not(panel).filter(\\'.\\'+this.settings.openClass).length){_togglePanel.call(this,event);}};_focusOutHandler=function(event){this.justFocused=false;var that=this,target=$(event.target),topli=target.closest(\\'.\\'+this.settings.topNavItemClass),keepOpen=false;target.removeClass(this.settings.focusClass).off(\\'click.accessible-megamenu\\');if(window.cvox){that.focusTimeoutID=setTimeout(function(){window.cvox.Api.getCurrentNode(function(node){if(topli.has(node).length){clearTimeout(that.focusTimeoutID);}else{that.focusTimeoutID=setTimeout(function(scope,event,hide){_togglePanel.call(scope,event,hide);},275,that,event,true);}});},25);}else{that.focusTimeoutID=setTimeout(function(){_togglePanel.call(that,event,true);},300);}};_keyDownHandler=function(event){var that=(this.constructor===AccessibleMegaMenu)?this:_getPlugin(this),settings=that.settings,target=$($(this).is(\\'.\\'+settings.hoverClass+\\':tabbable\\')?this:event.target),menu=that.menu,topnavitems=that.topnavitems,topli=target.closest(\\'.\\'+settings.topNavItemClass),tabbables=menu.find(\\':tabbable\\'),panel=target.hasClass(settings.panelClass)?target:target.closest(\\'.\\'+settings.panelClass),panelGroups=panel.find(\\'.\\'+settings.panelGroupClass),currentPanelGroup=target.closest(\\'.\\'+settings.panelGroupClass),next,keycode=event.keyCode||event.which,start,i,o,label,found=false,newString=Keyboard.keyMap[event.keyCode]||\\'\\',regex,isTopNavItem=(topli.length===1&&panel.length===0);if(target.is(\"input:focus, select:focus, textarea:focus, button:focus\")){return;}\\nif(target.is(\\'.\\'+settings.hoverClass+\\':tabbable\\')){$(\\'html\\').off(\\'keydown.accessible-megamenu\\');}\\nswitch(keycode){case Keyboard.ESCAPE:_togglePanel.call(that,event,true);break;case Keyboard.DOWN:event.preventDefault();if(isTopNavItem){_togglePanel.call(that,event);found=(topli.find(\\'.\\'+settings.panelClass+\\' :tabbable:first\\').focus().length===1);}else{found=(tabbables.filter(\\':gt(\\'+tabbables.index(target)+\\'):first\\').focus().length===1);}\\nif(!found&&window.opera&&opera.toString()===\"[object Opera]\"&&(event.ctrlKey||event.metaKey)){tabbables=$(\\':tabbable\\');i=tabbables.index(target);found=($(\\':tabbable:gt(\\'+$(\\':tabbable\\').index(target)+\\'):first\\').focus().length===1);}\\nbreak;case Keyboard.UP:event.preventDefault();if(isTopNavItem&&target.hasClass(settings.openClass)){_togglePanel.call(that,event,true);next=topnavitems.filter(\\':lt(\\'+topnavitems.index(topli)+\\'):last\\');if(next.children(\\'.\\'+settings.panelClass).length){found=(next.children().attr(\\'aria-expanded\\',\\'true\\').addClass(settings.openClass).filter(\\'.\\'+settings.panelClass).attr(\\'aria-hidden\\',\\'false\\').find(\\':tabbable:last\\').focus()===1);}}else if(!isTopNavItem){found=(tabbables.filter(\\':lt(\\'+tabbables.index(target)+\\'):last\\').focus().length===1);}\\nif(!found&&window.opera&&opera.toString()===\"[object Opera]\"&&(event.ctrlKey||event.metaKey)){tabbables=$(\\':tabbable\\');i=tabbables.index(target);found=($(\\':tabbable:lt(\\'+$(\\':tabbable\\').index(target)+\\'):first\\').focus().length===1);}\\nbreak;case Keyboard.RIGHT:event.preventDefault();if(isTopNavItem){found=(topnavitems.filter(\\':gt(\\'+topnavitems.index(topli)+\\'):first\\').find(\\':tabbable:first\\').focus().length===1);}else{if(panelGroups.length&&currentPanelGroup.length){found=(panelGroups.filter(\\':gt(\\'+panelGroups.index(currentPanelGroup)+\\'):first\\').find(\\':tabbable:first\\').focus().length===1);}\\nif(!found){found=(topli.find(\\':tabbable:first\\').focus().length===1);}}\\nbreak;case Keyboard.LEFT:event.preventDefault();if(isTopNavItem){found=(topnavitems.filter(\\':lt(\\'+topnavitems.index(topli)+\\'):last\\').find(\\':tabbable:first\\').focus().length===1);}else{if(panelGroups.length&&currentPanelGroup.length){found=(panelGroups.filter(\\':lt(\\'+panelGroups.index(currentPanelGroup)+\\'):last\\').find(\\':tabbable:first\\').focus().length===1);}\\nif(!found){found=(topli.find(\\':tabbable:first\\').focus().length===1);}}\\nbreak;case Keyboard.TAB:i=tabbables.index(target);if(event.shiftKey&&isTopNavItem&&target.hasClass(settings.openClass)){_togglePanel.call(that,event,true);next=topnavitems.filter(\\':lt(\\'+topnavitems.index(topli)+\\'):last\\');if(next.children(\\'.\\'+settings.panelClass).length){found=next.children().attr(\\'aria-expanded\\',\\'true\\').addClass(settings.openClass).filter(\\'.\\'+settings.panelClass).attr(\\'aria-hidden\\',\\'false\\').find(\\':tabbable:last\\').focus();}}else if(event.shiftKey&&i>0){found=(tabbables.filter(\\':lt(\\'+i+\\'):last\\').focus().length===1);}else if(!event.shiftKey&&i<tabbables.length-1){found=(tabbables.filter(\\':gt(\\'+i+\\'):first\\').focus().length===1);}else if(window.opera&&opera.toString()===\"[object Opera]\"){tabbables=$(\\':tabbable\\');i=tabbables.index(target);if(event.shiftKey){found=($(\\':tabbable:lt(\\'+$(\\':tabbable\\').index(target)+\\'):last\\').focus().length===1);}else{found=($(\\':tabbable:gt(\\'+$(\\':tabbable\\').index(target)+\\'):first\\').focus().length===1);}}\\nif(found){event.preventDefault();}\\nbreak;case Keyboard.SPACE:if(isTopNavItem){event.preventDefault();_clickHandler.call(that,event);}else{return true;}\\nbreak;case Keyboard.ENTER:return true;break;default:clearTimeout(this.keydownTimeoutID);keydownSearchString+=newString!==keydownSearchString?newString:\\'\\';if(keydownSearchString.length===0){return;}\\nthis.keydownTimeoutID=setTimeout(function(){keydownSearchString=\\'\\';},keydownTimeoutDuration);if(isTopNavItem&&!target.hasClass(settings.openClass)){tabbables=tabbables.filter(\\':not(.\\'+settings.panelClass+\\' :tabbable)\\');}else{tabbables=topli.find(\\':tabbable\\');}\\nif(event.shiftKey){tabbables=$(tabbables.get().reverse());}\\nfor(i=0;i<tabbables.length;i++){o=tabbables.eq(i);if(o.is(target)){start=(keydownSearchString.length===1)?i+1:i;break;}}\\nregex=new RegExp(\\'^\\'+keydownSearchString.replace(/[\\\\-\\\\[\\\\]{}()*+?.,\\\\\\\\\\\\^$|#\\\\s]/g,\\'\\\\\\\\$&\\'),\\'i\\');for(i=start;i<tabbables.length;i++){o=tabbables.eq(i);label=$.trim(o.text());if(regex.test(label)){found=true;o.focus();break;}}\\nif(!found){for(i=0;i<start;i++){o=tabbables.eq(i);label=$.trim(o.text());if(regex.test(label)){o.focus();break;}}}\\nbreak;}\\nthat.justFocused=false;};_mouseDownHandler=function(event){if($(event.target).is(this.settings.panelClass)||$(event.target).closest(\":focusable\").length){this.mouseFocused=true;}\\nthis.mouseTimeoutID=setTimeout(function(){clearTimeout(this.focusTimeoutID);},1);};_mouseOverHandler=function(event){clearTimeout(this.mouseTimeoutID);$(event.target).addClass(this.settings.hoverClass);_togglePanel.call(this,event);if($(event.target).is(\\':tabbable\\')){$(\\'html\\').on(\\'keydown.accessible-megamenu\\',$.proxy(_keyDownHandler,event.target));}};_mouseOutHandler=function(event){var that=this;$(event.target).removeClass(that.settings.hoverClass);that.mouseTimeoutID=setTimeout(function(){_togglePanel.call(that,event,true);},250);if($(event.target).is(\\':tabbable\\')){$(\\'html\\').off(\\'keydown.accessible-megamenu\\');}};_toggleExpandedEventHandlers=function(hide){var menu=this.menu;if(hide){$(\\'html\\').off(\\'mouseup.outside-accessible-megamenu, touchend.outside-accessible-megamenu, mspointerup.outside-accessible-megamenu,  pointerup.outside-accessible-megamenu\\');menu.find(\\'[aria-expanded].\\'+this.settings.panelClass).off(\\'DOMAttrModified.accessible-megamenu\\');}else{$(\\'html\\').on(\\'mouseup.outside-accessible-megamenu, touchend.outside-accessible-megamenu, mspointerup.outside-accessible-megamenu,  pointerup.outside-accessible-megamenu\\',$.proxy(_clickOutsideHandler,this));menu.find(\\'[aria-expanded=true].\\'+this.settings.panelClass).on(\\'DOMAttrModified.accessible-megamenu\\',$.proxy(_DOMAttrModifiedHandler,this));}};return{constructor:AccessibleMegaMenu,init:function(){var settings=this.settings,nav=$(this.element),menu=nav.children().first(),topnavitems=menu.children();this.start(settings,nav,menu,topnavitems);},start:function(settings,nav,menu,topnavitems){var that=this;this.settings=settings;this.menu=menu;this.topnavitems=topnavitems;nav.attr(\"role\",\"navigation\");menu.addClass(settings.menuClass);topnavitems.each(function(i,topnavitem){var topnavitemlink,topnavitempanel;topnavitem=$(topnavitem);topnavitem.addClass(settings.topNavItemClass);topnavitemlink=topnavitem.find(\":tabbable:first\");topnavitempanel=topnavitem.children(\":not(:tabbable):last\");_addUniqueId.call(that,topnavitemlink);if(topnavitempanel.length){_addUniqueId.call(that,topnavitempanel);topnavitemlink.attr({\"aria-haspopup\":true,\"aria-controls\":topnavitempanel.attr(\"id\"),\"aria-expanded\":false});topnavitempanel.attr({\"role\":\"group\",\"aria-expanded\":false,\"aria-hidden\":true}).addClass(settings.panelClass).not(\"[aria-labelledby]\").attr(\"aria-labelledby\",topnavitemlink.attr(\"id\"));}});this.panels=menu.find(\".\"+settings.panelClass);menu.on(\"focusin.accessible-megamenu\",\":focusable, .\"+settings.panelClass,$.proxy(_focusInHandler,this)).on(\"focusout.accessible-megamenu\",\":focusable, .\"+settings.panelClass,$.proxy(_focusOutHandler,this)).on(\"keydown.accessible-megamenu\",$.proxy(_keyDownHandler,this)).on(\"mouseover.accessible-megamenu\",$.proxy(_mouseOverHandler,this)).on(\"mouseout.accessible-megamenu\",$.proxy(_mouseOutHandler,this)).on(\"mousedown.accessible-megamenu\",$.proxy(_mouseDownHandler,this));if(isTouch){menu.on(\"touchstart.accessible-megamenu\",$.proxy(_clickHandler,this));}\\nmenu.find(\"hr\").attr(\"role\",\"separator\");if($(document.activeElement).closest(menu).length){$(document.activeElement).trigger(\"focusin.accessible-megamenu\");}},getDefaults:function(){return this._defaults;},getOption:function(opt){return this.settings[opt];},getAllOptions:function(){return this.settings;},setOption:function(opt,value,reinitialize){this.settings[opt]=value;if(reinitialize){this.init();}}};}());$.fn[pluginName]=function(options){return this.each(function(){if(!$.data(this,\"plugin_\"+pluginName)){$.data(this,\"plugin_\"+pluginName,new $.fn[pluginName].AccessibleMegaMenu(this,options));}});};$.fn[pluginName].AccessibleMegaMenu=AccessibleMegaMenu;function visible(element){return $.expr.pseudos.visible(element)&&!$(element).parents().addBack().filter(function(){return $.css(this,\"visibility\")===\"hidden\";}).length;}\\nfunction focusable(element,isTabIndexNotNaN){var map,mapName,img,nodeName=element.nodeName.toLowerCase();if(\"area\"===nodeName){map=element.parentNode;mapName=map.name;if(!element.href||!mapName||map.nodeName.toLowerCase()!==\"map\"){return false;}\\nimg=$(\"img[usemap=#\"+mapName+\"]\")[0];return!!img&&visible(img);}\\nreturn(/input|select|textarea|button|object/.test(nodeName)?!element.disabled:\"a\"===nodeName?element.href||isTabIndexNotNaN:isTabIndexNotNaN)&&visible(element);}\\n$.extend($.expr.pseudos,{data:$.expr.createPseudo?$.expr.createPseudo(function(dataName){return function(elem){return!!$.data(elem,dataName);};}):function(elem,i,match){return!!$.data(elem,match[3]);},focusable:function(element){return focusable(element,!isNaN($.attr(element,\"tabindex\")));},tabbable:function(element){var tabIndex=$.attr(element,\"tabindex\"),isTabIndexNaN=isNaN(tabIndex);return(isTabIndexNaN||tabIndex>=0)&&focusable(element,!isTabIndexNaN);}});}(jQuery,window,document));;$(\"nav:first\").accessibleMegaMenu({uuidPrefix:\"accessible-megamenu\",menuClass:\"nav-menu\",topNavItemClass:\"nav-item\",panelClass:\"sub-nav\",panelGroupClass:\"sub-nav-group\",hoverClass:\"hover\",focusClass:\"focus\",openClass:\"open\"});;$(\"body\").on(\\'click\\',\\'.main-menu .main-menu-item > a\\',function(){Infotrack.track(\\'Click-\\'+$(this).attr(\\'id\\'),{category:\\'Navigation -- Desktop\\',label:$(this).text()});});var menu_hover_timer;$(\\'body\\').on(\\'mouseenter\\',\\'.main-menu .main-menu-item > a\\',function(){menu_hover_timer=window.setTimeout(function(menu_id,menu_text){Infotrack.track(\\'Hover-\\'+menu_id,{category:\\'Navigation -- Desktop\\',label:menu_text});},500,$(this).attr(\\'id\\'),$(this).text());}).on(\\'mouseleave\\',\\'.main-menu .main-menu-item > a\\',function(){window.clearTimeout(menu_hover_timer);});$(\"body\").on(\\'click\\',\\'.main-menu .mega-menu-wrapper-content a\\',function(){Infotrack.track(\\'Click-\\'+$(this).attr(\\'id\\'),{category:\\'Navigation -- Desktop\\',label:$(this).text()});});$(\\'.mobile-nav .main-menu-item-link-wrapper .main-menu-item-link > span\\').on(\\'click\\',function(){Infotrack.track(\\'Click-\\'+$(this).attr(\\'id\\'),{category:\\'Navigation -- Mobile\\',label:$(this).text()});});$(\\'.mobile-nav .main-menu-item-link-wrapper .main-menu-item-link > a\\').on(\\'click\\',function(){Infotrack.track(\\'Click-\\'+$(this).attr(\\'id\\'),{category:\\'Navigation -- Mobile\\',label:$(this).text()});});$(\"body\").on(\\'click\\',\\'.mobile-nav .mega-menu-wrapper-content a\\',function(){Infotrack.track(\\'Click-\\'+$(this).attr(\\'id\\'),{category:\\'Navigation -- Mobile\\',label:$(this).text()});});$(\".fool-tophat a\").on(\\'click\\',function(){Infotrack.track(\\'Click\\',{category:\\'Navigation -- Tophat\\',label:$(this).text()});});;$(\\'.fool-tophat-container\\').on(\\'click\\',\\'.suggestions li\\',companySearchTrack);$(\\'.fool-tophat-container\\').on(\\'keyup\\',\\'.suggestions li\\',function(e){if(e.keyCode==13){companySearchTrack($(this));}});function companySearchTrack(li){if(!li.length){li=$(this);}\\nlet symbol=li.find(\\'.search-result-span.sym\\').html().trim();let exchange=li.find(\\'.search-result-span.exchange\\').html().trim();let ticker=exchange+\\':\\'+symbol;Infotrack.track(\\'query\\',{category:\\'foolcom-search\\',label:ticker,});}\\n$(\"footer.footer a[data-action]\").on(\\'click\\',function(){Infotrack.track($(this).data(\\'action\\'),{category:\\'Navigation - Footer\\',label:$(this).text(),});});window._wq=window._wq||[];_wq.push({\\'_all\\':function(video){video_categoty=\"\";if($(\\'#home-page\\').length>0){video_categoty=\"HP-Video\";}\\nelse{video_categoty=\"AP-Video\";}\\nvideo.bind(\\'play\\',function(){Infotrack.track(\\'play\\',{category:video_categoty,label:video.name(),});});video.bind(\\'pause\\',function(){Infotrack.track(\\'pause\\',{category:video_categoty,label:video.name(),});});video.bind(\\'end\\',function(){Infotrack.track(\\'end\\',{category:video_categoty,label:video.name(),});});}});;$(\\'a[href*=\\\\\\\\#]:not([href=\\\\\\\\#])\\').on(\\'click\\',function(){if(location.pathname.replace(/^\\\\//,\\'\\')==this.pathname.replace(/^\\\\//,\\'\\')||location.hostname==this.hostname){var target=$(this.hash);if(target.length){target=target;}else if($(\\'[id=\\'+this.hash.slice(1)+\\']\\').length){target=$(\\'[id=\\'+this.hash.slice(1)+\\']\\');}else if($(\\'[name=\\'+this.hash.slice(1)+\\']\\').length){target=$(\\'[name=\\'+this.hash.slice(1)+\\']\\');}\\nif(target.length){if(screen.width>1024){menuOffset=120;}else{menuOffset=80;}\\n$(\\'html,body\\').animate({scrollTop:target.offset().top-menuOffset},1000);target.focus();if(target.is(\":focus\")){return false;}else{target.attr(\\'tabindex\\',\\'-1\\');target.focus();};}}});;(function(){const UTM_KEYS=[\"utm_source\",\"utm_medium\",\"utm_campaign\",\"utm_term\",\"utm_content\"];const getParameterByName=function(name,url){if(!url)url=window.location.href;name=name.replace(/[\\\\[\\\\]]/g,\\'\\\\\\\\$&\\');const regex=new RegExp(\\'[?&]\\'+name+\\'(=([^&#]*)|&|#|$)\\'),results=regex.exec(url);if(!results)return null;if(!results[2])return\\'\\';return decodeURIComponent(results[2].replace(/\\\\+/g,\\' \\'));}\\nconst getCookieString=function(cname){var name=cname+\"=\";var ca=document.cookie.split(\\';\\');for(var i=0;i<ca.length;i++){var c=ca[i];while(c.charAt(0)==\\' \\')c=c.substring(1);if(c.indexOf(name)===0){var value=c.substring(name.length,c.length);var startsWithQuote=(value.lastIndexOf(\\'\"\\',0)===0);var endsWithQuote=(value.lastIndexOf(\\'\"\\')===value.length-1);if(startsWithQuote&&endsWithQuote){value=value.slice(1,-1);}\\nreturn value;}}};const shouldAddCookie=function(){let existingCookie=getCookieString(\\'utms\\');if(existingCookie){return true;}\\nfor(let param of UTM_KEYS){if(getParameterByName(param)){return true;}}\\nreturn false;};const getExpiryString=function(){let now=new Date;now.setMinutes(now.getMinutes()+90);return now.toUTCString();};const setUTMSCookie=function(){if(shouldAddCookie()){let existingCookie=getCookieString(\\'utms\\');if(existingCookie){document.cookie=`utms=${existingCookie}; expires=${getExpiryString()}`;}else{let cookieData=[];UTM_KEYS.forEach(function(param){let value=getParameterByName(param);if(value){cookieData.push(`${param}=${value}`);}});if(cookieData.length>0){document.cookie=`utms=${cookieData.join(\\'&\\')}; expires=${getExpiryString()}`;}}}};setUTMSCookie();})();;</script>\\n\\n  <script type=\"text/javascript\" src=\"//g.foolcdn.com/misc-assets/tmf-top-hat-build.js?v=master-bcef93e29867\" defer></script>\\n\\n  \\n      <script>\\n    !function(l,a){a.liosetup=a.liosetup||{},a.liosetup.callback=a.liosetup.callback||[],a.liosetup.addEntityLoadedCallback=function(l,o){if(\"function\"==typeof a.liosetup.callback){var i=[];i.push(a.liosetup.callback),a.liosetup.callback=i}a.lio&&a.lio.loaded?l(a.lio.data):o?a.liosetup.callback.unshift(l):a.liosetup.callback.push(l)}}(document,window);\\n    window.liosetup.addEntityLoadedCallback(function(data){\\n        if(typeof(data) !== \"undefined\" && typeof(data.segments) !== \"undefined\") {\\n            dataLayer.push({\\'event\\': \\'LyticsSegmentsReady\\', \\'segments\\': data.segments});\\n            window.googletag = window.googletag || {};\\n            window.googletag.cmd.push(function () {\\n                var lytics_segments_string = \"\";\\n\\n                for (var i = 0; i < data.segments.length; i++) {\\n                    if (data.segments[i].indexOf(\"dfp_\") !== -1) {\\n                        if (lytics_segments_string != \"\") {\\n                            lytics_segments_string = lytics_segments_string + \", \" + data.segments[i];\\n                        } else {\\n                            lytics_segments_string = data.segments[i];\\n                        }\\n\\n                    }\\n                }\\n                window.googletag.pubads().setTargeting(\"LyticsSegments\", lytics_segments_string);\\n            });\\n        }\\n    });\\n</script>\\n  \\n\\n  <script src=\"//g.foolcdn.com/static/dubs/CACHE/js/output.79fc0eea6506.js\" defer></script>\\n<script src=\"//g.foolcdn.com/static/dubs/CACHE/js/output.f0d6a3793600.js\"></script>\\n  \\n\\n  \\n    \\n  \\n\\n  \\n  \\n\\n    <div id=\"fb-root\"></div>\\n\\n    <script src=\"//g.foolcdn.com/static/dubs/CACHE/js/output.ca016a551095.js\" defer></script>\\n\\n    <script>\\n        fool.insertScript(\\'facebook-jssdk\\', \\'//connect.facebook.net/en_US/sdk.js#xfbml=1&version=v2.3\\', true);\\n        fool.insertScript(\\'twitter-wjs\\', \\'//platform.twitter.com/widgets.js\\', true);\\n    </script>\\n\\n\\n  <script src=\"/static/dubs/common/dist/javascripts/component_bundles/companycard.02c1f3f829ab700adfc3.js\" ></script>\\n\\n  <script>\\n    if (typeof window.Infotrack !== \"undefined\")  {\\n        var infotrackUrl = \\'https://g.foolcdn.com/mms/resources/js/infotrack_min.js\\';\\n        Infotrack.load(infotrackUrl);\\n        var infotrackInitializeWait = infotrackInitializeWait || 0;\\n        setTimeout(function(){\\n            window.Infotrack.initialize(\"usmf\");\\n        }, infotrackInitializeWait);\\n    }\\n  </script>\\n  </body>\\n\\n</html>\\n'"
      ]
     },
     "execution_count": 15,
     "metadata": {},
     "output_type": "execute_result"
    }
   ],
   "source": [
    "r.text"
   ]
  },
  {
   "cell_type": "code",
   "execution_count": 16,
   "id": "f86e8141",
   "metadata": {},
   "outputs": [
    {
     "data": {
      "text/plain": [
       "'Returns as of 03/08/2022'"
      ]
     },
     "execution_count": 16,
     "metadata": {},
     "output_type": "execute_result"
    }
   ],
   "source": [
    "paragraphs[0].text"
   ]
  },
  {
   "cell_type": "code",
   "execution_count": 17,
   "id": "43e53317",
   "metadata": {},
   "outputs": [],
   "source": [
    "text = [paragraph.text for paragraph in paragraphs]\n",
    "words = ' '.join(text).split(' ')[:400] # grab first 400 words from each paragraph.\n",
    "ARTICLE = ' '.join(words) # join all the words to make an article"
   ]
  },
  {
   "cell_type": "code",
   "execution_count": 18,
   "id": "a569e4c8",
   "metadata": {},
   "outputs": [
    {
     "data": {
      "text/plain": [
       "['Returns',\n",
       " 'as',\n",
       " 'of',\n",
       " '03/08/2022',\n",
       " 'Returns',\n",
       " 'as',\n",
       " 'of',\n",
       " '03/08/2022',\n",
       " 'Founded',\n",
       " 'in',\n",
       " '1993',\n",
       " 'by',\n",
       " 'brothers',\n",
       " 'Tom',\n",
       " 'and',\n",
       " 'David',\n",
       " 'Gardner,',\n",
       " 'The',\n",
       " 'Motley',\n",
       " 'Fool',\n",
       " 'helps',\n",
       " 'millions',\n",
       " 'of',\n",
       " 'people',\n",
       " 'attain',\n",
       " 'financial',\n",
       " 'freedom',\n",
       " 'through',\n",
       " 'our',\n",
       " 'website,',\n",
       " 'podcasts,',\n",
       " 'books,',\n",
       " 'newspaper',\n",
       " 'column,',\n",
       " 'radio',\n",
       " 'show,',\n",
       " 'and',\n",
       " 'premium',\n",
       " 'investing',\n",
       " 'services.',\n",
       " '\\n',\n",
       " '',\n",
       " '',\n",
       " '',\n",
       " 'You’re',\n",
       " 'reading',\n",
       " 'a',\n",
       " 'free',\n",
       " 'article',\n",
       " 'with',\n",
       " 'opinions',\n",
       " 'that',\n",
       " 'may',\n",
       " 'differ',\n",
       " 'from',\n",
       " 'The',\n",
       " 'Motley',\n",
       " 'Fool’s',\n",
       " 'Premium',\n",
       " 'Investing',\n",
       " 'Services.',\n",
       " 'Become',\n",
       " 'a',\n",
       " 'Motley',\n",
       " 'Fool',\n",
       " 'member',\n",
       " 'today',\n",
       " 'to',\n",
       " 'get',\n",
       " 'instant',\n",
       " 'access',\n",
       " 'to',\n",
       " 'our',\n",
       " 'top',\n",
       " 'analyst',\n",
       " 'recommendations,',\n",
       " 'in-depth',\n",
       " 'research,',\n",
       " 'investing',\n",
       " 'resources,',\n",
       " 'and',\n",
       " 'more.\\n',\n",
       " '',\n",
       " '',\n",
       " '',\n",
       " 'Learn',\n",
       " 'More\\n',\n",
       " 'Warren',\n",
       " \"Buffett's\",\n",
       " 'most',\n",
       " 'recent',\n",
       " 'letter',\n",
       " 'to',\n",
       " 'shareholders',\n",
       " 'reminded',\n",
       " 'investors',\n",
       " 'of',\n",
       " 'the',\n",
       " 'discipline',\n",
       " 'he',\n",
       " 'and',\n",
       " 'his',\n",
       " 'investing',\n",
       " 'team',\n",
       " 'at',\n",
       " 'Berkshire',\n",
       " 'Hathaway',\n",
       " 'apply',\n",
       " 'to',\n",
       " 'their',\n",
       " 'work',\n",
       " 'each',\n",
       " 'day.',\n",
       " 'And',\n",
       " 'while',\n",
       " \"there's\",\n",
       " 'nearly',\n",
       " '$150',\n",
       " 'billion',\n",
       " 'in',\n",
       " 'cash',\n",
       " 'on',\n",
       " 'the',\n",
       " 'balance',\n",
       " 'sheet,',\n",
       " 'Buffett',\n",
       " 'still',\n",
       " \"hasn't\",\n",
       " 'pulled',\n",
       " 'out',\n",
       " 'his',\n",
       " 'famed',\n",
       " '\"elephant',\n",
       " 'gun\"',\n",
       " 'just',\n",
       " 'yet.',\n",
       " 'In',\n",
       " 'this',\n",
       " 'podcast,',\n",
       " 'Motley',\n",
       " 'Fool',\n",
       " 'analyst',\n",
       " 'John',\n",
       " 'Rotonti',\n",
       " 'discusses:',\n",
       " 'Motley',\n",
       " 'Fool',\n",
       " 'analyst',\n",
       " 'Dylan',\n",
       " 'Lewis',\n",
       " 'and',\n",
       " 'Motley',\n",
       " 'Fool',\n",
       " 'contributor',\n",
       " 'Jason',\n",
       " 'Hall',\n",
       " 'discuss',\n",
       " 'two',\n",
       " 'unexpected',\n",
       " 'companies',\n",
       " 'that',\n",
       " 'are',\n",
       " 'winning',\n",
       " 'due',\n",
       " 'to',\n",
       " 'higher',\n",
       " 'inflation.',\n",
       " 'To',\n",
       " 'catch',\n",
       " 'full',\n",
       " 'episodes',\n",
       " 'of',\n",
       " 'all',\n",
       " 'The',\n",
       " 'Motley',\n",
       " \"Fool's\",\n",
       " 'free',\n",
       " 'podcasts,',\n",
       " 'check',\n",
       " 'out',\n",
       " 'our',\n",
       " 'podcast',\n",
       " 'center.',\n",
       " 'To',\n",
       " 'get',\n",
       " 'started',\n",
       " 'investing,',\n",
       " 'check',\n",
       " 'out',\n",
       " 'our',\n",
       " 'quick-start',\n",
       " 'guide',\n",
       " 'to',\n",
       " 'investing',\n",
       " 'in',\n",
       " 'stocks.',\n",
       " 'A',\n",
       " 'full',\n",
       " 'transcript',\n",
       " 'follows',\n",
       " 'the',\n",
       " 'video.',\n",
       " '',\n",
       " '',\n",
       " 'This',\n",
       " 'video',\n",
       " 'was',\n",
       " 'recorded',\n",
       " 'on',\n",
       " 'March',\n",
       " '3,',\n",
       " '2022.',\n",
       " 'Chris',\n",
       " 'Hill:',\n",
       " 'Today',\n",
       " \"we've\",\n",
       " 'got',\n",
       " 'two',\n",
       " 'hidden',\n",
       " 'winners',\n",
       " 'from',\n",
       " 'higher',\n",
       " 'inflation',\n",
       " 'and',\n",
       " 'a',\n",
       " 'stock',\n",
       " 'pitch',\n",
       " 'for',\n",
       " 'Berkshire',\n",
       " 'Hathaway.',\n",
       " 'Mr.',\n",
       " 'Buffett,',\n",
       " 'thank',\n",
       " 'you',\n",
       " 'for',\n",
       " 'listening.',\n",
       " 'Motley',\n",
       " 'Fool',\n",
       " 'Money',\n",
       " 'starts',\n",
       " 'now.',\n",
       " \"I'm\",\n",
       " 'Chris',\n",
       " 'Hill,',\n",
       " 'joined',\n",
       " 'today',\n",
       " 'by',\n",
       " 'John',\n",
       " 'Rotonti.',\n",
       " 'Thanks',\n",
       " 'for',\n",
       " 'being',\n",
       " 'here.',\n",
       " 'John',\n",
       " 'Rotonti:',\n",
       " 'Hey,',\n",
       " 'Chris.',\n",
       " 'I',\n",
       " 'always',\n",
       " 'love',\n",
       " 'being',\n",
       " 'on',\n",
       " 'the',\n",
       " 'show.',\n",
       " 'Chris',\n",
       " 'Hill:',\n",
       " 'Yesterday',\n",
       " 'Bill',\n",
       " 'Mann',\n",
       " 'and',\n",
       " 'I',\n",
       " 'talked',\n",
       " 'a',\n",
       " 'little',\n",
       " 'bit',\n",
       " 'about',\n",
       " 'Berkshire',\n",
       " 'Hathaway,',\n",
       " 'the',\n",
       " 'most',\n",
       " 'recent',\n",
       " 'report.',\n",
       " 'I',\n",
       " 'wanted',\n",
       " 'to',\n",
       " 'delve',\n",
       " 'a',\n",
       " 'little',\n",
       " 'bit',\n",
       " 'more',\n",
       " 'into',\n",
       " 'it',\n",
       " 'because',\n",
       " 'it',\n",
       " 'did',\n",
       " 'get',\n",
       " 'a',\n",
       " 'decent',\n",
       " 'amount',\n",
       " 'of',\n",
       " 'attention',\n",
       " 'in',\n",
       " 'the',\n",
       " 'financial',\n",
       " 'community',\n",
       " 'as',\n",
       " 'Warren',\n",
       " 'Buffett',\n",
       " 'and',\n",
       " 'his',\n",
       " 'letters',\n",
       " 'usually',\n",
       " 'do.',\n",
       " \"Let's\",\n",
       " 'start',\n",
       " 'with',\n",
       " 'that.',\n",
       " 'What',\n",
       " 'was',\n",
       " 'the',\n",
       " 'highlight',\n",
       " 'of',\n",
       " 'the',\n",
       " 'letter',\n",
       " 'for',\n",
       " 'you?',\n",
       " 'John',\n",
       " 'Rotonti:',\n",
       " 'The',\n",
       " 'highlight',\n",
       " 'of',\n",
       " 'the',\n",
       " 'letter,',\n",
       " 'which',\n",
       " 'is',\n",
       " 'nothing',\n",
       " 'new,',\n",
       " 'but',\n",
       " 'he',\n",
       " 'did',\n",
       " 'emphasize',\n",
       " 'it',\n",
       " 'again,',\n",
       " 'is',\n",
       " 'that',\n",
       " 'Berkshire',\n",
       " 'has',\n",
       " '$144',\n",
       " 'billion',\n",
       " 'of',\n",
       " 'cash',\n",
       " 'on',\n",
       " 'the',\n",
       " 'balance',\n",
       " 'sheet,',\n",
       " 'and',\n",
       " 'the',\n",
       " 'reason',\n",
       " \"it's\",\n",
       " 'there',\n",
       " 'is',\n",
       " 'because',\n",
       " 'the',\n",
       " 'business',\n",
       " 'generates',\n",
       " 'a',\n",
       " 'lot',\n",
       " 'of',\n",
       " 'free',\n",
       " 'cash',\n",
       " 'flow',\n",
       " 'every',\n",
       " 'year,',\n",
       " 'and',\n",
       " 'he',\n",
       " 'said',\n",
       " 'that',\n",
       " 'he',\n",
       " 'finds',\n",
       " 'nothing',\n",
       " 'that',\n",
       " 'excites',\n",
       " 'them',\n",
       " 'right',\n",
       " 'now,',\n",
       " 'at',\n",
       " 'least',\n",
       " 'not',\n",
       " 'in',\n",
       " 'meaningful',\n",
       " 'amounts,',\n",
       " 'and',\n",
       " 'so',\n",
       " 'he',\n",
       " \"can't\",\n",
       " 'find',\n",
       " 'any',\n",
       " 'businesses',\n",
       " 'that',\n",
       " 'he']"
      ]
     },
     "execution_count": 18,
     "metadata": {},
     "output_type": "execute_result"
    }
   ],
   "source": [
    "words"
   ]
  },
  {
   "cell_type": "code",
   "execution_count": 19,
   "id": "35be3876",
   "metadata": {},
   "outputs": [
    {
     "data": {
      "text/plain": [
       "400"
      ]
     },
     "execution_count": 19,
     "metadata": {},
     "output_type": "execute_result"
    }
   ],
   "source": [
    "len(words)"
   ]
  },
  {
   "cell_type": "code",
   "execution_count": 21,
   "id": "1820619f",
   "metadata": {},
   "outputs": [
    {
     "data": {
      "text/plain": [
       "'Returns as of 03/08/2022 Returns as of 03/08/2022 Founded in 1993 by brothers Tom and David Gardner, The Motley Fool helps millions of people attain financial freedom through our website, podcasts, books, newspaper column, radio show, and premium investing services. \\n    You’re reading a free article with opinions that may differ from The Motley Fool’s Premium Investing Services. Become a Motley Fool member today to get instant access to our top analyst recommendations, in-depth research, investing resources, and more.\\n    Learn More\\n Warren Buffett\\'s most recent letter to shareholders reminded investors of the discipline he and his investing team at Berkshire Hathaway apply to their work each day. And while there\\'s nearly $150 billion in cash on the balance sheet, Buffett still hasn\\'t pulled out his famed \"elephant gun\" just yet. In this podcast, Motley Fool analyst John Rotonti discusses: Motley Fool analyst Dylan Lewis and Motley Fool contributor Jason Hall discuss two unexpected companies that are winning due to higher inflation. To catch full episodes of all The Motley Fool\\'s free podcasts, check out our podcast center. To get started investing, check out our quick-start guide to investing in stocks. A full transcript follows the video.   This video was recorded on March 3, 2022. Chris Hill: Today we\\'ve got two hidden winners from higher inflation and a stock pitch for Berkshire Hathaway. Mr. Buffett, thank you for listening. Motley Fool Money starts now. I\\'m Chris Hill, joined today by John Rotonti. Thanks for being here. John Rotonti: Hey, Chris. I always love being on the show. Chris Hill: Yesterday Bill Mann and I talked a little bit about Berkshire Hathaway, the most recent report. I wanted to delve a little bit more into it because it did get a decent amount of attention in the financial community as Warren Buffett and his letters usually do. Let\\'s start with that. What was the highlight of the letter for you? John Rotonti: The highlight of the letter, which is nothing new, but he did emphasize it again, is that Berkshire has $144 billion of cash on the balance sheet, and the reason it\\'s there is because the business generates a lot of free cash flow every year, and he said that he finds nothing that excites them right now, at least not in meaningful amounts, and so he can\\'t find any businesses that he'"
      ]
     },
     "execution_count": 21,
     "metadata": {},
     "output_type": "execute_result"
    }
   ],
   "source": [
    "ARTICLE"
   ]
  },
  {
   "cell_type": "code",
   "execution_count": 22,
   "id": "e1904a19",
   "metadata": {},
   "outputs": [],
   "source": [
    "input_ids = tokenizer.encode(ARTICLE, return_tensors='pt') # encode the article\n",
    "output = model.generate(input_ids, max_length=55, num_beams=5, early_stopping=True) # run the model, it uses bean search algorithm basically\n",
    "summary = tokenizer.decode(output[0], skip_special_tokens=True) # decode the output"
   ]
  },
  {
   "cell_type": "code",
   "execution_count": 23,
   "id": "d2e2a38a",
   "metadata": {},
   "outputs": [
    {
     "data": {
      "text/plain": [
       "'Two companies that are winning due to higher inflation.'"
      ]
     },
     "execution_count": 23,
     "metadata": {},
     "output_type": "execute_result"
    }
   ],
   "source": [
    "# Print out the summary of the article\n",
    "summary"
   ]
  },
  {
   "cell_type": "markdown",
   "id": "b0b38fab",
   "metadata": {},
   "source": [
    "# 4. Building an news and sentiment pipeline"
   ]
  },
  {
   "cell_type": "code",
   "execution_count": 26,
   "id": "cd277d01",
   "metadata": {},
   "outputs": [],
   "source": [
    "# Here I'm trying to get the news articles for Moderna, Apple and Ethereum stocks\n",
    "monitored_tickers = ['MRNA', 'APPL', 'ETH']"
   ]
  },
  {
   "cell_type": "markdown",
   "id": "70c097e8",
   "metadata": {},
   "source": [
    "## 4.1 Search for stock news using google and yahoo finance"
   ]
  },
  {
   "cell_type": "code",
   "execution_count": 27,
   "id": "417c28fd",
   "metadata": {},
   "outputs": [],
   "source": [
    "def search_for_stock_news_urls(ticker):\n",
    "    search_url = \"https://www.google.com/search?q=yahoo+finance+{}&tbm=nws\".format(ticker)\n",
    "    r = requests.get(search_url)\n",
    "    soup = BeautifulSoup(r.text, 'html.parser')\n",
    "    atags = soup.find_all('a') # 'a' tags look for links to articles\n",
    "    hrefs = [link['href'] for link in atags]\n",
    "    return hrefs\n"
   ]
  },
  {
   "cell_type": "code",
   "execution_count": null,
   "id": "ee4ed1cd",
   "metadata": {},
   "outputs": [],
   "source": [
    "search_for_stock_news_urls('APPL')"
   ]
  },
  {
   "cell_type": "code",
   "execution_count": null,
   "id": "b560450a",
   "metadata": {},
   "outputs": [],
   "source": [
    "raw_urls = {ticker:search_for_stock_news_urls(ticker) for ticker in monitored_tickers}\n",
    "raw_urls"
   ]
  },
  {
   "cell_type": "code",
   "execution_count": 33,
   "id": "920bf627",
   "metadata": {},
   "outputs": [
    {
     "data": {
      "text/plain": [
       "dict_keys(['MRNA', 'APPL', 'ETH'])"
      ]
     },
     "execution_count": 33,
     "metadata": {},
     "output_type": "execute_result"
    }
   ],
   "source": [
    "raw_urls.keys()"
   ]
  },
  {
   "cell_type": "code",
   "execution_count": 34,
   "id": "24470ccd",
   "metadata": {},
   "outputs": [
    {
     "data": {
      "text/plain": [
       "dict_values([['/?sa=X&ved=0ahUKEwj_3s613bf2AhXLk2oFHaaMB44QOwgC', '/?output=search&ie=UTF-8&tbm=nws&sa=X&ved=0ahUKEwj_3s613bf2AhXLk2oFHaaMB44QPAgE', '/search?q=yahoo+finance+MRNA&tbm=nws&ie=UTF-8&gbv=1&sei=Ae8nYr_aKsunqtsPppme8Ag', '/search?q=yahoo+finance+MRNA&ie=UTF-8&source=lnms&sa=X&ved=0ahUKEwj_3s613bf2AhXLk2oFHaaMB44Q_AUIBygA', '/search?q=yahoo+finance+MRNA&ie=UTF-8&tbm=shop&source=lnms&sa=X&ved=0ahUKEwj_3s613bf2AhXLk2oFHaaMB44Q_AUICSgC', '/search?q=yahoo+finance+MRNA&ie=UTF-8&tbm=isch&source=lnms&sa=X&ved=0ahUKEwj_3s613bf2AhXLk2oFHaaMB44Q_AUICigD', 'https://maps.google.com/maps?q=yahoo+finance+MRNA&um=1&ie=UTF-8&sa=X&ved=0ahUKEwj_3s613bf2AhXLk2oFHaaMB44Q_AUICygE', '/search?q=yahoo+finance+MRNA&ie=UTF-8&tbm=vid&source=lnms&sa=X&ved=0ahUKEwj_3s613bf2AhXLk2oFHaaMB44Q_AUIDCgF', '/search?q=yahoo+finance+MRNA&ie=UTF-8&tbm=bks&source=lnms&sa=X&ved=0ahUKEwj_3s613bf2AhXLk2oFHaaMB44Q_AUIDSgG', '/advanced_search', '/search?q=yahoo+finance+MRNA&ie=UTF-8&tbm=nws&source=lnt&tbs=qdr:h&sa=X&ved=0ahUKEwj_3s613bf2AhXLk2oFHaaMB44QpwUIDw', '/search?q=yahoo+finance+MRNA&ie=UTF-8&tbm=nws&source=lnt&tbs=qdr:d&sa=X&ved=0ahUKEwj_3s613bf2AhXLk2oFHaaMB44QpwUIEA', '/search?q=yahoo+finance+MRNA&ie=UTF-8&tbm=nws&source=lnt&tbs=qdr:w&sa=X&ved=0ahUKEwj_3s613bf2AhXLk2oFHaaMB44QpwUIEQ', '/search?q=yahoo+finance+MRNA&ie=UTF-8&tbm=nws&source=lnt&tbs=qdr:m&sa=X&ved=0ahUKEwj_3s613bf2AhXLk2oFHaaMB44QpwUIEg', '/search?q=yahoo+finance+MRNA&ie=UTF-8&tbm=nws&source=lnt&tbs=qdr:y&sa=X&ved=0ahUKEwj_3s613bf2AhXLk2oFHaaMB44QpwUIEw', '/search?q=yahoo+finance+MRNA&ie=UTF-8&tbm=nws&source=lnt&tbs=ar:1&sa=X&ved=0ahUKEwj_3s613bf2AhXLk2oFHaaMB44QpwUIFA', '/search?q=yahoo+finance+MRNA&ie=UTF-8&tbm=nws&source=lnt&tbs=sbd:1&sa=X&ved=0ahUKEwj_3s613bf2AhXLk2oFHaaMB44QpwUIFg', '/url?q=https://finance.yahoo.com/news/moderna-announces-global-public-health-000000722.html&sa=U&ved=2ahUKEwj_3s613bf2AhXLk2oFHaaMB44QxfQBegQIAhAC&usg=AOvVaw18G5zmCcqv-mzd6mn4jtNh', '/url?q=https://finance.yahoo.com/news/moderna-announces-global-public-health-000000722.html&sa=U&ved=2ahUKEwj_3s613bf2AhXLk2oFHaaMB44Q0Y8FegQIAhAD&usg=AOvVaw3yxya-MlHTnrYdUke-IqLl', '/url?q=https://finance.yahoo.com/news/global-mrna-platform-industry-124400904.html&sa=U&ved=2ahUKEwj_3s613bf2AhXLk2oFHaaMB44QxfQBegQICRAC&usg=AOvVaw3ODIGe_TpfAuPOXh2xNyzU', '/url?q=https://finance.yahoo.com/news/global-mrna-platform-industry-124400904.html&sa=U&ved=2ahUKEwj_3s613bf2AhXLk2oFHaaMB44Q0Y8FegQICRAD&usg=AOvVaw37AnQdBDlnQkdbOyhCxvc3', '/url?q=https://finance.yahoo.com/news/sqz-biotechnologies-present-enhanced-apc-214500640.html&sa=U&ved=2ahUKEwj_3s613bf2AhXLk2oFHaaMB44QxfQBegQIBxAC&usg=AOvVaw3mLuYyh83J6Agb5vM1aomV', '/url?q=https://finance.yahoo.com/news/sqz-biotechnologies-present-enhanced-apc-214500640.html&sa=U&ved=2ahUKEwj_3s613bf2AhXLk2oFHaaMB44Q0Y8FegQIBxAD&usg=AOvVaw06qzQQw5UnLrAyGSmWJdDW', '/url?q=https://finance.yahoo.com/news/omega-therapeutics-present-preclinical-data-220500793.html&sa=U&ved=2ahUKEwj_3s613bf2AhXLk2oFHaaMB44QxfQBegQICBAC&usg=AOvVaw24E1C9FOKv2QzRoHVO_I7u', '/url?q=https://finance.yahoo.com/news/omega-therapeutics-present-preclinical-data-220500793.html&sa=U&ved=2ahUKEwj_3s613bf2AhXLk2oFHaaMB44Q0Y8FegQICBAD&usg=AOvVaw3yQgRkl8Z_Q4Az6GRpBuMI', '/url?q=https://finance.yahoo.com/news/beat-likely-moderna-mrna-earnings-151703164.html&sa=U&ved=2ahUKEwj_3s613bf2AhXLk2oFHaaMB44QxfQBegQIBRAC&usg=AOvVaw3rjlaQMon_zcpOmiFAjiGB', '/url?q=https://finance.yahoo.com/news/beat-likely-moderna-mrna-earnings-151703164.html&sa=U&ved=2ahUKEwj_3s613bf2AhXLk2oFHaaMB44Q0Y8FegQIBRAD&usg=AOvVaw10cJJcK88Aa308M4SJdNZV', '/url?q=https://finance.yahoo.com/news/moderna-rovi-expand-long-term-070500406.html&sa=U&ved=2ahUKEwj_3s613bf2AhXLk2oFHaaMB44QxfQBegQIBBAC&usg=AOvVaw1AQow4MS-5L0ZCW4i6tw0e', '/url?q=https://finance.yahoo.com/news/moderna-rovi-expand-long-term-070500406.html&sa=U&ved=2ahUKEwj_3s613bf2AhXLk2oFHaaMB44Q0Y8FegQIBBAD&usg=AOvVaw1QAS3abThlFp5bdZxG76GW', '/url?q=https://finance.yahoo.com/news/matinas-biopharma-reports-fourth-quarter-113000787.html&sa=U&ved=2ahUKEwj_3s613bf2AhXLk2oFHaaMB44QxfQBegQIARAC&usg=AOvVaw0xaucfLmgOvDeuAuF04mYv', '/url?q=https://finance.yahoo.com/news/matinas-biopharma-reports-fourth-quarter-113000787.html&sa=U&ved=2ahUKEwj_3s613bf2AhXLk2oFHaaMB44Q0Y8FegQIARAD&usg=AOvVaw2_IyedUzfETCX3QOBsTUlr', '/url?q=https://finance.yahoo.com/news/moderna-announces-plan-expand-commercial-230100689.html&sa=U&ved=2ahUKEwj_3s613bf2AhXLk2oFHaaMB44QxfQBegQIABAC&usg=AOvVaw18yv2G3ZV5zq__3BR3B1rg', '/url?q=https://finance.yahoo.com/news/moderna-announces-plan-expand-commercial-230100689.html&sa=U&ved=2ahUKEwj_3s613bf2AhXLk2oFHaaMB44Q0Y8FegQIABAD&usg=AOvVaw39io2MtmDwuBApAOJI-ERE', '/url?q=https://finance.yahoo.com/news/moderna-reports-fourth-quarter-fiscal-115700281.html&sa=U&ved=2ahUKEwj_3s613bf2AhXLk2oFHaaMB44QxfQBegQIBhAC&usg=AOvVaw1nTJApt8lw7GLOz_ZliBJt', '/url?q=https://finance.yahoo.com/news/moderna-reports-fourth-quarter-fiscal-115700281.html&sa=U&ved=2ahUKEwj_3s613bf2AhXLk2oFHaaMB44Q0Y8FegQIBhAD&usg=AOvVaw06xOX291sIUAQD48-UNeo1', '/url?q=https://finance.yahoo.com/news/moderna-announces-establishment-enterprise-solutions-142500193.html&sa=U&ved=2ahUKEwj_3s613bf2AhXLk2oFHaaMB44QxfQBegQIAxAC&usg=AOvVaw1e31Ic3pVWpoxG6Eok_NuH', '/url?q=https://finance.yahoo.com/news/moderna-announces-establishment-enterprise-solutions-142500193.html&sa=U&ved=2ahUKEwj_3s613bf2AhXLk2oFHaaMB44Q0Y8FegQIAxAD&usg=AOvVaw2gvt4lcbBcrMO4gDYAkvdN', '/search?q=yahoo+finance+MRNA&ie=UTF-8&tbm=nws&ei=Ae8nYr_aKsunqtsPppme8Ag&start=10&sa=N', '/url?q=https://support.google.com/websearch%3Fp%3Dws_settings_location%26hl%3Den&sa=U&ved=0ahUKEwj_3s613bf2AhXLk2oFHaaMB44Qty4IaA&usg=AOvVaw20KAeydoRQ_VVTB5649rE8', '/url?q=https://accounts.google.com/ServiceLogin%3Fcontinue%3Dhttps://www.google.com/search%253Fq%253Dyahoo%252Bfinance%252BMRNA%2526tbm%253Dnws%26hl%3Den&sa=U&ved=0ahUKEwj_3s613bf2AhXLk2oFHaaMB44Qxs8CCGk&usg=AOvVaw2IXl5qFM3qHVpE7kLl_vqv', 'https://www.google.com/preferences?hl=en&fg=1&sa=X&ved=0ahUKEwj_3s613bf2AhXLk2oFHaaMB44Q5fUCCGo', 'https://policies.google.com/privacy?hl=en&fg=1', 'https://policies.google.com/terms?hl=en&fg=1'], ['/?sa=X&ved=0ahUKEwiYxPe13bf2AhUMk2oFHYdmAkgQOwgC', '/?output=search&ie=UTF-8&tbm=nws&sa=X&ved=0ahUKEwiYxPe13bf2AhUMk2oFHYdmAkgQPAgE', '/search?q=yahoo+finance+APPL&tbm=nws&ie=UTF-8&gbv=1&sei=Au8nYpi7FoymqtsPh82JwAQ', '/search?q=yahoo+finance+APPL&ie=UTF-8&source=lnms&sa=X&ved=0ahUKEwiYxPe13bf2AhUMk2oFHYdmAkgQ_AUIBygA', '/search?q=yahoo+finance+APPL&ie=UTF-8&tbm=shop&source=lnms&sa=X&ved=0ahUKEwiYxPe13bf2AhUMk2oFHYdmAkgQ_AUICSgC', '/search?q=yahoo+finance+APPL&ie=UTF-8&tbm=vid&source=lnms&sa=X&ved=0ahUKEwiYxPe13bf2AhUMk2oFHYdmAkgQ_AUICigD', '/search?q=yahoo+finance+APPL&ie=UTF-8&tbm=isch&source=lnms&sa=X&ved=0ahUKEwiYxPe13bf2AhUMk2oFHYdmAkgQ_AUICygE', 'https://maps.google.com/maps?q=yahoo+finance+APPL&um=1&ie=UTF-8&sa=X&ved=0ahUKEwiYxPe13bf2AhUMk2oFHYdmAkgQ_AUIDCgF', '/search?q=yahoo+finance+APPL&ie=UTF-8&tbm=bks&source=lnms&sa=X&ved=0ahUKEwiYxPe13bf2AhUMk2oFHYdmAkgQ_AUIDSgG', '/advanced_search', '/search?q=yahoo+finance+APPL&ie=UTF-8&tbm=nws&source=lnt&tbs=qdr:h&sa=X&ved=0ahUKEwiYxPe13bf2AhUMk2oFHYdmAkgQpwUIDw', '/search?q=yahoo+finance+APPL&ie=UTF-8&tbm=nws&source=lnt&tbs=qdr:d&sa=X&ved=0ahUKEwiYxPe13bf2AhUMk2oFHYdmAkgQpwUIEA', '/search?q=yahoo+finance+APPL&ie=UTF-8&tbm=nws&source=lnt&tbs=qdr:w&sa=X&ved=0ahUKEwiYxPe13bf2AhUMk2oFHYdmAkgQpwUIEQ', '/search?q=yahoo+finance+APPL&ie=UTF-8&tbm=nws&source=lnt&tbs=qdr:m&sa=X&ved=0ahUKEwiYxPe13bf2AhUMk2oFHYdmAkgQpwUIEg', '/search?q=yahoo+finance+APPL&ie=UTF-8&tbm=nws&source=lnt&tbs=qdr:y&sa=X&ved=0ahUKEwiYxPe13bf2AhUMk2oFHYdmAkgQpwUIEw', '/search?q=yahoo+finance+APPL&ie=UTF-8&tbm=nws&source=lnt&tbs=ar:1&sa=X&ved=0ahUKEwiYxPe13bf2AhUMk2oFHYdmAkgQpwUIFA', '/search?q=yahoo+finance+APPL&ie=UTF-8&tbm=nws&source=lnt&tbs=sbd:1&sa=X&ved=0ahUKEwiYxPe13bf2AhUMk2oFHYdmAkgQpwUIFg', '/url?q=https://seekingalpha.com/article/4493318-apple-stock-scenarios-possibilities-manufacture-earnings&sa=U&ved=2ahUKEwiYxPe13bf2AhUMk2oFHYdmAkgQxfQBegQIBBAC&usg=AOvVaw36-WlIUb-iLnfD5t-ULTrM', '/url?q=https://seekingalpha.com/article/4493318-apple-stock-scenarios-possibilities-manufacture-earnings&sa=U&ved=2ahUKEwiYxPe13bf2AhUMk2oFHYdmAkgQ0Y8FegQIBBAD&usg=AOvVaw0MEObaYXrNw6qZriHLw8Zz', '/url?q=https://www.marketwatch.com/story/apple-inc-stock-falls-tuesday-underperforms-market-01646775092-577861011ebb&sa=U&ved=2ahUKEwiYxPe13bf2AhUMk2oFHYdmAkgQxfQBegQICRAC&usg=AOvVaw26gj7u5zgD-5iK1DBHw56H', '/url?q=https://www.marketwatch.com/story/apple-inc-stock-falls-tuesday-underperforms-market-01646775092-577861011ebb&sa=U&ved=2ahUKEwiYxPe13bf2AhUMk2oFHYdmAkgQ0Y8FegQICRAD&usg=AOvVaw2GHaltHpcyT2JxTd9OQwlp', '/url?q=https://seekingalpha.com/article/4493384-apple-vs-microsoft-stock-better-buy&sa=U&ved=2ahUKEwiYxPe13bf2AhUMk2oFHYdmAkgQxfQBegQIBxAC&usg=AOvVaw1M4z6qBRMhxSXPqIYa3tMT', '/url?q=https://seekingalpha.com/article/4493384-apple-vs-microsoft-stock-better-buy&sa=U&ved=2ahUKEwiYxPe13bf2AhUMk2oFHYdmAkgQ0Y8FegQIBxAD&usg=AOvVaw1McX_go_nI6xMHgOj7oVX-', '/url?q=https://www.yahoo.com/finance/news/apple-cuts-russia-off-from-its-products-and-services-211438593.html&sa=U&ved=2ahUKEwiYxPe13bf2AhUMk2oFHYdmAkgQxfQBegQICBAC&usg=AOvVaw3h1Ti-FHYzj_pGo8zVTP1N', '/url?q=https://www.yahoo.com/finance/news/apple-cuts-russia-off-from-its-products-and-services-211438593.html&sa=U&ved=2ahUKEwiYxPe13bf2AhUMk2oFHYdmAkgQ0Y8FegQICBAD&usg=AOvVaw2pULCwKpb-H2SeKnhKEpnw', '/url?q=https://www.businessinsider.com/apple-cofounder-steve-wozniak-technology-investing-process-cryptos-nfts-predictions-2022-3&sa=U&ved=2ahUKEwiYxPe13bf2AhUMk2oFHYdmAkgQxfQBegQIAxAC&usg=AOvVaw2lm4471-Jkzhl3zovMFy5F', '/url?q=https://www.businessinsider.com/apple-cofounder-steve-wozniak-technology-investing-process-cryptos-nfts-predictions-2022-3&sa=U&ved=2ahUKEwiYxPe13bf2AhUMk2oFHYdmAkgQ0Y8FegQIAxAD&usg=AOvVaw0Hwo9hzQYsnxTo63sE7Gvh', '/url?q=https://www.cnbc.com/2022/03/04/apple-shareholders-vote-for-company-to-conduct-a-civil-rights-audit.html&sa=U&ved=2ahUKEwiYxPe13bf2AhUMk2oFHYdmAkgQxfQBegQIBRAC&usg=AOvVaw2CgBmaGjhHR9p9f2N9N49z', '/url?q=https://www.cnbc.com/2022/03/04/apple-shareholders-vote-for-company-to-conduct-a-civil-rights-audit.html&sa=U&ved=2ahUKEwiYxPe13bf2AhUMk2oFHYdmAkgQ0Y8FegQIBRAD&usg=AOvVaw3xLzaFwt5bILrPvXyjVavq', '/url?q=https://www.ft.com/content/8d51b4a1-81fc-42a2-aad9-9c9bd2736675&sa=U&ved=2ahUKEwiYxPe13bf2AhUMk2oFHYdmAkgQxfQBegQIABAC&usg=AOvVaw3kF159-ITCqkaOccPdlA_S', '/url?q=https://www.ft.com/content/8d51b4a1-81fc-42a2-aad9-9c9bd2736675&sa=U&ved=2ahUKEwiYxPe13bf2AhUMk2oFHYdmAkgQ0Y8FegQIABAD&usg=AOvVaw2nxN0jEpffa-IIDYdv7yUP', '/url?q=https://news.yahoo.com/how-tech-companies-benefit-from-taking-on-russia-204734487.html&sa=U&ved=2ahUKEwiYxPe13bf2AhUMk2oFHYdmAkgQxfQBegQIAhAC&usg=AOvVaw2REG5B-xXkptI93IbAemzB', '/url?q=https://news.yahoo.com/how-tech-companies-benefit-from-taking-on-russia-204734487.html&sa=U&ved=2ahUKEwiYxPe13bf2AhUMk2oFHYdmAkgQ0Y8FegQIAhAD&usg=AOvVaw34ABGgkznwSFaFhV4dfJ7i', '/url?q=https://www.bloomberg.com/news/articles/2022-03-04/apple-shareholders-vote-for-civil-rights-audits-defying-company&sa=U&ved=2ahUKEwiYxPe13bf2AhUMk2oFHYdmAkgQxfQBegQIBhAC&usg=AOvVaw39QrLi_xkZl9-bo7bvoxRI', '/url?q=https://www.bloomberg.com/news/articles/2022-03-04/apple-shareholders-vote-for-civil-rights-audits-defying-company&sa=U&ved=2ahUKEwiYxPe13bf2AhUMk2oFHYdmAkgQ0Y8FegQIBhAD&usg=AOvVaw3LyeZBW7NCXPQEFVsWYkQB', '/url?q=https://www.thestreet.com/apple/news/how-important-is-russia-to-apples-business&sa=U&ved=2ahUKEwiYxPe13bf2AhUMk2oFHYdmAkgQxfQBegQIARAC&usg=AOvVaw3Xy5oW4LlkSfn3E59CZg2k', '/url?q=https://www.thestreet.com/apple/news/how-important-is-russia-to-apples-business&sa=U&ved=2ahUKEwiYxPe13bf2AhUMk2oFHYdmAkgQ0Y8FegQIARAD&usg=AOvVaw1OU4czDBxUi3MqO3MQrZof', '/search?q=yahoo+finance+APPL&ie=UTF-8&tbm=nws&ei=Au8nYpi7FoymqtsPh82JwAQ&start=10&sa=N', '/url?q=https://support.google.com/websearch%3Fp%3Dws_settings_location%26hl%3Den&sa=U&ved=0ahUKEwiYxPe13bf2AhUMk2oFHYdmAkgQty4IaA&usg=AOvVaw0gZnGBlMAOQ6jEA58EzKKn', '/url?q=https://accounts.google.com/ServiceLogin%3Fcontinue%3Dhttps://www.google.com/search%253Fq%253Dyahoo%252Bfinance%252BAPPL%2526tbm%253Dnws%26hl%3Den&sa=U&ved=0ahUKEwiYxPe13bf2AhUMk2oFHYdmAkgQxs8CCGk&usg=AOvVaw3T3fGhO44UA4Um1YrotlIA', 'https://www.google.com/preferences?hl=en&fg=1&sa=X&ved=0ahUKEwiYxPe13bf2AhUMk2oFHYdmAkgQ5fUCCGo', 'https://policies.google.com/privacy?hl=en&fg=1', 'https://policies.google.com/terms?hl=en&fg=1'], ['/?sa=X&ved=0ahUKEwimjJy23bf2AhV3k2oFHW90B10QOwgC', '/?output=search&ie=UTF-8&tbm=nws&sa=X&ved=0ahUKEwimjJy23bf2AhV3k2oFHW90B10QPAgE', '/search?q=yahoo+finance+ETH&tbm=nws&ie=UTF-8&gbv=1&sei=Au8nYqaDO_emqtsP7-id6AU', '/search?q=yahoo+finance+ETH&ie=UTF-8&source=lnms&sa=X&ved=0ahUKEwimjJy23bf2AhV3k2oFHW90B10Q_AUIBygA', '/search?q=yahoo+finance+ETH&ie=UTF-8&tbm=shop&source=lnms&sa=X&ved=0ahUKEwimjJy23bf2AhV3k2oFHW90B10Q_AUICSgC', 'https://maps.google.com/maps?q=yahoo+finance+ETH&um=1&ie=UTF-8&sa=X&ved=0ahUKEwimjJy23bf2AhV3k2oFHW90B10Q_AUICigD', '/search?q=yahoo+finance+ETH&ie=UTF-8&tbm=isch&source=lnms&sa=X&ved=0ahUKEwimjJy23bf2AhV3k2oFHW90B10Q_AUICygE', '/search?q=yahoo+finance+ETH&ie=UTF-8&tbm=vid&source=lnms&sa=X&ved=0ahUKEwimjJy23bf2AhV3k2oFHW90B10Q_AUIDCgF', '/search?q=yahoo+finance+ETH&ie=UTF-8&tbm=bks&source=lnms&sa=X&ved=0ahUKEwimjJy23bf2AhV3k2oFHW90B10Q_AUIDSgG', '/advanced_search', '/search?q=yahoo+finance+ETH&ie=UTF-8&tbm=nws&source=lnt&tbs=qdr:h&sa=X&ved=0ahUKEwimjJy23bf2AhV3k2oFHW90B10QpwUIDw', '/search?q=yahoo+finance+ETH&ie=UTF-8&tbm=nws&source=lnt&tbs=qdr:d&sa=X&ved=0ahUKEwimjJy23bf2AhV3k2oFHW90B10QpwUIEA', '/search?q=yahoo+finance+ETH&ie=UTF-8&tbm=nws&source=lnt&tbs=qdr:w&sa=X&ved=0ahUKEwimjJy23bf2AhV3k2oFHW90B10QpwUIEQ', '/search?q=yahoo+finance+ETH&ie=UTF-8&tbm=nws&source=lnt&tbs=qdr:m&sa=X&ved=0ahUKEwimjJy23bf2AhV3k2oFHW90B10QpwUIEg', '/search?q=yahoo+finance+ETH&ie=UTF-8&tbm=nws&source=lnt&tbs=qdr:y&sa=X&ved=0ahUKEwimjJy23bf2AhV3k2oFHW90B10QpwUIEw', '/search?q=yahoo+finance+ETH&ie=UTF-8&tbm=nws&source=lnt&tbs=ar:1&sa=X&ved=0ahUKEwimjJy23bf2AhV3k2oFHW90B10QpwUIFA', '/search?q=yahoo+finance+ETH&ie=UTF-8&tbm=nws&source=lnt&tbs=sbd:1&sa=X&ved=0ahUKEwimjJy23bf2AhV3k2oFHW90B10QpwUIFg', '/url?q=https://ca.finance.yahoo.com/news/terra-outpace-ethereum-2022-beyond-164500195.html&sa=U&ved=2ahUKEwimjJy23bf2AhV3k2oFHW90B10QxfQBegQIABAC&usg=AOvVaw2GwROU7X7tX98Gl4DM_gyg', '/url?q=https://ca.finance.yahoo.com/news/terra-outpace-ethereum-2022-beyond-164500195.html&sa=U&ved=2ahUKEwimjJy23bf2AhV3k2oFHW90B10Q0Y8FegQIABAD&usg=AOvVaw1PQVrW9bLBBokjAZcO4Kjs', '/url?q=https://finance.yahoo.com/news/hive-blockchain-provides-february-2022-060000179.html&sa=U&ved=2ahUKEwimjJy23bf2AhV3k2oFHW90B10QxfQBegQICRAC&usg=AOvVaw1YTwg0vI5V_c4E0StreJzK', '/url?q=https://finance.yahoo.com/news/hive-blockchain-provides-february-2022-060000179.html&sa=U&ved=2ahUKEwimjJy23bf2AhV3k2oFHW90B10Q0Y8FegQICRAD&usg=AOvVaw3YtvRTENz8UjNlbd3IM9T0', '/url?q=https://ca.finance.yahoo.com/news/why-ethereum-crashing-2022-211400958.html&sa=U&ved=2ahUKEwimjJy23bf2AhV3k2oFHW90B10QxfQBegQIBxAC&usg=AOvVaw2X2rnZnQy4fJJ4GT7UbU1K', '/url?q=https://ca.finance.yahoo.com/news/why-ethereum-crashing-2022-211400958.html&sa=U&ved=2ahUKEwimjJy23bf2AhV3k2oFHW90B10Q0Y8FegQIBxAD&usg=AOvVaw3Cb5NPuuZN9aQaGz1JkKY1', '/url?q=https://finance.yahoo.com/news/first-mover-asia-singapores-strict-234310063.html&sa=U&ved=2ahUKEwimjJy23bf2AhV3k2oFHW90B10QxfQBegQICBAC&usg=AOvVaw2GJ3fcALNTAou_ACP1ENk6', '/url?q=https://finance.yahoo.com/news/first-mover-asia-singapores-strict-234310063.html&sa=U&ved=2ahUKEwimjJy23bf2AhV3k2oFHW90B10Q0Y8FegQICBAD&usg=AOvVaw1ciS-SuhA0zEr9v9iK3Rmu', '/url?q=https://finance.yahoo.com/news/money-will-never-be-the-same-after-russia-ukraine-and-bitcoin-could-benefit-170422659.html&sa=U&ved=2ahUKEwimjJy23bf2AhV3k2oFHW90B10QxfQBegQIARAC&usg=AOvVaw2dTCsmPDxogqUkNxM6LS98', '/url?q=https://finance.yahoo.com/news/money-will-never-be-the-same-after-russia-ukraine-and-bitcoin-could-benefit-170422659.html&sa=U&ved=2ahUKEwimjJy23bf2AhV3k2oFHW90B10Q0Y8FegQIARAD&usg=AOvVaw27nhuEM0pEKtoImvbV_d5t', '/url?q=https://finance.yahoo.com/news/ens-limitations-dao-governance-202105967.html&sa=U&ved=2ahUKEwimjJy23bf2AhV3k2oFHW90B10QxfQBegQIAhAC&usg=AOvVaw37LWBMX5RoXlNmcYRPxXwI', '/url?q=https://finance.yahoo.com/news/ens-limitations-dao-governance-202105967.html&sa=U&ved=2ahUKEwimjJy23bf2AhV3k2oFHW90B10Q0Y8FegQIAhAD&usg=AOvVaw0GI3Bx2cMJ_rYJwYoDUnHM', '/url?q=https://finance.yahoo.com/news/live-audited-stablecoin-eurst-goes-073000765.html&sa=U&ved=2ahUKEwimjJy23bf2AhV3k2oFHW90B10QxfQBegQIAxAC&usg=AOvVaw3cRfNl08nUKDxl5JBz8i1k', '/url?q=https://finance.yahoo.com/news/live-audited-stablecoin-eurst-goes-073000765.html&sa=U&ved=2ahUKEwimjJy23bf2AhV3k2oFHW90B10Q0Y8FegQIAxAD&usg=AOvVaw1hYW9xX1J1O4SbdWgR537l', '/url?q=https://finance.yahoo.com/news/complicated-relationship-between-crypto-nfts-143000834.html&sa=U&ved=2ahUKEwimjJy23bf2AhV3k2oFHW90B10QxfQBegQIBhAC&usg=AOvVaw2_eEwe6mYZ976AWqpW2lK0', '/url?q=https://finance.yahoo.com/news/complicated-relationship-between-crypto-nfts-143000834.html&sa=U&ved=2ahUKEwimjJy23bf2AhV3k2oFHW90B10Q0Y8FegQIBhAD&usg=AOvVaw2wt2Gz5JETNGJ-K7hZ-8mE', '/url?q=https://finance.yahoo.com/news/crypto-giving-ukraine-flexibility-as-russian-invasion-spurs-desperation-202802758.html&sa=U&ved=2ahUKEwimjJy23bf2AhV3k2oFHW90B10QxfQBegQIBBAC&usg=AOvVaw1EGgzY4V6reIcJRmiAqnYU', '/url?q=https://finance.yahoo.com/news/crypto-giving-ukraine-flexibility-as-russian-invasion-spurs-desperation-202802758.html&sa=U&ved=2ahUKEwimjJy23bf2AhV3k2oFHW90B10Q0Y8FegQIBBAD&usg=AOvVaw07wXIME43IpJW2SrWCWSxT', '/url?q=https://finance.yahoo.com/news/social-media-star-sean-havens-232300962.html&sa=U&ved=2ahUKEwimjJy23bf2AhV3k2oFHW90B10QxfQBegQIBRAC&usg=AOvVaw37wQo5ytNBMKGe8asmohmj', '/url?q=https://finance.yahoo.com/news/social-media-star-sean-havens-232300962.html&sa=U&ved=2ahUKEwimjJy23bf2AhV3k2oFHW90B10Q0Y8FegQIBRAD&usg=AOvVaw3pkpze3QTREhxxpX5ms0mD', '/search?q=yahoo+finance+ETH&ie=UTF-8&tbm=nws&ei=Au8nYqaDO_emqtsP7-id6AU&start=10&sa=N', '/url?q=https://support.google.com/websearch%3Fp%3Dws_settings_location%26hl%3Den&sa=U&ved=0ahUKEwimjJy23bf2AhV3k2oFHW90B10Qty4IaA&usg=AOvVaw35lDApbckg4bzLPQJjsR43', '/url?q=https://accounts.google.com/ServiceLogin%3Fcontinue%3Dhttps://www.google.com/search%253Fq%253Dyahoo%252Bfinance%252BETH%2526tbm%253Dnws%26hl%3Den&sa=U&ved=0ahUKEwimjJy23bf2AhV3k2oFHW90B10Qxs8CCGk&usg=AOvVaw3wNawuFVPsm7PV6cLZmKsF', 'https://www.google.com/preferences?hl=en&fg=1&sa=X&ved=0ahUKEwimjJy23bf2AhV3k2oFHW90B10Q5fUCCGo', 'https://policies.google.com/privacy?hl=en&fg=1', 'https://policies.google.com/terms?hl=en&fg=1']])"
      ]
     },
     "execution_count": 34,
     "metadata": {},
     "output_type": "execute_result"
    }
   ],
   "source": [
    "raw_urls.values()"
   ]
  },
  {
   "cell_type": "markdown",
   "id": "98026ed1",
   "metadata": {},
   "source": [
    "## 4.2 Strip out unwanted URLs"
   ]
  },
  {
   "cell_type": "code",
   "execution_count": 36,
   "id": "b5b19d41",
   "metadata": {},
   "outputs": [],
   "source": [
    "import re # regular expressions library\n",
    "exclude_list = ['maps', 'policies', 'preferences', 'accounts', 'support']\n",
    "\n",
    "# The URLs should have https:// and no words from the exclude_list\n",
    "def strip_unwanted_urls(urls, exclude_list):\n",
    "    val = []\n",
    "    for url in urls: \n",
    "        if 'https://' in url and not any(exclude_word in url for exclude_word in exclude_list):\n",
    "            res = re.findall(r'(https?://\\S+)', url)[0].split('&')[0]\n",
    "            val.append(res)\n",
    "    return list(set(val)) # remove any duplicate URLs\n"
   ]
  },
  {
   "cell_type": "code",
   "execution_count": 37,
   "id": "fcd3c6be",
   "metadata": {},
   "outputs": [
    {
     "data": {
      "text/plain": [
       "['https://finance.yahoo.com/news/omega-therapeutics-present-preclinical-data-220500793.html',\n",
       " 'https://finance.yahoo.com/news/moderna-announces-establishment-enterprise-solutions-142500193.html',\n",
       " 'https://finance.yahoo.com/news/global-mrna-platform-industry-124400904.html',\n",
       " 'https://finance.yahoo.com/news/moderna-reports-fourth-quarter-fiscal-115700281.html',\n",
       " 'https://finance.yahoo.com/news/moderna-announces-global-public-health-000000722.html',\n",
       " 'https://finance.yahoo.com/news/sqz-biotechnologies-present-enhanced-apc-214500640.html',\n",
       " 'https://finance.yahoo.com/news/moderna-announces-plan-expand-commercial-230100689.html',\n",
       " 'https://finance.yahoo.com/news/moderna-rovi-expand-long-term-070500406.html',\n",
       " 'https://finance.yahoo.com/news/beat-likely-moderna-mrna-earnings-151703164.html',\n",
       " 'https://finance.yahoo.com/news/matinas-biopharma-reports-fourth-quarter-113000787.html']"
      ]
     },
     "execution_count": 37,
     "metadata": {},
     "output_type": "execute_result"
    }
   ],
   "source": [
    "strip_unwanted_urls(raw_urls['MRNA'], exclude_list)"
   ]
  },
  {
   "cell_type": "code",
   "execution_count": 38,
   "id": "b58f1bce",
   "metadata": {},
   "outputs": [
    {
     "data": {
      "text/plain": [
       "{'MRNA': ['https://finance.yahoo.com/news/omega-therapeutics-present-preclinical-data-220500793.html',\n",
       "  'https://finance.yahoo.com/news/moderna-announces-establishment-enterprise-solutions-142500193.html',\n",
       "  'https://finance.yahoo.com/news/global-mrna-platform-industry-124400904.html',\n",
       "  'https://finance.yahoo.com/news/moderna-reports-fourth-quarter-fiscal-115700281.html',\n",
       "  'https://finance.yahoo.com/news/moderna-announces-global-public-health-000000722.html',\n",
       "  'https://finance.yahoo.com/news/sqz-biotechnologies-present-enhanced-apc-214500640.html',\n",
       "  'https://finance.yahoo.com/news/moderna-announces-plan-expand-commercial-230100689.html',\n",
       "  'https://finance.yahoo.com/news/moderna-rovi-expand-long-term-070500406.html',\n",
       "  'https://finance.yahoo.com/news/beat-likely-moderna-mrna-earnings-151703164.html',\n",
       "  'https://finance.yahoo.com/news/matinas-biopharma-reports-fourth-quarter-113000787.html'],\n",
       " 'APPL': ['https://seekingalpha.com/article/4493384-apple-vs-microsoft-stock-better-buy',\n",
       "  'https://seekingalpha.com/article/4493318-apple-stock-scenarios-possibilities-manufacture-earnings',\n",
       "  'https://www.thestreet.com/apple/news/how-important-is-russia-to-apples-business',\n",
       "  'https://www.ft.com/content/8d51b4a1-81fc-42a2-aad9-9c9bd2736675',\n",
       "  'https://www.yahoo.com/finance/news/apple-cuts-russia-off-from-its-products-and-services-211438593.html',\n",
       "  'https://www.cnbc.com/2022/03/04/apple-shareholders-vote-for-company-to-conduct-a-civil-rights-audit.html',\n",
       "  'https://www.bloomberg.com/news/articles/2022-03-04/apple-shareholders-vote-for-civil-rights-audits-defying-company',\n",
       "  'https://www.marketwatch.com/story/apple-inc-stock-falls-tuesday-underperforms-market-01646775092-577861011ebb',\n",
       "  'https://www.businessinsider.com/apple-cofounder-steve-wozniak-technology-investing-process-cryptos-nfts-predictions-2022-3',\n",
       "  'https://news.yahoo.com/how-tech-companies-benefit-from-taking-on-russia-204734487.html'],\n",
       " 'ETH': ['https://finance.yahoo.com/news/hive-blockchain-provides-february-2022-060000179.html',\n",
       "  'https://finance.yahoo.com/news/money-will-never-be-the-same-after-russia-ukraine-and-bitcoin-could-benefit-170422659.html',\n",
       "  'https://ca.finance.yahoo.com/news/terra-outpace-ethereum-2022-beyond-164500195.html',\n",
       "  'https://finance.yahoo.com/news/first-mover-asia-singapores-strict-234310063.html',\n",
       "  'https://finance.yahoo.com/news/ens-limitations-dao-governance-202105967.html',\n",
       "  'https://finance.yahoo.com/news/complicated-relationship-between-crypto-nfts-143000834.html',\n",
       "  'https://finance.yahoo.com/news/social-media-star-sean-havens-232300962.html',\n",
       "  'https://finance.yahoo.com/news/live-audited-stablecoin-eurst-goes-073000765.html',\n",
       "  'https://finance.yahoo.com/news/crypto-giving-ukraine-flexibility-as-russian-invasion-spurs-desperation-202802758.html',\n",
       "  'https://ca.finance.yahoo.com/news/why-ethereum-crashing-2022-211400958.html']}"
      ]
     },
     "execution_count": 38,
     "metadata": {},
     "output_type": "execute_result"
    }
   ],
   "source": [
    "cleaned_urls = {ticker:strip_unwanted_urls(raw_urls[ticker], exclude_list) for ticker in monitored_tickers}\n",
    "cleaned_urls"
   ]
  },
  {
   "cell_type": "markdown",
   "id": "54c1bf9f",
   "metadata": {},
   "source": [
    "## 4.3 Search and scrape cleaned URLs"
   ]
  },
  {
   "cell_type": "code",
   "execution_count": 50,
   "id": "8c01464e",
   "metadata": {},
   "outputs": [],
   "source": [
    "def scrape_and_process(URLs):\n",
    "    ARTICLES = []\n",
    "    for url in URLs: \n",
    "        r = requests.get(url)\n",
    "        soup = BeautifulSoup(r.text, 'html.parser')\n",
    "        paragraphs = soup.find_all('p')\n",
    "        text = [paragraph.text for paragraph in paragraphs]\n",
    "        words = ' '.join(text).split(' ')[:350]\n",
    "        ARTICLE = ' '.join(words)\n",
    "        ARTICLES.append(ARTICLE)\n",
    "    return ARTICLES\n"
   ]
  },
  {
   "cell_type": "code",
   "execution_count": 51,
   "id": "0ede7239",
   "metadata": {},
   "outputs": [
    {
     "data": {
      "text/plain": [
       "{'MRNA': ['CAMBRIDGE, Mass., March 8, 2022 /PRNewswire/ -- Omega Therapeutics, Inc. (Nasdaq: OMGA) (\"Omega\"), a development-stage biotechnology company pioneering the first systematic approach to use mRNA therapeutics as a new class of programmable epigenetic medicines by leveraging its OMEGA Epigenomic Programing™ platform, today announced that it will present preclinical data for OTX-2002, the Company\\'s lead drug candidate for the treatment of hepatocellular carcinoma (HCC), at the upcoming American Association for Cancer Research (AACR) Annual Meeting 2022, taking place in New Orleans, Louisiana, April 8-13, 2022. \"These preclinical data highlight the potential of epigenetic modulation of the c-MYC (MYC) oncogene as a promising new approach for the treatment of hepatocellular carcinoma (HCC), where MYC over expression is associated with aggressive disease in up to 70% of HCC cases,\" said Mahesh Karande, President and Chief Executive Officer of Omega Therapeutics. \"While MYC represents an attractive therapeutic target, it has historically been considered undruggable, due to the consistent failure of current modalities to inhibit MYC directly or indirectly. We look forward to sharing these data that support the potential of epigenetic modulation using our platform to systematically control the underlying biology of gene expression and remain on track to file an Investigational New Drug application for OTX-2002 in the first half of 2022.\" Details for the AACR Annual Meeting 2022 poster presentation are as follows: Title: Epigenetic modulation of the MYC oncogene as a potential novel therapy for HCCAbstract #: 2629Date and Time: Tuesday, April 12, 2022 at 9:00 a.m. through 12:30 p.m. CDT The poster will be posted to our website at https://omegatherapeutics.com/our-science/#publications-research at the same time as the presentation. About OTX-2002 OTX-2002 is a first-in-class Omega Epigenomic Controller™ in development for the treatment of hepatocellular carcinoma (HCC). OTX-2002 is designed to modulate levels of c-MYC (MYC) expression by utilizing targeted mRNA-encoded proteins to mediate epigenetic regulation while potentially overcoming MYC auto regulation. The MYC oncogene is associated with aggressive disease in up to ~70% of patients with HCC. Omega is currently evaluating OTX-2002 in Investigational New Drug (IND)-enabling studies. About Omega Therapeutics Omega Therapeutics, founded by Flagship Pioneering, is a development-stage biotechnology',\n",
       "  'Initial jobless claims improved, 215,000 Americans filed last week The Americas Enterprise Solutions Hub will support the U.S., Canada and Latin America and is in addition to Moderna\\'s International Enterprise Solutions Hub in Warsaw, Poland Atlanta selected due to accessibility of broad and diverse talent base Hiring plan targeting approximately 150-200 employees over 2 years CAMBRIDGE, MA / ACCESSWIRE / March 3, 2022 /Moderna, Inc. (NASDAQ:MRNA), a biotechnology company pioneering messenger RNA (mRNA) therapeutics and vaccines, today announced plans to establish an Enterprise Solutions Hub in Atlanta, Georgia. Moderna\\'s Atlanta office will initially host finance, human resources, procurement, and digital functions. \"We are pleased to be expanding our footprint after a year of tremendous growth, which underscored the need for business services activities in proximity to skilled talent,\" said Stéphane Bancel, Chief Executive Officer of Moderna. \"Along with our center in Poland, our Atlanta hub will bring us closer to realizing our vision of building a company with centralized enterprise solutions hubs worldwide. As we build Moderna, we strive to use best business practices, and with Enterprise Hubs on different continents and digital investments, we can scale efficiently. We look forward to engaging with the diverse pool of talent in the Atlanta community.\" \"The life sciences industry has become a leading source of U.S. employment growth, and I am pleased to welcome Moderna to Georgia\\'s thriving life sciences community,\" said Georgia Governor Brian P. Kemp. \"Georgia provides the talent to support various sectors of the life science and digital health industries, and our pro-business environment and commitment to innovation provide additional incentive to companies looking for long-term success.\" Moderna in Atlanta will provide enterprise solutions, similar to its counterpart in Warsaw, Poland, which was established in May 2021. Moderna\\'s Hub in Atlanta will initially focus on delivering finance, human resources, procurement and digital solutions. Moderna will continue to identify opportunities to host additional functions and business services out of the hub as the Company grows and operations mature. Moderna is expecting to hire approximately 150-200 full time employees in the Atlanta Hub over the next two years. When selecting a',\n",
       "  'Abstract: What`s New for 2022? -Global competitiveness and key competitor percentage market shares. -Market presence across multiple geographies - Strong/Active/Niche/Trivial. New York, Feb. 22, 2022 (GLOBE NEWSWIRE) -- Reportlinker.com announces the release of the report \"Global mRNA Platform Industry\" - https://www.reportlinker.com/p06156075/?utm_source=GNW -Online interactive peer-to-peer collaborative bespoke updates -Access to our digital archives and MarketGlass Research Platform -Complimentary updates for one year The ongoing Covid-19 pandemic has highlighted the potential for mRNA therapies. The mRNA technology has experienced decades of research efforts from scientists and various biotechnology companies. Discovered in the 1960s as an option to convert DNA codes into proteins, mRNA took several decades to emerge as promising therapeutic modality for various medical conditions. mRNA medicines make use of the usual biological processes to extract proteins and create the required therapeutic effect, due to which the treatment of several diseases that cannot be achieved using current technologies is made easy. mRNA therapeutics have gained major attention following the development of new synthesis as well as delivery approaches. The advances in the generation, purification and cellular delivery of RNA have widened the scope of RNA-based therapeutics for a broad array of applications. The technology is marked by its compelling advantages over traditional methods in terms of turnaround times, production speed and cost savings. Various clinical and preclinical studies have indicated promising results for protein replacement therapies, prevention of infectious diseases, tumor immunotherapy and cancer vaccines. In the historic global race to develop a vaccine, mRNA based Covid-19 vaccine from Moderna and Pfizer stand out as frontrunners. The unique characteristics of mRNA has made it of great interest to vaccine developers. While traditional vaccines have used live or inactivated pathogens to elicit an immune response, mRNA is responsible for cellular processes, building structures, regulating functions, and building structural components. mRNA vaccines work by introducing a part of mRNA that reacts to the viral protein. It accelerates production of antibodies and trains the immune system to recognize the virus in the future, thereby offering protection. Essentially a chemical process, production of mRNA vaccines eliminates the need for growing proteins or viruses, a key',\n",
       "  'Q4 2021 revenues of $7.2 billion; GAAP net-income of $4.9 billion and GAAP diluted EPS of $11.29 Full year 2021 revenues of $18.5 billion; GAAP net-income of $12.2 billion and GAAP diluted EPS of $28.29 Moderna increased its 2022 signed advance purchase agreements to approximately $19 billion, with additional signed options of approximately $3 billion; numerous discussions ongoing with governments for the fall of 2022 and 2023 Moderna received full U.S. FDA approval for COVID-19 vaccine, Spikevax Moderna announces new bivalent booster candidate (mRNA-1273.214) combining Omicron-specific booster candidate (mRNA-1273.529) and the Moderna COVID-19 vaccine (mRNA-1273) Company now has 44 programs in development Moderna announces a new $3 billion share repurchase plan CAMBRIDGE, MA / ACCESSWIRE / February 24, 2022 /Moderna, Inc. (NASDAQ:MRNA), a biotechnology company pioneering messenger RNA (mRNA) therapeutics and vaccines, today reported financial results and provided business updates for the fourth quarter of fiscal year 2021. \"Spikevax is now approved in more than 70 countries around the world protecting hundreds of millions of people and real-world evidence from multiple independent studies has confirmed its strong effectiveness,\" said Stéphane Bancel, Chief Executive Officer of Moderna. \"In 2021, we delivered 807 million doses with approximately 25% of those doses going to low- and middle-income countries, and we will continue to scale in 2022 to help end the COVID-19 pandemic. Moderna has experienced exponential growth and we have more than doubled the size of our team over the last year with a global team of 3,000. We also have announced plans to scale to 21 commercial subsidiaries across the world, including four new locations in Asia and six new locations in Europe. We continue to expand and advance our industry-leading mRNA pipeline with 44 programs in development. We look forward to clinical readouts from our therapeutics development candidates later in 2022 in rare genetic diseases and oncology. We are entering 2022 with a remarkable team and strategic priorities to continue advancing mRNA vaccines and therapeutics to impact human health.\" Updates and recent progress include: COVID-19 Vaccine Development Therapeutic Goods Administration (TGA) in Australia has granted provisional registration for the use of',\n",
       "  \"Kevin Heal and Steve Biggar of Argus Research share stocks that may benefit from rate hikes Wed., March 9 at 2 p.m. ET.  Moderna announces commitment to advance vaccines targeting 15 pathogens identified as biggest public health risk by WHO and CEPI into clinical studies by 2025 Moderna launches mRNA Access, a new collaborative enabling researchers around the world to utilize Moderna's mRNA technology platform to pursue research in their own labs on emerging and neglected infectious diseases Moderna expands commitment to never enforce COVID-19 patents in the Gavi COVAX AMC for 92 low- and middle-income countries Moderna has entered into a Memorandum of Understanding with the Government of the Republic of Kenya to establish its first mRNA manufacturing facility on the continent of Africa CAMBRIDGE, MA / ACCESSWIRE / March 7, 2022 /Moderna, Inc. (NASDAQ:MRNA), a biotechnology company pioneering messenger RNA (mRNA) therapeutics and vaccines, today announced its global public health strategy through four new initiatives aimed at advancing mRNA vaccines for the prevention of infectious diseases. First, Moderna is announcing a commitment to expand its global public health portfolio to 15 vaccine programs targeting priority pathogens[1] that threaten global health, advancing these vaccines into clinical studies by 2025. Second, to accelerate research with the aim of advancing additional vaccines, Moderna is launching a new program, mRNA Access that will offer researchers use of Moderna's mRNA technology to explore new vaccines against emerging or neglected infectious disease. Third, Moderna is expanding its patent pledge to never enforce COVID-19 patents in the Gavi COVAX AMC for 92 low- and middle-income countries. Fourth, Moderna announced that with the assistance of the U.S. government, it has entered into a Memorandum of Understanding with the Government of the Republic of Kenya to establish Kenya as the location for its mRNA manufacturing facility. The World Health Organization (WHO) and the Coalition for Epidemic Preparedness Innovations (CEPI) have issued calls to action to develop vaccines against priority pathogens that pose a threat to public health. Moderna's clinical portfolio already includes vaccines targeting COVID-19, HIV, Nipah and Zika. Moderna's expanded global health strategy will advance\",\n",
       "  'WATERTOWN, Mass., March 08, 2022--(BUSINESS WIRE)--SQZ Biotechnologies Company (NYSE: SQZ), focused on unlocking the full potential of cell therapies for multiple therapeutic areas, today announced that it will present new preclinical findings on the company’s enhanced antigen presenting cell (eAPC) platform at the American Association for Cancer Research (AACR) Annual Meeting on April 8-13, 2022 in New Orleans, Louisiana. The new eAPC work demonstrates the company’s Cell Squeeze® platform’s ability to deliver multiple mRNA simultaneously into important immune cells – monocytes, B cells, T cells, and NK cells – generating eAPCs with specific antigens and costimulatory factors that are designed to drive strong CD8 T cell responses against targeted diseases. \"By simultaneously engineering the three fundamental signals involved with T cell activation, SQZ eAPCs can potentially drive powerful, targeted immune responses against a variety of diseases,\" said Howard Bernstein, M.D., Ph.D., Chief Scientific Officer at SQZ Biotechnologies. \"Our preclinical data at AACR demonstrates that our eAPCs can significantly enhance CD8 T cell responses to a variety of disease antigens – including Cytomegalovirus, Influenza, and Human Papillomavirus. The versatility of our approach has the potential to further enable rapid evolution of the platform for a variety of diseases by using mRNA to encode other antigens or T cell activation signals.\" In January, the FDA gave IND clearance for SQZ-eAPC-HPV, the company’s first eAPC therapeutic candidate, for use in patients who have HPV16+ solid tumors. SQZ eAPCs are intended to build on the promising preliminary monotherapy results from our SQZ APC candidate by expanding the addressable patient population and directly incorporating combination-like functionality. In addition to the new eAPC preclinincal data, a Trial in Progress poster presentation of the ENVOY-001 Phase 1/2 clinical trial will be delivered by Victoria Villaflor, M.D., City of Hope Medical Center. The presentation will summarize the ENVOY-001 study design of SQZ-AAC-HPV, the company’s first AAC clinical candidate being investigated in patients with HPV16+ recurrant, locally advanced, or metastatic solid tumors. AACR eAPC Poster Title: Co-delivery of antigen-encoding mRNA and signal 2/3 mRNAs to PBMCs by CellSqueeze® technology generates SQZ® eAPCs that prime CD8 T cells in humanized',\n",
       "  ' Announcement reinforces Moderna\\'s commitment to Europe and vision as a global commercial enterprise, building on the recent announcement of expansion in the Asia-Pacific region Local commercial presence to be established in Belgium, Denmark, the Netherlands, Norway, Poland, and Sweden to support the delivery of mRNA vaccines and therapeutics CAMBRIDGE, MA / ACCESSWIRE / February 16, 2022 / Moderna, Inc., (NASDAQ:MRNA) a biotechnology company pioneering messenger RNA (mRNA) therapeutics and vaccines, today announced plans to expand its commercial network across six additional countries in Europe. Moderna plans to establish a commercial presence in Belgium, Denmark, Norway, the Netherlands, Poland, and Sweden to support the delivery of mRNA vaccines and therapeutics locally. This follows the recent announcement of plans for four new subsidiaries in Malaysia, Taiwan, Singapore, and Hong Kong. \"Europe has played a critical role in Moderna\\'s ability to manufacture and deliver our COVID-19 vaccine across the world, protecting millions of people from COVID-19 infection, hospitalization, and death. After a decade of pioneering the development of our mRNA platform, I am proud of the growth we continue to achieve,\" said Stéphane Bancel, Chief Executive Officer of Moderna. \"I look forward to furthering our collaborations with European researchers and partners to leverage our mRNA technology and expand treatment options to improve the lives of patients across Europe.\" Europe represents an integral part of Moderna\\'s business, with established commercial subsidiaries in Italy, France, Germany, Spain, Switzerland, and the United Kingdom. Established in 2021, Moderna Poland hosts the Moderna International Business Services (MIBS) Center, which provides critical functions, including finance, pharmacovigilance, human resources, and digital services. Moderna Poland will also expand to provide commercial capabilities. The expansion comes as the Company continues to scale up the manufacturing and distribution of its COVID-19 vaccine while advancing other mRNA vaccine candidates and therapeutics. Moderna has several key manufacturing partnerships across Europe, including Lonza in Switzerland and the Netherlands, ROVI in Spain, and Recipharm in France. Moderna\\'s broader pipeline currently includes 40 development programs, of which 25 are in clinical trials. The Company continues to update its COVID-19 strategy to address variants of concern such as',\n",
       "  ' Long-term agreement includes a series of investments to acquire new equipment and adapt the present ROVI drug product fill-finish facilities and production lines in Spain CAMBRIDGE, MA and MADRID, SPAIN / ACCESSWIRE / February 16, 2022 /Moderna, Inc. (NASDAQ:MRNA), a biotechnology company pioneering messenger RNA (mRNA) therapeutics and vaccines, and Laboratorios Farmacéuticos Rovi, S.A. (BME: ROVI), a pan-European pharmaceutical company specializing and engaging in the research, development, contract manufacturing and marketing of small molecules and biological specialties, today announced a long-term collaboration to increase capacities for the compounding, aseptic filling, inspection, labeling, and packaging of ROVI\\'s facilities, located in Madrid, San Sebastián de los Reyes and Alcalá de Henares. This new agreement, which has a term of ten years, includes a series of investments expected to allow the manufacturing capacity to increase across ROVI\\'s facilities in Madrid, Spain. In addition to producing Moderna\\'s COVID-19 vaccine, ROVI\\'s platform could also be utilized to service future Moderna mRNA vaccine candidates. \"ROVI has been a pivotal partner in supporting the manufacturing of our COVID-19 mRNA vaccine for countries outside of the U.S., and this long-term agreement expands our partnership and allows for further scale-up for future mRNA medicines,\" said Juan Andres, Moderna\\'s Chief Technical Operations and Quality Officer. Mr. Juan López-Belmonte Encina, ROVI\\'s Chairman and Chief Executive Officer, said: \"We are delighted to expand our collaboration with Moderna and become a long-term manufacturing partner. At ROVI, we are working to contribute all our experience as a high-technological-value contract manufacturer of injectables to the solution of this pandemic, and we are confident of our ability to take part in the manufacturing of new mRNA candidates in the future.\" Moderna and Rovi are expected to finalize details of this agreement in the first quarter of 2022. About Moderna In 10 years since its inception, Moderna has transformed from a research-stage company advancing programs in the field of messenger RNA (mRNA) to an enterprise with a diverse clinical portfolio of vaccines and therapeutics across seven modalities, a broad intellectual property portfolio in areas including mRNA and lipid nanoparticle formulation, and an integrated manufacturing plant that',\n",
       "  'Moderna MRNA, slated to report fourth-quarter and full-year 2021 results on Feb 24, before market open, is expected to beat expectations. In the last-reported quarter, the company delivered a negative earnings surprise of 14.06%. Moderna’s share price has declined 8.5% in the past year compared with the industry’s decrease of 39.6%. Image Source: Zacks Investment Research The company’s surprise history has been mixed so far, with its earnings beating estimates in two of the trailing four quarters while missing the same twice. The average negative surprise is 35.84%. Let’s see how things have shaped up for this announcement. During the fourth quarter, Moderna received authorization for its COVID-19 vaccine, Spikevax, for use in adolsecents in several countries. Moroever, the booster or third dose also received FDA approval for emergency use in adults. In its preliminary results for 2021, the company announced that it recorded approximately $17.5 billion for the full-year from the delivery of 807 million doses of its COVID-19 vaccine globally. Moderna recorded $10.7 billion of product sales in the first nine months. The company is estimated to have recorded approximately $6.8 billion in sales from Spikevax during the fourth quarter. The Zacks Consensus Estimate for product sales stands at $6.55 billion for the fourth quarter. Investors are likely to focus on updates related to the Omicron-specific booster development progress as well as on any regulatory update related to the authorization of Spikevax for emergency use in adolescents in the United States on the fourth-quarter earnings call Moderna’s grant revenues in the fourth quarter are likely to have been driven by an award from the Biomedical Advanced Research and Development Authority (“BARDA”) under the agreement to develop its coronavirus vaccine programs. The Zacks Consensus Estimate for grant revenues is pegged at $99 million. Moderna is expanding its manufacturing capabilities to support the delivery of Spikevax doses. Apart from its COVID-19 vaccine candidates, Moderna is developing 23 candidates in different stages of clinical studies, majorly mRNA-based products targeting different indications, including cancer. The company initiated a phase III study on its cytomegalovirus vaccine candidate in October 2021. These developments are',\n",
       "  'Kevin Heal and Steve Biggar of Argus Research share stocks that may benefit from rate hikes Wed., March 9 at 2 p.m. ET.  – Fifteen Patients Enrolled to Date in Cohort 4 of EnACT (all oral induction regimen); Topline Interim Data Expected Q3 2022 – – Potential Pathway to NDA Submission for MAT2203 with Confirmatory Data to Come from Cohort 5 of EnACT Trial – – Second in vivo Study of Oral LNC-remdesivir to Commence in March 2022 – – Moving Aggressively into Nucleic Acids with Internal Discovery Programs Initiated with mRNA, DNA and Antisense Oligonucleotides (ASOs) – – $49.6 million at Year-End 2021, Sufficient to Fund Planned Operations Through 2023 – – Management to Host Conference Call Today, Tuesday, March 8th, at 8:30 a.m. ET – BEDMINSTER, N.J., March 08, 2022 (GLOBE NEWSWIRE) -- Matinas BioPharma Holdings, Inc. (NYSE AMER: MTNB), a clinical-stage biopharmaceutical company focused on redefining the intracellular delivery of nucleic acids and small molecules with its lipid nanocrystal (LNC) platform technology, today reported financial results for the fourth quarter and full year ended December 31, 2021, along with a corporate update. “We are proud of the significant progress we made in 2021 to advance our LNC platform technology, including delivering compelling data for MAT2203 in the first three cohorts of the EnACT trial and meeting with the U.S. Food and Drug Administration (FDA) for an End of Phase 2 meeting,” commented Jerome D. Jabbour, Chief Executive Officer of Matinas. “In 2022, in addition to delivering data from Cohort 4 of the EnACT trial in the third quarter, we have moved aggressively into the formulation and delivery of nucleic acids and have initiated internal discovery programs based on the delivery of mRNA, DNA and antisense oligonucleotides. While we are very excited about our infectious disease small molecule programs, we believe that our LNC delivery technology has the potential to become a preferred and novel modality for the targeted intracellular delivery of these complex therapeutics. The unique properties of our LNC platform, including oral bioavailability, extrahepatic targeting, large payload capacity, and improved stability and safety, are supported'],\n",
       " 'APPL': ['da-kuk/E+ via Getty Images da-kuk/E+ via Getty Images Apple Inc. (AAPL) and Microsoft Corporation (MSFT) have outperformed the S&P 500 by wide margins over the last decade; however, it might surprise investors to learn that AAPL traded for a P/E multiple as low as 10x in early 2016, and MSFT shares were valued at a P/E of roughly 10x as recently as 2013. Now consider this: Apple\\'s P/E multiple reached the mid-30s last year, and Microsoft\\'s P/E was in the mid-50s in 2017. This stands as a rebuttal to those who claim there is never a bad time to invest in the best companies. Investors must determine whether one or both of these firms have the growth potential to warrant current valuations. Apple has an ecosystem that creates a virtuous circle, while MSFT can count on the cloud for a growth runway that stretches for the foreseeable future. Additional developments could also bolster growth for both companies. It is hard to find fault in the latest quarterly results for Apple. When perusing the earnings call transcript, one finds the term \"all-time record\" mentioned 31 times. Apple set records for revenue ($123.9 billion, up 11%), operating cash flow ($47 billion) net income ($34.6 billion), and EPS ($2.10) in Q1 2022. The last two metrics were both up year-over-year by more than 20%. Other records set last quarter: iPhone revenue of $71.6 billion increased 9% year-over-year. Not only was revenue at an all-time high, but the active installed base of iPhone users set a new record. Mac revenue of $10.9 billion. The 25% revenue growth rate for Mac was spurred by the redesigned MacBook Pro. Wearables, Home and Accessories up 13% year-over-year to $14.7 billion. The current installed base of active devices recorded a new all-time record of 1.8 billion devices. Services revenue of $19.5 billion increased 24% from a year ago. That division set records for cloud services, for music, video, advertising and payment services, as well as a December quarter record for the App Store. Records were also set in the Americas, Europe, Greater China and the rest of Asia',\n",
       "  \"Nikada/iStock Unreleased via Getty Images Nikada/iStock Unreleased via Getty Images The world is a cold place, and my heart breaks for the citizens of Ukraine. This horrific situation should remind us that the world is an imperfect place, and we don't live in a Utopia. The geopolitical environment can change at the drop of a dime, and this shouldn't be a surprise as wars have been waged for thousands of years. Geopolitical tensions continue to escalate, and speculation as to whether China will invade Taiwan increases. Nobody can accurately predict if China will invade Taiwan, but we can certainly speculate about the global impacts. Apple (NASDAQ:AAPL) is one of my favorite companies, and it's been the bedrock of the market throughout the recent volatility. The Nasdaq has declined by -14.90% in 2022 and by roughly -17.89% since the middle of November 2021. Over the past year, Apple has appreciated by 35.83%, while the Invesco QQQ ETF (NASDAQ:QQQ) has appreciated by 10.92% and, compared to the QQQ, has only declined by -8.11% in 2022 compared to -15.22%. In January, it was reported that roughly 40% of the stocks within the Nasdaq had lost half their value since November. AAPL has been a safe haven for many investors, and the real question is which direction will AAPL gravitate toward in the future. I believe an argument can be made for AAPL appreciating to $250 prior to 2024 or plummeting below the $100 level if China invades Taiwan. While I don't believe anyone wants to see another war break out, both scenarios are plausible, and investors should evaluate both scenarios. AAPL has many catalysts, and something that isn't discussed enough is that AAPL can manufacture larger EPS. The market has turned its back on growth and is more concerned with a company's ability to generate free cash flow (FCF) and EPS rather than revenue growth rates. AAPL has FCF generation and EPS in spades. If China invaded Taiwan, a $100 share price for AAPL could be conservative, and shares could go lower. There are too many factors to quantify what would occur. We\",\n",
       "  \"The unfortunate conflict in Eastern Europe rages on. In reaction to geopolitical tensions, the US stock market continues to be volatile. Apple stock\\xa0 (AAPL) - Get Apple Inc. Report, for example, remains in correction territory as of the writing of this paragraph — a 10%-plus decline from the peak. The recent selloff in AAPL has been probably driven by macro-level forces and not at all by company-specific reasons. Still, it begs the question: how important is Russia to Apple’s business? Could the Cupertino company be impacted by economic distress in the country? Figure 1:\\xa0How Important Is Russia To Apple’s Business? Unsplash (Read more from Apple Maven: Apple Stock: EPS Growth Will Depend Mostly On This) Because of the conflict on Ukrainian soil, countries across the globe have recently announced a long list of sanctions against Russia. As a result, the country seems to be facing an economic and “financial meltdown”: ruble selloff, skyrocketing interest rates, even a run on banks. This could spell trouble for companies that do business in Russia, including those that are headquartered in Western Europe and the US. As a major global consumer products and services vendor, Apple should be impacted. The question, however, is by how much. Russia is the 11th largest economy in the world. Its GDP of about $1.5 trillion amounts to roughly 2% of the global economy — while, as a fun fact, its territory represents 11% of all land on the planet. When it comes to Apple, however, Russia is likely even less relevant. According to estimates, Apple’s Russia revenues in 2020 reached 266 billion rubles, or about $2.5 billion. While this could seem like a huge number to many companies, it represented less than 1% of Apple’s total sales that year. See pie chart below. Figure 2: Apple's 2020 Russia revenues (estimates). DM Martins Research Here’s a quick back-of-the-envelope calculation: assume Apple’s 2020 blended op margin of 24% and tax rate of 14.4%. Russia’s $2.4 billion revenues, therefore, represent less than 3 cents in EPS, which is minimal compared to Apple’s $3.27 delivered in fiscal 2020. There is one other\",\n",
       "  '\\n\\t\\t\\t\\t\\t\\tExpert insights, analysis and smart data help you cut through the noise to spot trends,\\n\\t\\t\\t\\t\\t\\trisks and opportunities.\\n\\t\\t\\t\\t\\t Join over 300,000 Finance professionals who already subscribe to the FT. \\n\\t\\t\\t\\t\\t\\t\\t\\t\\t\\tThen $69 per monthNew customers onlyCancel anytime during your trial\\n\\t\\t\\t\\t\\t\\t\\t\\t\\t OR \\nBEST VALUE - SAVE 20%\\n \\n\\t\\t\\t\\t\\t\\t\\t\\t\\t\\tThen $74.75 every 3 months\\n\\t\\t\\t\\t\\t\\t\\t\\t\\t \\n\\n\\t\\t\\t\\t\\tSign in\\n\\t\\t\\t\\t\\n Check if your university has an FT membership to read for free. International Edition',\n",
       "  'Apple (AAPL) said Tuesday that it has stopped selling its products in Russia. The iPhone maker made the move after calls from Ukrainian officials for tech companies to either pull back their services or stop offering them entirely in Russia after its invasion of Ukraine. “We have paused all product sales in Russia,” an Apple spokesperson said in a statement. “Last week, we stopped all exports into our sales channel in the country. Apple Pay and other services have been limited. RT News and Sputnik News are no longer available for download from the App Store outside Russia. And we have disabled both traffic and live incidents in Apple Maps in Ukraine as a safety and precautionary measure for Ukrainian citizens,” the spokesperson added. Apple is the latest Big Tech company to punish Russia for invading Ukraine. Microsoft (MSFT), Facebook parent Meta (FB), and Alphabet’s (GOOG, GOOGL) YouTube have all blocked or limited the availability of Russian state media groups like RT and Sputnik in Europe. TikTok has also blocked the media group’s accounts in Europe. On Friday Ukrainian Vice Prime Minister Mykhailo Fedorov called on Apple CEO Tim Cook to stop supplying its services to Russia and cut off access to the App Store. “I appeal to you and I am sure that you will not hear, but also do everything possible to protect Ukraine, Europe, and finally, the entire democratic world from bloody authoritarian aggression — to stop supplying Apple Services and products to the Russian Federation, including blocking access to the App Store!” Fedorov wrote in a letter to the CEO. Facebook parent Meta also said it’s cracking down on Russian disinformation. On Monday, the social media giant revealed that it removed a coordinated campaign designed to spread Russia-friendly disinformation with some 5,000 followers. The company also warned users that a hacking group known as Ghostwriter is taking over user accounts to spread Russian propaganda. “They were targeting and taking over, or attempting to take over, the accounts of prominent individuals in Ukraine,” Nathaniel Gleicher, head of security policy at Meta, told Yahoo Finance. “Think about journalists,',\n",
       "  ' Apple shareholders approved a proposal on Friday that said that the company\\'s board will conduct a third-party audit examining company policies and provide recommendations to improve its civil rights impact. Apple opposed the proposal. Apple\\'s shareholders usually vote the way that management recommends, so the approval is a sign that a majority of investors believe that Apple can improve how it handles issues such as gender pay equity, leadership diversity and privacy related to products like AirTags, all of which were mentioned in the proposal. The proposal comes after a period in which Apple faced public challenges with a pay equity study run by former employee Cher Scarlett despite Apple\\'s stance that it has a gender and racial pay equity policy, and reported diversity metrics that showed that Hispanic and Black employees only represent a small percentage of technology employees and leadership roles at Apple. Shareholders also narrowly approved a separate shareholder proposal directing Apple to create a public report about how the company uses concealment clauses in employment contracts with respect to harassment and discrimination. SOC Investment Group, which backed the civil rights proposal with the Service Employees International Union and Trillium Management, welcomed the approval and said it would help investors monitor whether Apple\\'s actions match its public relations. \"We\\'re going to take the company\\'s own metrics and say, \\'Okay, how do you live up to your own commitments?\\'\" Dieter Waizenegger, executive director of SOC said. \"Does your activity actually move the needle? Or is it just PR?\" Waizenegger said that the approval signals the increasing willingness of large investors to vote for governance-related shareholder proposals at big public companies. Last year, Microsoft hired a law firm to review sexual harassment policies after its shareholders approved a proposal at its general meeting. \"These big investors are really recognizing the value of these types of reports and audits,\" Waizenegger said. Although the proposal is advisory, Waizenegger said, shareholders typically will hold the company\\'s board to account when something is passed with a majority of shareholder votes. Apple said that it already meets the objectives of the proposal through',\n",
       "  \"To continue, please click the box below to let us know you're not a robot. Please make sure your browser supports JavaScript and cookies and that you are not blocking them from loading. For more information you can review our Terms of Service and Cookie Policy. For inquiries related to this message please contact our support team and provide the reference ID below.\",\n",
       "  \"Shares of Apple Inc. \\n        AAPL,\\n        -1.17%\\n       shed 1.17% to $157.44 Tuesday, on what proved to be an all-around grim trading session for the stock market, with the NASDAQ Composite Index \\n        COMP,\\n        -0.28%\\n       falling 0.28% to 12,795.55 and Dow Jones Industrial Average \\n        DJIA,\\n        -0.48%\\n       falling 0.56% to 32,632.64. This was the stock's fourth consecutive day of losses. Apple Inc. closed $25.50 short of its 52-week high ($182.94), which the company achieved on January 4th.   The stock underperformed when compared to some of its competitors Tuesday, as Microsoft Corp. \\n        MSFT,\\n        -1.10%\\n       fell 1.10% to $275.85, Alphabet Inc. Cl A \\n        GOOGL,\\n        +0.57%\\n       rose 0.57% to $2,542.09, and International Business Machines Corp. \\n        IBM,\\n        -0.31%\\n       fell 0.31% to $125.68. Trading volume (129.2 M) eclipsed its 50-day average volume of 91.3 M. \\n\\t\\t\\t\\t\\t\\tEditor's Note: This story was auto-generated by Automated Insights, an automation technology provider, using data from Dow Jones and FactSet.  See our market data terms of use. European stocks enjoyed an unusually strong open on Tuesday after a weak Wall Street finish, after a report the European Union will consider jointly issuing bonds to finance energy and defense spending. Supported by world-class markets data from Dow Jones and FactSet, and partnering with Automated Insights, MarketWatch Automation brings you the latest, most pertinent content at record speed and with unparalleled accuracy. Supported by world-class markets data\",\n",
       "  'In 2018, Apple became the first company to surpass a valuation of $1 trillion. Just over three years later in January, it made history again when it briefly became the first firm to hit a \\n                        \\n                        \\nmarket cap\\n\\n of $3 trillion. Today\\'s Apple is a far cry from what Steve Wozniak and Steve Jobs built 46 years ago. \"Our story may not have appealed to a lot of the investment community when we started Apple,\" Wozniak said in an exclusive interview with Insider. \"The big computer companies said we were going to turn out to be nothing big.\" After leaving Apple in the mid-1980s, Wozniak embarked on a series of other business ventures, both as a founder and an investor. Now, the tech luminary has added yet another line to his lengthy résumé — investing panelist on the reality show \"Unicorn Hunters.\" \"Unicorn Hunters\" features hopeful entrepreneurs who pitch their businesses, which are mostly skewed toward the health-tech sector, to a panel of seasoned investors such as Wozniak, \\'N Sync\\'s Lance Bass, former US Treasurer Rosa Rios, and the tech mogul Alex Konanykhin. The panel then asks the founders questions to uncover any risks or weaknesses before determining whether the idea is worthy of investment. For Wozniak, who draws much of his investment criteria from his experiences founding Apple, the role of panelist is one he takes seriously. \"I\\'m very skeptical,\" he said. \"I want to ask the questions that investors have asked me when I had small startups.\" On the business side, Wozniak examines a slew of technical and operational factors, like the fairness of the product\\'s pricing or how the number of shares offered translates to percentage ownership. More importantly, Wozniak prefers to analyze the engineering behind the inventions. Fundamentally, Wozniak said he looked at two things when investing: \"the product',\n",
       "  \"Silicon Valley’s tech giants are joining the rest of the business world in pulling their products and services from Russia. Companies like Apple (AAPL) have cut ties to the Russian market entirely to protest the invasion of Ukraine, while firms like YouTube (GOOG, GOOGL) , Meta (FB), and Microsoft (MSFT) are limiting the availability of Russian propaganda networks like RT and Sputnik in Europe. And while Big Tech’s moves put at least some pressure on Russian President Vladimir Putin and provide assistance to Ukrainian citizens, they can also be a boon for the companies’ bottom lines. And for companies awash in controversy, taking action against Russia can improve their standing among consumers. “We want to think that this is altruistic and companies taking a stand, but sometimes it's also value washing,” Forrester senior analyst Alla Valente told Yahoo Finance. “In other words, if a brand has had some bad media or publicity they could be doing this to try and repair their brand reputation.” Among major tech brands, Apple is taking the strongest stance against Russia. The company has stopped all product sales in the country, limited services like Apple Pay, removed the RT and Sputnik apps from the App Store everywhere except inside Russia, and disabled traffic and live incidents in Apple Maps to prevent Russia from seeing where Ukrainian citizens may be gathering. Apple doesn’t have any physical stores in Russia, meaning its products are sold through third-party retailers. And according to Wedbush analyst Dan Ives, cutting Russia off from hardware sales won’t put much of a dent in Apple’s bottom line. “Russia overall is breadcrumbs in terms of its financial impact to U.S. tech giants,” Ives told Yahoo Finance. “If FAANG names pulled the plug on doing business in Russia it’s maximum 1%-2% overall revenue exposure.” Apple has long made human rights one of the cornerstones of its appeal, even if it's to its detriment at times. It famously pushed back against the Department of Justice when investigators demanded Apple create a backdoor for iOS to gain access to an iPhone used by one of the killers\"],\n",
       " 'ETH': ['Kevin Heal and Steve Biggar of Argus Research share stocks that may benefit from rate hikes Wed., March 9 at 2 p.m. ET.  This news release constitutes a \"designated news release\" for the purposes of the Company\\'s prospectus supplement dated February 2, 2021 to its amended and restated short form base shelf prospectus dated January 4, 2022. Vancouver, British Columbia--(Newsfile Corp. - March 8, 2022) - HIVE Blockchain Technologies Ltd. (TSXV: HIVE) (NASDAQ: HIVE) (FSE: HBF) (the \"Company\" or \"HIVE\") is pleased to announce the production figures from the Company\\'s global Bitcoin and Ethereum mining operations for the month of February 2022, with a BTC HODL balance of 2,374 Bitcoin as of February 28, 2022. The Company is also providing an update on its at-the-market offering, and conclusion of the Canadian at-the-market agreement. To clarify the Company\\'s recent press release of March 7, 2022, our planned 100 megawatt Texas facilities with Compute North could operate up to 4.0 Exahash per second of new generation ASIC miners. February 2022 Production Figures  HIVE is pleased to announce its February 2022 production figures and mining capacity: 244.4 BTC Produced 1.9 Exahash of Bitcoin mining capacity 1,814 ETH Produced Increased Ethereum mining capacity from 4.56 to 4.88 Terahash during February HODL position grows to 2,374 BTC Frank Holmes, Executive Chairman of HIVE stated, \"We are pleased to report HIVE has maintained its strong Bitcoin hashing power through the month of February even as the network difficulty rose. In February we produced an average of 8.7 BTC per day, and note that as of today, we are producing approximately 8.8 BTC a day.\" Aydin Kilic, President & COO of HIVE noted, \"We continue to strive for operational excellence, ensuring that as we scale our hashrate as a company we also optimize our uptime, to ensure ideal Bitcoin and Ethereum output figures. Mr. Kilic continued, \"We also would like to provide an update on the BTC and ETH equivalency, where one can equate value of the coins produced daily. As such the ETH that HIVE produced during the month of February, equated on a',\n",
       "  'As commodities prices spike and stocks swoon as a result of Russia waging war against Ukraine, the monetary system could be changed in profound ways, some analysts say. At some point in the future, digital tokens may revert to the inflation hedge and safe-haven from fiat turmoil, as envisioned when they were first created. Traditional safe havens like gold, U.S. Treasuries and the U.S. dollar have surged in the current environment of risk-aversion. In a recent analysis, Zoltan Pozsar, global head of short-term interest strategy with Credit Suisse, said the crisis-level crunch could eventually benefit Bitcoin after the current market bedlam passes. \"We are witnessing the birth of Bretton Woods III – a new world (monetary) order centered around commodity-based currencies in the East that will likely weaken the Eurodollar system and also contribute to inflationary forces in the West,\" Pozsar wrote in a research note. Amid the unfolding crisis, Pozsar added that the turmoil — partly inspired by punitive Western sanctions against Russia — is enhancing the \"allure\" of other forms of money, the analyst noted. \"Bretton Woods II was built on inside money, and its foundations crumbled a week ago when the G7 seized Russia’s FX reserves,\" he added. Digital tokens and crypto-related stocks have been largely tracking risk appetite in equities. Crypto-related names like Microstrategy (MSTR) (-7.6%), Coinbase (COIN) (-17%) and Marathon (MARA) (-14%) continue to sell off relative to BTC. Changing just below $39,000 on Tuesday, Bitcoin (BTC-USD) is down 13% over the past week, but traded flat on the day. The global market cap for cryptocurrencies shed a staggering $4.3 billion overnight, and sits at $1.74 trillion according to asset research firm, Fundstrat. The second largest cryptocurrency, ether (ETH-USD) has sold off 2% for the same period, down almost 15% loss over the past week. It\\'s 24-hour put/call ratio has climbed to an 5-month high, according to Coinbase Skew, which signals bearish investors are emboldened. Still, BTC is faring better than most other digital coins, even though the narrative of it being a safe-haven has been put to rest by recent price action. In the',\n",
       "  'Shares of U.S.-listed Chinese stocks slump amid risk-off move Written by Aditya Raghunath at The Motley Fool Canada With over 17,000 cryptocurrencies in circulation, it’s quite difficult to identify long-term winners that have the potential to grow investor wealth at an exponential rate. Unlike equities, it’s hard to fundamentally value cryptocurrencies. But you can try to analyze real-world utilities of the underlying blockchain networks, which should drive demand for the digital tokens higher. Here, I’ll compare two cryptocurrency giants in Ethereum (CRYPTO:ETH) and Terra (CRYPTO:LUNA) to deduce which is a better investment at current prices. Ethereum is the second-largest cryptocurrency in the world and is valued at a market cap of US$303.7 billion. Launched in 2015, the ETH token has gained 3,46,000% in fewer than seven years. So, a $100 investment in ETH back in August 2015 would be worth close to $350,000 today. The Ethereum blockchain was among the first to support the execution of smart contracts. Its first-mover advantage has allowed Ethereum to onboard over 2,000 projects on its rapidly expanding network. A majority of these projects are in the decentralized finance space that aims to replace legacy banking products and services. Ethereum validates transactions on a mechanism called proof-of-work, or PoW. Developers solve complex transactions that let them mine the next “block” of the blockchain. The PoW mechanism, while extremely secure, is costly and slow. Ethereum’s gas fees are much higher compared to Solana’s while its transaction speed is considerably lower. Ethereum is all set to transition towards a proof-of-stake (PoS) network, where you stake digital tokens, which will let you validate the next block of transactions. The shift towards PoS should resolve cost and scalability issues tied to the Ethereum network, allowing it to expand its ecosystem at a solid pace going forward. Around 40 of the top cryptocurrencies by market cap are built on the Ethereum network due to the advantages and utilities mentioned above. Ethereum is also the largest host for NFT (non-fungible token) marketplaces, which could enable the network to gain traction in the metaverse segment as well. If an NFT is based',\n",
       "  'Good morning. Here’s what’s happening: Prices: Bitcoin and ether rose slightly but investors nervously awaited the next turn in Ukraine and a long-awaited crypto executive order by U.S. President Joe Biden Insights: Singapore\\'s strict approach to crypto may be deterring some companies in the industry from establishing a presence there. Technician\\'s take: Narrow price zones could benefit short-term BTC trades. Support at $37K; resistance at $43K-$45K Catch the latest episodes of CoinDesk TV for insightful interviews with crypto industry leaders and analysis. And sign up for First Mover, our daily newsletter putting the latest moves in crypto markets in context. And sign up for First Mover, our daily newsletter putting the latest moves in crypto markets in context. Bitcoin (BTC): $38,673 +.9% Ether (ETH): $2,574 +2.6% Top Gainers Asset Ticker Returns Sector Bitcoin Cash BCH +2.8% Currency Ethereum ETH +2.7% Smart Contract Platform Polkadot DOT +2.6% Smart Contract Platform Top Losers Asset Ticker Returns Sector Cosmos ATOM −3.3% Smart Contract Platform Dogecoin DOGE −0.8% Currency XRP XRP −0.7% Currency Bitcoin was up slightly on Tuesday amid another day of horror and tumult in Ukraine, and economic angst in the world beyond. Jittery investors also awaited a long-awaited crypto executive order on Wednesday by U.S. President Joe Biden that will outline the country\\'s approach to regulation. Yet at the time of publication, bitcoin (BTC) was trading at about $38,600, up slightly over the previous 24 hours. Ether (ETH) was changing hands at a little under $2,600, a roughly 2.5% gain. Other major altcoins were a mixed bag. \"Bitcoin is higher on the day as risk appetite showed signs of life after U.S. stocks had the worst rout in a few years,\" wrote OANDA Americas Senior Markets Analyst Edward Moya in an email. Russia continued its campaign to isolate Ukraine\\'s major Black Sea ports to the south and lay siege to its major cities, bombarding military and, increasingly, civilian targets. More than two million Ukrainians have fled their devastated country. Ukraine President Volodymyr Zelensky vowed to \"fight to the end, at sea, in the air,\" echoing Winston Churchill, Britain\\'s prime minister during',\n",
       "  \"Last month, Twitter sleuths uncovered a cache of homophobic and transphobic posts from Brantly Millegan, director of the Ethereum Name Service Foundation (ENS), roiling the crypto community. “Homosexual acts are evil. Transgenderism doesn’t exist. Abortion is murder. Contraception is perversion. So is masturbation and porn,” read one of Millegan’s tweets from May 2016. This article is excerpted from The Node, CoinDesk's daily roundup of the most pivotal stories in blockchain and crypto news. You can subscribe to get the full newsletter here. Responding to backlash, Millegan doubled down, chalking up the perspective to his Catholic faith. “Nice to see some ppl finally read the first word of my bio,” he wrote (his Twitter bio says “Catholic, husband, father”). It was enough to get him fired from his position as director of operations at True Names Limited, the Singapore-based nonprofit that organizes and funds the Ethereum Name Service. After two days of deliberation, Nick Johnson, Millegan’s boss at True Names and the founder of ENS, said he felt Millegan’s position was “no longer tenable.” The catch is that while Millegan had been removed from True Names Limited, he wasn’t really gone from the organization as a whole – and in a vote that ended this past weekend, the community confirmed that Millegan will stay on as director of the ENS Foundation and remain a core developer on the project. That’s because, somewhat confusingly, “ENS” refers to a multi-part organizational structure, as opposed to a single company. ENS is a program on the Ethereum network, a system for turning long, numerical Ethereum addresses into text-based shortcuts. It functions like a top-level domain on the internet we’re already used to. In the way that the “.com” suffix shortens an otherwise unwieldy IP address into something handy and readable (e.g. “google.com” instead of “142.250.65.238”), the “.eth” suffix gives traders a quick way to identify a specific address on the Ethereum network. The ENS Foundation is a company incorporated in the Cayman Islands, the legal entity behind ENS. It’s governed by the ENS DAO (decentralized autonomous organization), which is essentially a crypto-backed voting service on\",\n",
       "  \"Kevin Heal and Steve Biggar of Argus Research share stocks that may benefit from rate hikes Wed., March 9 at 2 p.m. ET.  If the last 12 months in cryptocurrency has taught us anything, it's that people really like owning a piece of code that proves they overpaid for a JPEG file. And it's not just about monkey pictures either. Soon NFTs (non-fungible tokens) will be used to trade music rights, real estate and debt instruments. NFTs have a strange relationship with cryptocurrencies. It’s similar to that of a parent and child. When the NFT market was small, it depended on the crypto markets for its price action, but as they have matured, they have been breaking away. When the cryptocurrency market did its best impression of a downhill ski slope in January, NFTs were booming, with NFT trading platform OpenSea recording $5 billion in sales volume, an all-time high. Some crypto observers thought that meant there was a reverse correlation between crypto and NFT markets: When bitcoin and the rest of the crypto market goes up, NFTs go down, and vice versa. Others have pointed out times when both markets have moved in sync as was the case recently when NFTs sank along with the rest of the market when the war in Ukraine began. Professional research on NFTs is thin, because just a couple of years ago, most of the market didn’t exist. One study that looked into the subject is titled “Is Non-Fungible Token Pricing Driven by Cryptocurrencies?” by Dublin City University professor Michael Dowling. “Anyone active in the NFT market will be aware of the strong crossover between cryptocurrency market participants and NFT market participants,” the paper states. That is partly because to buy an NFT you need to use cryptocurrencies as a means of payment, a nontrivial level of complexity for many people. Crypto exchange Coinbase, however, plans to make participation easier. Its much anticipated NFT marketplace will allow users to buy NFTs with fiat using their credit cards. Indeed, companies like eBay, Reddit and Instagram all have plans to integrate NFTs, also likely\",\n",
       "  'Social Media Star Sean Havens Launches his NFT Project to an Audience of Over 1.8 Million Followers Las Vegas, United States, March 08, 2022 (GLOBE NEWSWIRE) -- Sean Havens, a social media star launched his NFT project to an audience of over 1.8 Million followers. Just a few weeks ago Sean Havens (founder) began sharing insight into the core values that make up his medieval themed NFT project, Knights of Havenly. The founder has said on multiple occasions that he and the team are striving for excellence in their uniqueness, which to him, means taking the best pieces of the web3 world without any of the shortcuts and also incorporating his visions of what true community creativity could be. With Sean\\'s many years of community building on his social media platforms and his passion for blockchain technology, he has expressed how he hopes to create an imaginative world of duality for investors & creatives alike. The spine of the project will be a holder-influenced, adventure packed, animated NFT web series. The series will feature randomly selected knights (from the collection) that will embark on many epic quests, all while testing each one’s personality and skill level. The randomized chances could give any given NFT much more perceived value by playing a vital role in the plot development. Holders will get the chance to see their character come to life and interact with other NFT knights throughout the lifetime of the story. Unlike a normal series, the Knights of Havenly holders have a say via voting power to navigate \"fork-in-the-road\" decision making within the storyline. Each majority decision creates a butterfly effect that could change the direction of the series all together. The Knights of Havenly (AKA \"KOH\") NFT project consists of 777 Genesis scroll NFTs (released on 2.22.22), and a forthcoming collection of 5,555 fully-3D warrior knights. All of which are being forged onto the Ethereum blockchain. The project’s art style takes inspiration from the likes of titles such as “The Elder Scrolls” and history itself. Each NFT trait is thoughtfully and originally created by a self-taught Argentine artist who',\n",
       "  'Kevin Heal and Steve Biggar of Argus Research share stocks that may benefit from rate hikes Wed., March 9 at 2 p.m. ET.  RENO, NV / ACCESSWIRE / March 8, 2022 / Fiat-backed stablecoin pegged to Euro, EURST, has been listed on Changelly PRO an exchange that offers one-stop-shop experience for purchasing, selling, swapping, and trading cryptocurrencies. Issued by Wallex Trust, EURstablecoin (EURST) is a 100% asset-backed stablecoin that is built on the Ethereum network according to ERC20 token standards. More than just another stablecoin, EURST strives to become an industry standard for the reliability and safety of stablecoins. Following a centralized model, the project supports every token issued with an equivalent unit of real currency (US dollars) in a transparent escrow reserve managed by Wallex Trust\\'s fiduciary custodial partner. EURST\\'s reserves are audited in real-time, allowing users to see the reserve levels at any point in time. Essentially, real-time audited and redeemable USD reserve effectively pegs the market value of EURST tokens to the real currency value of 1 EUR in USD - offering minimal risk levels and ensuring constant stability. Following a successful listing on FMFW.io , HitBTC and Uniswap, EURST continues its growth and development. Listing on Changelly PRO marks yet another strategic win that will further expand its reach and offer its users more tools and flexibility to trade. Changelly has been providing an intuitive platform for fast crypto exchanges since 2015. As the exchange aims to facilitate mass crypto adoption, Changelly is continuously developing to offer its users a flawless experience and new services. In addition to its 2M+ monthly traffic and 170+ crypto assets, Changelly PRO will now have the following trading pairs: BTC/EURST and ETH/EURST. Soon, the pairs will be available on Changelly exchange as well. Simone Mazzuca, the CEO & Founder of Wallex Trust, comments: \"We\\'re delighted to have EURST listed on Changelly and further improve our reach and provide the stablecoin holders with more tools and flexibility to trade with EURST tokens\". In addition to EURST\\'s goals of becoming the go-to stablecoin within the cryptocurrency community, the project sets its',\n",
       "  \"Cryptocurrency is playing a significant role in the Russia-Ukraine conflict, which has helped to facilitate the flow of needed funds to Ukrainian citizens and soldiers. The Ukrainian government and non-governmental organizations (NGOs) supporting the military effort have raised $59.2 million in crypto donations, even as digital coin exchanges face pressure to curtail transactions from non-sanctioned Russians. Those funds are dwarfed by the billions Ukraine is receiving from NATO allies, but the outpouring of crowdsourced crypto donations have been a boon to the country, according to Alex Bornyakov, Deputy Minister of Ukraine’s Ministry of Digital Transformation. “In times like these, response time is crucial. Crypto is playing a role to give us flexibility to respond really quickly to deliver the army’s required supplies,” Bornyakov told Yahoo Finance Live in an interview. As Russian bombs strafed major cities, Bornyakov was forced to evacuate Kyiv on February 24. Two days later, Bornyakov’s boss, Ukrainian vice prime minister, Mykhalio Federov, posted Bitcoin (BTC-USD) and Ethereum (ETH-USD) wallet addresses over Twitter, requesting crowdsourced crypto donations. According to data tracked by the blockchain analytics firm, Elliptic, the majority of donations to Ukraine have been paid in Ether and Bitcoin, but donors have also sent the PolkaDot cryptocurrency (DOT-USD) as well as stablecoins like Tether (USDT-USD) and even a Crypto Punk NFT. Cryptocurrencies have offered faster transaction times, though not all suppliers still accept it as payment, according to Bornyakov. Currently, the government converts the donated crypto assets into dollars or euros through the Ukrainian exchange, Kuna, which also custodies the funds. Last week the Ukrainian government teased “airdropping” rewards to crypto donors, potentially in the form of non-fungible tokens (NFTs), which caused government donations to surge. Originally, “an initiative to create awareness” crypto investors quickly sent smaller amounts in anticipation of rewards. Yet the government decided to push back the reward offer amid mounting cyber security concerns stemming from the invasion. “Maybe it's going to be airdropped at some point but right now, Russia is very active in their military actions so we need to focus on defending our country rather than going further with the\",\n",
       "  'Payrolls rise by 678,000 as unemployment rate falls to 3.8% Written by Andrew Button at The Motley Fool Canada Ethereum (CRYPTO:ETH) has been trending downward in 2022. As of this writing, it was down 21% for the year, while Bitcoin (CRYPTO:BTC) was only down 8%. Cryptocurrencies are generally very correlated with each other, so it should come as no surprise that ETH and BTC are down at the same time. However, it is a little bit unusual for ETH to be down so much more than Bitcoin. The general trend since Ether’s launch has been one of closing in on Bitcoin’s market cap. Generally, ETH has delivered higher returns than Bitcoin has over the former’s lifetime. That’s beginning to change. In this article I will explore some possible reasons why it’s happening. One possible reason why ETH is declining in price so much this year is that the NFT fad is waning. NFTs are unique tokens bought with Ether that point to images and other digital assets. You can think of NFTs as a form of digital art. People buy NFTs hoping to see them go up in value. They may also feel that an NFT confers “ownership” of the image that it points to. Whatever the case may be, NFTs were very popular last year. Some of them sold for over $10 million. It was a pretty popular fad. But today, it is waning. If you search ‘NFT’ on Google Trends, you will notice that search queries for the term have been declining since mid-January. NFTs are bought and sold with ETH, which was previously a factor driving demand for Ether. Now, NFTs are losing their cachet, and perhaps fewer people are buying ETH as a result. Another factor contributing to the decline of Ether is a broader decline in the cryptocurrency market. As previously mentioned, cryptocurrencies are highly correlated with one another. Generally, whenever Bitcoin is going up, the most popular alt-coins are going up along with it. The reverse is also true. Bitcoin and most major cryptocurrencies are going down this year, so it should come as']}"
      ]
     },
     "execution_count": 51,
     "metadata": {},
     "output_type": "execute_result"
    }
   ],
   "source": [
    "articles = {\n",
    "    ticker:scrape_and_process(cleaned_urls[ticker]) \n",
    "            for ticker in monitored_tickers\n",
    "}\n",
    "articles"
   ]
  },
  {
   "cell_type": "code",
   "execution_count": 52,
   "id": "ecd790b6",
   "metadata": {
    "scrolled": true
   },
   "outputs": [
    {
     "data": {
      "text/plain": [
       "'Good morning. Here’s what’s happening: Prices: Bitcoin and ether rose slightly but investors nervously awaited the next turn in Ukraine and a long-awaited crypto executive order by U.S. President Joe Biden Insights: Singapore\\'s strict approach to crypto may be deterring some companies in the industry from establishing a presence there. Technician\\'s take: Narrow price zones could benefit short-term BTC trades. Support at $37K; resistance at $43K-$45K Catch the latest episodes of CoinDesk TV for insightful interviews with crypto industry leaders and analysis. And sign up for First Mover, our daily newsletter putting the latest moves in crypto markets in context. And sign up for First Mover, our daily newsletter putting the latest moves in crypto markets in context. Bitcoin (BTC): $38,673 +.9% Ether (ETH): $2,574 +2.6% Top Gainers Asset Ticker Returns Sector Bitcoin Cash BCH +2.8% Currency Ethereum ETH +2.7% Smart Contract Platform Polkadot DOT +2.6% Smart Contract Platform Top Losers Asset Ticker Returns Sector Cosmos ATOM −3.3% Smart Contract Platform Dogecoin DOGE −0.8% Currency XRP XRP −0.7% Currency Bitcoin was up slightly on Tuesday amid another day of horror and tumult in Ukraine, and economic angst in the world beyond. Jittery investors also awaited a long-awaited crypto executive order on Wednesday by U.S. President Joe Biden that will outline the country\\'s approach to regulation. Yet at the time of publication, bitcoin (BTC) was trading at about $38,600, up slightly over the previous 24 hours. Ether (ETH) was changing hands at a little under $2,600, a roughly 2.5% gain. Other major altcoins were a mixed bag. \"Bitcoin is higher on the day as risk appetite showed signs of life after U.S. stocks had the worst rout in a few years,\" wrote OANDA Americas Senior Markets Analyst Edward Moya in an email. Russia continued its campaign to isolate Ukraine\\'s major Black Sea ports to the south and lay siege to its major cities, bombarding military and, increasingly, civilian targets. More than two million Ukrainians have fled their devastated country. Ukraine President Volodymyr Zelensky vowed to \"fight to the end, at sea, in the air,\" echoing Winston Churchill, Britain\\'s prime minister during'"
      ]
     },
     "execution_count": 52,
     "metadata": {},
     "output_type": "execute_result"
    }
   ],
   "source": [
    "articles['ETH'][3]"
   ]
  },
  {
   "cell_type": "markdown",
   "id": "9d6f5935",
   "metadata": {},
   "source": [
    "## 4.4 Summarize all articles"
   ]
  },
  {
   "cell_type": "code",
   "execution_count": 53,
   "id": "e868c977",
   "metadata": {},
   "outputs": [],
   "source": [
    "def summarize(articles):\n",
    "    summaries = []\n",
    "    for article in articles:\n",
    "        input_ids = tokenizer.encode(article, return_tensors='pt')\n",
    "        output = model.generate(input_ids, max_length=55, num_beams=5, early_stopping=True)\n",
    "        summary = tokenizer.decode(output[0], skip_special_tokens=True)\n",
    "        summaries.append(summary)\n",
    "    return summaries\n"
   ]
  },
  {
   "cell_type": "code",
   "execution_count": 54,
   "id": "e47ffa6a",
   "metadata": {},
   "outputs": [
    {
     "data": {
      "text/plain": [
       "{'MRNA': ['Preclinical data for OTX-2002 to be presented at AACR meeting in New Orleans, Louisiana, April 8-12, 2022.',\n",
       "  'Moderna to open Americas Enterprise Solutions Hub in Atlanta. Company expects to hire approximately 150-200 full-time employees in Atlanta',\n",
       "  'RNA-based Therapeutics, Covid-19 Vaccines to be in Focus in 2022.',\n",
       "  'Moderna delivered 807 million doses of Spikevax in 2021 to low, middle-income countries',\n",
       "  'Moderna to advance 15 pathogen vaccine programs into clinical studies by 2025.',\n",
       "  'Preclinical data show SQZ eAPCs can drive strong CD8 T cell responses against a variety of diseases.',\n",
       "  'Company to establish commercial presence in Belgium, Denmark, Norway, the Netherlands, Poland, and Sweden.',\n",
       "  'Moderna and ROVI to expand partnership to service future Moderna vaccine candidates. Long-term agreement includes a series of investments to acquire new equipment and facilities',\n",
       "  'Analysts are expecting sales of $6.8 billion for the fourth quarter. Moderna’s share price has declined 8.5% in the past year',\n",
       "  'Financial results for the fourth quarter and full year ended December 31, 2022'],\n",
       " 'APPL': ['Shares of Apple and Microsoft are trading at P/E multiples. Investors must determine whether one or both companies have growth potential',\n",
       "  'Geopolitical tensions continue to escalate, and speculation as to whether China will invade Taiwan.',\n",
       "  'Apple’s Russia revenues in 2020 represented less than 1% of total sales.',\n",
       "  'FT Economics offers thought leadership and analysis on the world economy.',\n",
       "  'Tech companies have been reacting to Russia’s invasion of Ukraine.',\n",
       "  'The proposal comes after a period in which Apple faced public challenges. Apple said it already meets the objectives of the proposal',\n",
       "  'BBC Sport takes a look back at some of the more memorable moments from the 2014 World Cup.',\n",
       "  'Trading volume eclipsed its 50-day average volume.',\n",
       "  'Apple co-founder joins reality show \"Unicorn Hunters\"',\n",
       "  'Companies like Apple are taking a stand against Russia. But cutting ties can also be a boon for firms’ bottom lines'],\n",
       " 'ETH': ['HIVE reports Bitcoin and Ethereum mining capacity up to 2,374 BTC HODL.',\n",
       "  'Crisis-level crunch could benefit Bitcoin, Credit Suisse says.',\n",
       "  'Ethereum vs Terra: Which is better bet?',\n",
       "  'Singapore’s strict approach to crypto may be deterring companies',\n",
       "  'Brantly Millegan stays on as director of ENS Foundation. Ethereum’s name service is governed by ENS DAO.',\n",
       "  'Non-Fungible tokens are booming as crypto markets mature. Coinbase to make buying NFTs easier with credit cards',\n",
       "  'Social media star launches his NFT project to an audience of over 1.8 million followers.',\n",
       "  \"Wallex Trust's stablecoin to be listed on Changelly PRO exchange.\",\n",
       "  'More than $59.2 million in crypto donations have been sent. Ukraine’s Bornyakov: ‘Crypto is playing a role to give us flexibility’',\n",
       "  'Ether is down 21% for the year, while Bitcoin is down 8%. NFTs were a factor driving Ether demand last year']}"
      ]
     },
     "execution_count": 54,
     "metadata": {},
     "output_type": "execute_result"
    }
   ],
   "source": [
    "summaries = {ticker:summarize(articles[ticker]) for ticker in monitored_tickers}\n",
    "summaries"
   ]
  },
  {
   "cell_type": "code",
   "execution_count": 58,
   "id": "c17a6b89",
   "metadata": {},
   "outputs": [
    {
     "data": {
      "text/plain": [
       "['Preclinical data for OTX-2002 to be presented at AACR meeting in New Orleans, Louisiana, April 8-12, 2022.',\n",
       " 'Moderna to open Americas Enterprise Solutions Hub in Atlanta. Company expects to hire approximately 150-200 full-time employees in Atlanta',\n",
       " 'RNA-based Therapeutics, Covid-19 Vaccines to be in Focus in 2022.',\n",
       " 'Moderna delivered 807 million doses of Spikevax in 2021 to low, middle-income countries',\n",
       " 'Moderna to advance 15 pathogen vaccine programs into clinical studies by 2025.',\n",
       " 'Preclinical data show SQZ eAPCs can drive strong CD8 T cell responses against a variety of diseases.',\n",
       " 'Company to establish commercial presence in Belgium, Denmark, Norway, the Netherlands, Poland, and Sweden.',\n",
       " 'Moderna and ROVI to expand partnership to service future Moderna vaccine candidates. Long-term agreement includes a series of investments to acquire new equipment and facilities',\n",
       " 'Analysts are expecting sales of $6.8 billion for the fourth quarter. Moderna’s share price has declined 8.5% in the past year',\n",
       " 'Financial results for the fourth quarter and full year ended December 31, 2022']"
      ]
     },
     "execution_count": 58,
     "metadata": {},
     "output_type": "execute_result"
    }
   ],
   "source": [
    "summaries['MRNA']"
   ]
  },
  {
   "cell_type": "markdown",
   "id": "b7d179e6",
   "metadata": {},
   "source": [
    "# 5. Adding sentiment analysis"
   ]
  },
  {
   "cell_type": "code",
   "execution_count": 59,
   "id": "22304818",
   "metadata": {},
   "outputs": [
    {
     "name": "stderr",
     "output_type": "stream",
     "text": [
      "No model was supplied, defaulted to distilbert-base-uncased-finetuned-sst-2-english (https://huggingface.co/distilbert-base-uncased-finetuned-sst-2-english)\n"
     ]
    },
    {
     "data": {
      "application/vnd.jupyter.widget-view+json": {
       "model_id": "4d065e24eb224149a3064250fa15a5e5",
       "version_major": 2,
       "version_minor": 0
      },
      "text/plain": [
       "Downloading:   0%|          | 0.00/629 [00:00<?, ?B/s]"
      ]
     },
     "metadata": {},
     "output_type": "display_data"
    },
    {
     "data": {
      "application/vnd.jupyter.widget-view+json": {
       "model_id": "fbc415d3113746b3b9daae06165694e4",
       "version_major": 2,
       "version_minor": 0
      },
      "text/plain": [
       "Downloading:   0%|          | 0.00/255M [00:00<?, ?B/s]"
      ]
     },
     "metadata": {},
     "output_type": "display_data"
    },
    {
     "data": {
      "application/vnd.jupyter.widget-view+json": {
       "model_id": "b9cc7d214a7d4d3eba555efef87b0d6f",
       "version_major": 2,
       "version_minor": 0
      },
      "text/plain": [
       "Downloading:   0%|          | 0.00/48.0 [00:00<?, ?B/s]"
      ]
     },
     "metadata": {},
     "output_type": "display_data"
    },
    {
     "data": {
      "application/vnd.jupyter.widget-view+json": {
       "model_id": "d8e6b9467c1342239f5349c6fa7e4ad7",
       "version_major": 2,
       "version_minor": 0
      },
      "text/plain": [
       "Downloading:   0%|          | 0.00/226k [00:00<?, ?B/s]"
      ]
     },
     "metadata": {},
     "output_type": "display_data"
    }
   ],
   "source": [
    "from transformers import pipeline\n",
    "sentiment = pipeline('sentiment-analysis')"
   ]
  },
  {
   "cell_type": "code",
   "execution_count": 60,
   "id": "2a25d137",
   "metadata": {},
   "outputs": [
    {
     "data": {
      "text/plain": [
       "[{'label': 'POSITIVE', 'score': 0.8215537071228027},\n",
       " {'label': 'POSITIVE', 'score': 0.9550777077674866},\n",
       " {'label': 'POSITIVE', 'score': 0.9860848188400269},\n",
       " {'label': 'NEGATIVE', 'score': 0.6368573307991028},\n",
       " {'label': 'POSITIVE', 'score': 0.9973275661468506},\n",
       " {'label': 'POSITIVE', 'score': 0.953486979007721},\n",
       " {'label': 'POSITIVE', 'score': 0.9991018772125244},\n",
       " {'label': 'POSITIVE', 'score': 0.9963034391403198},\n",
       " {'label': 'NEGATIVE', 'score': 0.9971873164176941},\n",
       " {'label': 'POSITIVE', 'score': 0.5601240396499634}]"
      ]
     },
     "execution_count": 60,
     "metadata": {},
     "output_type": "execute_result"
    }
   ],
   "source": [
    "sentiment(summaries['MRNA'])"
   ]
  },
  {
   "cell_type": "code",
   "execution_count": 61,
   "id": "378037ff",
   "metadata": {},
   "outputs": [
    {
     "data": {
      "text/plain": [
       "{'MRNA': [{'label': 'POSITIVE', 'score': 0.8215537071228027},\n",
       "  {'label': 'POSITIVE', 'score': 0.9550777077674866},\n",
       "  {'label': 'POSITIVE', 'score': 0.9860848188400269},\n",
       "  {'label': 'NEGATIVE', 'score': 0.6368573307991028},\n",
       "  {'label': 'POSITIVE', 'score': 0.9973275661468506},\n",
       "  {'label': 'POSITIVE', 'score': 0.953486979007721},\n",
       "  {'label': 'POSITIVE', 'score': 0.9991018772125244},\n",
       "  {'label': 'POSITIVE', 'score': 0.9963034391403198},\n",
       "  {'label': 'NEGATIVE', 'score': 0.9971873164176941},\n",
       "  {'label': 'POSITIVE', 'score': 0.5601240396499634}],\n",
       " 'APPL': [{'label': 'NEGATIVE', 'score': 0.9854797720909119},\n",
       "  {'label': 'NEGATIVE', 'score': 0.9777559041976929},\n",
       "  {'label': 'NEGATIVE', 'score': 0.9991326928138733},\n",
       "  {'label': 'POSITIVE', 'score': 0.9989722967147827},\n",
       "  {'label': 'NEGATIVE', 'score': 0.949955940246582},\n",
       "  {'label': 'NEGATIVE', 'score': 0.99289870262146},\n",
       "  {'label': 'POSITIVE', 'score': 0.995354175567627},\n",
       "  {'label': 'NEGATIVE', 'score': 0.8786470890045166},\n",
       "  {'label': 'NEGATIVE', 'score': 0.880318820476532},\n",
       "  {'label': 'NEGATIVE', 'score': 0.9946611523628235}],\n",
       " 'ETH': [{'label': 'NEGATIVE', 'score': 0.9960888624191284},\n",
       "  {'label': 'NEGATIVE', 'score': 0.9963782429695129},\n",
       "  {'label': 'NEGATIVE', 'score': 0.9922868013381958},\n",
       "  {'label': 'NEGATIVE', 'score': 0.9993828535079956},\n",
       "  {'label': 'NEGATIVE', 'score': 0.9513636231422424},\n",
       "  {'label': 'POSITIVE', 'score': 0.9936389327049255},\n",
       "  {'label': 'POSITIVE', 'score': 0.9908917546272278},\n",
       "  {'label': 'POSITIVE', 'score': 0.6102361083030701},\n",
       "  {'label': 'POSITIVE', 'score': 0.9949628114700317},\n",
       "  {'label': 'NEGATIVE', 'score': 0.9989755153656006}]}"
      ]
     },
     "execution_count": 61,
     "metadata": {},
     "output_type": "execute_result"
    }
   ],
   "source": [
    "scores = {ticker:sentiment(summaries[ticker]) for ticker in monitored_tickers}\n",
    "scores"
   ]
  },
  {
   "cell_type": "code",
   "execution_count": 62,
   "id": "9919dd70",
   "metadata": {},
   "outputs": [
    {
     "name": "stdout",
     "output_type": "stream",
     "text": [
      "Singapore’s strict approach to crypto may be deterring companies NEGATIVE 0.9993828535079956\n"
     ]
    }
   ],
   "source": [
    "print(summaries['ETH'][3], scores['ETH'][3]['label'], scores['ETH'][3]['score'])"
   ]
  },
  {
   "cell_type": "code",
   "execution_count": 67,
   "id": "cfbf149c",
   "metadata": {},
   "outputs": [
    {
     "name": "stdout",
     "output_type": "stream",
     "text": [
      "Singapore’s strict approach to crypto may be deterring companies\n",
      "0.9993828535079956\n",
      "NEGATIVE\n"
     ]
    }
   ],
   "source": [
    "print(summaries['ETH'][3])\n",
    "print(scores['ETH'][3]['score'])\n",
    "print(scores['ETH'][3]['label'])"
   ]
  },
  {
   "cell_type": "markdown",
   "id": "5d623c54",
   "metadata": {},
   "source": [
    "# 6. Exporting results to CSV"
   ]
  },
  {
   "cell_type": "code",
   "execution_count": 68,
   "id": "507830ea",
   "metadata": {},
   "outputs": [
    {
     "data": {
      "text/plain": [
       "{'MRNA': ['Preclinical data for OTX-2002 to be presented at AACR meeting in New Orleans, Louisiana, April 8-12, 2022.',\n",
       "  'Moderna to open Americas Enterprise Solutions Hub in Atlanta. Company expects to hire approximately 150-200 full-time employees in Atlanta',\n",
       "  'RNA-based Therapeutics, Covid-19 Vaccines to be in Focus in 2022.',\n",
       "  'Moderna delivered 807 million doses of Spikevax in 2021 to low, middle-income countries',\n",
       "  'Moderna to advance 15 pathogen vaccine programs into clinical studies by 2025.',\n",
       "  'Preclinical data show SQZ eAPCs can drive strong CD8 T cell responses against a variety of diseases.',\n",
       "  'Company to establish commercial presence in Belgium, Denmark, Norway, the Netherlands, Poland, and Sweden.',\n",
       "  'Moderna and ROVI to expand partnership to service future Moderna vaccine candidates. Long-term agreement includes a series of investments to acquire new equipment and facilities',\n",
       "  'Analysts are expecting sales of $6.8 billion for the fourth quarter. Moderna’s share price has declined 8.5% in the past year',\n",
       "  'Financial results for the fourth quarter and full year ended December 31, 2022'],\n",
       " 'APPL': ['Shares of Apple and Microsoft are trading at P/E multiples. Investors must determine whether one or both companies have growth potential',\n",
       "  'Geopolitical tensions continue to escalate, and speculation as to whether China will invade Taiwan.',\n",
       "  'Apple’s Russia revenues in 2020 represented less than 1% of total sales.',\n",
       "  'FT Economics offers thought leadership and analysis on the world economy.',\n",
       "  'Tech companies have been reacting to Russia’s invasion of Ukraine.',\n",
       "  'The proposal comes after a period in which Apple faced public challenges. Apple said it already meets the objectives of the proposal',\n",
       "  'BBC Sport takes a look back at some of the more memorable moments from the 2014 World Cup.',\n",
       "  'Trading volume eclipsed its 50-day average volume.',\n",
       "  'Apple co-founder joins reality show \"Unicorn Hunters\"',\n",
       "  'Companies like Apple are taking a stand against Russia. But cutting ties can also be a boon for firms’ bottom lines'],\n",
       " 'ETH': ['HIVE reports Bitcoin and Ethereum mining capacity up to 2,374 BTC HODL.',\n",
       "  'Crisis-level crunch could benefit Bitcoin, Credit Suisse says.',\n",
       "  'Ethereum vs Terra: Which is better bet?',\n",
       "  'Singapore’s strict approach to crypto may be deterring companies',\n",
       "  'Brantly Millegan stays on as director of ENS Foundation. Ethereum’s name service is governed by ENS DAO.',\n",
       "  'Non-Fungible tokens are booming as crypto markets mature. Coinbase to make buying NFTs easier with credit cards',\n",
       "  'Social media star launches his NFT project to an audience of over 1.8 million followers.',\n",
       "  \"Wallex Trust's stablecoin to be listed on Changelly PRO exchange.\",\n",
       "  'More than $59.2 million in crypto donations have been sent. Ukraine’s Bornyakov: ‘Crypto is playing a role to give us flexibility’',\n",
       "  'Ether is down 21% for the year, while Bitcoin is down 8%. NFTs were a factor driving Ether demand last year']}"
      ]
     },
     "execution_count": 68,
     "metadata": {},
     "output_type": "execute_result"
    }
   ],
   "source": [
    "summaries"
   ]
  },
  {
   "cell_type": "code",
   "execution_count": 69,
   "id": "3a683418",
   "metadata": {},
   "outputs": [
    {
     "data": {
      "text/plain": [
       "{'MRNA': [{'label': 'POSITIVE', 'score': 0.8215537071228027},\n",
       "  {'label': 'POSITIVE', 'score': 0.9550777077674866},\n",
       "  {'label': 'POSITIVE', 'score': 0.9860848188400269},\n",
       "  {'label': 'NEGATIVE', 'score': 0.6368573307991028},\n",
       "  {'label': 'POSITIVE', 'score': 0.9973275661468506},\n",
       "  {'label': 'POSITIVE', 'score': 0.953486979007721},\n",
       "  {'label': 'POSITIVE', 'score': 0.9991018772125244},\n",
       "  {'label': 'POSITIVE', 'score': 0.9963034391403198},\n",
       "  {'label': 'NEGATIVE', 'score': 0.9971873164176941},\n",
       "  {'label': 'POSITIVE', 'score': 0.5601240396499634}],\n",
       " 'APPL': [{'label': 'NEGATIVE', 'score': 0.9854797720909119},\n",
       "  {'label': 'NEGATIVE', 'score': 0.9777559041976929},\n",
       "  {'label': 'NEGATIVE', 'score': 0.9991326928138733},\n",
       "  {'label': 'POSITIVE', 'score': 0.9989722967147827},\n",
       "  {'label': 'NEGATIVE', 'score': 0.949955940246582},\n",
       "  {'label': 'NEGATIVE', 'score': 0.99289870262146},\n",
       "  {'label': 'POSITIVE', 'score': 0.995354175567627},\n",
       "  {'label': 'NEGATIVE', 'score': 0.8786470890045166},\n",
       "  {'label': 'NEGATIVE', 'score': 0.880318820476532},\n",
       "  {'label': 'NEGATIVE', 'score': 0.9946611523628235}],\n",
       " 'ETH': [{'label': 'NEGATIVE', 'score': 0.9960888624191284},\n",
       "  {'label': 'NEGATIVE', 'score': 0.9963782429695129},\n",
       "  {'label': 'NEGATIVE', 'score': 0.9922868013381958},\n",
       "  {'label': 'NEGATIVE', 'score': 0.9993828535079956},\n",
       "  {'label': 'NEGATIVE', 'score': 0.9513636231422424},\n",
       "  {'label': 'POSITIVE', 'score': 0.9936389327049255},\n",
       "  {'label': 'POSITIVE', 'score': 0.9908917546272278},\n",
       "  {'label': 'POSITIVE', 'score': 0.6102361083030701},\n",
       "  {'label': 'POSITIVE', 'score': 0.9949628114700317},\n",
       "  {'label': 'NEGATIVE', 'score': 0.9989755153656006}]}"
      ]
     },
     "execution_count": 69,
     "metadata": {},
     "output_type": "execute_result"
    }
   ],
   "source": [
    "scores"
   ]
  },
  {
   "cell_type": "code",
   "execution_count": 70,
   "id": "9e3448b3",
   "metadata": {},
   "outputs": [
    {
     "data": {
      "text/plain": [
       "{'MRNA': ['https://finance.yahoo.com/news/omega-therapeutics-present-preclinical-data-220500793.html',\n",
       "  'https://finance.yahoo.com/news/moderna-announces-establishment-enterprise-solutions-142500193.html',\n",
       "  'https://finance.yahoo.com/news/global-mrna-platform-industry-124400904.html',\n",
       "  'https://finance.yahoo.com/news/moderna-reports-fourth-quarter-fiscal-115700281.html',\n",
       "  'https://finance.yahoo.com/news/moderna-announces-global-public-health-000000722.html',\n",
       "  'https://finance.yahoo.com/news/sqz-biotechnologies-present-enhanced-apc-214500640.html',\n",
       "  'https://finance.yahoo.com/news/moderna-announces-plan-expand-commercial-230100689.html',\n",
       "  'https://finance.yahoo.com/news/moderna-rovi-expand-long-term-070500406.html',\n",
       "  'https://finance.yahoo.com/news/beat-likely-moderna-mrna-earnings-151703164.html',\n",
       "  'https://finance.yahoo.com/news/matinas-biopharma-reports-fourth-quarter-113000787.html'],\n",
       " 'APPL': ['https://seekingalpha.com/article/4493384-apple-vs-microsoft-stock-better-buy',\n",
       "  'https://seekingalpha.com/article/4493318-apple-stock-scenarios-possibilities-manufacture-earnings',\n",
       "  'https://www.thestreet.com/apple/news/how-important-is-russia-to-apples-business',\n",
       "  'https://www.ft.com/content/8d51b4a1-81fc-42a2-aad9-9c9bd2736675',\n",
       "  'https://www.yahoo.com/finance/news/apple-cuts-russia-off-from-its-products-and-services-211438593.html',\n",
       "  'https://www.cnbc.com/2022/03/04/apple-shareholders-vote-for-company-to-conduct-a-civil-rights-audit.html',\n",
       "  'https://www.bloomberg.com/news/articles/2022-03-04/apple-shareholders-vote-for-civil-rights-audits-defying-company',\n",
       "  'https://www.marketwatch.com/story/apple-inc-stock-falls-tuesday-underperforms-market-01646775092-577861011ebb',\n",
       "  'https://www.businessinsider.com/apple-cofounder-steve-wozniak-technology-investing-process-cryptos-nfts-predictions-2022-3',\n",
       "  'https://news.yahoo.com/how-tech-companies-benefit-from-taking-on-russia-204734487.html'],\n",
       " 'ETH': ['https://finance.yahoo.com/news/hive-blockchain-provides-february-2022-060000179.html',\n",
       "  'https://finance.yahoo.com/news/money-will-never-be-the-same-after-russia-ukraine-and-bitcoin-could-benefit-170422659.html',\n",
       "  'https://ca.finance.yahoo.com/news/terra-outpace-ethereum-2022-beyond-164500195.html',\n",
       "  'https://finance.yahoo.com/news/first-mover-asia-singapores-strict-234310063.html',\n",
       "  'https://finance.yahoo.com/news/ens-limitations-dao-governance-202105967.html',\n",
       "  'https://finance.yahoo.com/news/complicated-relationship-between-crypto-nfts-143000834.html',\n",
       "  'https://finance.yahoo.com/news/social-media-star-sean-havens-232300962.html',\n",
       "  'https://finance.yahoo.com/news/live-audited-stablecoin-eurst-goes-073000765.html',\n",
       "  'https://finance.yahoo.com/news/crypto-giving-ukraine-flexibility-as-russian-invasion-spurs-desperation-202802758.html',\n",
       "  'https://ca.finance.yahoo.com/news/why-ethereum-crashing-2022-211400958.html']}"
      ]
     },
     "execution_count": 70,
     "metadata": {},
     "output_type": "execute_result"
    }
   ],
   "source": [
    "cleaned_urls"
   ]
  },
  {
   "cell_type": "code",
   "execution_count": 71,
   "id": "d9b6c19f",
   "metadata": {},
   "outputs": [
    {
     "data": {
      "text/plain": [
       "range(0, 10)"
      ]
     },
     "execution_count": 71,
     "metadata": {},
     "output_type": "execute_result"
    }
   ],
   "source": [
    "range(len(summaries['ETH']))"
   ]
  },
  {
   "cell_type": "code",
   "execution_count": 72,
   "id": "811578ae",
   "metadata": {},
   "outputs": [
    {
     "data": {
      "text/plain": [
       "'Singapore’s strict approach to crypto may be deterring companies'"
      ]
     },
     "execution_count": 72,
     "metadata": {},
     "output_type": "execute_result"
    }
   ],
   "source": [
    "summaries['ETH'][3]"
   ]
  },
  {
   "cell_type": "code",
   "execution_count": 73,
   "id": "33770372",
   "metadata": {},
   "outputs": [],
   "source": [
    "def create_output_array(summaries, scores, urls):\n",
    "    output = []\n",
    "    for ticker in monitored_tickers:\n",
    "        for counter in range(len(summaries[ticker])):\n",
    "            output_this = [\n",
    "                ticker,\n",
    "                summaries[ticker][counter],\n",
    "                scores[ticker][counter]['label'],\n",
    "                scores[ticker][counter]['score'],\n",
    "                urls[ticker][counter]\n",
    "            ]\n",
    "            output.append(output_this)\n",
    "    return output\n"
   ]
  },
  {
   "cell_type": "code",
   "execution_count": 74,
   "id": "677ba1f4",
   "metadata": {},
   "outputs": [
    {
     "data": {
      "text/plain": [
       "[['MRNA',\n",
       "  'Preclinical data for OTX-2002 to be presented at AACR meeting in New Orleans, Louisiana, April 8-12, 2022.',\n",
       "  'POSITIVE',\n",
       "  0.8215537071228027,\n",
       "  'https://finance.yahoo.com/news/omega-therapeutics-present-preclinical-data-220500793.html'],\n",
       " ['MRNA',\n",
       "  'Moderna to open Americas Enterprise Solutions Hub in Atlanta. Company expects to hire approximately 150-200 full-time employees in Atlanta',\n",
       "  'POSITIVE',\n",
       "  0.9550777077674866,\n",
       "  'https://finance.yahoo.com/news/moderna-announces-establishment-enterprise-solutions-142500193.html'],\n",
       " ['MRNA',\n",
       "  'RNA-based Therapeutics, Covid-19 Vaccines to be in Focus in 2022.',\n",
       "  'POSITIVE',\n",
       "  0.9860848188400269,\n",
       "  'https://finance.yahoo.com/news/global-mrna-platform-industry-124400904.html'],\n",
       " ['MRNA',\n",
       "  'Moderna delivered 807 million doses of Spikevax in 2021 to low, middle-income countries',\n",
       "  'NEGATIVE',\n",
       "  0.6368573307991028,\n",
       "  'https://finance.yahoo.com/news/moderna-reports-fourth-quarter-fiscal-115700281.html'],\n",
       " ['MRNA',\n",
       "  'Moderna to advance 15 pathogen vaccine programs into clinical studies by 2025.',\n",
       "  'POSITIVE',\n",
       "  0.9973275661468506,\n",
       "  'https://finance.yahoo.com/news/moderna-announces-global-public-health-000000722.html'],\n",
       " ['MRNA',\n",
       "  'Preclinical data show SQZ eAPCs can drive strong CD8 T cell responses against a variety of diseases.',\n",
       "  'POSITIVE',\n",
       "  0.953486979007721,\n",
       "  'https://finance.yahoo.com/news/sqz-biotechnologies-present-enhanced-apc-214500640.html'],\n",
       " ['MRNA',\n",
       "  'Company to establish commercial presence in Belgium, Denmark, Norway, the Netherlands, Poland, and Sweden.',\n",
       "  'POSITIVE',\n",
       "  0.9991018772125244,\n",
       "  'https://finance.yahoo.com/news/moderna-announces-plan-expand-commercial-230100689.html'],\n",
       " ['MRNA',\n",
       "  'Moderna and ROVI to expand partnership to service future Moderna vaccine candidates. Long-term agreement includes a series of investments to acquire new equipment and facilities',\n",
       "  'POSITIVE',\n",
       "  0.9963034391403198,\n",
       "  'https://finance.yahoo.com/news/moderna-rovi-expand-long-term-070500406.html'],\n",
       " ['MRNA',\n",
       "  'Analysts are expecting sales of $6.8 billion for the fourth quarter. Moderna’s share price has declined 8.5% in the past year',\n",
       "  'NEGATIVE',\n",
       "  0.9971873164176941,\n",
       "  'https://finance.yahoo.com/news/beat-likely-moderna-mrna-earnings-151703164.html'],\n",
       " ['MRNA',\n",
       "  'Financial results for the fourth quarter and full year ended December 31, 2022',\n",
       "  'POSITIVE',\n",
       "  0.5601240396499634,\n",
       "  'https://finance.yahoo.com/news/matinas-biopharma-reports-fourth-quarter-113000787.html'],\n",
       " ['APPL',\n",
       "  'Shares of Apple and Microsoft are trading at P/E multiples. Investors must determine whether one or both companies have growth potential',\n",
       "  'NEGATIVE',\n",
       "  0.9854797720909119,\n",
       "  'https://seekingalpha.com/article/4493384-apple-vs-microsoft-stock-better-buy'],\n",
       " ['APPL',\n",
       "  'Geopolitical tensions continue to escalate, and speculation as to whether China will invade Taiwan.',\n",
       "  'NEGATIVE',\n",
       "  0.9777559041976929,\n",
       "  'https://seekingalpha.com/article/4493318-apple-stock-scenarios-possibilities-manufacture-earnings'],\n",
       " ['APPL',\n",
       "  'Apple’s Russia revenues in 2020 represented less than 1% of total sales.',\n",
       "  'NEGATIVE',\n",
       "  0.9991326928138733,\n",
       "  'https://www.thestreet.com/apple/news/how-important-is-russia-to-apples-business'],\n",
       " ['APPL',\n",
       "  'FT Economics offers thought leadership and analysis on the world economy.',\n",
       "  'POSITIVE',\n",
       "  0.9989722967147827,\n",
       "  'https://www.ft.com/content/8d51b4a1-81fc-42a2-aad9-9c9bd2736675'],\n",
       " ['APPL',\n",
       "  'Tech companies have been reacting to Russia’s invasion of Ukraine.',\n",
       "  'NEGATIVE',\n",
       "  0.949955940246582,\n",
       "  'https://www.yahoo.com/finance/news/apple-cuts-russia-off-from-its-products-and-services-211438593.html'],\n",
       " ['APPL',\n",
       "  'The proposal comes after a period in which Apple faced public challenges. Apple said it already meets the objectives of the proposal',\n",
       "  'NEGATIVE',\n",
       "  0.99289870262146,\n",
       "  'https://www.cnbc.com/2022/03/04/apple-shareholders-vote-for-company-to-conduct-a-civil-rights-audit.html'],\n",
       " ['APPL',\n",
       "  'BBC Sport takes a look back at some of the more memorable moments from the 2014 World Cup.',\n",
       "  'POSITIVE',\n",
       "  0.995354175567627,\n",
       "  'https://www.bloomberg.com/news/articles/2022-03-04/apple-shareholders-vote-for-civil-rights-audits-defying-company'],\n",
       " ['APPL',\n",
       "  'Trading volume eclipsed its 50-day average volume.',\n",
       "  'NEGATIVE',\n",
       "  0.8786470890045166,\n",
       "  'https://www.marketwatch.com/story/apple-inc-stock-falls-tuesday-underperforms-market-01646775092-577861011ebb'],\n",
       " ['APPL',\n",
       "  'Apple co-founder joins reality show \"Unicorn Hunters\"',\n",
       "  'NEGATIVE',\n",
       "  0.880318820476532,\n",
       "  'https://www.businessinsider.com/apple-cofounder-steve-wozniak-technology-investing-process-cryptos-nfts-predictions-2022-3'],\n",
       " ['APPL',\n",
       "  'Companies like Apple are taking a stand against Russia. But cutting ties can also be a boon for firms’ bottom lines',\n",
       "  'NEGATIVE',\n",
       "  0.9946611523628235,\n",
       "  'https://news.yahoo.com/how-tech-companies-benefit-from-taking-on-russia-204734487.html'],\n",
       " ['ETH',\n",
       "  'HIVE reports Bitcoin and Ethereum mining capacity up to 2,374 BTC HODL.',\n",
       "  'NEGATIVE',\n",
       "  0.9960888624191284,\n",
       "  'https://finance.yahoo.com/news/hive-blockchain-provides-february-2022-060000179.html'],\n",
       " ['ETH',\n",
       "  'Crisis-level crunch could benefit Bitcoin, Credit Suisse says.',\n",
       "  'NEGATIVE',\n",
       "  0.9963782429695129,\n",
       "  'https://finance.yahoo.com/news/money-will-never-be-the-same-after-russia-ukraine-and-bitcoin-could-benefit-170422659.html'],\n",
       " ['ETH',\n",
       "  'Ethereum vs Terra: Which is better bet?',\n",
       "  'NEGATIVE',\n",
       "  0.9922868013381958,\n",
       "  'https://ca.finance.yahoo.com/news/terra-outpace-ethereum-2022-beyond-164500195.html'],\n",
       " ['ETH',\n",
       "  'Singapore’s strict approach to crypto may be deterring companies',\n",
       "  'NEGATIVE',\n",
       "  0.9993828535079956,\n",
       "  'https://finance.yahoo.com/news/first-mover-asia-singapores-strict-234310063.html'],\n",
       " ['ETH',\n",
       "  'Brantly Millegan stays on as director of ENS Foundation. Ethereum’s name service is governed by ENS DAO.',\n",
       "  'NEGATIVE',\n",
       "  0.9513636231422424,\n",
       "  'https://finance.yahoo.com/news/ens-limitations-dao-governance-202105967.html'],\n",
       " ['ETH',\n",
       "  'Non-Fungible tokens are booming as crypto markets mature. Coinbase to make buying NFTs easier with credit cards',\n",
       "  'POSITIVE',\n",
       "  0.9936389327049255,\n",
       "  'https://finance.yahoo.com/news/complicated-relationship-between-crypto-nfts-143000834.html'],\n",
       " ['ETH',\n",
       "  'Social media star launches his NFT project to an audience of over 1.8 million followers.',\n",
       "  'POSITIVE',\n",
       "  0.9908917546272278,\n",
       "  'https://finance.yahoo.com/news/social-media-star-sean-havens-232300962.html'],\n",
       " ['ETH',\n",
       "  \"Wallex Trust's stablecoin to be listed on Changelly PRO exchange.\",\n",
       "  'POSITIVE',\n",
       "  0.6102361083030701,\n",
       "  'https://finance.yahoo.com/news/live-audited-stablecoin-eurst-goes-073000765.html'],\n",
       " ['ETH',\n",
       "  'More than $59.2 million in crypto donations have been sent. Ukraine’s Bornyakov: ‘Crypto is playing a role to give us flexibility’',\n",
       "  'POSITIVE',\n",
       "  0.9949628114700317,\n",
       "  'https://finance.yahoo.com/news/crypto-giving-ukraine-flexibility-as-russian-invasion-spurs-desperation-202802758.html'],\n",
       " ['ETH',\n",
       "  'Ether is down 21% for the year, while Bitcoin is down 8%. NFTs were a factor driving Ether demand last year',\n",
       "  'NEGATIVE',\n",
       "  0.9989755153656006,\n",
       "  'https://ca.finance.yahoo.com/news/why-ethereum-crashing-2022-211400958.html']]"
      ]
     },
     "execution_count": 74,
     "metadata": {},
     "output_type": "execute_result"
    }
   ],
   "source": [
    "final_output = create_output_array(summaries, scores, cleaned_urls)\n",
    "final_output"
   ]
  },
  {
   "cell_type": "code",
   "execution_count": 75,
   "id": "5351b545",
   "metadata": {},
   "outputs": [],
   "source": [
    "# Insert a header - column names to the csv file\n",
    "final_output.insert(0, ['Ticker', 'Summary', 'Label', 'Confidence', 'URL'])"
   ]
  },
  {
   "cell_type": "code",
   "execution_count": 76,
   "id": "d47e4ef5",
   "metadata": {},
   "outputs": [
    {
     "data": {
      "text/plain": [
       "[['Ticker', 'Summary', 'Label', 'Confidence', 'URL'],\n",
       " ['MRNA',\n",
       "  'Preclinical data for OTX-2002 to be presented at AACR meeting in New Orleans, Louisiana, April 8-12, 2022.',\n",
       "  'POSITIVE',\n",
       "  0.8215537071228027,\n",
       "  'https://finance.yahoo.com/news/omega-therapeutics-present-preclinical-data-220500793.html'],\n",
       " ['MRNA',\n",
       "  'Moderna to open Americas Enterprise Solutions Hub in Atlanta. Company expects to hire approximately 150-200 full-time employees in Atlanta',\n",
       "  'POSITIVE',\n",
       "  0.9550777077674866,\n",
       "  'https://finance.yahoo.com/news/moderna-announces-establishment-enterprise-solutions-142500193.html'],\n",
       " ['MRNA',\n",
       "  'RNA-based Therapeutics, Covid-19 Vaccines to be in Focus in 2022.',\n",
       "  'POSITIVE',\n",
       "  0.9860848188400269,\n",
       "  'https://finance.yahoo.com/news/global-mrna-platform-industry-124400904.html'],\n",
       " ['MRNA',\n",
       "  'Moderna delivered 807 million doses of Spikevax in 2021 to low, middle-income countries',\n",
       "  'NEGATIVE',\n",
       "  0.6368573307991028,\n",
       "  'https://finance.yahoo.com/news/moderna-reports-fourth-quarter-fiscal-115700281.html'],\n",
       " ['MRNA',\n",
       "  'Moderna to advance 15 pathogen vaccine programs into clinical studies by 2025.',\n",
       "  'POSITIVE',\n",
       "  0.9973275661468506,\n",
       "  'https://finance.yahoo.com/news/moderna-announces-global-public-health-000000722.html'],\n",
       " ['MRNA',\n",
       "  'Preclinical data show SQZ eAPCs can drive strong CD8 T cell responses against a variety of diseases.',\n",
       "  'POSITIVE',\n",
       "  0.953486979007721,\n",
       "  'https://finance.yahoo.com/news/sqz-biotechnologies-present-enhanced-apc-214500640.html'],\n",
       " ['MRNA',\n",
       "  'Company to establish commercial presence in Belgium, Denmark, Norway, the Netherlands, Poland, and Sweden.',\n",
       "  'POSITIVE',\n",
       "  0.9991018772125244,\n",
       "  'https://finance.yahoo.com/news/moderna-announces-plan-expand-commercial-230100689.html'],\n",
       " ['MRNA',\n",
       "  'Moderna and ROVI to expand partnership to service future Moderna vaccine candidates. Long-term agreement includes a series of investments to acquire new equipment and facilities',\n",
       "  'POSITIVE',\n",
       "  0.9963034391403198,\n",
       "  'https://finance.yahoo.com/news/moderna-rovi-expand-long-term-070500406.html'],\n",
       " ['MRNA',\n",
       "  'Analysts are expecting sales of $6.8 billion for the fourth quarter. Moderna’s share price has declined 8.5% in the past year',\n",
       "  'NEGATIVE',\n",
       "  0.9971873164176941,\n",
       "  'https://finance.yahoo.com/news/beat-likely-moderna-mrna-earnings-151703164.html'],\n",
       " ['MRNA',\n",
       "  'Financial results for the fourth quarter and full year ended December 31, 2022',\n",
       "  'POSITIVE',\n",
       "  0.5601240396499634,\n",
       "  'https://finance.yahoo.com/news/matinas-biopharma-reports-fourth-quarter-113000787.html'],\n",
       " ['APPL',\n",
       "  'Shares of Apple and Microsoft are trading at P/E multiples. Investors must determine whether one or both companies have growth potential',\n",
       "  'NEGATIVE',\n",
       "  0.9854797720909119,\n",
       "  'https://seekingalpha.com/article/4493384-apple-vs-microsoft-stock-better-buy'],\n",
       " ['APPL',\n",
       "  'Geopolitical tensions continue to escalate, and speculation as to whether China will invade Taiwan.',\n",
       "  'NEGATIVE',\n",
       "  0.9777559041976929,\n",
       "  'https://seekingalpha.com/article/4493318-apple-stock-scenarios-possibilities-manufacture-earnings'],\n",
       " ['APPL',\n",
       "  'Apple’s Russia revenues in 2020 represented less than 1% of total sales.',\n",
       "  'NEGATIVE',\n",
       "  0.9991326928138733,\n",
       "  'https://www.thestreet.com/apple/news/how-important-is-russia-to-apples-business'],\n",
       " ['APPL',\n",
       "  'FT Economics offers thought leadership and analysis on the world economy.',\n",
       "  'POSITIVE',\n",
       "  0.9989722967147827,\n",
       "  'https://www.ft.com/content/8d51b4a1-81fc-42a2-aad9-9c9bd2736675'],\n",
       " ['APPL',\n",
       "  'Tech companies have been reacting to Russia’s invasion of Ukraine.',\n",
       "  'NEGATIVE',\n",
       "  0.949955940246582,\n",
       "  'https://www.yahoo.com/finance/news/apple-cuts-russia-off-from-its-products-and-services-211438593.html'],\n",
       " ['APPL',\n",
       "  'The proposal comes after a period in which Apple faced public challenges. Apple said it already meets the objectives of the proposal',\n",
       "  'NEGATIVE',\n",
       "  0.99289870262146,\n",
       "  'https://www.cnbc.com/2022/03/04/apple-shareholders-vote-for-company-to-conduct-a-civil-rights-audit.html'],\n",
       " ['APPL',\n",
       "  'BBC Sport takes a look back at some of the more memorable moments from the 2014 World Cup.',\n",
       "  'POSITIVE',\n",
       "  0.995354175567627,\n",
       "  'https://www.bloomberg.com/news/articles/2022-03-04/apple-shareholders-vote-for-civil-rights-audits-defying-company'],\n",
       " ['APPL',\n",
       "  'Trading volume eclipsed its 50-day average volume.',\n",
       "  'NEGATIVE',\n",
       "  0.8786470890045166,\n",
       "  'https://www.marketwatch.com/story/apple-inc-stock-falls-tuesday-underperforms-market-01646775092-577861011ebb'],\n",
       " ['APPL',\n",
       "  'Apple co-founder joins reality show \"Unicorn Hunters\"',\n",
       "  'NEGATIVE',\n",
       "  0.880318820476532,\n",
       "  'https://www.businessinsider.com/apple-cofounder-steve-wozniak-technology-investing-process-cryptos-nfts-predictions-2022-3'],\n",
       " ['APPL',\n",
       "  'Companies like Apple are taking a stand against Russia. But cutting ties can also be a boon for firms’ bottom lines',\n",
       "  'NEGATIVE',\n",
       "  0.9946611523628235,\n",
       "  'https://news.yahoo.com/how-tech-companies-benefit-from-taking-on-russia-204734487.html'],\n",
       " ['ETH',\n",
       "  'HIVE reports Bitcoin and Ethereum mining capacity up to 2,374 BTC HODL.',\n",
       "  'NEGATIVE',\n",
       "  0.9960888624191284,\n",
       "  'https://finance.yahoo.com/news/hive-blockchain-provides-february-2022-060000179.html'],\n",
       " ['ETH',\n",
       "  'Crisis-level crunch could benefit Bitcoin, Credit Suisse says.',\n",
       "  'NEGATIVE',\n",
       "  0.9963782429695129,\n",
       "  'https://finance.yahoo.com/news/money-will-never-be-the-same-after-russia-ukraine-and-bitcoin-could-benefit-170422659.html'],\n",
       " ['ETH',\n",
       "  'Ethereum vs Terra: Which is better bet?',\n",
       "  'NEGATIVE',\n",
       "  0.9922868013381958,\n",
       "  'https://ca.finance.yahoo.com/news/terra-outpace-ethereum-2022-beyond-164500195.html'],\n",
       " ['ETH',\n",
       "  'Singapore’s strict approach to crypto may be deterring companies',\n",
       "  'NEGATIVE',\n",
       "  0.9993828535079956,\n",
       "  'https://finance.yahoo.com/news/first-mover-asia-singapores-strict-234310063.html'],\n",
       " ['ETH',\n",
       "  'Brantly Millegan stays on as director of ENS Foundation. Ethereum’s name service is governed by ENS DAO.',\n",
       "  'NEGATIVE',\n",
       "  0.9513636231422424,\n",
       "  'https://finance.yahoo.com/news/ens-limitations-dao-governance-202105967.html'],\n",
       " ['ETH',\n",
       "  'Non-Fungible tokens are booming as crypto markets mature. Coinbase to make buying NFTs easier with credit cards',\n",
       "  'POSITIVE',\n",
       "  0.9936389327049255,\n",
       "  'https://finance.yahoo.com/news/complicated-relationship-between-crypto-nfts-143000834.html'],\n",
       " ['ETH',\n",
       "  'Social media star launches his NFT project to an audience of over 1.8 million followers.',\n",
       "  'POSITIVE',\n",
       "  0.9908917546272278,\n",
       "  'https://finance.yahoo.com/news/social-media-star-sean-havens-232300962.html'],\n",
       " ['ETH',\n",
       "  \"Wallex Trust's stablecoin to be listed on Changelly PRO exchange.\",\n",
       "  'POSITIVE',\n",
       "  0.6102361083030701,\n",
       "  'https://finance.yahoo.com/news/live-audited-stablecoin-eurst-goes-073000765.html'],\n",
       " ['ETH',\n",
       "  'More than $59.2 million in crypto donations have been sent. Ukraine’s Bornyakov: ‘Crypto is playing a role to give us flexibility’',\n",
       "  'POSITIVE',\n",
       "  0.9949628114700317,\n",
       "  'https://finance.yahoo.com/news/crypto-giving-ukraine-flexibility-as-russian-invasion-spurs-desperation-202802758.html'],\n",
       " ['ETH',\n",
       "  'Ether is down 21% for the year, while Bitcoin is down 8%. NFTs were a factor driving Ether demand last year',\n",
       "  'NEGATIVE',\n",
       "  0.9989755153656006,\n",
       "  'https://ca.finance.yahoo.com/news/why-ethereum-crashing-2022-211400958.html']]"
      ]
     },
     "execution_count": 76,
     "metadata": {},
     "output_type": "execute_result"
    }
   ],
   "source": [
    "final_output"
   ]
  },
  {
   "cell_type": "code",
   "execution_count": 77,
   "id": "7c038ef7",
   "metadata": {},
   "outputs": [],
   "source": [
    "import csv\n",
    "with open('assetsummaries.csv', mode='w', newline='') as f:\n",
    "    csv_writer = csv.writer(f, delimiter=',', quotechar='\"', quoting=csv.QUOTE_MINIMAL)\n",
    "    csv_writer.writerows(final_output)\n"
   ]
  },
  {
   "cell_type": "code",
   "execution_count": null,
   "id": "9af7215b",
   "metadata": {},
   "outputs": [],
   "source": []
  }
 ],
 "metadata": {
  "kernelspec": {
   "display_name": "Python 3 (ipykernel)",
   "language": "python",
   "name": "python3"
  },
  "language_info": {
   "codemirror_mode": {
    "name": "ipython",
    "version": 3
   },
   "file_extension": ".py",
   "mimetype": "text/x-python",
   "name": "python",
   "nbconvert_exporter": "python",
   "pygments_lexer": "ipython3",
   "version": "3.8.3"
  }
 },
 "nbformat": 4,
 "nbformat_minor": 5
}
